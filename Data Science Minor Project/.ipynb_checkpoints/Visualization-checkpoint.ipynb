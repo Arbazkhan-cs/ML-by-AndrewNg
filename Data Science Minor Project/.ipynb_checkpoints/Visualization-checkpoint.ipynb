{
 "cells": [
  {
   "cell_type": "markdown",
   "id": "24f86a5b",
   "metadata": {},
   "source": [
    "## Importing Neccessary Librarys"
   ]
  },
  {
   "cell_type": "code",
   "execution_count": 73,
   "id": "0be400b2",
   "metadata": {},
   "outputs": [],
   "source": [
    "import pandas as pd\n",
    "import matplotlib.pyplot as plt\n",
    "import plotly.express as px"
   ]
  },
  {
   "cell_type": "markdown",
   "id": "11df3eff",
   "metadata": {},
   "source": [
    "## Load Dataset"
   ]
  },
  {
   "cell_type": "code",
   "execution_count": 81,
   "id": "698782a2",
   "metadata": {},
   "outputs": [],
   "source": [
    "df = pd.read_csv(\"Delhi Population Dataset.csv\")"
   ]
  },
  {
   "cell_type": "code",
   "execution_count": 82,
   "id": "81fd7be2",
   "metadata": {},
   "outputs": [
    {
     "data": {
      "text/html": [
       "<div>\n",
       "<style scoped>\n",
       "    .dataframe tbody tr th:only-of-type {\n",
       "        vertical-align: middle;\n",
       "    }\n",
       "\n",
       "    .dataframe tbody tr th {\n",
       "        vertical-align: top;\n",
       "    }\n",
       "\n",
       "    .dataframe thead th {\n",
       "        text-align: right;\n",
       "    }\n",
       "</style>\n",
       "<table border=\"1\" class=\"dataframe\">\n",
       "  <thead>\n",
       "    <tr style=\"text-align: right;\">\n",
       "      <th></th>\n",
       "      <th>City</th>\n",
       "      <th>Status</th>\n",
       "      <th>District</th>\n",
       "      <th>Population</th>\n",
       "      <th>Area</th>\n",
       "      <th>Density</th>\n",
       "    </tr>\n",
       "  </thead>\n",
       "  <tbody>\n",
       "    <tr>\n",
       "      <th>0</th>\n",
       "      <td>Aali</td>\n",
       "      <td>Census Town</td>\n",
       "      <td>South</td>\n",
       "      <td>27169</td>\n",
       "      <td>4.00</td>\n",
       "      <td>6792.250000</td>\n",
       "    </tr>\n",
       "    <tr>\n",
       "      <th>1</th>\n",
       "      <td>Ali Pur</td>\n",
       "      <td>Census Town</td>\n",
       "      <td>North West</td>\n",
       "      <td>20332</td>\n",
       "      <td>8.60</td>\n",
       "      <td>2364.186047</td>\n",
       "    </tr>\n",
       "    <tr>\n",
       "      <th>2</th>\n",
       "      <td>Asola</td>\n",
       "      <td>Census Town</td>\n",
       "      <td>South</td>\n",
       "      <td>13275</td>\n",
       "      <td>12.00</td>\n",
       "      <td>1106.250000</td>\n",
       "    </tr>\n",
       "    <tr>\n",
       "      <th>3</th>\n",
       "      <td>Aya Nagar</td>\n",
       "      <td>Census Town</td>\n",
       "      <td>South</td>\n",
       "      <td>33123</td>\n",
       "      <td>8.18</td>\n",
       "      <td>4049.266504</td>\n",
       "    </tr>\n",
       "    <tr>\n",
       "      <th>4</th>\n",
       "      <td>Babar Pur</td>\n",
       "      <td>Census Town</td>\n",
       "      <td>North East</td>\n",
       "      <td>37058</td>\n",
       "      <td>0.80</td>\n",
       "      <td>46322.500000</td>\n",
       "    </tr>\n",
       "  </tbody>\n",
       "</table>\n",
       "</div>"
      ],
      "text/plain": [
       "        City       Status    District  Population   Area       Density\n",
       "0       Aali  Census Town       South       27169   4.00   6792.250000\n",
       "1    Ali Pur  Census Town  North West       20332   8.60   2364.186047\n",
       "2      Asola  Census Town       South       13275  12.00   1106.250000\n",
       "3  Aya Nagar  Census Town       South       33123   8.18   4049.266504\n",
       "4  Babar Pur  Census Town  North East       37058   0.80  46322.500000"
      ]
     },
     "execution_count": 82,
     "metadata": {},
     "output_type": "execute_result"
    }
   ],
   "source": [
    "df.head()"
   ]
  },
  {
   "cell_type": "markdown",
   "id": "c645e227",
   "metadata": {},
   "source": [
    "## Visualization"
   ]
  },
  {
   "cell_type": "code",
   "execution_count": 85,
   "id": "500cc85a",
   "metadata": {},
   "outputs": [
    {
     "data": {
      "application/vnd.plotly.v1+json": {
       "config": {
        "plotlyServerURL": "https://plot.ly"
       },
       "data": [
        {
         "marker": {
          "color": "red"
         },
         "text": [
          "South",
          "North West",
          "South",
          "South",
          "North East",
          "North West",
          "West",
          "North West",
          "North West",
          "West",
          "North East",
          "North West",
          "North West",
          "North West",
          "North West",
          "South",
          "North West",
          "North",
          "South",
          "South",
          "South West",
          "East",
          "East",
          "East",
          "North West",
          null,
          null,
          "South",
          "South",
          "South West",
          "South",
          "East",
          "East",
          "North West",
          "South West",
          "North East",
          "West",
          "North West",
          "South West",
          "North East",
          "South",
          "South West",
          "North",
          "North East",
          "South",
          "South West",
          "North",
          "North West",
          "South West",
          "North West",
          "North East",
          "North East",
          "North East",
          "South West",
          "North West",
          "North West",
          "North West",
          "East",
          "South",
          "South West",
          "North West",
          "North West",
          "South",
          "South West",
          "North East",
          "North East",
          "South",
          "South West",
          "North West",
          "South",
          "South West",
          "North West",
          "North",
          "North West",
          "West",
          "North East",
          "South West",
          "West",
          "South",
          null,
          "West",
          "North West",
          "North West",
          "North West",
          "North West",
          "South",
          "North West",
          "West",
          "North West",
          "West",
          "South West",
          "South",
          "North West",
          "South West",
          "North East",
          "North West",
          "South",
          "South",
          "South West",
          "West",
          "East",
          "North West",
          "South",
          "North West",
          "South",
          "South",
          "West",
          "North West",
          "West",
          "North East",
          "South West",
          "North East"
         ],
         "type": "bar",
         "x": [
          "Aali",
          "Ali Pur",
          "Asola",
          "Aya Nagar",
          "Babar Pur",
          "Bakhtawar Pur",
          "Bakkar Wala",
          "Bankauli",
          "Bankner",
          "Bapraula",
          "Baqiabad",
          "Barwala",
          "Bawana",
          "Begum Pur",
          "Bhalswa Jahangir Pur",
          "Bhati",
          "Bhor Garh",
          "Burari",
          "Chandan Hola",
          "Chattar Pur",
          "Chhawala (Chhawla)",
          "Chilla Saroda Bangar",
          "Chilla Saroda Khadar",
          "Dallo Pura",
          "Darya Pur Kalan",
          "Delhi",
          "Delhi Cantonment",
          "Deoli",
          "Dera Mandi",
          "Dindar Pur",
          "Fateh Pur Beri",
          "Gharoli",
          "Gharonda Neemka Bangar (Patparganj)",
          "Gheora",
          "Ghitorni",
          "Gokal Pur",
          "Hastsal",
          "Ibrahim Pur",
          "Jaffar Pur Kalan",
          "Jaffrabad",
          "Jait Pur",
          "Jharoda Kalan",
          "Jharoda Majra Burari",
          "Jiwan Pur (Johri Pur)",
          "Jona Pur",
          "Kair",
          "Kamal Pur Majra Burari",
          "Kanjhawala",
          "Kapas Hera",
          "Karala",
          "Karawal Nagar",
          "Khajoori Khas",
          "Khan Pur Dhani",
          "Khera",
          "Khera Kalan",
          "Khera Khurd",
          "Kirari Suleman Nagar",
          "Kondli",
          "Kotla Mahigiran",
          "Kusum Pur",
          "Lad Pur",
          "Libas Pur",
          "Maidan Garhi",
          "Malik Pur Kohi (Rang Puri)",
          "Mandoli",
          "Mir Pur Turk",
          "Mithe Pur",
          "Mitraon",
          "Mohammad Pur Majri",
          "Molar Band",
          "Moradabad Pahari",
          "Mubarak Pur Dabas",
          "Mukand Pur",
          "Mukhmel Pur",
          "Mundka",
          "Mustafabad",
          "Nangli Sakrawati",
          "Nangloi Jat",
          "Neb Sarai",
          "New Delhi",
          "Nilothi",
          "Nithari",
          "Pehlad Pur Bangar",
          "Pooth Kalan",
          "Pooth Khurd",
          "Pul Pehlad",
          "Qadi Pur",
          "Quammruddin Nagar",
          "Qutab Garh",
          "Raja Pur Khurd",
          "Rajokri",
          "Raj Pur Khurd",
          "Rani Khera",
          "Roshan Pura (Dichaon Khurd)",
          "Sadat Pur Gujran",
          "Sahibabad Daulat Pur",
          "Saidabad",
          "Saidul Azaib",
          "Sambhalka",
          "Shafi Pur Ranhola",
          "Shakar Pur Baramad",
          "Siras Pur",
          "Sultan Pur",
          "Sultan Pur Majra",
          "Taj Pul",
          "Tigri",
          "Tikri Kalan",
          "Tikri Khurd",
          "Tilang Pur Kotla",
          "Tukhmir Pur",
          "Ujwa",
          "Ziauddin Pur"
         ],
         "y": [
          6792.25,
          2364.186046511628,
          1106.25,
          4049.2665036674816,
          46322.5,
          3243.877551020408,
          2741.6036308623297,
          1207.9185520361991,
          2174.705882352941,
          9385.053380782918,
          16975.29411764706,
          1516.6101694915253,
          4334.117647058823,
          28253.68421052632,
          29425.07462686567,
          1217.032258064516,
          2200.765306122449,
          13052.678571428572,
          8475,
          6329.634641407308,
          2065.0704225352115,
          32254.6511627907,
          22156.603773584902,
          67594.3231441048,
          793.7106918238993,
          19.65898765300123,
          2592.2245712943386,
          16744.752475247526,
          984.4025897586816,
          9100.507614213198,
          1893.3760683760688,
          25994.38202247191,
          25420.13422818792,
          941.917808219178,
          3463.488372093024,
          52986.956521739135,
          26011.32352941177,
          3585.810810810811,
          1910.7558139534883,
          60667.777777777774,
          15779.255319148937,
          1572.5301204819275,
          8799.23076923077,
          43054,
          1251.1764705882354,
          919.6388261851016,
          33143.07692307692,
          1160.7865168539324,
          21786.176470588234,
          4069.476082004556,
          46725.208333333336,
          85155.55555555555,
          24978.571428571428,
          2615.9420289855075,
          1075.8800521512387,
          1111.0227272727273,
          60257.65957446808,
          20322.87234042553,
          6470.175438596491,
          10257.831325301206,
          831.4285714285713,
          19293.478260869568,
          1452.4183006535948,
          3163.4666666666667,
          20513.96933560477,
          38196,
          38798.333333333336,
          740.8418657565416,
          5439.8753894081,
          22293.17073170732,
          18068.90756302521,
          5124.680851063829,
          22583.00395256917,
          1896.5384615384612,
          4583.27731092437,
          97820.76923076923,
          12282.084690553747,
          30685.97014925373,
          6627.118644067797,
          6031.890500701918,
          11178.092783505155,
          22036.681222707422,
          4886.808510638298,
          13714.57142857143,
          1065.4,
          31662.272727272724,
          3465.849056603773,
          10469.166666666668,
          1349.6466431095405,
          10164.21052631579,
          2226.5116279069766,
          15082.432432432432,
          5190.506329113924,
          20434.64285714286,
          88764.54545454544,
          9609.298245614034,
          4642.922374429224,
          14928.333333333334,
          5692,
          7377.367205542725,
          16828.571428571428,
          7080.232558139535,
          5227.586206896552,
          64840.71428571429,
          57330,
          42703.63636363636,
          1685.2272727272727,
          3513.265306122449,
          16602.439024390245,
          14145,
          694.7067238912732,
          38329.444444444445
         ]
        }
       ],
       "layout": {
        "template": {
         "data": {
          "bar": [
           {
            "error_x": {
             "color": "#2a3f5f"
            },
            "error_y": {
             "color": "#2a3f5f"
            },
            "marker": {
             "line": {
              "color": "#E5ECF6",
              "width": 0.5
             },
             "pattern": {
              "fillmode": "overlay",
              "size": 10,
              "solidity": 0.2
             }
            },
            "type": "bar"
           }
          ],
          "barpolar": [
           {
            "marker": {
             "line": {
              "color": "#E5ECF6",
              "width": 0.5
             },
             "pattern": {
              "fillmode": "overlay",
              "size": 10,
              "solidity": 0.2
             }
            },
            "type": "barpolar"
           }
          ],
          "carpet": [
           {
            "aaxis": {
             "endlinecolor": "#2a3f5f",
             "gridcolor": "white",
             "linecolor": "white",
             "minorgridcolor": "white",
             "startlinecolor": "#2a3f5f"
            },
            "baxis": {
             "endlinecolor": "#2a3f5f",
             "gridcolor": "white",
             "linecolor": "white",
             "minorgridcolor": "white",
             "startlinecolor": "#2a3f5f"
            },
            "type": "carpet"
           }
          ],
          "choropleth": [
           {
            "colorbar": {
             "outlinewidth": 0,
             "ticks": ""
            },
            "type": "choropleth"
           }
          ],
          "contour": [
           {
            "colorbar": {
             "outlinewidth": 0,
             "ticks": ""
            },
            "colorscale": [
             [
              0,
              "#0d0887"
             ],
             [
              0.1111111111111111,
              "#46039f"
             ],
             [
              0.2222222222222222,
              "#7201a8"
             ],
             [
              0.3333333333333333,
              "#9c179e"
             ],
             [
              0.4444444444444444,
              "#bd3786"
             ],
             [
              0.5555555555555556,
              "#d8576b"
             ],
             [
              0.6666666666666666,
              "#ed7953"
             ],
             [
              0.7777777777777778,
              "#fb9f3a"
             ],
             [
              0.8888888888888888,
              "#fdca26"
             ],
             [
              1,
              "#f0f921"
             ]
            ],
            "type": "contour"
           }
          ],
          "contourcarpet": [
           {
            "colorbar": {
             "outlinewidth": 0,
             "ticks": ""
            },
            "type": "contourcarpet"
           }
          ],
          "heatmap": [
           {
            "colorbar": {
             "outlinewidth": 0,
             "ticks": ""
            },
            "colorscale": [
             [
              0,
              "#0d0887"
             ],
             [
              0.1111111111111111,
              "#46039f"
             ],
             [
              0.2222222222222222,
              "#7201a8"
             ],
             [
              0.3333333333333333,
              "#9c179e"
             ],
             [
              0.4444444444444444,
              "#bd3786"
             ],
             [
              0.5555555555555556,
              "#d8576b"
             ],
             [
              0.6666666666666666,
              "#ed7953"
             ],
             [
              0.7777777777777778,
              "#fb9f3a"
             ],
             [
              0.8888888888888888,
              "#fdca26"
             ],
             [
              1,
              "#f0f921"
             ]
            ],
            "type": "heatmap"
           }
          ],
          "heatmapgl": [
           {
            "colorbar": {
             "outlinewidth": 0,
             "ticks": ""
            },
            "colorscale": [
             [
              0,
              "#0d0887"
             ],
             [
              0.1111111111111111,
              "#46039f"
             ],
             [
              0.2222222222222222,
              "#7201a8"
             ],
             [
              0.3333333333333333,
              "#9c179e"
             ],
             [
              0.4444444444444444,
              "#bd3786"
             ],
             [
              0.5555555555555556,
              "#d8576b"
             ],
             [
              0.6666666666666666,
              "#ed7953"
             ],
             [
              0.7777777777777778,
              "#fb9f3a"
             ],
             [
              0.8888888888888888,
              "#fdca26"
             ],
             [
              1,
              "#f0f921"
             ]
            ],
            "type": "heatmapgl"
           }
          ],
          "histogram": [
           {
            "marker": {
             "pattern": {
              "fillmode": "overlay",
              "size": 10,
              "solidity": 0.2
             }
            },
            "type": "histogram"
           }
          ],
          "histogram2d": [
           {
            "colorbar": {
             "outlinewidth": 0,
             "ticks": ""
            },
            "colorscale": [
             [
              0,
              "#0d0887"
             ],
             [
              0.1111111111111111,
              "#46039f"
             ],
             [
              0.2222222222222222,
              "#7201a8"
             ],
             [
              0.3333333333333333,
              "#9c179e"
             ],
             [
              0.4444444444444444,
              "#bd3786"
             ],
             [
              0.5555555555555556,
              "#d8576b"
             ],
             [
              0.6666666666666666,
              "#ed7953"
             ],
             [
              0.7777777777777778,
              "#fb9f3a"
             ],
             [
              0.8888888888888888,
              "#fdca26"
             ],
             [
              1,
              "#f0f921"
             ]
            ],
            "type": "histogram2d"
           }
          ],
          "histogram2dcontour": [
           {
            "colorbar": {
             "outlinewidth": 0,
             "ticks": ""
            },
            "colorscale": [
             [
              0,
              "#0d0887"
             ],
             [
              0.1111111111111111,
              "#46039f"
             ],
             [
              0.2222222222222222,
              "#7201a8"
             ],
             [
              0.3333333333333333,
              "#9c179e"
             ],
             [
              0.4444444444444444,
              "#bd3786"
             ],
             [
              0.5555555555555556,
              "#d8576b"
             ],
             [
              0.6666666666666666,
              "#ed7953"
             ],
             [
              0.7777777777777778,
              "#fb9f3a"
             ],
             [
              0.8888888888888888,
              "#fdca26"
             ],
             [
              1,
              "#f0f921"
             ]
            ],
            "type": "histogram2dcontour"
           }
          ],
          "mesh3d": [
           {
            "colorbar": {
             "outlinewidth": 0,
             "ticks": ""
            },
            "type": "mesh3d"
           }
          ],
          "parcoords": [
           {
            "line": {
             "colorbar": {
              "outlinewidth": 0,
              "ticks": ""
             }
            },
            "type": "parcoords"
           }
          ],
          "pie": [
           {
            "automargin": true,
            "type": "pie"
           }
          ],
          "scatter": [
           {
            "fillpattern": {
             "fillmode": "overlay",
             "size": 10,
             "solidity": 0.2
            },
            "type": "scatter"
           }
          ],
          "scatter3d": [
           {
            "line": {
             "colorbar": {
              "outlinewidth": 0,
              "ticks": ""
             }
            },
            "marker": {
             "colorbar": {
              "outlinewidth": 0,
              "ticks": ""
             }
            },
            "type": "scatter3d"
           }
          ],
          "scattercarpet": [
           {
            "marker": {
             "colorbar": {
              "outlinewidth": 0,
              "ticks": ""
             }
            },
            "type": "scattercarpet"
           }
          ],
          "scattergeo": [
           {
            "marker": {
             "colorbar": {
              "outlinewidth": 0,
              "ticks": ""
             }
            },
            "type": "scattergeo"
           }
          ],
          "scattergl": [
           {
            "marker": {
             "colorbar": {
              "outlinewidth": 0,
              "ticks": ""
             }
            },
            "type": "scattergl"
           }
          ],
          "scattermapbox": [
           {
            "marker": {
             "colorbar": {
              "outlinewidth": 0,
              "ticks": ""
             }
            },
            "type": "scattermapbox"
           }
          ],
          "scatterpolar": [
           {
            "marker": {
             "colorbar": {
              "outlinewidth": 0,
              "ticks": ""
             }
            },
            "type": "scatterpolar"
           }
          ],
          "scatterpolargl": [
           {
            "marker": {
             "colorbar": {
              "outlinewidth": 0,
              "ticks": ""
             }
            },
            "type": "scatterpolargl"
           }
          ],
          "scatterternary": [
           {
            "marker": {
             "colorbar": {
              "outlinewidth": 0,
              "ticks": ""
             }
            },
            "type": "scatterternary"
           }
          ],
          "surface": [
           {
            "colorbar": {
             "outlinewidth": 0,
             "ticks": ""
            },
            "colorscale": [
             [
              0,
              "#0d0887"
             ],
             [
              0.1111111111111111,
              "#46039f"
             ],
             [
              0.2222222222222222,
              "#7201a8"
             ],
             [
              0.3333333333333333,
              "#9c179e"
             ],
             [
              0.4444444444444444,
              "#bd3786"
             ],
             [
              0.5555555555555556,
              "#d8576b"
             ],
             [
              0.6666666666666666,
              "#ed7953"
             ],
             [
              0.7777777777777778,
              "#fb9f3a"
             ],
             [
              0.8888888888888888,
              "#fdca26"
             ],
             [
              1,
              "#f0f921"
             ]
            ],
            "type": "surface"
           }
          ],
          "table": [
           {
            "cells": {
             "fill": {
              "color": "#EBF0F8"
             },
             "line": {
              "color": "white"
             }
            },
            "header": {
             "fill": {
              "color": "#C8D4E3"
             },
             "line": {
              "color": "white"
             }
            },
            "type": "table"
           }
          ]
         },
         "layout": {
          "annotationdefaults": {
           "arrowcolor": "#2a3f5f",
           "arrowhead": 0,
           "arrowwidth": 1
          },
          "autotypenumbers": "strict",
          "coloraxis": {
           "colorbar": {
            "outlinewidth": 0,
            "ticks": ""
           }
          },
          "colorscale": {
           "diverging": [
            [
             0,
             "#8e0152"
            ],
            [
             0.1,
             "#c51b7d"
            ],
            [
             0.2,
             "#de77ae"
            ],
            [
             0.3,
             "#f1b6da"
            ],
            [
             0.4,
             "#fde0ef"
            ],
            [
             0.5,
             "#f7f7f7"
            ],
            [
             0.6,
             "#e6f5d0"
            ],
            [
             0.7,
             "#b8e186"
            ],
            [
             0.8,
             "#7fbc41"
            ],
            [
             0.9,
             "#4d9221"
            ],
            [
             1,
             "#276419"
            ]
           ],
           "sequential": [
            [
             0,
             "#0d0887"
            ],
            [
             0.1111111111111111,
             "#46039f"
            ],
            [
             0.2222222222222222,
             "#7201a8"
            ],
            [
             0.3333333333333333,
             "#9c179e"
            ],
            [
             0.4444444444444444,
             "#bd3786"
            ],
            [
             0.5555555555555556,
             "#d8576b"
            ],
            [
             0.6666666666666666,
             "#ed7953"
            ],
            [
             0.7777777777777778,
             "#fb9f3a"
            ],
            [
             0.8888888888888888,
             "#fdca26"
            ],
            [
             1,
             "#f0f921"
            ]
           ],
           "sequentialminus": [
            [
             0,
             "#0d0887"
            ],
            [
             0.1111111111111111,
             "#46039f"
            ],
            [
             0.2222222222222222,
             "#7201a8"
            ],
            [
             0.3333333333333333,
             "#9c179e"
            ],
            [
             0.4444444444444444,
             "#bd3786"
            ],
            [
             0.5555555555555556,
             "#d8576b"
            ],
            [
             0.6666666666666666,
             "#ed7953"
            ],
            [
             0.7777777777777778,
             "#fb9f3a"
            ],
            [
             0.8888888888888888,
             "#fdca26"
            ],
            [
             1,
             "#f0f921"
            ]
           ]
          },
          "colorway": [
           "#636efa",
           "#EF553B",
           "#00cc96",
           "#ab63fa",
           "#FFA15A",
           "#19d3f3",
           "#FF6692",
           "#B6E880",
           "#FF97FF",
           "#FECB52"
          ],
          "font": {
           "color": "#2a3f5f"
          },
          "geo": {
           "bgcolor": "white",
           "lakecolor": "white",
           "landcolor": "#E5ECF6",
           "showlakes": true,
           "showland": true,
           "subunitcolor": "white"
          },
          "hoverlabel": {
           "align": "left"
          },
          "hovermode": "closest",
          "mapbox": {
           "style": "light"
          },
          "paper_bgcolor": "white",
          "plot_bgcolor": "#E5ECF6",
          "polar": {
           "angularaxis": {
            "gridcolor": "white",
            "linecolor": "white",
            "ticks": ""
           },
           "bgcolor": "#E5ECF6",
           "radialaxis": {
            "gridcolor": "white",
            "linecolor": "white",
            "ticks": ""
           }
          },
          "scene": {
           "xaxis": {
            "backgroundcolor": "#E5ECF6",
            "gridcolor": "white",
            "gridwidth": 2,
            "linecolor": "white",
            "showbackground": true,
            "ticks": "",
            "zerolinecolor": "white"
           },
           "yaxis": {
            "backgroundcolor": "#E5ECF6",
            "gridcolor": "white",
            "gridwidth": 2,
            "linecolor": "white",
            "showbackground": true,
            "ticks": "",
            "zerolinecolor": "white"
           },
           "zaxis": {
            "backgroundcolor": "#E5ECF6",
            "gridcolor": "white",
            "gridwidth": 2,
            "linecolor": "white",
            "showbackground": true,
            "ticks": "",
            "zerolinecolor": "white"
           }
          },
          "shapedefaults": {
           "line": {
            "color": "#2a3f5f"
           }
          },
          "ternary": {
           "aaxis": {
            "gridcolor": "white",
            "linecolor": "white",
            "ticks": ""
           },
           "baxis": {
            "gridcolor": "white",
            "linecolor": "white",
            "ticks": ""
           },
           "bgcolor": "#E5ECF6",
           "caxis": {
            "gridcolor": "white",
            "linecolor": "white",
            "ticks": ""
           }
          },
          "title": {
           "x": 0.05
          },
          "xaxis": {
           "automargin": true,
           "gridcolor": "white",
           "linecolor": "white",
           "ticks": "",
           "title": {
            "standoff": 15
           },
           "zerolinecolor": "white",
           "zerolinewidth": 2
          },
          "yaxis": {
           "automargin": true,
           "gridcolor": "white",
           "linecolor": "white",
           "ticks": "",
           "title": {
            "standoff": 15
           },
           "zerolinecolor": "white",
           "zerolinewidth": 2
          }
         }
        },
        "title": {
         "text": "Population of Cities in Delhi"
        },
        "xaxis": {
         "title": {
          "text": "City"
         }
        },
        "yaxis": {
         "title": {
          "text": "Population"
         }
        }
       }
      },
      "text/html": [
       "<div>                            <div id=\"d232cb32-dc20-4d9c-9b8d-d81a88d9a45a\" class=\"plotly-graph-div\" style=\"height:525px; width:100%;\"></div>            <script type=\"text/javascript\">                require([\"plotly\"], function(Plotly) {                    window.PLOTLYENV=window.PLOTLYENV || {};                                    if (document.getElementById(\"d232cb32-dc20-4d9c-9b8d-d81a88d9a45a\")) {                    Plotly.newPlot(                        \"d232cb32-dc20-4d9c-9b8d-d81a88d9a45a\",                        [{\"marker\":{\"color\":\"red\"},\"text\":[\"South\",\"North West\",\"South\",\"South\",\"North East\",\"North West\",\"West\",\"North West\",\"North West\",\"West\",\"North East\",\"North West\",\"North West\",\"North West\",\"North West\",\"South\",\"North West\",\"North\",\"South\",\"South\",\"South West\",\"East\",\"East\",\"East\",\"North West\",null,null,\"South\",\"South\",\"South West\",\"South\",\"East\",\"East\",\"North West\",\"South West\",\"North East\",\"West\",\"North West\",\"South West\",\"North East\",\"South\",\"South West\",\"North\",\"North East\",\"South\",\"South West\",\"North\",\"North West\",\"South West\",\"North West\",\"North East\",\"North East\",\"North East\",\"South West\",\"North West\",\"North West\",\"North West\",\"East\",\"South\",\"South West\",\"North West\",\"North West\",\"South\",\"South West\",\"North East\",\"North East\",\"South\",\"South West\",\"North West\",\"South\",\"South West\",\"North West\",\"North\",\"North West\",\"West\",\"North East\",\"South West\",\"West\",\"South\",null,\"West\",\"North West\",\"North West\",\"North West\",\"North West\",\"South\",\"North West\",\"West\",\"North West\",\"West\",\"South West\",\"South\",\"North West\",\"South West\",\"North East\",\"North West\",\"South\",\"South\",\"South West\",\"West\",\"East\",\"North West\",\"South\",\"North West\",\"South\",\"South\",\"West\",\"North West\",\"West\",\"North East\",\"South West\",\"North East\"],\"x\":[\"Aali\",\"Ali Pur\",\"Asola\",\"Aya Nagar\",\"Babar Pur\",\"Bakhtawar Pur\",\"Bakkar Wala\",\"Bankauli\",\"Bankner\",\"Bapraula\",\"Baqiabad\",\"Barwala\",\"Bawana\",\"Begum Pur\",\"Bhalswa Jahangir Pur\",\"Bhati\",\"Bhor Garh\",\"Burari\",\"Chandan Hola\",\"Chattar Pur\",\"Chhawala (Chhawla)\",\"Chilla Saroda Bangar\",\"Chilla Saroda Khadar\",\"Dallo Pura\",\"Darya Pur Kalan\",\"Delhi\",\"Delhi Cantonment\",\"Deoli\",\"Dera Mandi\",\"Dindar Pur\",\"Fateh Pur Beri\",\"Gharoli\",\"Gharonda Neemka Bangar (Patparganj)\",\"Gheora\",\"Ghitorni\",\"Gokal Pur\",\"Hastsal\",\"Ibrahim Pur\",\"Jaffar Pur Kalan\",\"Jaffrabad\",\"Jait Pur\",\"Jharoda Kalan\",\"Jharoda Majra Burari\",\"Jiwan Pur (Johri Pur)\",\"Jona Pur\",\"Kair\",\"Kamal Pur Majra Burari\",\"Kanjhawala\",\"Kapas Hera\",\"Karala\",\"Karawal Nagar\",\"Khajoori Khas\",\"Khan Pur Dhani\",\"Khera\",\"Khera Kalan\",\"Khera Khurd\",\"Kirari Suleman Nagar\",\"Kondli\",\"Kotla Mahigiran\",\"Kusum Pur\",\"Lad Pur\",\"Libas Pur\",\"Maidan Garhi\",\"Malik Pur Kohi (Rang Puri)\",\"Mandoli\",\"Mir Pur Turk\",\"Mithe Pur\",\"Mitraon\",\"Mohammad Pur Majri\",\"Molar Band\",\"Moradabad Pahari\",\"Mubarak Pur Dabas\",\"Mukand Pur\",\"Mukhmel Pur\",\"Mundka\",\"Mustafabad\",\"Nangli Sakrawati\",\"Nangloi Jat\",\"Neb Sarai\",\"New Delhi\",\"Nilothi\",\"Nithari\",\"Pehlad Pur Bangar\",\"Pooth Kalan\",\"Pooth Khurd\",\"Pul Pehlad\",\"Qadi Pur\",\"Quammruddin Nagar\",\"Qutab Garh\",\"Raja Pur Khurd\",\"Rajokri\",\"Raj Pur Khurd\",\"Rani Khera\",\"Roshan Pura (Dichaon Khurd)\",\"Sadat Pur Gujran\",\"Sahibabad Daulat Pur\",\"Saidabad\",\"Saidul Azaib\",\"Sambhalka\",\"Shafi Pur Ranhola\",\"Shakar Pur Baramad\",\"Siras Pur\",\"Sultan Pur\",\"Sultan Pur Majra\",\"Taj Pul\",\"Tigri\",\"Tikri Kalan\",\"Tikri Khurd\",\"Tilang Pur Kotla\",\"Tukhmir Pur\",\"Ujwa\",\"Ziauddin Pur\"],\"y\":[6792.25,2364.186046511628,1106.25,4049.2665036674816,46322.5,3243.877551020408,2741.6036308623297,1207.9185520361991,2174.705882352941,9385.053380782918,16975.29411764706,1516.6101694915253,4334.117647058823,28253.68421052632,29425.07462686567,1217.032258064516,2200.765306122449,13052.678571428572,8475.0,6329.634641407308,2065.0704225352115,32254.6511627907,22156.603773584902,67594.3231441048,793.7106918238993,19.65898765300123,2592.2245712943386,16744.752475247526,984.4025897586816,9100.507614213198,1893.3760683760688,25994.38202247191,25420.13422818792,941.917808219178,3463.488372093024,52986.956521739135,26011.32352941177,3585.810810810811,1910.7558139534883,60667.777777777774,15779.255319148937,1572.5301204819275,8799.23076923077,43054.0,1251.1764705882354,919.6388261851016,33143.07692307692,1160.7865168539324,21786.176470588234,4069.476082004556,46725.208333333336,85155.55555555555,24978.571428571428,2615.9420289855075,1075.8800521512387,1111.0227272727273,60257.65957446808,20322.87234042553,6470.175438596491,10257.831325301206,831.4285714285713,19293.478260869568,1452.4183006535948,3163.4666666666667,20513.96933560477,38196.0,38798.333333333336,740.8418657565416,5439.8753894081,22293.17073170732,18068.90756302521,5124.680851063829,22583.00395256917,1896.5384615384612,4583.27731092437,97820.76923076923,12282.084690553747,30685.97014925373,6627.118644067797,6031.890500701918,11178.092783505155,22036.681222707422,4886.808510638298,13714.57142857143,1065.4,31662.272727272724,3465.849056603773,10469.166666666668,1349.6466431095405,10164.21052631579,2226.5116279069766,15082.432432432432,5190.506329113924,20434.64285714286,88764.54545454544,9609.298245614034,4642.922374429224,14928.333333333334,5692.0,7377.367205542725,16828.571428571428,7080.232558139535,5227.586206896552,64840.71428571429,57330.0,42703.63636363636,1685.2272727272727,3513.265306122449,16602.439024390245,14145.0,694.7067238912732,38329.444444444445],\"type\":\"bar\"}],                        {\"template\":{\"data\":{\"histogram2dcontour\":[{\"type\":\"histogram2dcontour\",\"colorbar\":{\"outlinewidth\":0,\"ticks\":\"\"},\"colorscale\":[[0.0,\"#0d0887\"],[0.1111111111111111,\"#46039f\"],[0.2222222222222222,\"#7201a8\"],[0.3333333333333333,\"#9c179e\"],[0.4444444444444444,\"#bd3786\"],[0.5555555555555556,\"#d8576b\"],[0.6666666666666666,\"#ed7953\"],[0.7777777777777778,\"#fb9f3a\"],[0.8888888888888888,\"#fdca26\"],[1.0,\"#f0f921\"]]}],\"choropleth\":[{\"type\":\"choropleth\",\"colorbar\":{\"outlinewidth\":0,\"ticks\":\"\"}}],\"histogram2d\":[{\"type\":\"histogram2d\",\"colorbar\":{\"outlinewidth\":0,\"ticks\":\"\"},\"colorscale\":[[0.0,\"#0d0887\"],[0.1111111111111111,\"#46039f\"],[0.2222222222222222,\"#7201a8\"],[0.3333333333333333,\"#9c179e\"],[0.4444444444444444,\"#bd3786\"],[0.5555555555555556,\"#d8576b\"],[0.6666666666666666,\"#ed7953\"],[0.7777777777777778,\"#fb9f3a\"],[0.8888888888888888,\"#fdca26\"],[1.0,\"#f0f921\"]]}],\"heatmap\":[{\"type\":\"heatmap\",\"colorbar\":{\"outlinewidth\":0,\"ticks\":\"\"},\"colorscale\":[[0.0,\"#0d0887\"],[0.1111111111111111,\"#46039f\"],[0.2222222222222222,\"#7201a8\"],[0.3333333333333333,\"#9c179e\"],[0.4444444444444444,\"#bd3786\"],[0.5555555555555556,\"#d8576b\"],[0.6666666666666666,\"#ed7953\"],[0.7777777777777778,\"#fb9f3a\"],[0.8888888888888888,\"#fdca26\"],[1.0,\"#f0f921\"]]}],\"heatmapgl\":[{\"type\":\"heatmapgl\",\"colorbar\":{\"outlinewidth\":0,\"ticks\":\"\"},\"colorscale\":[[0.0,\"#0d0887\"],[0.1111111111111111,\"#46039f\"],[0.2222222222222222,\"#7201a8\"],[0.3333333333333333,\"#9c179e\"],[0.4444444444444444,\"#bd3786\"],[0.5555555555555556,\"#d8576b\"],[0.6666666666666666,\"#ed7953\"],[0.7777777777777778,\"#fb9f3a\"],[0.8888888888888888,\"#fdca26\"],[1.0,\"#f0f921\"]]}],\"contourcarpet\":[{\"type\":\"contourcarpet\",\"colorbar\":{\"outlinewidth\":0,\"ticks\":\"\"}}],\"contour\":[{\"type\":\"contour\",\"colorbar\":{\"outlinewidth\":0,\"ticks\":\"\"},\"colorscale\":[[0.0,\"#0d0887\"],[0.1111111111111111,\"#46039f\"],[0.2222222222222222,\"#7201a8\"],[0.3333333333333333,\"#9c179e\"],[0.4444444444444444,\"#bd3786\"],[0.5555555555555556,\"#d8576b\"],[0.6666666666666666,\"#ed7953\"],[0.7777777777777778,\"#fb9f3a\"],[0.8888888888888888,\"#fdca26\"],[1.0,\"#f0f921\"]]}],\"surface\":[{\"type\":\"surface\",\"colorbar\":{\"outlinewidth\":0,\"ticks\":\"\"},\"colorscale\":[[0.0,\"#0d0887\"],[0.1111111111111111,\"#46039f\"],[0.2222222222222222,\"#7201a8\"],[0.3333333333333333,\"#9c179e\"],[0.4444444444444444,\"#bd3786\"],[0.5555555555555556,\"#d8576b\"],[0.6666666666666666,\"#ed7953\"],[0.7777777777777778,\"#fb9f3a\"],[0.8888888888888888,\"#fdca26\"],[1.0,\"#f0f921\"]]}],\"mesh3d\":[{\"type\":\"mesh3d\",\"colorbar\":{\"outlinewidth\":0,\"ticks\":\"\"}}],\"scatter\":[{\"fillpattern\":{\"fillmode\":\"overlay\",\"size\":10,\"solidity\":0.2},\"type\":\"scatter\"}],\"parcoords\":[{\"type\":\"parcoords\",\"line\":{\"colorbar\":{\"outlinewidth\":0,\"ticks\":\"\"}}}],\"scatterpolargl\":[{\"type\":\"scatterpolargl\",\"marker\":{\"colorbar\":{\"outlinewidth\":0,\"ticks\":\"\"}}}],\"bar\":[{\"error_x\":{\"color\":\"#2a3f5f\"},\"error_y\":{\"color\":\"#2a3f5f\"},\"marker\":{\"line\":{\"color\":\"#E5ECF6\",\"width\":0.5},\"pattern\":{\"fillmode\":\"overlay\",\"size\":10,\"solidity\":0.2}},\"type\":\"bar\"}],\"scattergeo\":[{\"type\":\"scattergeo\",\"marker\":{\"colorbar\":{\"outlinewidth\":0,\"ticks\":\"\"}}}],\"scatterpolar\":[{\"type\":\"scatterpolar\",\"marker\":{\"colorbar\":{\"outlinewidth\":0,\"ticks\":\"\"}}}],\"histogram\":[{\"marker\":{\"pattern\":{\"fillmode\":\"overlay\",\"size\":10,\"solidity\":0.2}},\"type\":\"histogram\"}],\"scattergl\":[{\"type\":\"scattergl\",\"marker\":{\"colorbar\":{\"outlinewidth\":0,\"ticks\":\"\"}}}],\"scatter3d\":[{\"type\":\"scatter3d\",\"line\":{\"colorbar\":{\"outlinewidth\":0,\"ticks\":\"\"}},\"marker\":{\"colorbar\":{\"outlinewidth\":0,\"ticks\":\"\"}}}],\"scattermapbox\":[{\"type\":\"scattermapbox\",\"marker\":{\"colorbar\":{\"outlinewidth\":0,\"ticks\":\"\"}}}],\"scatterternary\":[{\"type\":\"scatterternary\",\"marker\":{\"colorbar\":{\"outlinewidth\":0,\"ticks\":\"\"}}}],\"scattercarpet\":[{\"type\":\"scattercarpet\",\"marker\":{\"colorbar\":{\"outlinewidth\":0,\"ticks\":\"\"}}}],\"carpet\":[{\"aaxis\":{\"endlinecolor\":\"#2a3f5f\",\"gridcolor\":\"white\",\"linecolor\":\"white\",\"minorgridcolor\":\"white\",\"startlinecolor\":\"#2a3f5f\"},\"baxis\":{\"endlinecolor\":\"#2a3f5f\",\"gridcolor\":\"white\",\"linecolor\":\"white\",\"minorgridcolor\":\"white\",\"startlinecolor\":\"#2a3f5f\"},\"type\":\"carpet\"}],\"table\":[{\"cells\":{\"fill\":{\"color\":\"#EBF0F8\"},\"line\":{\"color\":\"white\"}},\"header\":{\"fill\":{\"color\":\"#C8D4E3\"},\"line\":{\"color\":\"white\"}},\"type\":\"table\"}],\"barpolar\":[{\"marker\":{\"line\":{\"color\":\"#E5ECF6\",\"width\":0.5},\"pattern\":{\"fillmode\":\"overlay\",\"size\":10,\"solidity\":0.2}},\"type\":\"barpolar\"}],\"pie\":[{\"automargin\":true,\"type\":\"pie\"}]},\"layout\":{\"autotypenumbers\":\"strict\",\"colorway\":[\"#636efa\",\"#EF553B\",\"#00cc96\",\"#ab63fa\",\"#FFA15A\",\"#19d3f3\",\"#FF6692\",\"#B6E880\",\"#FF97FF\",\"#FECB52\"],\"font\":{\"color\":\"#2a3f5f\"},\"hovermode\":\"closest\",\"hoverlabel\":{\"align\":\"left\"},\"paper_bgcolor\":\"white\",\"plot_bgcolor\":\"#E5ECF6\",\"polar\":{\"bgcolor\":\"#E5ECF6\",\"angularaxis\":{\"gridcolor\":\"white\",\"linecolor\":\"white\",\"ticks\":\"\"},\"radialaxis\":{\"gridcolor\":\"white\",\"linecolor\":\"white\",\"ticks\":\"\"}},\"ternary\":{\"bgcolor\":\"#E5ECF6\",\"aaxis\":{\"gridcolor\":\"white\",\"linecolor\":\"white\",\"ticks\":\"\"},\"baxis\":{\"gridcolor\":\"white\",\"linecolor\":\"white\",\"ticks\":\"\"},\"caxis\":{\"gridcolor\":\"white\",\"linecolor\":\"white\",\"ticks\":\"\"}},\"coloraxis\":{\"colorbar\":{\"outlinewidth\":0,\"ticks\":\"\"}},\"colorscale\":{\"sequential\":[[0.0,\"#0d0887\"],[0.1111111111111111,\"#46039f\"],[0.2222222222222222,\"#7201a8\"],[0.3333333333333333,\"#9c179e\"],[0.4444444444444444,\"#bd3786\"],[0.5555555555555556,\"#d8576b\"],[0.6666666666666666,\"#ed7953\"],[0.7777777777777778,\"#fb9f3a\"],[0.8888888888888888,\"#fdca26\"],[1.0,\"#f0f921\"]],\"sequentialminus\":[[0.0,\"#0d0887\"],[0.1111111111111111,\"#46039f\"],[0.2222222222222222,\"#7201a8\"],[0.3333333333333333,\"#9c179e\"],[0.4444444444444444,\"#bd3786\"],[0.5555555555555556,\"#d8576b\"],[0.6666666666666666,\"#ed7953\"],[0.7777777777777778,\"#fb9f3a\"],[0.8888888888888888,\"#fdca26\"],[1.0,\"#f0f921\"]],\"diverging\":[[0,\"#8e0152\"],[0.1,\"#c51b7d\"],[0.2,\"#de77ae\"],[0.3,\"#f1b6da\"],[0.4,\"#fde0ef\"],[0.5,\"#f7f7f7\"],[0.6,\"#e6f5d0\"],[0.7,\"#b8e186\"],[0.8,\"#7fbc41\"],[0.9,\"#4d9221\"],[1,\"#276419\"]]},\"xaxis\":{\"gridcolor\":\"white\",\"linecolor\":\"white\",\"ticks\":\"\",\"title\":{\"standoff\":15},\"zerolinecolor\":\"white\",\"automargin\":true,\"zerolinewidth\":2},\"yaxis\":{\"gridcolor\":\"white\",\"linecolor\":\"white\",\"ticks\":\"\",\"title\":{\"standoff\":15},\"zerolinecolor\":\"white\",\"automargin\":true,\"zerolinewidth\":2},\"scene\":{\"xaxis\":{\"backgroundcolor\":\"#E5ECF6\",\"gridcolor\":\"white\",\"linecolor\":\"white\",\"showbackground\":true,\"ticks\":\"\",\"zerolinecolor\":\"white\",\"gridwidth\":2},\"yaxis\":{\"backgroundcolor\":\"#E5ECF6\",\"gridcolor\":\"white\",\"linecolor\":\"white\",\"showbackground\":true,\"ticks\":\"\",\"zerolinecolor\":\"white\",\"gridwidth\":2},\"zaxis\":{\"backgroundcolor\":\"#E5ECF6\",\"gridcolor\":\"white\",\"linecolor\":\"white\",\"showbackground\":true,\"ticks\":\"\",\"zerolinecolor\":\"white\",\"gridwidth\":2}},\"shapedefaults\":{\"line\":{\"color\":\"#2a3f5f\"}},\"annotationdefaults\":{\"arrowcolor\":\"#2a3f5f\",\"arrowhead\":0,\"arrowwidth\":1},\"geo\":{\"bgcolor\":\"white\",\"landcolor\":\"#E5ECF6\",\"subunitcolor\":\"white\",\"showland\":true,\"showlakes\":true,\"lakecolor\":\"white\"},\"title\":{\"x\":0.05},\"mapbox\":{\"style\":\"light\"}}},\"title\":{\"text\":\"Population of Cities in Delhi\"},\"xaxis\":{\"title\":{\"text\":\"City\"}},\"yaxis\":{\"title\":{\"text\":\"Population\"}}},                        {\"responsive\": true}                    ).then(function(){\n",
       "                            \n",
       "var gd = document.getElementById('d232cb32-dc20-4d9c-9b8d-d81a88d9a45a');\n",
       "var x = new MutationObserver(function (mutations, observer) {{\n",
       "        var display = window.getComputedStyle(gd).display;\n",
       "        if (!display || display === 'none') {{\n",
       "            console.log([gd, 'removed!']);\n",
       "            Plotly.purge(gd);\n",
       "            observer.disconnect();\n",
       "        }}\n",
       "}});\n",
       "\n",
       "// Listen for the removal of the full notebook cells\n",
       "var notebookContainer = gd.closest('#notebook-container');\n",
       "if (notebookContainer) {{\n",
       "    x.observe(notebookContainer, {childList: true});\n",
       "}}\n",
       "\n",
       "// Listen for the clearing of the current output cell\n",
       "var outputEl = gd.closest('.output');\n",
       "if (outputEl) {{\n",
       "    x.observe(outputEl, {childList: true});\n",
       "}}\n",
       "\n",
       "                        })                };                });            </script>        </div>"
      ]
     },
     "metadata": {},
     "output_type": "display_data"
    }
   ],
   "source": [
    "# Create bar graph\n",
    "fig = go.Figure(go.Bar(\n",
    "    x=df['City'],\n",
    "    y=df['Density'],\n",
    "    text=df[\"District\"],\n",
    "    marker=dict(color='red'),  # Set bar color\n",
    "))\n",
    "\n",
    "# Customize layout\n",
    "fig.update_layout(\n",
    "    title='Population of Cities in Delhi',\n",
    "    xaxis=dict(title='City'),\n",
    "    yaxis=dict(title='Population'),\n",
    ")\n",
    "\n",
    "# Show the plot\n",
    "fig.show()"
   ]
  },
  {
   "cell_type": "code",
   "execution_count": 77,
   "id": "c77ce3fc",
   "metadata": {},
   "outputs": [
    {
     "data": {
      "application/vnd.plotly.v1+json": {
       "config": {
        "plotlyServerURL": "https://plot.ly"
       },
       "data": [
        {
         "hovertemplate": "Population=%{x}<br>Population Density=%{y}<br>Area (sq. km)=%{marker.size}<br>City=%{text}<extra></extra>",
         "legendgroup": "",
         "marker": {
          "color": "red",
          "line": {
           "color": "DarkSlateGrey",
           "width": 0.5
          },
          "opacity": 0.7,
          "size": [
           4,
           8.6,
           12,
           8.18,
           0.8,
           3.92,
           6.61,
           4.42,
           6.8,
           5.62,
           0.85,
           5.9,
           17,
           1.9,
           6.7,
           15.5,
           3.92,
           11.2,
           0.8,
           7.39,
           7.1,
           2.58,
           0.53,
           2.29,
           7.95,
           561.27,
           42.57,
           10.1,
           16.99,
           3.94,
           4.68,
           3.56,
           1.49,
           7.3,
           4.3,
           2.3,
           6.8,
           2.96,
           3.44,
           0.9,
           3.76,
           12.45,
           2.6,
           1,
           8.5,
           4.43,
           1.3,
           8.9,
           3.4,
           8.78,
           4.8,
           0.9,
           0.28,
           2.76,
           7.67,
           8.8,
           4.7,
           1.88,
           1.14,
           1.66,
           6.65,
           2.3,
           7.65,
           7.5,
           5.87,
           0.5,
           1.8,
           8.79,
           3.21,
           4.1,
           1.19,
           2.35,
           2.53,
           2.6,
           11.9,
           1.3,
           3.07,
           6.7,
           2.36,
           42.74,
           3.88,
           2.29,
           4.7,
           7,
           10,
           2.2,
           5.3,
           2.4,
           5.66,
           1.9,
           8.6,
           0.74,
           3.16,
           2.8,
           1.1,
           5.7,
           2.19,
           1.2,
           3,
           4.33,
           0.07,
           4.3,
           2.9,
           2.8,
           1.2,
           1.1,
           9.68,
           3.92,
           0.82,
           0.4,
           6.99,
           1.8
          ],
          "sizemode": "area",
          "sizeref": 1.403175,
          "symbol": "circle"
         },
         "mode": "markers+text",
         "name": "",
         "orientation": "v",
         "showlegend": false,
         "text": [
          "Aali",
          "Ali Pur",
          "Asola",
          "Aya Nagar",
          "Babar Pur",
          "Bakhtawar Pur",
          "Bakkar Wala",
          "Bankauli",
          "Bankner",
          "Bapraula",
          "Baqiabad",
          "Barwala",
          "Bawana",
          "Begum Pur",
          "Bhalswa Jahangir Pur",
          "Bhati",
          "Bhor Garh",
          "Burari",
          "Chandan Hola",
          "Chattar Pur",
          "Chhawala (Chhawla)",
          "Chilla Saroda Bangar",
          "Chilla Saroda Khadar",
          "Dallo Pura",
          "Darya Pur Kalan",
          "Delhi",
          "Delhi Cantonment",
          "Deoli",
          "Dera Mandi",
          "Dindar Pur",
          "Fateh Pur Beri",
          "Gharoli",
          "Gharonda Neemka Bangar (Patparganj)",
          "Gheora",
          "Ghitorni",
          "Gokal Pur",
          "Hastsal",
          "Ibrahim Pur",
          "Jaffar Pur Kalan",
          "Jaffrabad",
          "Jait Pur",
          "Jharoda Kalan",
          "Jharoda Majra Burari",
          "Jiwan Pur (Johri Pur)",
          "Jona Pur",
          "Kair",
          "Kamal Pur Majra Burari",
          "Kanjhawala",
          "Kapas Hera",
          "Karala",
          "Karawal Nagar",
          "Khajoori Khas",
          "Khan Pur Dhani",
          "Khera",
          "Khera Kalan",
          "Khera Khurd",
          "Kirari Suleman Nagar",
          "Kondli",
          "Kotla Mahigiran",
          "Kusum Pur",
          "Lad Pur",
          "Libas Pur",
          "Maidan Garhi",
          "Malik Pur Kohi (Rang Puri)",
          "Mandoli",
          "Mir Pur Turk",
          "Mithe Pur",
          "Mitraon",
          "Mohammad Pur Majri",
          "Molar Band",
          "Moradabad Pahari",
          "Mubarak Pur Dabas",
          "Mukand Pur",
          "Mukhmel Pur",
          "Mundka",
          "Mustafabad",
          "Nangli Sakrawati",
          "Nangloi Jat",
          "Neb Sarai",
          "New Delhi",
          "Nilothi",
          "Nithari",
          "Pehlad Pur Bangar",
          "Pooth Kalan",
          "Pooth Khurd",
          "Pul Pehlad",
          "Qadi Pur",
          "Quammruddin Nagar",
          "Qutab Garh",
          "Raja Pur Khurd",
          "Rajokri",
          "Raj Pur Khurd",
          "Rani Khera",
          "Roshan Pura (Dichaon Khurd)",
          "Sadat Pur Gujran",
          "Sahibabad Daulat Pur",
          "Saidabad",
          "Saidul Azaib",
          "Sambhalka",
          "Shafi Pur Ranhola",
          "Shakar Pur Baramad",
          "Siras Pur",
          "Sultan Pur",
          "Sultan Pur Majra",
          "Taj Pul",
          "Tigri",
          "Tikri Kalan",
          "Tikri Khurd",
          "Tilang Pur Kotla",
          "Tukhmir Pur",
          "Ujwa",
          "Ziauddin Pur"
         ],
         "textposition": "top center",
         "type": "scatter",
         "x": [
          27169,
          20332,
          13275,
          33123,
          37058,
          12716,
          18122,
          5339,
          14788,
          52744,
          14429,
          8948,
          73680,
          53682,
          197148,
          18864,
          8627,
          146190,
          6780,
          46776,
          14662,
          83217,
          11743,
          154791,
          6310,
          11034,
          110351,
          169122,
          16725,
          35856,
          8861,
          92540,
          37876,
          6876,
          14893,
          121870,
          176877,
          10614,
          6573,
          54601,
          59330,
          19578,
          22878,
          43054,
          10635,
          4074,
          43086,
          10331,
          74073,
          35730,
          224281,
          76640,
          6994,
          7220,
          8252,
          9777,
          283211,
          38207,
          7376,
          17028,
          5529,
          44375,
          11111,
          23726,
          120417,
          19098,
          69837,
          6512,
          17462,
          91402,
          21502,
          12043,
          57135,
          4931,
          54541,
          127167,
          37706,
          205596,
          15640,
          257803,
          43371,
          50464,
          22968,
          96002,
          10654,
          69657,
          18369,
          25126,
          7639,
          19312,
          19148,
          11161,
          16402,
          57217,
          97641,
          54773,
          10168,
          17914,
          17076,
          31944,
          1178,
          30445,
          15160,
          181554,
          68796,
          46974,
          16313,
          13772,
          13614,
          5658,
          4856,
          68993
         ],
         "xaxis": "x",
         "y": [
          6792.25,
          2364.186046511628,
          1106.25,
          4049.2665036674816,
          46322.5,
          3243.877551020408,
          2741.6036308623297,
          1207.9185520361991,
          2174.705882352941,
          9385.053380782918,
          16975.29411764706,
          1516.6101694915253,
          4334.117647058823,
          28253.68421052632,
          29425.07462686567,
          1217.032258064516,
          2200.765306122449,
          13052.678571428572,
          8475,
          6329.634641407308,
          2065.0704225352115,
          32254.6511627907,
          22156.603773584902,
          67594.3231441048,
          793.7106918238993,
          19.65898765300123,
          2592.2245712943386,
          16744.752475247526,
          984.4025897586816,
          9100.507614213198,
          1893.3760683760688,
          25994.38202247191,
          25420.13422818792,
          941.917808219178,
          3463.488372093024,
          52986.956521739135,
          26011.32352941177,
          3585.810810810811,
          1910.7558139534883,
          60667.777777777774,
          15779.255319148937,
          1572.5301204819275,
          8799.23076923077,
          43054,
          1251.1764705882354,
          919.6388261851016,
          33143.07692307692,
          1160.7865168539324,
          21786.176470588234,
          4069.476082004556,
          46725.208333333336,
          85155.55555555555,
          24978.571428571428,
          2615.9420289855075,
          1075.8800521512387,
          1111.0227272727273,
          60257.65957446808,
          20322.87234042553,
          6470.175438596491,
          10257.831325301206,
          831.4285714285713,
          19293.478260869568,
          1452.4183006535948,
          3163.4666666666667,
          20513.96933560477,
          38196,
          38798.333333333336,
          740.8418657565416,
          5439.8753894081,
          22293.17073170732,
          18068.90756302521,
          5124.680851063829,
          22583.00395256917,
          1896.5384615384612,
          4583.27731092437,
          97820.76923076923,
          12282.084690553747,
          30685.97014925373,
          6627.118644067797,
          6031.890500701918,
          11178.092783505155,
          22036.681222707422,
          4886.808510638298,
          13714.57142857143,
          1065.4,
          31662.272727272724,
          3465.849056603773,
          10469.166666666668,
          1349.6466431095405,
          10164.21052631579,
          2226.5116279069766,
          15082.432432432432,
          5190.506329113924,
          20434.64285714286,
          88764.54545454544,
          9609.298245614034,
          4642.922374429224,
          14928.333333333334,
          5692,
          7377.367205542725,
          16828.571428571428,
          7080.232558139535,
          5227.586206896552,
          64840.71428571429,
          57330,
          42703.63636363636,
          1685.2272727272727,
          3513.265306122449,
          16602.439024390245,
          14145,
          694.7067238912732,
          38329.444444444445
         ],
         "yaxis": "y"
        }
       ],
       "layout": {
        "hovermode": "closest",
        "legend": {
         "itemsizing": "constant",
         "tracegroupgap": 0
        },
        "showlegend": false,
        "template": {
         "data": {
          "bar": [
           {
            "error_x": {
             "color": "#2a3f5f"
            },
            "error_y": {
             "color": "#2a3f5f"
            },
            "marker": {
             "line": {
              "color": "#E5ECF6",
              "width": 0.5
             },
             "pattern": {
              "fillmode": "overlay",
              "size": 10,
              "solidity": 0.2
             }
            },
            "type": "bar"
           }
          ],
          "barpolar": [
           {
            "marker": {
             "line": {
              "color": "#E5ECF6",
              "width": 0.5
             },
             "pattern": {
              "fillmode": "overlay",
              "size": 10,
              "solidity": 0.2
             }
            },
            "type": "barpolar"
           }
          ],
          "carpet": [
           {
            "aaxis": {
             "endlinecolor": "#2a3f5f",
             "gridcolor": "white",
             "linecolor": "white",
             "minorgridcolor": "white",
             "startlinecolor": "#2a3f5f"
            },
            "baxis": {
             "endlinecolor": "#2a3f5f",
             "gridcolor": "white",
             "linecolor": "white",
             "minorgridcolor": "white",
             "startlinecolor": "#2a3f5f"
            },
            "type": "carpet"
           }
          ],
          "choropleth": [
           {
            "colorbar": {
             "outlinewidth": 0,
             "ticks": ""
            },
            "type": "choropleth"
           }
          ],
          "contour": [
           {
            "colorbar": {
             "outlinewidth": 0,
             "ticks": ""
            },
            "colorscale": [
             [
              0,
              "#0d0887"
             ],
             [
              0.1111111111111111,
              "#46039f"
             ],
             [
              0.2222222222222222,
              "#7201a8"
             ],
             [
              0.3333333333333333,
              "#9c179e"
             ],
             [
              0.4444444444444444,
              "#bd3786"
             ],
             [
              0.5555555555555556,
              "#d8576b"
             ],
             [
              0.6666666666666666,
              "#ed7953"
             ],
             [
              0.7777777777777778,
              "#fb9f3a"
             ],
             [
              0.8888888888888888,
              "#fdca26"
             ],
             [
              1,
              "#f0f921"
             ]
            ],
            "type": "contour"
           }
          ],
          "contourcarpet": [
           {
            "colorbar": {
             "outlinewidth": 0,
             "ticks": ""
            },
            "type": "contourcarpet"
           }
          ],
          "heatmap": [
           {
            "colorbar": {
             "outlinewidth": 0,
             "ticks": ""
            },
            "colorscale": [
             [
              0,
              "#0d0887"
             ],
             [
              0.1111111111111111,
              "#46039f"
             ],
             [
              0.2222222222222222,
              "#7201a8"
             ],
             [
              0.3333333333333333,
              "#9c179e"
             ],
             [
              0.4444444444444444,
              "#bd3786"
             ],
             [
              0.5555555555555556,
              "#d8576b"
             ],
             [
              0.6666666666666666,
              "#ed7953"
             ],
             [
              0.7777777777777778,
              "#fb9f3a"
             ],
             [
              0.8888888888888888,
              "#fdca26"
             ],
             [
              1,
              "#f0f921"
             ]
            ],
            "type": "heatmap"
           }
          ],
          "heatmapgl": [
           {
            "colorbar": {
             "outlinewidth": 0,
             "ticks": ""
            },
            "colorscale": [
             [
              0,
              "#0d0887"
             ],
             [
              0.1111111111111111,
              "#46039f"
             ],
             [
              0.2222222222222222,
              "#7201a8"
             ],
             [
              0.3333333333333333,
              "#9c179e"
             ],
             [
              0.4444444444444444,
              "#bd3786"
             ],
             [
              0.5555555555555556,
              "#d8576b"
             ],
             [
              0.6666666666666666,
              "#ed7953"
             ],
             [
              0.7777777777777778,
              "#fb9f3a"
             ],
             [
              0.8888888888888888,
              "#fdca26"
             ],
             [
              1,
              "#f0f921"
             ]
            ],
            "type": "heatmapgl"
           }
          ],
          "histogram": [
           {
            "marker": {
             "pattern": {
              "fillmode": "overlay",
              "size": 10,
              "solidity": 0.2
             }
            },
            "type": "histogram"
           }
          ],
          "histogram2d": [
           {
            "colorbar": {
             "outlinewidth": 0,
             "ticks": ""
            },
            "colorscale": [
             [
              0,
              "#0d0887"
             ],
             [
              0.1111111111111111,
              "#46039f"
             ],
             [
              0.2222222222222222,
              "#7201a8"
             ],
             [
              0.3333333333333333,
              "#9c179e"
             ],
             [
              0.4444444444444444,
              "#bd3786"
             ],
             [
              0.5555555555555556,
              "#d8576b"
             ],
             [
              0.6666666666666666,
              "#ed7953"
             ],
             [
              0.7777777777777778,
              "#fb9f3a"
             ],
             [
              0.8888888888888888,
              "#fdca26"
             ],
             [
              1,
              "#f0f921"
             ]
            ],
            "type": "histogram2d"
           }
          ],
          "histogram2dcontour": [
           {
            "colorbar": {
             "outlinewidth": 0,
             "ticks": ""
            },
            "colorscale": [
             [
              0,
              "#0d0887"
             ],
             [
              0.1111111111111111,
              "#46039f"
             ],
             [
              0.2222222222222222,
              "#7201a8"
             ],
             [
              0.3333333333333333,
              "#9c179e"
             ],
             [
              0.4444444444444444,
              "#bd3786"
             ],
             [
              0.5555555555555556,
              "#d8576b"
             ],
             [
              0.6666666666666666,
              "#ed7953"
             ],
             [
              0.7777777777777778,
              "#fb9f3a"
             ],
             [
              0.8888888888888888,
              "#fdca26"
             ],
             [
              1,
              "#f0f921"
             ]
            ],
            "type": "histogram2dcontour"
           }
          ],
          "mesh3d": [
           {
            "colorbar": {
             "outlinewidth": 0,
             "ticks": ""
            },
            "type": "mesh3d"
           }
          ],
          "parcoords": [
           {
            "line": {
             "colorbar": {
              "outlinewidth": 0,
              "ticks": ""
             }
            },
            "type": "parcoords"
           }
          ],
          "pie": [
           {
            "automargin": true,
            "type": "pie"
           }
          ],
          "scatter": [
           {
            "fillpattern": {
             "fillmode": "overlay",
             "size": 10,
             "solidity": 0.2
            },
            "type": "scatter"
           }
          ],
          "scatter3d": [
           {
            "line": {
             "colorbar": {
              "outlinewidth": 0,
              "ticks": ""
             }
            },
            "marker": {
             "colorbar": {
              "outlinewidth": 0,
              "ticks": ""
             }
            },
            "type": "scatter3d"
           }
          ],
          "scattercarpet": [
           {
            "marker": {
             "colorbar": {
              "outlinewidth": 0,
              "ticks": ""
             }
            },
            "type": "scattercarpet"
           }
          ],
          "scattergeo": [
           {
            "marker": {
             "colorbar": {
              "outlinewidth": 0,
              "ticks": ""
             }
            },
            "type": "scattergeo"
           }
          ],
          "scattergl": [
           {
            "marker": {
             "colorbar": {
              "outlinewidth": 0,
              "ticks": ""
             }
            },
            "type": "scattergl"
           }
          ],
          "scattermapbox": [
           {
            "marker": {
             "colorbar": {
              "outlinewidth": 0,
              "ticks": ""
             }
            },
            "type": "scattermapbox"
           }
          ],
          "scatterpolar": [
           {
            "marker": {
             "colorbar": {
              "outlinewidth": 0,
              "ticks": ""
             }
            },
            "type": "scatterpolar"
           }
          ],
          "scatterpolargl": [
           {
            "marker": {
             "colorbar": {
              "outlinewidth": 0,
              "ticks": ""
             }
            },
            "type": "scatterpolargl"
           }
          ],
          "scatterternary": [
           {
            "marker": {
             "colorbar": {
              "outlinewidth": 0,
              "ticks": ""
             }
            },
            "type": "scatterternary"
           }
          ],
          "surface": [
           {
            "colorbar": {
             "outlinewidth": 0,
             "ticks": ""
            },
            "colorscale": [
             [
              0,
              "#0d0887"
             ],
             [
              0.1111111111111111,
              "#46039f"
             ],
             [
              0.2222222222222222,
              "#7201a8"
             ],
             [
              0.3333333333333333,
              "#9c179e"
             ],
             [
              0.4444444444444444,
              "#bd3786"
             ],
             [
              0.5555555555555556,
              "#d8576b"
             ],
             [
              0.6666666666666666,
              "#ed7953"
             ],
             [
              0.7777777777777778,
              "#fb9f3a"
             ],
             [
              0.8888888888888888,
              "#fdca26"
             ],
             [
              1,
              "#f0f921"
             ]
            ],
            "type": "surface"
           }
          ],
          "table": [
           {
            "cells": {
             "fill": {
              "color": "#EBF0F8"
             },
             "line": {
              "color": "white"
             }
            },
            "header": {
             "fill": {
              "color": "#C8D4E3"
             },
             "line": {
              "color": "white"
             }
            },
            "type": "table"
           }
          ]
         },
         "layout": {
          "annotationdefaults": {
           "arrowcolor": "#2a3f5f",
           "arrowhead": 0,
           "arrowwidth": 1
          },
          "autotypenumbers": "strict",
          "coloraxis": {
           "colorbar": {
            "outlinewidth": 0,
            "ticks": ""
           }
          },
          "colorscale": {
           "diverging": [
            [
             0,
             "#8e0152"
            ],
            [
             0.1,
             "#c51b7d"
            ],
            [
             0.2,
             "#de77ae"
            ],
            [
             0.3,
             "#f1b6da"
            ],
            [
             0.4,
             "#fde0ef"
            ],
            [
             0.5,
             "#f7f7f7"
            ],
            [
             0.6,
             "#e6f5d0"
            ],
            [
             0.7,
             "#b8e186"
            ],
            [
             0.8,
             "#7fbc41"
            ],
            [
             0.9,
             "#4d9221"
            ],
            [
             1,
             "#276419"
            ]
           ],
           "sequential": [
            [
             0,
             "#0d0887"
            ],
            [
             0.1111111111111111,
             "#46039f"
            ],
            [
             0.2222222222222222,
             "#7201a8"
            ],
            [
             0.3333333333333333,
             "#9c179e"
            ],
            [
             0.4444444444444444,
             "#bd3786"
            ],
            [
             0.5555555555555556,
             "#d8576b"
            ],
            [
             0.6666666666666666,
             "#ed7953"
            ],
            [
             0.7777777777777778,
             "#fb9f3a"
            ],
            [
             0.8888888888888888,
             "#fdca26"
            ],
            [
             1,
             "#f0f921"
            ]
           ],
           "sequentialminus": [
            [
             0,
             "#0d0887"
            ],
            [
             0.1111111111111111,
             "#46039f"
            ],
            [
             0.2222222222222222,
             "#7201a8"
            ],
            [
             0.3333333333333333,
             "#9c179e"
            ],
            [
             0.4444444444444444,
             "#bd3786"
            ],
            [
             0.5555555555555556,
             "#d8576b"
            ],
            [
             0.6666666666666666,
             "#ed7953"
            ],
            [
             0.7777777777777778,
             "#fb9f3a"
            ],
            [
             0.8888888888888888,
             "#fdca26"
            ],
            [
             1,
             "#f0f921"
            ]
           ]
          },
          "colorway": [
           "#636efa",
           "#EF553B",
           "#00cc96",
           "#ab63fa",
           "#FFA15A",
           "#19d3f3",
           "#FF6692",
           "#B6E880",
           "#FF97FF",
           "#FECB52"
          ],
          "font": {
           "color": "#2a3f5f"
          },
          "geo": {
           "bgcolor": "white",
           "lakecolor": "white",
           "landcolor": "#E5ECF6",
           "showlakes": true,
           "showland": true,
           "subunitcolor": "white"
          },
          "hoverlabel": {
           "align": "left"
          },
          "hovermode": "closest",
          "mapbox": {
           "style": "light"
          },
          "paper_bgcolor": "white",
          "plot_bgcolor": "#E5ECF6",
          "polar": {
           "angularaxis": {
            "gridcolor": "white",
            "linecolor": "white",
            "ticks": ""
           },
           "bgcolor": "#E5ECF6",
           "radialaxis": {
            "gridcolor": "white",
            "linecolor": "white",
            "ticks": ""
           }
          },
          "scene": {
           "xaxis": {
            "backgroundcolor": "#E5ECF6",
            "gridcolor": "white",
            "gridwidth": 2,
            "linecolor": "white",
            "showbackground": true,
            "ticks": "",
            "zerolinecolor": "white"
           },
           "yaxis": {
            "backgroundcolor": "#E5ECF6",
            "gridcolor": "white",
            "gridwidth": 2,
            "linecolor": "white",
            "showbackground": true,
            "ticks": "",
            "zerolinecolor": "white"
           },
           "zaxis": {
            "backgroundcolor": "#E5ECF6",
            "gridcolor": "white",
            "gridwidth": 2,
            "linecolor": "white",
            "showbackground": true,
            "ticks": "",
            "zerolinecolor": "white"
           }
          },
          "shapedefaults": {
           "line": {
            "color": "#2a3f5f"
           }
          },
          "ternary": {
           "aaxis": {
            "gridcolor": "white",
            "linecolor": "white",
            "ticks": ""
           },
           "baxis": {
            "gridcolor": "white",
            "linecolor": "white",
            "ticks": ""
           },
           "bgcolor": "#E5ECF6",
           "caxis": {
            "gridcolor": "white",
            "linecolor": "white",
            "ticks": ""
           }
          },
          "title": {
           "x": 0.05
          },
          "xaxis": {
           "automargin": true,
           "gridcolor": "white",
           "linecolor": "white",
           "ticks": "",
           "title": {
            "standoff": 15
           },
           "zerolinecolor": "white",
           "zerolinewidth": 2
          },
          "yaxis": {
           "automargin": true,
           "gridcolor": "white",
           "linecolor": "white",
           "ticks": "",
           "title": {
            "standoff": 15
           },
           "zerolinecolor": "white",
           "zerolinewidth": 2
          }
         }
        },
        "title": {
         "text": "Population vs. Density in Delhi Cities"
        },
        "xaxis": {
         "anchor": "y",
         "domain": [
          0,
          1
         ],
         "title": {
          "text": "Population"
         }
        },
        "yaxis": {
         "anchor": "x",
         "domain": [
          0,
          1
         ],
         "title": {
          "text": "Population Density"
         }
        }
       }
      },
      "text/html": [
       "<div>                            <div id=\"c6c1153e-103c-4290-8673-1d2b7f3ce395\" class=\"plotly-graph-div\" style=\"height:525px; width:100%;\"></div>            <script type=\"text/javascript\">                require([\"plotly\"], function(Plotly) {                    window.PLOTLYENV=window.PLOTLYENV || {};                                    if (document.getElementById(\"c6c1153e-103c-4290-8673-1d2b7f3ce395\")) {                    Plotly.newPlot(                        \"c6c1153e-103c-4290-8673-1d2b7f3ce395\",                        [{\"hovertemplate\":\"Population=%{x}<br>Population Density=%{y}<br>Area (sq. km)=%{marker.size}<br>City=%{text}<extra></extra>\",\"legendgroup\":\"\",\"marker\":{\"color\":\"red\",\"size\":[4.0,8.6,12.0,8.18,0.8,3.92,6.61,4.42,6.8,5.62,0.85,5.9,17.0,1.9,6.7,15.5,3.92,11.2,0.8,7.39,7.1,2.58,0.53,2.29,7.95,561.27,42.57,10.1,16.99,3.94,4.68,3.56,1.49,7.3,4.3,2.3,6.8,2.96,3.44,0.9,3.76,12.45,2.6,1.0,8.5,4.43,1.3,8.9,3.4,8.78,4.8,0.9,0.28,2.76,7.67,8.8,4.7,1.88,1.14,1.66,6.65,2.3,7.65,7.5,5.87,0.5,1.8,8.79,3.21,4.1,1.19,2.35,2.53,2.6,11.9,1.3,3.07,6.7,2.36,42.74,3.88,2.29,4.7,7.0,10.0,2.2,5.3,2.4,5.66,1.9,8.6,0.74,3.16,2.8,1.1,5.7,2.19,1.2,3.0,4.33,0.07,4.3,2.9,2.8,1.2,1.1,9.68,3.92,0.82,0.4,6.99,1.8],\"sizemode\":\"area\",\"sizeref\":1.403175,\"symbol\":\"circle\",\"line\":{\"color\":\"DarkSlateGrey\",\"width\":0.5},\"opacity\":0.7},\"mode\":\"markers+text\",\"name\":\"\",\"orientation\":\"v\",\"showlegend\":false,\"text\":[\"Aali\",\"Ali Pur\",\"Asola\",\"Aya Nagar\",\"Babar Pur\",\"Bakhtawar Pur\",\"Bakkar Wala\",\"Bankauli\",\"Bankner\",\"Bapraula\",\"Baqiabad\",\"Barwala\",\"Bawana\",\"Begum Pur\",\"Bhalswa Jahangir Pur\",\"Bhati\",\"Bhor Garh\",\"Burari\",\"Chandan Hola\",\"Chattar Pur\",\"Chhawala (Chhawla)\",\"Chilla Saroda Bangar\",\"Chilla Saroda Khadar\",\"Dallo Pura\",\"Darya Pur Kalan\",\"Delhi\",\"Delhi Cantonment\",\"Deoli\",\"Dera Mandi\",\"Dindar Pur\",\"Fateh Pur Beri\",\"Gharoli\",\"Gharonda Neemka Bangar (Patparganj)\",\"Gheora\",\"Ghitorni\",\"Gokal Pur\",\"Hastsal\",\"Ibrahim Pur\",\"Jaffar Pur Kalan\",\"Jaffrabad\",\"Jait Pur\",\"Jharoda Kalan\",\"Jharoda Majra Burari\",\"Jiwan Pur (Johri Pur)\",\"Jona Pur\",\"Kair\",\"Kamal Pur Majra Burari\",\"Kanjhawala\",\"Kapas Hera\",\"Karala\",\"Karawal Nagar\",\"Khajoori Khas\",\"Khan Pur Dhani\",\"Khera\",\"Khera Kalan\",\"Khera Khurd\",\"Kirari Suleman Nagar\",\"Kondli\",\"Kotla Mahigiran\",\"Kusum Pur\",\"Lad Pur\",\"Libas Pur\",\"Maidan Garhi\",\"Malik Pur Kohi (Rang Puri)\",\"Mandoli\",\"Mir Pur Turk\",\"Mithe Pur\",\"Mitraon\",\"Mohammad Pur Majri\",\"Molar Band\",\"Moradabad Pahari\",\"Mubarak Pur Dabas\",\"Mukand Pur\",\"Mukhmel Pur\",\"Mundka\",\"Mustafabad\",\"Nangli Sakrawati\",\"Nangloi Jat\",\"Neb Sarai\",\"New Delhi\",\"Nilothi\",\"Nithari\",\"Pehlad Pur Bangar\",\"Pooth Kalan\",\"Pooth Khurd\",\"Pul Pehlad\",\"Qadi Pur\",\"Quammruddin Nagar\",\"Qutab Garh\",\"Raja Pur Khurd\",\"Rajokri\",\"Raj Pur Khurd\",\"Rani Khera\",\"Roshan Pura (Dichaon Khurd)\",\"Sadat Pur Gujran\",\"Sahibabad Daulat Pur\",\"Saidabad\",\"Saidul Azaib\",\"Sambhalka\",\"Shafi Pur Ranhola\",\"Shakar Pur Baramad\",\"Siras Pur\",\"Sultan Pur\",\"Sultan Pur Majra\",\"Taj Pul\",\"Tigri\",\"Tikri Kalan\",\"Tikri Khurd\",\"Tilang Pur Kotla\",\"Tukhmir Pur\",\"Ujwa\",\"Ziauddin Pur\"],\"x\":[27169,20332,13275,33123,37058,12716,18122,5339,14788,52744,14429,8948,73680,53682,197148,18864,8627,146190,6780,46776,14662,83217,11743,154791,6310,11034,110351,169122,16725,35856,8861,92540,37876,6876,14893,121870,176877,10614,6573,54601,59330,19578,22878,43054,10635,4074,43086,10331,74073,35730,224281,76640,6994,7220,8252,9777,283211,38207,7376,17028,5529,44375,11111,23726,120417,19098,69837,6512,17462,91402,21502,12043,57135,4931,54541,127167,37706,205596,15640,257803,43371,50464,22968,96002,10654,69657,18369,25126,7639,19312,19148,11161,16402,57217,97641,54773,10168,17914,17076,31944,1178,30445,15160,181554,68796,46974,16313,13772,13614,5658,4856,68993],\"xaxis\":\"x\",\"y\":[6792.25,2364.186046511628,1106.25,4049.2665036674816,46322.5,3243.877551020408,2741.6036308623297,1207.9185520361991,2174.705882352941,9385.053380782918,16975.29411764706,1516.6101694915253,4334.117647058823,28253.68421052632,29425.07462686567,1217.032258064516,2200.765306122449,13052.678571428572,8475.0,6329.634641407308,2065.0704225352115,32254.6511627907,22156.603773584902,67594.3231441048,793.7106918238993,19.65898765300123,2592.2245712943386,16744.752475247526,984.4025897586816,9100.507614213198,1893.3760683760688,25994.38202247191,25420.13422818792,941.917808219178,3463.488372093024,52986.956521739135,26011.32352941177,3585.810810810811,1910.7558139534883,60667.777777777774,15779.255319148937,1572.5301204819275,8799.23076923077,43054.0,1251.1764705882354,919.6388261851016,33143.07692307692,1160.7865168539324,21786.176470588234,4069.476082004556,46725.208333333336,85155.55555555555,24978.571428571428,2615.9420289855075,1075.8800521512387,1111.0227272727273,60257.65957446808,20322.87234042553,6470.175438596491,10257.831325301206,831.4285714285713,19293.478260869568,1452.4183006535948,3163.4666666666667,20513.96933560477,38196.0,38798.333333333336,740.8418657565416,5439.8753894081,22293.17073170732,18068.90756302521,5124.680851063829,22583.00395256917,1896.5384615384612,4583.27731092437,97820.76923076923,12282.084690553747,30685.97014925373,6627.118644067797,6031.890500701918,11178.092783505155,22036.681222707422,4886.808510638298,13714.57142857143,1065.4,31662.272727272724,3465.849056603773,10469.166666666668,1349.6466431095405,10164.21052631579,2226.5116279069766,15082.432432432432,5190.506329113924,20434.64285714286,88764.54545454544,9609.298245614034,4642.922374429224,14928.333333333334,5692.0,7377.367205542725,16828.571428571428,7080.232558139535,5227.586206896552,64840.71428571429,57330.0,42703.63636363636,1685.2272727272727,3513.265306122449,16602.439024390245,14145.0,694.7067238912732,38329.444444444445],\"yaxis\":\"y\",\"type\":\"scatter\",\"textposition\":\"top center\"}],                        {\"template\":{\"data\":{\"histogram2dcontour\":[{\"type\":\"histogram2dcontour\",\"colorbar\":{\"outlinewidth\":0,\"ticks\":\"\"},\"colorscale\":[[0.0,\"#0d0887\"],[0.1111111111111111,\"#46039f\"],[0.2222222222222222,\"#7201a8\"],[0.3333333333333333,\"#9c179e\"],[0.4444444444444444,\"#bd3786\"],[0.5555555555555556,\"#d8576b\"],[0.6666666666666666,\"#ed7953\"],[0.7777777777777778,\"#fb9f3a\"],[0.8888888888888888,\"#fdca26\"],[1.0,\"#f0f921\"]]}],\"choropleth\":[{\"type\":\"choropleth\",\"colorbar\":{\"outlinewidth\":0,\"ticks\":\"\"}}],\"histogram2d\":[{\"type\":\"histogram2d\",\"colorbar\":{\"outlinewidth\":0,\"ticks\":\"\"},\"colorscale\":[[0.0,\"#0d0887\"],[0.1111111111111111,\"#46039f\"],[0.2222222222222222,\"#7201a8\"],[0.3333333333333333,\"#9c179e\"],[0.4444444444444444,\"#bd3786\"],[0.5555555555555556,\"#d8576b\"],[0.6666666666666666,\"#ed7953\"],[0.7777777777777778,\"#fb9f3a\"],[0.8888888888888888,\"#fdca26\"],[1.0,\"#f0f921\"]]}],\"heatmap\":[{\"type\":\"heatmap\",\"colorbar\":{\"outlinewidth\":0,\"ticks\":\"\"},\"colorscale\":[[0.0,\"#0d0887\"],[0.1111111111111111,\"#46039f\"],[0.2222222222222222,\"#7201a8\"],[0.3333333333333333,\"#9c179e\"],[0.4444444444444444,\"#bd3786\"],[0.5555555555555556,\"#d8576b\"],[0.6666666666666666,\"#ed7953\"],[0.7777777777777778,\"#fb9f3a\"],[0.8888888888888888,\"#fdca26\"],[1.0,\"#f0f921\"]]}],\"heatmapgl\":[{\"type\":\"heatmapgl\",\"colorbar\":{\"outlinewidth\":0,\"ticks\":\"\"},\"colorscale\":[[0.0,\"#0d0887\"],[0.1111111111111111,\"#46039f\"],[0.2222222222222222,\"#7201a8\"],[0.3333333333333333,\"#9c179e\"],[0.4444444444444444,\"#bd3786\"],[0.5555555555555556,\"#d8576b\"],[0.6666666666666666,\"#ed7953\"],[0.7777777777777778,\"#fb9f3a\"],[0.8888888888888888,\"#fdca26\"],[1.0,\"#f0f921\"]]}],\"contourcarpet\":[{\"type\":\"contourcarpet\",\"colorbar\":{\"outlinewidth\":0,\"ticks\":\"\"}}],\"contour\":[{\"type\":\"contour\",\"colorbar\":{\"outlinewidth\":0,\"ticks\":\"\"},\"colorscale\":[[0.0,\"#0d0887\"],[0.1111111111111111,\"#46039f\"],[0.2222222222222222,\"#7201a8\"],[0.3333333333333333,\"#9c179e\"],[0.4444444444444444,\"#bd3786\"],[0.5555555555555556,\"#d8576b\"],[0.6666666666666666,\"#ed7953\"],[0.7777777777777778,\"#fb9f3a\"],[0.8888888888888888,\"#fdca26\"],[1.0,\"#f0f921\"]]}],\"surface\":[{\"type\":\"surface\",\"colorbar\":{\"outlinewidth\":0,\"ticks\":\"\"},\"colorscale\":[[0.0,\"#0d0887\"],[0.1111111111111111,\"#46039f\"],[0.2222222222222222,\"#7201a8\"],[0.3333333333333333,\"#9c179e\"],[0.4444444444444444,\"#bd3786\"],[0.5555555555555556,\"#d8576b\"],[0.6666666666666666,\"#ed7953\"],[0.7777777777777778,\"#fb9f3a\"],[0.8888888888888888,\"#fdca26\"],[1.0,\"#f0f921\"]]}],\"mesh3d\":[{\"type\":\"mesh3d\",\"colorbar\":{\"outlinewidth\":0,\"ticks\":\"\"}}],\"scatter\":[{\"fillpattern\":{\"fillmode\":\"overlay\",\"size\":10,\"solidity\":0.2},\"type\":\"scatter\"}],\"parcoords\":[{\"type\":\"parcoords\",\"line\":{\"colorbar\":{\"outlinewidth\":0,\"ticks\":\"\"}}}],\"scatterpolargl\":[{\"type\":\"scatterpolargl\",\"marker\":{\"colorbar\":{\"outlinewidth\":0,\"ticks\":\"\"}}}],\"bar\":[{\"error_x\":{\"color\":\"#2a3f5f\"},\"error_y\":{\"color\":\"#2a3f5f\"},\"marker\":{\"line\":{\"color\":\"#E5ECF6\",\"width\":0.5},\"pattern\":{\"fillmode\":\"overlay\",\"size\":10,\"solidity\":0.2}},\"type\":\"bar\"}],\"scattergeo\":[{\"type\":\"scattergeo\",\"marker\":{\"colorbar\":{\"outlinewidth\":0,\"ticks\":\"\"}}}],\"scatterpolar\":[{\"type\":\"scatterpolar\",\"marker\":{\"colorbar\":{\"outlinewidth\":0,\"ticks\":\"\"}}}],\"histogram\":[{\"marker\":{\"pattern\":{\"fillmode\":\"overlay\",\"size\":10,\"solidity\":0.2}},\"type\":\"histogram\"}],\"scattergl\":[{\"type\":\"scattergl\",\"marker\":{\"colorbar\":{\"outlinewidth\":0,\"ticks\":\"\"}}}],\"scatter3d\":[{\"type\":\"scatter3d\",\"line\":{\"colorbar\":{\"outlinewidth\":0,\"ticks\":\"\"}},\"marker\":{\"colorbar\":{\"outlinewidth\":0,\"ticks\":\"\"}}}],\"scattermapbox\":[{\"type\":\"scattermapbox\",\"marker\":{\"colorbar\":{\"outlinewidth\":0,\"ticks\":\"\"}}}],\"scatterternary\":[{\"type\":\"scatterternary\",\"marker\":{\"colorbar\":{\"outlinewidth\":0,\"ticks\":\"\"}}}],\"scattercarpet\":[{\"type\":\"scattercarpet\",\"marker\":{\"colorbar\":{\"outlinewidth\":0,\"ticks\":\"\"}}}],\"carpet\":[{\"aaxis\":{\"endlinecolor\":\"#2a3f5f\",\"gridcolor\":\"white\",\"linecolor\":\"white\",\"minorgridcolor\":\"white\",\"startlinecolor\":\"#2a3f5f\"},\"baxis\":{\"endlinecolor\":\"#2a3f5f\",\"gridcolor\":\"white\",\"linecolor\":\"white\",\"minorgridcolor\":\"white\",\"startlinecolor\":\"#2a3f5f\"},\"type\":\"carpet\"}],\"table\":[{\"cells\":{\"fill\":{\"color\":\"#EBF0F8\"},\"line\":{\"color\":\"white\"}},\"header\":{\"fill\":{\"color\":\"#C8D4E3\"},\"line\":{\"color\":\"white\"}},\"type\":\"table\"}],\"barpolar\":[{\"marker\":{\"line\":{\"color\":\"#E5ECF6\",\"width\":0.5},\"pattern\":{\"fillmode\":\"overlay\",\"size\":10,\"solidity\":0.2}},\"type\":\"barpolar\"}],\"pie\":[{\"automargin\":true,\"type\":\"pie\"}]},\"layout\":{\"autotypenumbers\":\"strict\",\"colorway\":[\"#636efa\",\"#EF553B\",\"#00cc96\",\"#ab63fa\",\"#FFA15A\",\"#19d3f3\",\"#FF6692\",\"#B6E880\",\"#FF97FF\",\"#FECB52\"],\"font\":{\"color\":\"#2a3f5f\"},\"hovermode\":\"closest\",\"hoverlabel\":{\"align\":\"left\"},\"paper_bgcolor\":\"white\",\"plot_bgcolor\":\"#E5ECF6\",\"polar\":{\"bgcolor\":\"#E5ECF6\",\"angularaxis\":{\"gridcolor\":\"white\",\"linecolor\":\"white\",\"ticks\":\"\"},\"radialaxis\":{\"gridcolor\":\"white\",\"linecolor\":\"white\",\"ticks\":\"\"}},\"ternary\":{\"bgcolor\":\"#E5ECF6\",\"aaxis\":{\"gridcolor\":\"white\",\"linecolor\":\"white\",\"ticks\":\"\"},\"baxis\":{\"gridcolor\":\"white\",\"linecolor\":\"white\",\"ticks\":\"\"},\"caxis\":{\"gridcolor\":\"white\",\"linecolor\":\"white\",\"ticks\":\"\"}},\"coloraxis\":{\"colorbar\":{\"outlinewidth\":0,\"ticks\":\"\"}},\"colorscale\":{\"sequential\":[[0.0,\"#0d0887\"],[0.1111111111111111,\"#46039f\"],[0.2222222222222222,\"#7201a8\"],[0.3333333333333333,\"#9c179e\"],[0.4444444444444444,\"#bd3786\"],[0.5555555555555556,\"#d8576b\"],[0.6666666666666666,\"#ed7953\"],[0.7777777777777778,\"#fb9f3a\"],[0.8888888888888888,\"#fdca26\"],[1.0,\"#f0f921\"]],\"sequentialminus\":[[0.0,\"#0d0887\"],[0.1111111111111111,\"#46039f\"],[0.2222222222222222,\"#7201a8\"],[0.3333333333333333,\"#9c179e\"],[0.4444444444444444,\"#bd3786\"],[0.5555555555555556,\"#d8576b\"],[0.6666666666666666,\"#ed7953\"],[0.7777777777777778,\"#fb9f3a\"],[0.8888888888888888,\"#fdca26\"],[1.0,\"#f0f921\"]],\"diverging\":[[0,\"#8e0152\"],[0.1,\"#c51b7d\"],[0.2,\"#de77ae\"],[0.3,\"#f1b6da\"],[0.4,\"#fde0ef\"],[0.5,\"#f7f7f7\"],[0.6,\"#e6f5d0\"],[0.7,\"#b8e186\"],[0.8,\"#7fbc41\"],[0.9,\"#4d9221\"],[1,\"#276419\"]]},\"xaxis\":{\"gridcolor\":\"white\",\"linecolor\":\"white\",\"ticks\":\"\",\"title\":{\"standoff\":15},\"zerolinecolor\":\"white\",\"automargin\":true,\"zerolinewidth\":2},\"yaxis\":{\"gridcolor\":\"white\",\"linecolor\":\"white\",\"ticks\":\"\",\"title\":{\"standoff\":15},\"zerolinecolor\":\"white\",\"automargin\":true,\"zerolinewidth\":2},\"scene\":{\"xaxis\":{\"backgroundcolor\":\"#E5ECF6\",\"gridcolor\":\"white\",\"linecolor\":\"white\",\"showbackground\":true,\"ticks\":\"\",\"zerolinecolor\":\"white\",\"gridwidth\":2},\"yaxis\":{\"backgroundcolor\":\"#E5ECF6\",\"gridcolor\":\"white\",\"linecolor\":\"white\",\"showbackground\":true,\"ticks\":\"\",\"zerolinecolor\":\"white\",\"gridwidth\":2},\"zaxis\":{\"backgroundcolor\":\"#E5ECF6\",\"gridcolor\":\"white\",\"linecolor\":\"white\",\"showbackground\":true,\"ticks\":\"\",\"zerolinecolor\":\"white\",\"gridwidth\":2}},\"shapedefaults\":{\"line\":{\"color\":\"#2a3f5f\"}},\"annotationdefaults\":{\"arrowcolor\":\"#2a3f5f\",\"arrowhead\":0,\"arrowwidth\":1},\"geo\":{\"bgcolor\":\"white\",\"landcolor\":\"#E5ECF6\",\"subunitcolor\":\"white\",\"showland\":true,\"showlakes\":true,\"lakecolor\":\"white\"},\"title\":{\"x\":0.05},\"mapbox\":{\"style\":\"light\"}}},\"xaxis\":{\"anchor\":\"y\",\"domain\":[0.0,1.0],\"title\":{\"text\":\"Population\"}},\"yaxis\":{\"anchor\":\"x\",\"domain\":[0.0,1.0],\"title\":{\"text\":\"Population Density\"}},\"legend\":{\"tracegroupgap\":0,\"itemsizing\":\"constant\"},\"title\":{\"text\":\"Population vs. Density in Delhi Cities\"},\"showlegend\":false,\"hovermode\":\"closest\"},                        {\"responsive\": true}                    ).then(function(){\n",
       "                            \n",
       "var gd = document.getElementById('c6c1153e-103c-4290-8673-1d2b7f3ce395');\n",
       "var x = new MutationObserver(function (mutations, observer) {{\n",
       "        var display = window.getComputedStyle(gd).display;\n",
       "        if (!display || display === 'none') {{\n",
       "            console.log([gd, 'removed!']);\n",
       "            Plotly.purge(gd);\n",
       "            observer.disconnect();\n",
       "        }}\n",
       "}});\n",
       "\n",
       "// Listen for the removal of the full notebook cells\n",
       "var notebookContainer = gd.closest('#notebook-container');\n",
       "if (notebookContainer) {{\n",
       "    x.observe(notebookContainer, {childList: true});\n",
       "}}\n",
       "\n",
       "// Listen for the clearing of the current output cell\n",
       "var outputEl = gd.closest('.output');\n",
       "if (outputEl) {{\n",
       "    x.observe(outputEl, {childList: true});\n",
       "}}\n",
       "\n",
       "                        })                };                });            </script>        </div>"
      ]
     },
     "metadata": {},
     "output_type": "display_data"
    }
   ],
   "source": [
    "# Create scatter plot\n",
    "fig = px.scatter(df, x='Population', y='Density', text='City', size='Area',\n",
    "                 title='Population vs. Density in Delhi Cities',\n",
    "                 labels={'Population': 'Population', 'Density': 'Population Density', 'Area': 'Area (sq. km)'})\n",
    "\n",
    "# Update marker properties\n",
    "fig.update_traces(marker=dict(color='red', opacity=0.7, line=dict(width=0.5, color='DarkSlateGrey')))\n",
    "\n",
    "# Update layout\n",
    "fig.update_layout(showlegend=False, hovermode='closest')\n",
    "\n",
    "# Customize hover labels\n",
    "fig.update_traces(textposition='top center')\n",
    "\n",
    "\n",
    "# # Set y-axis limit\n",
    "# fig.update_yaxes(range=[0, 1000])  # Set the y-axis limit from 0 to 25000\n",
    "\n",
    "# Show the plot\n",
    "fig.show()"
   ]
  },
  {
   "cell_type": "code",
   "execution_count": 78,
   "id": "a8aea8ce",
   "metadata": {},
   "outputs": [
    {
     "data": {
      "text/html": [
       "<div style=\"width:100%;\"><div style=\"position:relative;width:100%;height:0;padding-bottom:60%;\"><span style=\"color:#565656\">Make this Notebook Trusted to load map: File -> Trust Notebook</span><iframe srcdoc=\"&lt;!DOCTYPE html&gt;\n",
       "&lt;html&gt;\n",
       "&lt;head&gt;\n",
       "    \n",
       "    &lt;meta http-equiv=&quot;content-type&quot; content=&quot;text/html; charset=UTF-8&quot; /&gt;\n",
       "    \n",
       "        &lt;script&gt;\n",
       "            L_NO_TOUCH = false;\n",
       "            L_DISABLE_3D = false;\n",
       "        &lt;/script&gt;\n",
       "    \n",
       "    &lt;style&gt;html, body {width: 100%;height: 100%;margin: 0;padding: 0;}&lt;/style&gt;\n",
       "    &lt;style&gt;#map {position:absolute;top:0;bottom:0;right:0;left:0;}&lt;/style&gt;\n",
       "    &lt;script src=&quot;https://cdn.jsdelivr.net/npm/leaflet@1.9.3/dist/leaflet.js&quot;&gt;&lt;/script&gt;\n",
       "    &lt;script src=&quot;https://code.jquery.com/jquery-3.7.1.min.js&quot;&gt;&lt;/script&gt;\n",
       "    &lt;script src=&quot;https://cdn.jsdelivr.net/npm/bootstrap@5.2.2/dist/js/bootstrap.bundle.min.js&quot;&gt;&lt;/script&gt;\n",
       "    &lt;script src=&quot;https://cdnjs.cloudflare.com/ajax/libs/Leaflet.awesome-markers/2.0.2/leaflet.awesome-markers.js&quot;&gt;&lt;/script&gt;\n",
       "    &lt;link rel=&quot;stylesheet&quot; href=&quot;https://cdn.jsdelivr.net/npm/leaflet@1.9.3/dist/leaflet.css&quot;/&gt;\n",
       "    &lt;link rel=&quot;stylesheet&quot; href=&quot;https://cdn.jsdelivr.net/npm/bootstrap@5.2.2/dist/css/bootstrap.min.css&quot;/&gt;\n",
       "    &lt;link rel=&quot;stylesheet&quot; href=&quot;https://netdna.bootstrapcdn.com/bootstrap/3.0.0/css/bootstrap.min.css&quot;/&gt;\n",
       "    &lt;link rel=&quot;stylesheet&quot; href=&quot;https://cdn.jsdelivr.net/npm/@fortawesome/fontawesome-free@6.2.0/css/all.min.css&quot;/&gt;\n",
       "    &lt;link rel=&quot;stylesheet&quot; href=&quot;https://cdnjs.cloudflare.com/ajax/libs/Leaflet.awesome-markers/2.0.2/leaflet.awesome-markers.css&quot;/&gt;\n",
       "    &lt;link rel=&quot;stylesheet&quot; href=&quot;https://cdn.jsdelivr.net/gh/python-visualization/folium/folium/templates/leaflet.awesome.rotate.min.css&quot;/&gt;\n",
       "    \n",
       "            &lt;meta name=&quot;viewport&quot; content=&quot;width=device-width,\n",
       "                initial-scale=1.0, maximum-scale=1.0, user-scalable=no&quot; /&gt;\n",
       "            &lt;style&gt;\n",
       "                #map_ff71c182c9a4b11e35ba65fe3bd27d75 {\n",
       "                    position: relative;\n",
       "                    width: 100.0%;\n",
       "                    height: 100.0%;\n",
       "                    left: 0.0%;\n",
       "                    top: 0.0%;\n",
       "                }\n",
       "                .leaflet-container { font-size: 1rem; }\n",
       "            &lt;/style&gt;\n",
       "        \n",
       "    &lt;script src=&quot;https://cdn.jsdelivr.net/gh/python-visualization/folium@main/folium/templates/leaflet_heat.min.js&quot;&gt;&lt;/script&gt;\n",
       "&lt;/head&gt;\n",
       "&lt;body&gt;\n",
       "    \n",
       "    \n",
       "            &lt;div class=&quot;folium-map&quot; id=&quot;map_ff71c182c9a4b11e35ba65fe3bd27d75&quot; &gt;&lt;/div&gt;\n",
       "        \n",
       "&lt;/body&gt;\n",
       "&lt;script&gt;\n",
       "    \n",
       "    \n",
       "            var map_ff71c182c9a4b11e35ba65fe3bd27d75 = L.map(\n",
       "                &quot;map_ff71c182c9a4b11e35ba65fe3bd27d75&quot;,\n",
       "                {\n",
       "                    center: [28.6139, 77.209],\n",
       "                    crs: L.CRS.EPSG3857,\n",
       "                    zoom: 10,\n",
       "                    zoomControl: true,\n",
       "                    preferCanvas: false,\n",
       "                }\n",
       "            );\n",
       "\n",
       "            \n",
       "\n",
       "        \n",
       "    \n",
       "            var tile_layer_810901d7a267c8a5444995efb517a695 = L.tileLayer(\n",
       "                &quot;https://tile.openstreetmap.org/{z}/{x}/{y}.png&quot;,\n",
       "                {&quot;attribution&quot;: &quot;\\u0026copy; \\u003ca href=\\&quot;https://www.openstreetmap.org/copyright\\&quot;\\u003eOpenStreetMap\\u003c/a\\u003e contributors&quot;, &quot;detectRetina&quot;: false, &quot;maxNativeZoom&quot;: 19, &quot;maxZoom&quot;: 19, &quot;minZoom&quot;: 0, &quot;noWrap&quot;: false, &quot;opacity&quot;: 1, &quot;subdomains&quot;: &quot;abc&quot;, &quot;tms&quot;: false}\n",
       "            );\n",
       "        \n",
       "    \n",
       "            tile_layer_810901d7a267c8a5444995efb517a695.addTo(map_ff71c182c9a4b11e35ba65fe3bd27d75);\n",
       "        \n",
       "    \n",
       "            var heat_map_92e89e56b34a25533253738c5e3d69f3 = L.heatLayer(\n",
       "                [[28.4739, 77.0723, 6792.25], [28.79857097513927, 77.13200535361305, 2364.186047], [28.4574, 77.2677, 1106.25], [28.4671, 77.0748, 4049.266504], [28.7167, 77.185, 46322.5]],\n",
       "                {&quot;blur&quot;: 15, &quot;gradient&quot;: {&quot;0.2&quot;: &quot;green&quot;, &quot;0.4&quot;: &quot;yellow&quot;, &quot;0.6&quot;: &quot;orange&quot;, &quot;1&quot;: &quot;red&quot;}, &quot;maxZoom&quot;: 18, &quot;minOpacity&quot;: 0.5, &quot;radius&quot;: 15}\n",
       "            );\n",
       "        \n",
       "    \n",
       "            heat_map_92e89e56b34a25533253738c5e3d69f3.addTo(map_ff71c182c9a4b11e35ba65fe3bd27d75);\n",
       "        \n",
       "&lt;/script&gt;\n",
       "&lt;/html&gt;\" style=\"position:absolute;width:100%;height:100%;left:0;top:0;border:none !important;\" allowfullscreen webkitallowfullscreen mozallowfullscreen></iframe></div></div>"
      ],
      "text/plain": [
       "<folium.folium.Map at 0x24da9521bd0>"
      ]
     },
     "execution_count": 78,
     "metadata": {},
     "output_type": "execute_result"
    }
   ],
   "source": [
    "import folium\n",
    "from folium.plugins import HeatMap\n",
    "import pandas as pd\n",
    "\n",
    "# Sample data (replace this with your actual data)\n",
    "data = {\n",
    "    'City': ['Aali', 'Ali Pur', 'Asola', 'Aya Nagar', 'Babar Pur'],\n",
    "    'Population': [27169, 20332, 13275, 33123, 37058],\n",
    "    'Area': [4.00, 8.60, 12.00, 8.18, 0.80],\n",
    "    'Density': [6792.25, 2364.186047, 1106.25, 4049.266504, 46322.5],\n",
    "    'Latitude': [28.4739, 28.79857097513927, 28.4574, 28.4671, 28.7167],  # Sample latitude data for each city\n",
    "    'Longitude': [77.0723, 77.13200535361305, 77.2677, 77.0748, 77.1850]  # Sample longitude data for each city\n",
    "}\n",
    "\n",
    "# 28.79857097513927, 77.13200535361305\n",
    "# Create a DataFrame from the data\n",
    "df = pd.DataFrame(data)\n",
    "\n",
    "# Create a map centered at a specific location\n",
    "map = folium.Map(location=[28.6139, 77.2090], zoom_start=10)\n",
    "\n",
    "# Create a HeatMap layer\n",
    "heat_data = [[row['Latitude'], row['Longitude'], row['Density']] for index, row in df.iterrows()]\n",
    "HeatMap(heat_data, radius=15, gradient={0.2: 'green', 0.4: 'yellow', 0.6: 'orange', 1: 'red'}).add_to(map)\n",
    "\n",
    "# Display the map\n",
    "map\n"
   ]
  }
 ],
 "metadata": {
  "kernelspec": {
   "display_name": "Python 3 (ipykernel)",
   "language": "python",
   "name": "python3"
  },
  "language_info": {
   "codemirror_mode": {
    "name": "ipython",
    "version": 3
   },
   "file_extension": ".py",
   "mimetype": "text/x-python",
   "name": "python",
   "nbconvert_exporter": "python",
   "pygments_lexer": "ipython3",
   "version": "3.11.3"
  }
 },
 "nbformat": 4,
 "nbformat_minor": 5
}
