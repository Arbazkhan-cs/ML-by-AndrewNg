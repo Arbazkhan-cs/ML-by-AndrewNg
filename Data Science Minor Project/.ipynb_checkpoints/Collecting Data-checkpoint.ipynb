{
 "cells": [
  {
   "cell_type": "code",
   "execution_count": 2,
   "id": "dc678dda",
   "metadata": {},
   "outputs": [],
   "source": [
    "from bs4 import BeautifulSoup\n",
    "import requests"
   ]
  },
  {
   "cell_type": "code",
   "execution_count": 4,
   "id": "33e13a6d",
   "metadata": {},
   "outputs": [
    {
     "data": {
      "text/plain": [
       "<Response [200]>"
      ]
     },
     "execution_count": 4,
     "metadata": {},
     "output_type": "execute_result"
    }
   ],
   "source": [
    "url = \"https://www.citypopulation.de/en/india/delhi/\"\n",
    "\n",
    "page = requests.get(url)\n",
    "page"
   ]
  },
  {
   "cell_type": "code",
   "execution_count": 11,
   "id": "f9a42f36",
   "metadata": {
    "scrolled": false
   },
   "outputs": [],
   "source": [
    "soup = BeautifulSoup(page.text, 'html')"
   ]
  },
  {
   "cell_type": "code",
   "execution_count": 15,
   "id": "5d299a4e",
   "metadata": {},
   "outputs": [
    {
     "data": {
      "text/plain": [
       "'Name\\nStatusDistrictPopulationCensus1991-03-01PopulationCensus2001-03-01PopulationCensus2011-03-01\\xa0'"
      ]
     },
     "execution_count": 15,
     "metadata": {},
     "output_type": "execute_result"
    }
   ],
   "source": [
    "soup.find(\"tr\", id=\"tsh\").text"
   ]
  },
  {
   "cell_type": "code",
   "execution_count": 22,
   "id": "c1a953dc",
   "metadata": {},
   "outputs": [
    {
     "data": {
      "text/plain": [
       "['City', 'Status', 'District', 'Population', 'Area']"
      ]
     },
     "execution_count": 22,
     "metadata": {},
     "output_type": "execute_result"
    }
   ],
   "source": [
    "columns = [\"City\", \"Status\", \"District\", \"Population\", \"Area\"]\n",
    "columns"
   ]
  },
  {
   "cell_type": "code",
   "execution_count": 57,
   "id": "7cab7387",
   "metadata": {},
   "outputs": [],
   "source": [
    "CityNames = soup.find_all(\"td\", class_=\"rname\")[10:]"
   ]
  },
  {
   "cell_type": "code",
   "execution_count": 58,
   "id": "96f716d5",
   "metadata": {},
   "outputs": [],
   "source": [
    "CityNames = [i.text for i in CityNames]"
   ]
  },
  {
   "cell_type": "code",
   "execution_count": 59,
   "id": "f71a72fe",
   "metadata": {},
   "outputs": [
    {
     "data": {
      "text/plain": [
       "['Aali',\n",
       " 'Ali Pur',\n",
       " 'Asola',\n",
       " 'Aya Nagar',\n",
       " 'Babar Pur',\n",
       " 'Bakhtawar Pur',\n",
       " 'Bakkar Wala',\n",
       " 'Bankauli',\n",
       " 'Bankner',\n",
       " 'Bapraula']"
      ]
     },
     "execution_count": 59,
     "metadata": {},
     "output_type": "execute_result"
    }
   ],
   "source": [
    "CityNames[:10]"
   ]
  },
  {
   "cell_type": "code",
   "execution_count": 54,
   "id": "c9de8060",
   "metadata": {},
   "outputs": [],
   "source": [
    "Status = soup.find_all(\"td\", class_=\"rstatus\")[10:]"
   ]
  },
  {
   "cell_type": "code",
   "execution_count": 55,
   "id": "ee14d523",
   "metadata": {},
   "outputs": [],
   "source": [
    "Status = [i.text for i in Status]"
   ]
  },
  {
   "cell_type": "code",
   "execution_count": 56,
   "id": "1b5870f7",
   "metadata": {},
   "outputs": [
    {
     "data": {
      "text/plain": [
       "['Census Town',\n",
       " 'Census Town',\n",
       " 'Census Town',\n",
       " 'Census Town',\n",
       " 'Census Town',\n",
       " 'Census Town',\n",
       " 'Census Town',\n",
       " 'Census Town',\n",
       " 'Census Town',\n",
       " 'Census Town']"
      ]
     },
     "execution_count": 56,
     "metadata": {},
     "output_type": "execute_result"
    }
   ],
   "source": [
    "Status[:10]"
   ]
  },
  {
   "cell_type": "code",
   "execution_count": 156,
   "id": "d084a879",
   "metadata": {},
   "outputs": [],
   "source": [
    "District = soup.find_all(\"td\", class_=\"radm\")"
   ]
  },
  {
   "cell_type": "code",
   "execution_count": 157,
   "id": "4df18432",
   "metadata": {},
   "outputs": [],
   "source": [
    "District = [i.text for i in District]"
   ]
  },
  {
   "cell_type": "code",
   "execution_count": 158,
   "id": "fb2922df",
   "metadata": {},
   "outputs": [
    {
     "data": {
      "text/plain": [
       "['South',\n",
       " 'North West',\n",
       " 'South',\n",
       " 'South',\n",
       " 'North East',\n",
       " 'North West',\n",
       " 'West',\n",
       " 'North West',\n",
       " 'North West',\n",
       " 'West']"
      ]
     },
     "execution_count": 158,
     "metadata": {},
     "output_type": "execute_result"
    }
   ],
   "source": [
    "District[:10]"
   ]
  },
  {
   "cell_type": "code",
   "execution_count": 60,
   "id": "cd1856a2",
   "metadata": {
    "scrolled": false
   },
   "outputs": [],
   "source": [
    "Population = soup.find_all(\"td\", class_=\"rpop prio1\")[10:]"
   ]
  },
  {
   "cell_type": "code",
   "execution_count": 61,
   "id": "354cac7f",
   "metadata": {},
   "outputs": [],
   "source": [
    "Population = [i.text for i in Population]"
   ]
  },
  {
   "cell_type": "code",
   "execution_count": 62,
   "id": "d1cf68d3",
   "metadata": {},
   "outputs": [
    {
     "data": {
      "text/plain": [
       "['27,169',\n",
       " '20,332',\n",
       " '13,275',\n",
       " '33,123',\n",
       " '37,058',\n",
       " '12,716',\n",
       " '18,122',\n",
       " '5,339',\n",
       " '14,788',\n",
       " '52,744']"
      ]
     },
     "execution_count": 62,
     "metadata": {},
     "output_type": "execute_result"
    }
   ],
   "source": [
    "Population[:10]"
   ]
  },
  {
   "cell_type": "code",
   "execution_count": 63,
   "id": "69156a6f",
   "metadata": {},
   "outputs": [
    {
     "data": {
      "text/plain": [
       "[]"
      ]
     },
     "execution_count": 63,
     "metadata": {},
     "output_type": "execute_result"
    }
   ],
   "source": [
    "soup.find_all(\"span\", class_=\"val\")"
   ]
  },
  {
   "cell_type": "code",
   "execution_count": 142,
   "id": "56553bd6",
   "metadata": {},
   "outputs": [],
   "source": [
    "Areas = soup.find_all(\"td\", class_=\"rname\")[10:]"
   ]
  },
  {
   "cell_type": "code",
   "execution_count": 143,
   "id": "10a51923",
   "metadata": {},
   "outputs": [],
   "source": [
    "Area1 = [row.attrs[\"data-area\"] for row in Areas[:25]]\n",
    "Area2 = [row.attrs[\"data-area\"] for row in Areas[26:]]"
   ]
  },
  {
   "cell_type": "code",
   "execution_count": 144,
   "id": "71de3917",
   "metadata": {},
   "outputs": [],
   "source": [
    "Areas = Area1+Area2"
   ]
  },
  {
   "cell_type": "code",
   "execution_count": 152,
   "id": "bb9191ab",
   "metadata": {},
   "outputs": [
    {
     "data": {
      "text/plain": [
       "(113, 113, 113, 113, 112)"
      ]
     },
     "execution_count": 152,
     "metadata": {},
     "output_type": "execute_result"
    }
   ],
   "source": [
    "len(Population), len(CityNames), len(District), len(Status), len(Areas)"
   ]
  },
  {
   "cell_type": "code",
   "execution_count": 153,
   "id": "d493603d",
   "metadata": {},
   "outputs": [
    {
     "data": {
      "text/plain": [
       "112"
      ]
     },
     "execution_count": 153,
     "metadata": {},
     "output_type": "execute_result"
    }
   ],
   "source": [
    "Population = Population[:25] + Population[26:]\n",
    "len(Population)"
   ]
  },
  {
   "cell_type": "code",
   "execution_count": 154,
   "id": "3d082cf1",
   "metadata": {},
   "outputs": [
    {
     "data": {
      "text/plain": [
       "112"
      ]
     },
     "execution_count": 154,
     "metadata": {},
     "output_type": "execute_result"
    }
   ],
   "source": [
    "CityNames = CityNames[:25] + CityNames[26:]\n",
    "len(CityNames)"
   ]
  },
  {
   "cell_type": "code",
   "execution_count": 159,
   "id": "653f2452",
   "metadata": {},
   "outputs": [
    {
     "data": {
      "text/plain": [
       "112"
      ]
     },
     "execution_count": 159,
     "metadata": {},
     "output_type": "execute_result"
    }
   ],
   "source": [
    "District = District[:25] + District[26:]\n",
    "len(District)"
   ]
  },
  {
   "cell_type": "code",
   "execution_count": 160,
   "id": "53afb081",
   "metadata": {},
   "outputs": [
    {
     "data": {
      "text/plain": [
       "112"
      ]
     },
     "execution_count": 160,
     "metadata": {},
     "output_type": "execute_result"
    }
   ],
   "source": [
    "Status = Status[:25] + Status[26:]\n",
    "len(Status)"
   ]
  },
  {
   "cell_type": "code",
   "execution_count": null,
   "id": "53e7ada0",
   "metadata": {},
   "outputs": [],
   "source": []
  }
 ],
 "metadata": {
  "kernelspec": {
   "display_name": "Python 3 (ipykernel)",
   "language": "python",
   "name": "python3"
  },
  "language_info": {
   "codemirror_mode": {
    "name": "ipython",
    "version": 3
   },
   "file_extension": ".py",
   "mimetype": "text/x-python",
   "name": "python",
   "nbconvert_exporter": "python",
   "pygments_lexer": "ipython3",
   "version": "3.11.3"
  }
 },
 "nbformat": 4,
 "nbformat_minor": 5
}
