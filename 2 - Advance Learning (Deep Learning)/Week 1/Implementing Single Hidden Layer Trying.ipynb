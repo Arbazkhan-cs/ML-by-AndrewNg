{
 "cells": [
  {
   "cell_type": "markdown",
   "id": "e82654c0",
   "metadata": {},
   "source": [
    "## Implementing Own Neural Network of One layer"
   ]
  },
  {
   "cell_type": "code",
   "execution_count": 1,
   "id": "d112a6f0",
   "metadata": {},
   "outputs": [],
   "source": [
    "import numpy as np\n",
    "import matplotlib.pyplot as plt"
   ]
  },
  {
   "cell_type": "code",
   "execution_count": 26,
   "id": "21bf748f",
   "metadata": {},
   "outputs": [],
   "source": [
    "def compute_cost(f_wb, y, m):\n",
    "    # Cost Function\n",
    "    cost = np.sum((f_wb - y)**2)\n",
    "    cost = (1/(2*m)) * cost\n",
    "    \n",
    "    return cost\n",
    "\n",
    "def gradient_descent(X, y, W, b, alpha, iteration):\n",
    "    m = len(X)\n",
    "    for i in range(iteration):\n",
    "        f_wb = np.dot(X, W) + b\n",
    "            \n",
    "        d_dw = (1/m) * np.sum((f_wb - y)*x)\n",
    "        d_db = (1/m) * np.sum(f_wb - y)\n",
    "        \n",
    "        W = W - alpha * d_dw\n",
    "        b = b - alpha * d_db\n",
    "        \n",
    "        cost = compute_cost(f_wb, y, m)\n",
    "        if(i%100 == 0):\n",
    "            print(f\"Iteration = {i}, Cost = {cost}\")\n",
    "    \n",
    "    return W, b"
   ]
  },
  {
   "cell_type": "code",
   "execution_count": 27,
   "id": "c54f4bfe",
   "metadata": {},
   "outputs": [],
   "source": [
    "x = np.array([1, 2, 3])\n",
    "y = np.array([1])"
   ]
  },
  {
   "cell_type": "code",
   "execution_count": 28,
   "id": "7d04ae86",
   "metadata": {},
   "outputs": [
    {
     "name": "stdout",
     "output_type": "stream",
     "text": [
      "Iteration = 0, Cost = 0.16666666666666666\n",
      "Iteration = 100, Cost = 6.148193162399489e-13\n",
      "Iteration = 200, Cost = 2.268180502168606e-24\n",
      "Iteration = 300, Cost = 3.2869204384208823e-32\n",
      "Iteration = 400, Cost = 3.2869204384208823e-32\n",
      "Iteration = 500, Cost = 3.2869204384208823e-32\n",
      "Iteration = 600, Cost = 3.2869204384208823e-32\n",
      "Iteration = 700, Cost = 3.2869204384208823e-32\n",
      "Iteration = 800, Cost = 3.2869204384208823e-32\n",
      "Iteration = 900, Cost = 3.2869204384208823e-32\n"
     ]
    },
    {
     "data": {
      "text/plain": [
       "(array([0.16216216, 0.16216216, 0.16216216]), 0.02702702702702714)"
      ]
     },
     "execution_count": 28,
     "metadata": {},
     "output_type": "execute_result"
    }
   ],
   "source": [
    "W = np.zeros(x.shape)\n",
    "b = 0\n",
    "alpha = 0.01\n",
    "iteration = 1000\n",
    "\n",
    "gradient_descent(x, y, W, b, alpha, iteration)"
   ]
  },
  {
   "cell_type": "code",
   "execution_count": 40,
   "id": "306d0341",
   "metadata": {},
   "outputs": [],
   "source": [
    "def neuron(x_vector, y):\n",
    "    W = 0\n",
    "    b = 0\n",
    "    alpha = 0.01\n",
    "    iteration = 1000\n",
    "    \n",
    "    return gradient_descent(x_vector, y, W, b, alpha, iteration)"
   ]
  },
  {
   "cell_type": "code",
   "execution_count": 58,
   "id": "0fa807ed",
   "metadata": {},
   "outputs": [
    {
     "name": "stdout",
     "output_type": "stream",
     "text": [
      "Iteration = 0, Cost = 0.8333333333333333\n",
      "Iteration = 100, Cost = 0.25307057897769697\n",
      "Iteration = 200, Cost = 0.23402006597495956\n",
      "Iteration = 300, Cost = 0.2164470686244524\n",
      "Iteration = 400, Cost = 0.20023811563598182\n",
      "Iteration = 500, Cost = 0.1852884075341159\n",
      "Iteration = 600, Cost = 0.17150115556888978\n",
      "Iteration = 700, Cost = 0.15878697096097638\n",
      "Iteration = 800, Cost = 0.1470633006514083\n",
      "Iteration = 900, Cost = 0.13625390601721413\n"
     ]
    },
    {
     "data": {
      "text/plain": [
       "(0.28814282451495504, -2.1798869075477594)"
      ]
     },
     "execution_count": 58,
     "metadata": {},
     "output_type": "execute_result"
    }
   ],
   "source": [
    "X_train = np.array([\n",
    "    [10, 12, 13],\n",
    "    [14, 15, 16],\n",
    "    [20, 21, 22],\n",
    "    [24, 25, 26]\n",
    "])\n",
    "y_train = np.array([[0, 1, 2], [3, 4, 5], [6, 7, 8], [9, 10, 11]])\n",
    "\n",
    "neuron(X_train[0], y_train[0])"
   ]
  },
  {
   "cell_type": "code",
   "execution_count": 59,
   "id": "2bae6e12",
   "metadata": {},
   "outputs": [
    {
     "name": "stdout",
     "output_type": "stream",
     "text": [
      "Iteration = 0, Cost = 0.8333333333333333\n",
      "Iteration = 100, Cost = 0.3102884000640256\n",
      "Iteration = 200, Cost = 0.2974851941745082\n",
      "Iteration = 300, Cost = 0.2852102777119095\n",
      "Iteration = 400, Cost = 0.27344185225160045\n",
      "Iteration = 500, Cost = 0.26215901882158543\n",
      "Iteration = 600, Cost = 0.2513417407890387\n",
      "Iteration = 700, Cost = 0.24097080827822698\n",
      "Iteration = 800, Cost = 0.23102780405662862\n",
      "Iteration = 900, Cost = 0.22149507082867104\n"
     ]
    },
    {
     "data": {
      "text/plain": [
       "(0.2577377930719008, -2.626464648171374)"
      ]
     },
     "execution_count": 59,
     "metadata": {},
     "output_type": "execute_result"
    }
   ],
   "source": [
    "neuron(X_train[1], y_train[0])"
   ]
  },
  {
   "cell_type": "code",
   "execution_count": 60,
   "id": "2e7eb93d",
   "metadata": {},
   "outputs": [
    {
     "name": "stdout",
     "output_type": "stream",
     "text": [
      "Iteration = 0, Cost = 0.8333333333333333\n",
      "Iteration = 100, Cost = 0.3305914461849144\n",
      "Iteration = 200, Cost = 0.32064543358277375\n",
      "Iteration = 300, Cost = 0.31099865185252545\n",
      "Iteration = 400, Cost = 0.30164209848047063\n",
      "Iteration = 500, Cost = 0.29256704179813686\n",
      "Iteration = 600, Cost = 0.2837650128337589\n",
      "Iteration = 700, Cost = 0.27522779740891545\n",
      "Iteration = 800, Cost = 0.26694742847294123\n",
      "Iteration = 900, Cost = 0.25891617866796046\n"
     ]
    },
    {
     "data": {
      "text/plain": [
       "(0.19379935129523274, -2.807209184256758)"
      ]
     },
     "execution_count": 60,
     "metadata": {},
     "output_type": "execute_result"
    }
   ],
   "source": [
    "neuron(X_train[2], y_train[0])"
   ]
  },
  {
   "cell_type": "code",
   "execution_count": 71,
   "id": "ed82cd63",
   "metadata": {},
   "outputs": [],
   "source": [
    "def layer(X, y, W, b, alpha, iteration):\n",
    "    W_mat = np.zeros(X.shape[0])\n",
    "    b_mat = np.zeros(X.shape[0])\n",
    "    for i in range(len(X)):\n",
    "        W_mat[i], b_mat[i] = gradient_descent(X[i], y[i], W[i], b, alpha, iteration)\n",
    "        print(\" \")\n",
    "    \n",
    "    print(f\"W_matrix = {W_mat}\\nb_matrix = {b_mat}\")"
   ]
  },
  {
   "cell_type": "code",
   "execution_count": 73,
   "id": "93629a05",
   "metadata": {},
   "outputs": [
    {
     "name": "stdout",
     "output_type": "stream",
     "text": [
      "Iteration = 0, Cost = 0.5\n",
      "Iteration = 100, Cost = 0.005175337931894234\n",
      "Iteration = 200, Cost = 0.00478180569891522\n",
      "Iteration = 300, Cost = 0.004418197621702676\n",
      "Iteration = 400, Cost = 0.004082238270126175\n",
      "Iteration = 500, Cost = 0.003771825237563864\n",
      "Iteration = 600, Cost = 0.0034850159842051394\n",
      "Iteration = 700, Cost = 0.0032200156807927083\n",
      "Iteration = 800, Cost = 0.0029751659767252863\n",
      "Iteration = 900, Cost = 0.0027489346222328466\n",
      " \n",
      "Iteration = 0, Cost = 0.5\n",
      "Iteration = 100, Cost = 0.0014779533942778267\n",
      "Iteration = 200, Cost = 0.0014169696720434614\n",
      "Iteration = 300, Cost = 0.0013585022770437423\n",
      "Iteration = 400, Cost = 0.0013024473798874813\n",
      "Iteration = 500, Cost = 0.0012487054354205903\n",
      "Iteration = 600, Cost = 0.001197181005948685\n",
      "Iteration = 700, Cost = 0.001147782591753961\n",
      "Iteration = 800, Cost = 0.00110042246860531\n",
      "Iteration = 900, Cost = 0.0010550165319731424\n",
      " \n",
      "Iteration = 0, Cost = 2.0\n",
      "Iteration = 100, Cost = 0.0031489625201456127\n",
      "Iteration = 200, Cost = 0.003054224373498255\n",
      "Iteration = 300, Cost = 0.002962336472407214\n",
      "Iteration = 400, Cost = 0.0028732130657784204\n",
      "Iteration = 500, Cost = 0.0027867709823831783\n",
      "Iteration = 600, Cost = 0.0027029295532417863\n",
      "Iteration = 700, Cost = 0.0026216105363419864\n",
      "Iteration = 800, Cost = 0.002542738043622449\n",
      "Iteration = 900, Cost = 0.0024662384701529486\n",
      " \n",
      "Iteration = 0, Cost = 4.5\n",
      "Iteration = 100, Cost = 0.00508797032571901\n",
      "Iteration = 200, Cost = 0.004958307378542375\n",
      "Iteration = 300, Cost = 0.004831948790234698\n",
      "Iteration = 400, Cost = 0.0047088103517926964\n",
      "Iteration = 500, Cost = 0.004588810000213802\n",
      "Iteration = 600, Cost = 0.004471867763806979\n",
      "Iteration = 700, Cost = 0.004357905708897124\n",
      "Iteration = 800, Cost = 0.004246847887888018\n",
      "Iteration = 900, Cost = 0.004138620288648523\n",
      " \n",
      "W_matrix = [0.05332875 0.05122771 0.07868303 0.10211798]\n",
      "b_matrix = [0.35222112 0.21504803 0.32202951 0.41367014]\n"
     ]
    }
   ],
   "source": [
    "X_train = np.array([\n",
    "    [10, 12, 13],\n",
    "    [14, 15, 16],\n",
    "    [20, 21, 22],\n",
    "    [24, 25, 26]\n",
    "])\n",
    "y_train = np.array([1, 1, 2, 3])\n",
    "W = np.zeros(X_train.shape[0])\n",
    "b = 0\n",
    "alpha = 0.01\n",
    "iteration = 1000\n",
    "\n",
    "layer(X_train, y_train, W, b, alpha, iteration)"
   ]
  },
  {
   "cell_type": "code",
   "execution_count": 93,
   "id": "71d82051",
   "metadata": {},
   "outputs": [],
   "source": [
    "def compute_cost(f_wb, y, m):\n",
    "    # Cost Function\n",
    "    cost = np.sum((f_wb - y)**2)\n",
    "    cost = (1/(2*m)) * cost\n",
    "    \n",
    "    return cost\n",
    "\n",
    "def gradient_descent(X, y, W, b, alpha, iteration):\n",
    "    m = len(X)\n",
    "    for i in range(iteration):\n",
    "        f_wb = np.dot(X, W) + b\n",
    "            \n",
    "        d_dw = (1/m) * np.sum((f_wb - y)*x)\n",
    "        d_db = (1/m) * np.sum(f_wb - y)\n",
    "        \n",
    "        W = W - alpha * d_dw\n",
    "        b = b - alpha * d_db\n",
    "        \n",
    "        cost = compute_cost(f_wb, y, m)\n",
    "        if(i%100 == 0):\n",
    "            print(f\"Iteration = {i}, Cost = {cost}\")\n",
    "    \n",
    "    return W, b\n",
    "\n",
    "def Hiddenlayer(X, y, W, b, alpha, iteration):\n",
    "    new_arr = np.zeros(X.shape[0])\n",
    "    \n",
    "    for i in range(len(X)):\n",
    "        W_mat, b_mat = gradient_descent(X[i], y[i], W[i], b, alpha, iteration)\n",
    "        new_arr[i] = np.dot(W_mat, X[i]) + b_mat\n",
    "        print(W_mat)\n",
    "        print(b_mat)\n",
    "        print(X[i])\n",
    "        print(\" \")\n",
    "    \n",
    "    print(f\"new_arr = {new_arr}\")\n",
    "    return new_arr\n",
    "    \n",
    "# def OutputLayer(X, W_mat, b_mat):\n",
    "#     new_arr = np.zeros(W_mat.shape[0])\n",
    "#     for i in range(len(W_mat)):\n",
    "#         new_arr[i] = np.dot()"
   ]
  },
  {
   "cell_type": "code",
   "execution_count": 94,
   "id": "3e55ad31",
   "metadata": {},
   "outputs": [
    {
     "name": "stdout",
     "output_type": "stream",
     "text": [
      "Iteration = 0, Cost = 0.5\n",
      "Iteration = 100, Cost = 0.005175337931894234\n",
      "Iteration = 200, Cost = 0.00478180569891522\n",
      "Iteration = 300, Cost = 0.004418197621702676\n",
      "Iteration = 400, Cost = 0.004082238270126175\n",
      "Iteration = 500, Cost = 0.003771825237563864\n",
      "Iteration = 600, Cost = 0.0034850159842051394\n",
      "Iteration = 700, Cost = 0.0032200156807927083\n",
      "Iteration = 800, Cost = 0.0029751659767252863\n",
      "Iteration = 900, Cost = 0.0027489346222328466\n"
     ]
    },
    {
     "ename": "ValueError",
     "evalue": "setting an array element with a sequence.",
     "output_type": "error",
     "traceback": [
      "\u001b[1;31m---------------------------------------------------------------------------\u001b[0m",
      "\u001b[1;31mTypeError\u001b[0m                                 Traceback (most recent call last)",
      "\u001b[1;31mTypeError\u001b[0m: only size-1 arrays can be converted to Python scalars",
      "\nThe above exception was the direct cause of the following exception:\n",
      "\u001b[1;31mValueError\u001b[0m                                Traceback (most recent call last)",
      "Cell \u001b[1;32mIn[94], line 13\u001b[0m\n\u001b[0;32m     10\u001b[0m alpha \u001b[38;5;241m=\u001b[39m \u001b[38;5;241m0.01\u001b[39m\n\u001b[0;32m     11\u001b[0m iteration \u001b[38;5;241m=\u001b[39m \u001b[38;5;241m1000\u001b[39m\n\u001b[1;32m---> 13\u001b[0m a \u001b[38;5;241m=\u001b[39m Hiddenlayer(X_train, y_train, W, b, alpha, iteration)\n\u001b[0;32m     14\u001b[0m a\n",
      "Cell \u001b[1;32mIn[93], line 30\u001b[0m, in \u001b[0;36mHiddenlayer\u001b[1;34m(X, y, W, b, alpha, iteration)\u001b[0m\n\u001b[0;32m     28\u001b[0m \u001b[38;5;28;01mfor\u001b[39;00m i \u001b[38;5;129;01min\u001b[39;00m \u001b[38;5;28mrange\u001b[39m(\u001b[38;5;28mlen\u001b[39m(X)):\n\u001b[0;32m     29\u001b[0m     W_mat, b_mat \u001b[38;5;241m=\u001b[39m gradient_descent(X[i], y[i], W[i], b, alpha, iteration)\n\u001b[1;32m---> 30\u001b[0m     new_arr[i] \u001b[38;5;241m=\u001b[39m np\u001b[38;5;241m.\u001b[39mdot(W_mat, X[i]) \u001b[38;5;241m+\u001b[39m b_mat\n\u001b[0;32m     31\u001b[0m     \u001b[38;5;28mprint\u001b[39m(W_mat)\n\u001b[0;32m     32\u001b[0m     \u001b[38;5;28mprint\u001b[39m(b_mat)\n",
      "\u001b[1;31mValueError\u001b[0m: setting an array element with a sequence."
     ]
    }
   ],
   "source": [
    "X_train = np.array([\n",
    "    [10, 12, 13],\n",
    "    [14, 15, 16],\n",
    "    [20, 21, 22],\n",
    "    [24, 25, 26]\n",
    "])\n",
    "y_train = np.array([1, 1, 2, 3])\n",
    "W = np.zeros(X_train.shape[0])\n",
    "b = 0\n",
    "alpha = 0.01\n",
    "iteration = 1000\n",
    "\n",
    "a = Hiddenlayer(X_train, y_train, W, b, alpha, iteration)\n",
    "a\n",
    "# OutputLayer(W_mat, b_mat, W, b, alpha, iteration)"
   ]
  },
  {
   "cell_type": "code",
   "execution_count": null,
   "id": "92fcec39",
   "metadata": {},
   "outputs": [],
   "source": [
    "OutputLayer(W_mat, b_mat)"
   ]
  }
 ],
 "metadata": {
  "kernelspec": {
   "display_name": "Python 3 (ipykernel)",
   "language": "python",
   "name": "python3"
  },
  "language_info": {
   "codemirror_mode": {
    "name": "ipython",
    "version": 3
   },
   "file_extension": ".py",
   "mimetype": "text/x-python",
   "name": "python",
   "nbconvert_exporter": "python",
   "pygments_lexer": "ipython3",
   "version": "3.11.3"
  }
 },
 "nbformat": 4,
 "nbformat_minor": 5
}
