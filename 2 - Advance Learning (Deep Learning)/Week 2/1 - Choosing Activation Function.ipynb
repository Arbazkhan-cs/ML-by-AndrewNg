{
 "cells": [
  {
   "cell_type": "markdown",
   "id": "fad6d7b8",
   "metadata": {},
   "source": [
    "# Choosing Activation Function"
   ]
  },
  {
   "cell_type": "code",
   "execution_count": 58,
   "id": "582b4c5d",
   "metadata": {},
   "outputs": [],
   "source": [
    "import numpy as np\n",
    "import matplotlib.pyplot as plt\n",
    "from sklearn.datasets import load_digits\n",
    "\n",
    "import tensorflow as tf\n",
    "from tensorflow.keras.layers import Input, Dense, Flatten\n",
    "from tensorflow.keras import Sequential"
   ]
  },
  {
   "cell_type": "markdown",
   "id": "f31adb12",
   "metadata": {},
   "source": [
    "## Random DataSet"
   ]
  },
  {
   "cell_type": "code",
   "execution_count": 60,
   "id": "35721a7b",
   "metadata": {},
   "outputs": [],
   "source": [
    "data = load_digits(n_class=2)"
   ]
  },
  {
   "cell_type": "code",
   "execution_count": 62,
   "id": "58f280c3",
   "metadata": {},
   "outputs": [],
   "source": [
    "X_train, Y_train = data[\"data\"], data[\"target\"]"
   ]
  },
  {
   "cell_type": "code",
   "execution_count": 64,
   "id": "a2bda17c",
   "metadata": {},
   "outputs": [
    {
     "data": {
      "text/plain": [
       "(array([ 0.,  0.,  5., 13.,  9.,  1.,  0.,  0.,  0.,  0., 13., 15., 10.,\n",
       "        15.,  5.,  0.,  0.,  3., 15.,  2.,  0., 11.,  8.,  0.,  0.,  4.,\n",
       "        12.,  0.,  0.,  8.,  8.,  0.,  0.,  5.,  8.,  0.,  0.,  9.,  8.,\n",
       "         0.,  0.,  4., 11.,  0.,  1., 12.,  7.,  0.,  0.,  2., 14.,  5.,\n",
       "        10., 12.,  0.,  0.,  0.,  0.,  6., 13., 10.,  0.,  0.,  0.]),\n",
       " array([0, 1, 0, 1, 0, 1, 0, 0, 1, 1]))"
      ]
     },
     "execution_count": 64,
     "metadata": {},
     "output_type": "execute_result"
    }
   ],
   "source": [
    "X_train[0], Y_train[:10]"
   ]
  },
  {
   "cell_type": "code",
   "execution_count": 65,
   "id": "ab07c183",
   "metadata": {},
   "outputs": [
    {
     "data": {
      "text/plain": [
       "((360, 64), (360,))"
      ]
     },
     "execution_count": 65,
     "metadata": {},
     "output_type": "execute_result"
    }
   ],
   "source": [
    "X_train.shape, Y_train.shape"
   ]
  },
  {
   "cell_type": "markdown",
   "id": "38dd9462",
   "metadata": {},
   "source": [
    "## Normalize the dataset"
   ]
  },
  {
   "cell_type": "code",
   "execution_count": 66,
   "id": "1f9f6be0",
   "metadata": {},
   "outputs": [],
   "source": [
    "def normalize(data):\n",
    "    return (data-np.mean(data))/np.std(data)"
   ]
  },
  {
   "cell_type": "code",
   "execution_count": 67,
   "id": "df2828fa",
   "metadata": {},
   "outputs": [],
   "source": [
    "X_norm = normalize(X_train)"
   ]
  },
  {
   "cell_type": "code",
   "execution_count": 68,
   "id": "2e2ec11f",
   "metadata": {},
   "outputs": [
    {
     "data": {
      "text/plain": [
       "(360, 64)"
      ]
     },
     "execution_count": 68,
     "metadata": {},
     "output_type": "execute_result"
    }
   ],
   "source": [
    "X_norm.shape"
   ]
  },
  {
   "cell_type": "markdown",
   "id": "a03251a4",
   "metadata": {},
   "source": [
    "## Choosing Activation Function for Output Layer"
   ]
  },
  {
   "cell_type": "markdown",
   "id": "ff0dee13",
   "metadata": {},
   "source": [
    "<pre>\n",
    "To choose activation function for output layer is depend upone our Y_train data set. \n",
    "i.e, it depend on how many classes Y_train have, for example - \n",
    "    -> if we have <b>2 classes (1 and 0)</b> the we can use <b>sigmoid activation</b> function, \n",
    "    \n",
    "    -> but if we have <b>linear classes (any number -0.9, 746.9, -27.4, ...)</b> then we can use <b>linear activation</b> or\n",
    "    \n",
    "    -> if we have <b>infinite number</b> of classes such as linear classes but we having only <b>positive numbers (number>=0)</b> then we can use <b>RelU activation</b> function and\n",
    "    \n",
    "    -> if we have <b>multiple finite classes (0 - 9 classes)</b> then we can use <b>softmax activation</b> function. \n",
    "</pre>"
   ]
  },
  {
   "cell_type": "markdown",
   "id": "c1e8e1a4",
   "metadata": {},
   "source": [
    "<img src=\"./notes/chossing right activation function for output layer.png\">"
   ]
  },
  {
   "cell_type": "markdown",
   "id": "8b91dfd7",
   "metadata": {},
   "source": [
    "So according to current problem we are going to use <b>Sigmoid Activation</b> function As we have only 2 classes (0 and 1)"
   ]
  },
  {
   "cell_type": "markdown",
   "id": "9b14642c",
   "metadata": {},
   "source": [
    "## Choosing Activation Function for Hidden Layers"
   ]
  },
  {
   "cell_type": "markdown",
   "id": "47dc8d39",
   "metadata": {},
   "source": [
    "To choose activation function for Hidden layer, we can try different - different function and then choose the most optimize  function. But most of the peoples suggest to use <b>reLU activation</b> as a hidden layer because it gives more accurate result."
   ]
  },
  {
   "cell_type": "markdown",
   "id": "0116b0c3",
   "metadata": {},
   "source": [
    "<img src=\"./notes/chossing right activation function for hidden layers.png\">"
   ]
  },
  {
   "cell_type": "code",
   "execution_count": 82,
   "id": "f526b51e",
   "metadata": {},
   "outputs": [],
   "source": [
    "model = Sequential([\n",
    "    Input(64),\n",
    "    Dense(25, activation='relu', name=\"HiddenLayer1\"),  # ReLU for hidden layer\n",
    "    Dense(15, activation='relu', name=\"HiddenLayer2\"),\n",
    "    Dense(1, activation='sigmoid', name=\"OuputLayer\")   # Sigmoid for output layer\n",
    "])"
   ]
  },
  {
   "cell_type": "code",
   "execution_count": 83,
   "id": "8ae944a0",
   "metadata": {},
   "outputs": [
    {
     "name": "stdout",
     "output_type": "stream",
     "text": [
      "Model: \"sequential_4\"\n",
      "_________________________________________________________________\n",
      " Layer (type)                Output Shape              Param #   \n",
      "=================================================================\n",
      " HiddenLayer1 (Dense)        (None, 25)                1625      \n",
      "                                                                 \n",
      " HiddenLayer2 (Dense)        (None, 15)                390       \n",
      "                                                                 \n",
      " OuputLayer (Dense)          (None, 1)                 16        \n",
      "                                                                 \n",
      "=================================================================\n",
      "Total params: 2031 (7.93 KB)\n",
      "Trainable params: 2031 (7.93 KB)\n",
      "Non-trainable params: 0 (0.00 Byte)\n",
      "_________________________________________________________________\n"
     ]
    }
   ],
   "source": [
    "model.summary()"
   ]
  },
  {
   "cell_type": "code",
   "execution_count": 84,
   "id": "ea795563",
   "metadata": {},
   "outputs": [],
   "source": [
    "model.compile(\n",
    "    loss = tf.keras.losses.BinaryCrossentropy(),\n",
    "    optimizer = tf.keras.optimizers.Adam(),\n",
    "    metrics = [\"accuracy\"]\n",
    ")"
   ]
  },
  {
   "cell_type": "code",
   "execution_count": 85,
   "id": "52d10351",
   "metadata": {},
   "outputs": [
    {
     "name": "stdout",
     "output_type": "stream",
     "text": [
      "Epoch 1/10\n",
      "12/12 [==============================] - 2s 4ms/step - loss: 0.5231 - accuracy: 0.7472\n",
      "Epoch 2/10\n",
      "12/12 [==============================] - 0s 4ms/step - loss: 0.2904 - accuracy: 0.9667\n",
      "Epoch 3/10\n",
      "12/12 [==============================] - 0s 5ms/step - loss: 0.1398 - accuracy: 0.9972\n",
      "Epoch 4/10\n",
      "12/12 [==============================] - 0s 6ms/step - loss: 0.0702 - accuracy: 0.9944\n",
      "Epoch 5/10\n",
      "12/12 [==============================] - 0s 6ms/step - loss: 0.0413 - accuracy: 1.0000\n",
      "Epoch 6/10\n",
      "12/12 [==============================] - 0s 6ms/step - loss: 0.0279 - accuracy: 1.0000\n",
      "Epoch 7/10\n",
      "12/12 [==============================] - 0s 4ms/step - loss: 0.0207 - accuracy: 1.0000\n",
      "Epoch 8/10\n",
      "12/12 [==============================] - 0s 5ms/step - loss: 0.0164 - accuracy: 1.0000\n",
      "Epoch 9/10\n",
      "12/12 [==============================] - 0s 4ms/step - loss: 0.0132 - accuracy: 1.0000\n",
      "Epoch 10/10\n",
      "12/12 [==============================] - 0s 5ms/step - loss: 0.0109 - accuracy: 1.0000\n"
     ]
    },
    {
     "data": {
      "text/plain": [
       "<keras.src.callbacks.History at 0x21e03ef2b50>"
      ]
     },
     "execution_count": 85,
     "metadata": {},
     "output_type": "execute_result"
    }
   ],
   "source": [
    "model.fit(X_norm, Y_train, epochs=10)"
   ]
  },
  {
   "cell_type": "markdown",
   "id": "53e1f08c",
   "metadata": {},
   "source": [
    "## Prediction"
   ]
  },
  {
   "cell_type": "code",
   "execution_count": 86,
   "id": "9fa0096b",
   "metadata": {},
   "outputs": [
    {
     "name": "stdout",
     "output_type": "stream",
     "text": [
      "12/12 [==============================] - 0s 2ms/step\n"
     ]
    }
   ],
   "source": [
    "prediction = model.predict(X_train)"
   ]
  },
  {
   "cell_type": "code",
   "execution_count": 91,
   "id": "cd6ad6e9",
   "metadata": {},
   "outputs": [
    {
     "name": "stdout",
     "output_type": "stream",
     "text": [
      "0 1 0 1 0 1 0 0 1 1 "
     ]
    }
   ],
   "source": [
    "for i in prediction[:10]:\n",
    "    if(i > 0.5):\n",
    "        print(1, end=\" \")\n",
    "    else:\n",
    "        print(0, end=\" \")"
   ]
  },
  {
   "cell_type": "code",
   "execution_count": 92,
   "id": "a62c2b96",
   "metadata": {},
   "outputs": [
    {
     "data": {
      "text/plain": [
       "array([0, 1, 0, 1, 0, 1, 0, 0, 1, 1])"
      ]
     },
     "execution_count": 92,
     "metadata": {},
     "output_type": "execute_result"
    }
   ],
   "source": [
    "Y_train[:10]"
   ]
  }
 ],
 "metadata": {
  "kernelspec": {
   "display_name": "Python 3 (ipykernel)",
   "language": "python",
   "name": "python3"
  },
  "language_info": {
   "codemirror_mode": {
    "name": "ipython",
    "version": 3
   },
   "file_extension": ".py",
   "mimetype": "text/x-python",
   "name": "python",
   "nbconvert_exporter": "python",
   "pygments_lexer": "ipython3",
   "version": "3.11.3"
  }
 },
 "nbformat": 4,
 "nbformat_minor": 5
}
