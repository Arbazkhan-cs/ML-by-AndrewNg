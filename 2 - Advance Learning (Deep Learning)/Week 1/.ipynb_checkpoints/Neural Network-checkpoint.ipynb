{
 "cells": [
  {
   "cell_type": "markdown",
   "id": "e82654c0",
   "metadata": {},
   "source": [
    "## Implementing Own Neural Network of One layer"
   ]
  },
  {
   "cell_type": "code",
   "execution_count": 1,
   "id": "d112a6f0",
   "metadata": {},
   "outputs": [],
   "source": [
    "import numpy as np\n",
    "import matplotlib.pyplot as plt\n",
    "import random"
   ]
  },
  {
   "cell_type": "code",
   "execution_count": 52,
   "id": "1f0a0409",
   "metadata": {},
   "outputs": [],
   "source": [
    "def Dense(input_, n):\n",
    "    Weights = []\n",
    "    biases = []\n",
    "    for i in range(n):\n",
    "        W = []\n",
    "        for j in range(len(input_)):\n",
    "            W.append(random.random())          \n",
    "        Weights.append(W)\n",
    "        biases.append(random.random())\n",
    "    \n",
    "    output = np.dot(Weights, input_) + biases\n",
    "    return output"
   ]
  },
  {
   "cell_type": "code",
   "execution_count": 53,
   "id": "7d66d0e1",
   "metadata": {},
   "outputs": [
    {
     "name": "stdout",
     "output_type": "stream",
     "text": [
      "Output = [3.89641915 4.57931322 4.01363247]\n"
     ]
    }
   ],
   "source": [
    "_input = np.array([1, 2, 3, 2.5])\n",
    "output = Dense(_input, 3)\n",
    "\n",
    "print(f\"Output = {output}\")"
   ]
  },
  {
   "cell_type": "code",
   "execution_count": 54,
   "id": "414da2e6",
   "metadata": {},
   "outputs": [
    {
     "data": {
      "text/plain": [
       "array([23.53517053])"
      ]
     },
     "execution_count": 54,
     "metadata": {},
     "output_type": "execute_result"
    }
   ],
   "source": [
    "a1 = Dense(_input, 3) # First Hidden Layer\n",
    "a2 = Dense(a1, 4)  # second Hidden Layer\n",
    "a3 = Dense(a2, 3)  # Third Hidden Layer\n",
    "output = Dense(a3, 1)  # Output Layer\n",
    "\n",
    "output"
   ]
  },
  {
   "cell_type": "code",
   "execution_count": null,
   "id": "0397fcd9",
   "metadata": {},
   "outputs": [],
   "source": []
  }
 ],
 "metadata": {
  "kernelspec": {
   "display_name": "Python 3 (ipykernel)",
   "language": "python",
   "name": "python3"
  },
  "language_info": {
   "codemirror_mode": {
    "name": "ipython",
    "version": 3
   },
   "file_extension": ".py",
   "mimetype": "text/x-python",
   "name": "python",
   "nbconvert_exporter": "python",
   "pygments_lexer": "ipython3",
   "version": "3.11.3"
  }
 },
 "nbformat": 4,
 "nbformat_minor": 5
}
