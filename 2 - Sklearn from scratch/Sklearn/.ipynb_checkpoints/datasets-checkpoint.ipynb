{
 "cells": [
  {
   "cell_type": "code",
   "execution_count": 1,
   "id": "7ce26690",
   "metadata": {},
   "outputs": [],
   "source": [
    "import numpy as np\n",
    "\n",
    "def generate_dataset(self, num_samples=100, num_features=1, noise=0.1):\n",
    "        # Generate random features\n",
    "        X = np.random.rand(num_samples, num_features)\n",
    "\n",
    "        # Generate true coefficients for the linear model\n",
    "        true_coefficients = np.random.rand(num_features)\n",
    "\n",
    "        # Generate target variable with noise\n",
    "        y = np.dot(X, true_coefficients) + np.random.normal(0, noise, num_samples)\n",
    "\n",
    "        return X, y"
   ]
  }
 ],
 "metadata": {
  "kernelspec": {
   "display_name": "Python 3 (ipykernel)",
   "language": "python",
   "name": "python3"
  },
  "language_info": {
   "codemirror_mode": {
    "name": "ipython",
    "version": 3
   },
   "file_extension": ".py",
   "mimetype": "text/x-python",
   "name": "python",
   "nbconvert_exporter": "python",
   "pygments_lexer": "ipython3",
   "version": "3.11.3"
  }
 },
 "nbformat": 4,
 "nbformat_minor": 5
}
