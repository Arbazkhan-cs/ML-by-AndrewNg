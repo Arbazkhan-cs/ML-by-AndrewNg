{
 "cells": [
  {
   "cell_type": "markdown",
   "id": "571c2804",
   "metadata": {},
   "source": [
    "## Cost function Implementation"
   ]
  },
  {
   "cell_type": "code",
   "execution_count": 1,
   "id": "a33cc9b8",
   "metadata": {},
   "outputs": [],
   "source": [
    "import numpy as np"
   ]
  },
  {
   "cell_type": "code",
   "execution_count": 2,
   "id": "9f46ca52",
   "metadata": {},
   "outputs": [
    {
     "name": "stdout",
     "output_type": "stream",
     "text": [
      "x = [1. 2.]\n",
      "y = [300 500]\n"
     ]
    }
   ],
   "source": [
    "x_train = np.array([1.0, 2.0])  # size in 1000 sq_feet\n",
    "y_train = np.array([300, 500])  # price in $1000's\n",
    "\n",
    "print(f\"x = {x_train}\")\n",
    "print(f\"y = {y_train}\")"
   ]
  },
  {
   "cell_type": "code",
   "execution_count": 5,
   "id": "0fc984e3",
   "metadata": {},
   "outputs": [],
   "source": [
    "# Cost Function\n",
    "def compute_cost(x, y, w, b):\n",
    "    \"\"\"\n",
    "    Computes the cost function for linear regression.\n",
    "    \n",
    "    Args:\n",
    "      x (ndarray (m,)): Data, m examples \n",
    "      y (ndarray (m,)): target values\n",
    "      w,b (scalar)    : model parameters  \n",
    "    \n",
    "    Returns\n",
    "        total_cost (float): The cost of using w,b as the parameters for linear regression\n",
    "               to fit the data points in x and y\n",
    "    \"\"\"\n",
    "    m = len(x)\n",
    "    cost = 0\n",
    "    for i in range(m):\n",
    "        f_wb = w * x[i] + b\n",
    "        cost += (f_wb - y[i])**2\n",
    "        \n",
    "    cost = (1 / (2 * m)) * cost\n",
    "    return cost"
   ]
  },
  {
   "cell_type": "code",
   "execution_count": 6,
   "id": "b7c609b2",
   "metadata": {},
   "outputs": [
    {
     "name": "stdout",
     "output_type": "stream",
     "text": [
      "Cost when w = 100 and b = 100: 12500.0\n"
     ]
    }
   ],
   "source": [
    "w = 100\n",
    "b = 100\n",
    "cost = compute_cost(x_train, y_train, w, b)\n",
    "\n",
    "print(f\"Cost when w = {w} and b = {b}: {cost}\")"
   ]
  },
  {
   "cell_type": "code",
   "execution_count": 7,
   "id": "527a9518",
   "metadata": {},
   "outputs": [
    {
     "name": "stdout",
     "output_type": "stream",
     "text": [
      "Cost when w = 200 and b = 100: 0.0\n"
     ]
    }
   ],
   "source": [
    "w = 200\n",
    "b = 100\n",
    "cost = compute_cost(x_train, y_train, w, b)\n",
    "\n",
    "print(f\"Cost when w = {w} and b = {b}: {cost}\")"
   ]
  },
  {
   "cell_type": "markdown",
   "id": "56ebbebe",
   "metadata": {},
   "source": [
    "So above we can see that when w = 200 and b = 100, we get 0.0 cost => the weight and bias are correct for out given data set"
   ]
  },
  {
   "cell_type": "markdown",
   "id": "42e03f5c",
   "metadata": {},
   "source": [
    "### By Numpy Methods"
   ]
  },
  {
   "cell_type": "code",
   "execution_count": 27,
   "id": "9d8bce42",
   "metadata": {},
   "outputs": [],
   "source": [
    "def compute_cost_numpy(x, y, w, b):\n",
    "    # number of exmaples\n",
    "    m = len(x_train)\n",
    "    \n",
    "    # function f\n",
    "    f_wb = np.dot(w, x_train) + b\n",
    "\n",
    "    # Cost Function\n",
    "    cost = np.sum((f_wb - y_train)**2)\n",
    "    cost = (1/(2*m)) * cost\n",
    "    \n",
    "    return cost"
   ]
  },
  {
   "cell_type": "code",
   "execution_count": 28,
   "id": "abb0b940",
   "metadata": {},
   "outputs": [
    {
     "name": "stdout",
     "output_type": "stream",
     "text": [
      "Cost when w = 100 and b = 100: 12500.0\n"
     ]
    }
   ],
   "source": [
    "w = 100\n",
    "b = 100\n",
    "cost = compute_cost_numpy(x_train, y_train, w, b)\n",
    "\n",
    "print(f\"Cost when w = {w} and b = {b}: {cost}\")"
   ]
  },
  {
   "cell_type": "code",
   "execution_count": 29,
   "id": "b082dd57",
   "metadata": {},
   "outputs": [
    {
     "name": "stdout",
     "output_type": "stream",
     "text": [
      "Cost when w = 200 and b = 100: 0.0\n"
     ]
    }
   ],
   "source": [
    "w = 200\n",
    "b = 100\n",
    "cost = compute_cost(x_train, y_train, w, b)\n",
    "\n",
    "print(f\"Cost when w = {w} and b = {b}: {cost}\")"
   ]
  },
  {
   "cell_type": "markdown",
   "id": "c70701da",
   "metadata": {},
   "source": [
    "Above we can see that we can compute the cost by using inbuilt numpy function which is more efficent and effective"
   ]
  }
 ],
 "metadata": {
  "kernelspec": {
   "display_name": "Python 3 (ipykernel)",
   "language": "python",
   "name": "python3"
  },
  "language_info": {
   "codemirror_mode": {
    "name": "ipython",
    "version": 3
   },
   "file_extension": ".py",
   "mimetype": "text/x-python",
   "name": "python",
   "nbconvert_exporter": "python",
   "pygments_lexer": "ipython3",
   "version": "3.11.3"
  }
 },
 "nbformat": 4,
 "nbformat_minor": 5
}
