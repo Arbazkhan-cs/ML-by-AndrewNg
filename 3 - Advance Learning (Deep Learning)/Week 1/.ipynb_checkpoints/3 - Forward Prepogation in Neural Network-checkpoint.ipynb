{
 "cells": [
  {
   "cell_type": "markdown",
   "id": "1fd1ac1d",
   "metadata": {},
   "source": [
    "## Dense Layer Implementation"
   ]
  },
  {
   "cell_type": "code",
   "execution_count": 1,
   "id": "1ffa53b8",
   "metadata": {},
   "outputs": [],
   "source": [
    "import numpy as np\n",
    "import random"
   ]
  },
  {
   "cell_type": "code",
   "execution_count": 62,
   "id": "94c6e11f",
   "metadata": {},
   "outputs": [],
   "source": [
    "def sigmoid(z):\n",
    "    return 1/(1+np.exp(-z))\n",
    "\n",
    "def Dense(input_, units, activation):\n",
    "    Weights = []\n",
    "    biases = []\n",
    "    for i in range(units):\n",
    "        W = []\n",
    "        for j in range(len(input_)):\n",
    "            W.append(random.random())          \n",
    "        Weights.append(W)\n",
    "        biases.append(random.random())\n",
    "        \n",
    "    f_wb = np.dot(Weights, input_) + biases\n",
    "    \n",
    "    if activation == \"sigmoid\":\n",
    "        output = sigmoid(f_wb)\n",
    "        \n",
    "    elif activation == \"linear\":\n",
    "        output = f_wb\n",
    "    \n",
    "    else:\n",
    "        print(\"Invalid activation function!!!\")\n",
    "        return -1\n",
    "        \n",
    "    return output"
   ]
  },
  {
   "cell_type": "code",
   "execution_count": 71,
   "id": "13ac2389",
   "metadata": {},
   "outputs": [
    {
     "data": {
      "text/plain": [
       "array([0.72662395, 0.73029651])"
      ]
     },
     "execution_count": 71,
     "metadata": {},
     "output_type": "execute_result"
    }
   ],
   "source": [
    "X_train = np.array([0.2, 0.7])\n",
    "Dense(input_=X_train, units=2, activation=\"sigmoid\")"
   ]
  },
  {
   "cell_type": "code",
   "execution_count": 72,
   "id": "342709d4",
   "metadata": {},
   "outputs": [
    {
     "name": "stdout",
     "output_type": "stream",
     "text": [
      "[0.96744061]\n"
     ]
    }
   ],
   "source": [
    "X_train = np.array([217, 65.32])\n",
    "a1 = Dense(X_train, units=4, activation=\"sigmoid\")\n",
    "a2 = Dense(a1, units=6, activation=\"sigmoid\")\n",
    "a3 = Dense(a2, units=6, activation=\"sigmoid\")\n",
    "a_out = Dense(a3, units=1, activation=\"sigmoid\")\n",
    "print(a_out)"
   ]
  },
  {
   "cell_type": "code",
   "execution_count": null,
   "id": "e32fce93",
   "metadata": {},
   "outputs": [],
   "source": []
  }
 ],
 "metadata": {
  "kernelspec": {
   "display_name": "Python 3 (ipykernel)",
   "language": "python",
   "name": "python3"
  },
  "language_info": {
   "codemirror_mode": {
    "name": "ipython",
    "version": 3
   },
   "file_extension": ".py",
   "mimetype": "text/x-python",
   "name": "python",
   "nbconvert_exporter": "python",
   "pygments_lexer": "ipython3",
   "version": "3.11.3"
  }
 },
 "nbformat": 4,
 "nbformat_minor": 5
}
