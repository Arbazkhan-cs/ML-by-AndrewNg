{
 "cells": [
  {
   "cell_type": "markdown",
   "id": "b266b98c",
   "metadata": {},
   "source": [
    "# Creating app using tkinter"
   ]
  },
  {
   "cell_type": "code",
   "execution_count": 1,
   "id": "37df8461",
   "metadata": {},
   "outputs": [],
   "source": [
    "from keras.models import load_model\n",
    "import cv2\n",
    "import numpy as np\n",
    "import os\n",
    "\n",
    "from PIL import ImageTk, Image, ImageDraw\n",
    "import PIL\n",
    "from PIL import ImageOps\n",
    "import tkinter as tk\n",
    "from tkinter import *\n",
    "import matplotlib.pyplot as plt"
   ]
  },
  {
   "cell_type": "code",
   "execution_count": 32,
   "id": "ad51c181",
   "metadata": {},
   "outputs": [
    {
     "name": "stdout",
     "output_type": "stream",
     "text": [
      "AxesImage(size=(28, 28))\n",
      "1/1 [==============================] - 0s 122ms/step\n",
      "Predicted class: 2\n",
      "Chances of Being:[2.226384354653277e-11->1], [1.0->2]\n"
     ]
    },
    {
     "data": {
      "image/png": "[encoded data removed]",
      "text/plain": [
       "<Figure size 640x480 with 1 Axes>"
      ]
     },
     "metadata": {},
     "output_type": "display_data"
    }
   ],
   "source": [
    "# Define the paint function to draw on the canvas\n",
    "def paint(event):\n",
    "    # Adjust coordinates for oval and line\n",
    "    x1, y1 = (event.x - 10), (event.y - 10)\n",
    "    x2, y2 = (event.x + 10), (event.y + 10)\n",
    "    # Create oval with black color and width of 10\n",
    "    cv.create_oval(x1, y1, x2, y2, fill=\"black\", width=10)\n",
    "    # Draw line with black color and width of 10\n",
    "    draw.line([x1, y1, x2, y2], fill=\"black\", width=10)\n",
    "    \n",
    "# Define the model function to make predictions\n",
    "def model():\n",
    "    # Load the model\n",
    "    loaded_model = load_model('my_model.keras')\n",
    "    # Save the drawn image to a file\n",
    "    filename = \"image.png\"\n",
    "    image1.save(filename)\n",
    "    \n",
    "    # Load image with OpenCV\n",
    "    img = cv2.imread(filename, cv2.IMREAD_GRAYSCALE)\n",
    "    \n",
    "    # Invert the image\n",
    "    img = cv2.bitwise_not(img)\n",
    "        \n",
    "    # Resize the image\n",
    "    img = cv2.resize(img, (28, 28))\n",
    "    print(plt.imshow(img, cmap=\"gray\"))\n",
    "    \n",
    "    # Reshape the image for model input\n",
    "    img = img.reshape(-1, 28, 28)\n",
    "    \n",
    "    # Convert to float32\n",
    "    img = img.astype('float32')\n",
    "    img = img/255\n",
    "    \n",
    "    # Make prediction\n",
    "    pred = loaded_model.predict(img)\n",
    "    pred_class = np.argmax(pred)\n",
    "    \n",
    "    # Get the top two predicted classes and their probabilities\n",
    "    top_classes = np.argsort(pred, axis=1)[0][-2:]\n",
    "    top_probs = np.sort(pred, axis=1)[0][-2:]\n",
    "    \n",
    "    print('Predicted class:', pred_class)\n",
    "    print(f'Chances of Being:[{top_probs[0]}->{top_classes[0]}], [{top_probs[1]}->{top_classes[1]}]')\n",
    "    \n",
    "    txt.insert(tk.INSERT, \"\\nPredicted Digit: {}\\nChances of Being: \\n{} (Class {}),\\n {} (Class {})\\n\".format(\n",
    "        pred_class, top_probs[0], top_classes[0], top_probs[1], top_classes[1]))\n",
    "    \n",
    "    \n",
    "# Define the function to clear the canvas\n",
    "def clear():\n",
    "    cv.delete('all')\n",
    "    draw.rectangle((0, 0, 500, 500), fill=(255, 255, 255, 0))\n",
    "    txt.delete('1.0', END)\n",
    "\n",
    "\n",
    "# Define class labels\n",
    "classes=[0,1,2,3,4,5,6,7,8,9]\n",
    "white=(255, 255, 255)\n",
    "# Set canvas dimensions\n",
    "width = 400\n",
    "height = 400\n",
    "\n",
    "# Create the Tkinter window\n",
    "root = Tk()\n",
    "root.resizable(0,0)\n",
    "\n",
    "# Create the canvas\n",
    "cv = Canvas(root, width=width, height=height, bg='white')\n",
    "cv.pack(padx=10, pady=10)\n",
    "\n",
    "# Create a PIL image and draw object\n",
    "image1 = PIL.Image.new(\"RGB\", (width, height), white)\n",
    "draw = ImageDraw.Draw(image1)\n",
    "\n",
    "\n",
    "# Bind paint function to mouse movement on canvas\n",
    "cv.bind(\"<B1-Motion>\", paint)\n",
    "\n",
    "# Create Predict button\n",
    "btnModel = Button(text=\"Predict\", command=model, width=10, height=1)\n",
    "\n",
    "# Create Clear button\n",
    "btnClear = Button(text=\"Clear\", command=clear, width=10, height=1)\n",
    "\n",
    "btnModel.pack(pady=10, fill=BOTH)\n",
    "btnClear.pack()\n",
    "\n",
    "# Create a text widget\n",
    "txt = tk.Text(root, bd=3, exportselection=0, bg='WHITE', font='Helvetica',\n",
    "              padx=10, pady=10, height=5, width=40)\n",
    "txt.pack()\n",
    "\n",
    "# Set window title\n",
    "root.title('Digit Recognizer---- Arbaz Khan')\n",
    "\n",
    "# Start the Tkinter event loop\n",
    "root.mainloop()"
   ]
  },
  {
   "cell_type": "code",
   "execution_count": null,
   "id": "80736e32",
   "metadata": {},
   "outputs": [],
   "source": []
  }
 ],
 "metadata": {
  "kernelspec": {
   "display_name": "Python 3 (ipykernel)",
   "language": "python",
   "name": "python3"
  },
  "language_info": {
   "codemirror_mode": {
    "name": "ipython",
    "version": 3
   },
   "file_extension": ".py",
   "mimetype": "text/x-python",
   "name": "python",
   "nbconvert_exporter": "python",
   "pygments_lexer": "ipython3",
   "version": "3.11.3"
  }
 },
 "nbformat": 4,
 "nbformat_minor": 5
}
