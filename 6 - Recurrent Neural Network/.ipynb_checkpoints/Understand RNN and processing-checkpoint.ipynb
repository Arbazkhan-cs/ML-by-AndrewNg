{
 "cells": [
  {
   "cell_type": "markdown",
   "id": "e3a81b19",
   "metadata": {},
   "source": [
    "# Understannding RNN and text preprocessing using embedding"
   ]
  },
  {
   "cell_type": "code",
   "execution_count": 1,
   "id": "c7dba621",
   "metadata": {},
   "outputs": [],
   "source": [
    "import numpy as np\n",
    "import matplotlib.pyplot as plt\n",
    "\n",
    "from keras.preprocessing.text import Tokenizer"
   ]
  },
  {
   "cell_type": "code",
   "execution_count": 2,
   "id": "63e6e568",
   "metadata": {},
   "outputs": [],
   "source": [
    "docs = [\n",
    "    \"hi there\",\n",
    "    \"how are you?\",\n",
    "    \"this is great\",\n",
    "    \"i am filling not good\",\n",
    "    \"i am fine, thank you\"\n",
    "]"
   ]
  },
  {
   "cell_type": "code",
   "execution_count": 8,
   "id": "d84d35ef",
   "metadata": {},
   "outputs": [],
   "source": [
    "token = Tokenizer(oov_token=\"<nothing>\")\n",
    "token.fit_on_texts(docs)"
   ]
  },
  {
   "cell_type": "code",
   "execution_count": 9,
   "id": "70336bce",
   "metadata": {},
   "outputs": [
    {
     "data": {
      "text/plain": [
       "{'<nothing>': 1,\n",
       " 'you': 2,\n",
       " 'i': 3,\n",
       " 'am': 4,\n",
       " 'hi': 5,\n",
       " 'there': 6,\n",
       " 'how': 7,\n",
       " 'are': 8,\n",
       " 'this': 9,\n",
       " 'is': 10,\n",
       " 'great': 11,\n",
       " 'filling': 12,\n",
       " 'not': 13,\n",
       " 'good': 14,\n",
       " 'fine': 15,\n",
       " 'thank': 16}"
      ]
     },
     "execution_count": 9,
     "metadata": {},
     "output_type": "execute_result"
    }
   ],
   "source": [
    "token.word_index"
   ]
  },
  {
   "cell_type": "code",
   "execution_count": 10,
   "id": "a3fe0b22",
   "metadata": {},
   "outputs": [
    {
     "data": {
      "text/plain": [
       "OrderedDict([('hi', 1),\n",
       "             ('there', 1),\n",
       "             ('how', 1),\n",
       "             ('are', 1),\n",
       "             ('you', 2),\n",
       "             ('this', 1),\n",
       "             ('is', 1),\n",
       "             ('great', 1),\n",
       "             ('i', 2),\n",
       "             ('am', 2),\n",
       "             ('filling', 1),\n",
       "             ('not', 1),\n",
       "             ('good', 1),\n",
       "             ('fine', 1),\n",
       "             ('thank', 1)])"
      ]
     },
     "execution_count": 10,
     "metadata": {},
     "output_type": "execute_result"
    }
   ],
   "source": [
    "token.word_counts"
   ]
  },
  {
   "cell_type": "code",
   "execution_count": 12,
   "id": "d3a5bcb7",
   "metadata": {},
   "outputs": [
    {
     "data": {
      "text/plain": [
       "5"
      ]
     },
     "execution_count": 12,
     "metadata": {},
     "output_type": "execute_result"
    }
   ],
   "source": [
    "token.document_count"
   ]
  },
  {
   "cell_type": "code",
   "execution_count": 17,
   "id": "b912a7ed",
   "metadata": {},
   "outputs": [
    {
     "data": {
      "text/plain": [
       "[[5, 6], [7, 8, 2], [9, 10, 11], [3, 4, 12, 13, 14], [3, 4, 15, 16, 2]]"
      ]
     },
     "execution_count": 17,
     "metadata": {},
     "output_type": "execute_result"
    }
   ],
   "source": [
    "sequences = token.texts_to_sequences(docs)\n",
    "sequences"
   ]
  },
  {
   "cell_type": "markdown",
   "id": "201009af",
   "metadata": {},
   "source": [
    "## Now lets see how we get these values"
   ]
  },
  {
   "cell_type": "code",
   "execution_count": 18,
   "id": "b09623eb",
   "metadata": {},
   "outputs": [
    {
     "data": {
      "text/plain": [
       "{'<nothing>': 1,\n",
       " 'you': 2,\n",
       " 'i': 3,\n",
       " 'am': 4,\n",
       " 'hi': 5,\n",
       " 'there': 6,\n",
       " 'how': 7,\n",
       " 'are': 8,\n",
       " 'this': 9,\n",
       " 'is': 10,\n",
       " 'great': 11,\n",
       " 'filling': 12,\n",
       " 'not': 13,\n",
       " 'good': 14,\n",
       " 'fine': 15,\n",
       " 'thank': 16}"
      ]
     },
     "execution_count": 18,
     "metadata": {},
     "output_type": "execute_result"
    }
   ],
   "source": [
    "token.word_index"
   ]
  },
  {
   "cell_type": "markdown",
   "id": "8326fb3d",
   "metadata": {},
   "source": [
    "here for text \"hi there\", \"hi\" is at index 5 and \"there\" is at index 6 so the array for the \"hi there\" is [5, 6]"
   ]
  },
  {
   "cell_type": "markdown",
   "id": "2fc7bc70",
   "metadata": {},
   "source": [
    "## Padding"
   ]
  },
  {
   "cell_type": "code",
   "execution_count": 19,
   "id": "536e3414",
   "metadata": {},
   "outputs": [],
   "source": [
    "from keras.utils import pad_sequences"
   ]
  },
  {
   "cell_type": "code",
   "execution_count": 20,
   "id": "31ae1937",
   "metadata": {},
   "outputs": [],
   "source": [
    "sequences = pad_sequences(sequences, padding=\"post\")"
   ]
  },
  {
   "cell_type": "code",
   "execution_count": 21,
   "id": "c0b7380f",
   "metadata": {},
   "outputs": [
    {
     "data": {
      "text/plain": [
       "array([[ 5,  6,  0,  0,  0],\n",
       "       [ 7,  8,  2,  0,  0],\n",
       "       [ 9, 10, 11,  0,  0],\n",
       "       [ 3,  4, 12, 13, 14],\n",
       "       [ 3,  4, 15, 16,  2]])"
      ]
     },
     "execution_count": 21,
     "metadata": {},
     "output_type": "execute_result"
    }
   ],
   "source": [
    "sequences"
   ]
  },
  {
   "cell_type": "markdown",
   "id": "b54a4d29",
   "metadata": {},
   "source": [
    "now all are of same length"
   ]
  },
  {
   "cell_type": "markdown",
   "id": "76841886",
   "metadata": {},
   "source": [
    "# So now lets work on real dataset"
   ]
  },
  {
   "cell_type": "code",
   "execution_count": 29,
   "id": "15fca509",
   "metadata": {},
   "outputs": [],
   "source": [
    "from keras import Sequential\n",
    "from keras.utils import pad_sequences\n",
    "from keras.layers import Dense, SimpleRNN, Embedding, Flatten\n",
    "\n",
    "# imdb is preprocessed dataset\n",
    "from keras.datasets import imdb"
   ]
  },
  {
   "cell_type": "code",
   "execution_count": 27,
   "id": "c55a5d6d",
   "metadata": {},
   "outputs": [],
   "source": [
    "(X_train, y_train), (X_test, y_test) = imdb.load_data()"
   ]
  },
  {
   "cell_type": "code",
   "execution_count": 30,
   "id": "e093fc6d",
   "metadata": {},
   "outputs": [
    {
     "data": {
      "text/plain": [
       "(25000,)"
      ]
     },
     "execution_count": 30,
     "metadata": {},
     "output_type": "execute_result"
    }
   ],
   "source": [
    "X_train.shape"
   ]
  },
  {
   "cell_type": "code",
   "execution_count": 32,
   "id": "0c6614b9",
   "metadata": {},
   "outputs": [
    {
     "name": "stdout",
     "output_type": "stream",
     "text": [
      "[1, 14, 22, 16, 43, 530, 973, 1622, 1385, 65, 458, 4468, 66, 3941, 4, 173, 36, 256, 5, 25, 100, 43, 838, 112, 50, 670, 22665, 9, 35, 480, 284, 5, 150, 4, 172, 112, 167, 21631, 336, 385, 39, 4, 172, 4536, 1111, 17, 546, 38, 13, 447, 4, 192, 50, 16, 6, 147, 2025, 19, 14, 22, 4, 1920, 4613, 469, 4, 22, 71, 87, 12, 16, 43, 530, 38, 76, 15, 13, 1247, 4, 22, 17, 515, 17, 12, 16, 626, 18, 19193, 5, 62, 386, 12, 8, 316, 8, 106, 5, 4, 2223, 5244, 16, 480, 66, 3785, 33, 4, 130, 12, 16, 38, 619, 5, 25, 124, 51, 36, 135, 48, 25, 1415, 33, 6, 22, 12, 215, 28, 77, 52, 5, 14, 407, 16, 82, 10311, 8, 4, 107, 117, 5952, 15, 256, 4, 31050, 7, 3766, 5, 723, 36, 71, 43, 530, 476, 26, 400, 317, 46, 7, 4, 12118, 1029, 13, 104, 88, 4, 381, 15, 297, 98, 32, 2071, 56, 26, 141, 6, 194, 7486, 18, 4, 226, 22, 21, 134, 476, 26, 480, 5, 144, 30, 5535, 18, 51, 36, 28, 224, 92, 25, 104, 4, 226, 65, 16, 38, 1334, 88, 12, 16, 283, 5, 16, 4472, 113, 103, 32, 15, 16, 5345, 19, 178, 32]\n"
     ]
    }
   ],
   "source": [
    "# this dataset is already integer encoded\n",
    "print(X_train[0])"
   ]
  },
  {
   "cell_type": "code",
   "execution_count": 33,
   "id": "35629766",
   "metadata": {},
   "outputs": [
    {
     "data": {
      "text/plain": [
       "array([1, 0, 0, ..., 0, 1, 0], dtype=int64)"
      ]
     },
     "execution_count": 33,
     "metadata": {},
     "output_type": "execute_result"
    }
   ],
   "source": [
    "y_train"
   ]
  },
  {
   "cell_type": "markdown",
   "id": "ebbce7ef",
   "metadata": {},
   "source": [
    "## Padding"
   ]
  },
  {
   "cell_type": "code",
   "execution_count": 35,
   "id": "618ea698",
   "metadata": {},
   "outputs": [
    {
     "data": {
      "text/plain": [
       "218"
      ]
     },
     "execution_count": 35,
     "metadata": {},
     "output_type": "execute_result"
    }
   ],
   "source": [
    "len(X_train[0])"
   ]
  },
  {
   "cell_type": "code",
   "execution_count": 36,
   "id": "d1e1f4fe",
   "metadata": {},
   "outputs": [
    {
     "data": {
      "text/plain": [
       "189"
      ]
     },
     "execution_count": 36,
     "metadata": {},
     "output_type": "execute_result"
    }
   ],
   "source": [
    "len(X_train[1])"
   ]
  },
  {
   "cell_type": "code",
   "execution_count": 39,
   "id": "8656e220",
   "metadata": {},
   "outputs": [],
   "source": [
    "X_train = pad_sequences(X_train, padding=\"post\", maxlen=50) # take only first 50 words, for just quick training\n",
    "X_test = pad_sequences(X_test, padding=\"post\", maxlen=50)"
   ]
  },
  {
   "cell_type": "code",
   "execution_count": 40,
   "id": "0e1592ab",
   "metadata": {},
   "outputs": [
    {
     "data": {
      "text/plain": [
       "array([2071,   56,   26,  141,    6,  194, 7486,   18,    4,  226,   22,\n",
       "         21,  134,  476,   26,  480,    5,  144,   30, 5535,   18,   51,\n",
       "         36,   28,  224,   92,   25,  104,    4,  226,   65,   16,   38,\n",
       "       1334,   88,   12,   16,  283,    5,   16, 4472,  113,  103,   32,\n",
       "         15,   16, 5345,   19,  178,   32])"
      ]
     },
     "execution_count": 40,
     "metadata": {},
     "output_type": "execute_result"
    }
   ],
   "source": [
    "X_train[0]"
   ]
  },
  {
   "cell_type": "code",
   "execution_count": 41,
   "id": "69a7a3b3",
   "metadata": {},
   "outputs": [
    {
     "data": {
      "text/plain": [
       "(50, 50)"
      ]
     },
     "execution_count": 41,
     "metadata": {},
     "output_type": "execute_result"
    }
   ],
   "source": [
    "len(X_train[0]), len(X_test[0])"
   ]
  },
  {
   "cell_type": "code",
   "execution_count": 42,
   "id": "bf50ffef",
   "metadata": {},
   "outputs": [
    {
     "data": {
      "text/plain": [
       "(25000, 50)"
      ]
     },
     "execution_count": 42,
     "metadata": {},
     "output_type": "execute_result"
    }
   ],
   "source": [
    "X_train.shape"
   ]
  },
  {
   "cell_type": "markdown",
   "id": "0d6e3396",
   "metadata": {},
   "source": [
    "## Building model"
   ]
  },
  {
   "cell_type": "code",
   "execution_count": 52,
   "id": "708f27a2",
   "metadata": {},
   "outputs": [],
   "source": [
    "model = Sequential([\n",
    "    SimpleRNN(32, input_shape=(50, 1), return_sequences=False),\n",
    "    Dense(1, activation=\"sigmoid\")\n",
    "])"
   ]
  },
  {
   "cell_type": "code",
   "execution_count": 53,
   "id": "d61a6b26",
   "metadata": {},
   "outputs": [
    {
     "name": "stdout",
     "output_type": "stream",
     "text": [
      "Model: \"sequential_1\"\n",
      "_________________________________________________________________\n",
      " Layer (type)                Output Shape              Param #   \n",
      "=================================================================\n",
      " simple_rnn_1 (SimpleRNN)    (None, 32)                1088      \n",
      "                                                                 \n",
      " dense_1 (Dense)             (None, 1)                 33        \n",
      "                                                                 \n",
      "=================================================================\n",
      "Total params: 1121 (4.38 KB)\n",
      "Trainable params: 1121 (4.38 KB)\n",
      "Non-trainable params: 0 (0.00 Byte)\n",
      "_________________________________________________________________\n"
     ]
    }
   ],
   "source": [
    "model.summary()"
   ]
  },
  {
   "cell_type": "code",
   "execution_count": 54,
   "id": "233353a6",
   "metadata": {},
   "outputs": [],
   "source": [
    "model.compile(\n",
    "    loss=\"binary_crossentropy\",\n",
    "    optimizer=\"adam\",\n",
    "    metrics=[\"accuracy\"]\n",
    ")"
   ]
  },
  {
   "cell_type": "code",
   "execution_count": 55,
   "id": "0c7d0764",
   "metadata": {},
   "outputs": [
    {
     "name": "stdout",
     "output_type": "stream",
     "text": [
      "Epoch 1/5\n",
      "782/782 [==============================] - 20s 22ms/step - loss: 0.6949 - accuracy: 0.4985 - val_loss: 0.6956 - val_accuracy: 0.5040\n",
      "Epoch 2/5\n",
      "782/782 [==============================] - 17s 21ms/step - loss: 0.6929 - accuracy: 0.5098 - val_loss: 0.6933 - val_accuracy: 0.5092\n",
      "Epoch 3/5\n",
      "782/782 [==============================] - 18s 22ms/step - loss: 0.6927 - accuracy: 0.5098 - val_loss: 0.6952 - val_accuracy: 0.5027\n",
      "Epoch 4/5\n",
      "782/782 [==============================] - 22s 28ms/step - loss: 0.6931 - accuracy: 0.5064 - val_loss: 0.6947 - val_accuracy: 0.5008\n",
      "Epoch 5/5\n",
      "782/782 [==============================] - 26s 33ms/step - loss: 0.6923 - accuracy: 0.5153 - val_loss: 0.6938 - val_accuracy: 0.5084\n"
     ]
    },
    {
     "data": {
      "text/plain": [
       "<keras.src.callbacks.History at 0x238e3a54c50>"
      ]
     },
     "execution_count": 55,
     "metadata": {},
     "output_type": "execute_result"
    }
   ],
   "source": [
    "model.fit(X_train, y_train, epochs=5, validation_data=(X_test, y_test))"
   ]
  },
  {
   "cell_type": "markdown",
   "id": "57b30d80",
   "metadata": {},
   "source": [
    "Note: this notebook is only for undersanding the text preprocessing and the RNN model not for geting the high accuracy"
   ]
  },
  {
   "cell_type": "markdown",
   "id": "85f5d9e7",
   "metadata": {},
   "source": [
    "## Using Embedding layer"
   ]
  },
  {
   "cell_type": "code",
   "execution_count": 57,
   "id": "9c1d1f3d",
   "metadata": {},
   "outputs": [],
   "source": [
    "from keras.datasets import imdb\n",
    "from keras import Sequential\n",
    "from keras.utils import pad_sequences\n",
    "from keras.layers import Dense, Embedding, SimpleRNN"
   ]
  },
  {
   "cell_type": "code",
   "execution_count": 58,
   "id": "117e3800",
   "metadata": {},
   "outputs": [],
   "source": [
    "(X_train, y_train), (X_test, y_test) = imdb.load_data()"
   ]
  },
  {
   "cell_type": "code",
   "execution_count": 59,
   "id": "b56cc0ae",
   "metadata": {},
   "outputs": [],
   "source": [
    "X_train = pad_sequences(X_train, padding=\"post\", maxlen=50)\n",
    "X_test = pad_sequences(X_test, padding=\"post\", maxlen=50)"
   ]
  },
  {
   "cell_type": "code",
   "execution_count": 60,
   "id": "612c59c4",
   "metadata": {},
   "outputs": [
    {
     "data": {
      "text/plain": [
       "(25000, 50)"
      ]
     },
     "execution_count": 60,
     "metadata": {},
     "output_type": "execute_result"
    }
   ],
   "source": [
    "X_train.shape"
   ]
  },
  {
   "cell_type": "code",
   "execution_count": 84,
   "id": "3e88c969",
   "metadata": {},
   "outputs": [],
   "source": [
    "model = Sequential([\n",
    "    Embedding(100000, 2), # vocab size = 10000, ouput dim = 2\n",
    "    SimpleRNN(32, return_sequences=False),\n",
    "    Dense(1, activation=\"sigmoid\")\n",
    "])"
   ]
  },
  {
   "cell_type": "code",
   "execution_count": 85,
   "id": "3d643e26",
   "metadata": {},
   "outputs": [
    {
     "name": "stdout",
     "output_type": "stream",
     "text": [
      "Model: \"sequential_8\"\n",
      "_________________________________________________________________\n",
      " Layer (type)                Output Shape              Param #   \n",
      "=================================================================\n",
      " embedding_7 (Embedding)     (None, None, 2)           200000    \n",
      "                                                                 \n",
      " simple_rnn_8 (SimpleRNN)    (None, 32)                1120      \n",
      "                                                                 \n",
      " dense_8 (Dense)             (None, 1)                 33        \n",
      "                                                                 \n",
      "=================================================================\n",
      "Total params: 201153 (785.75 KB)\n",
      "Trainable params: 201153 (785.75 KB)\n",
      "Non-trainable params: 0 (0.00 Byte)\n",
      "_________________________________________________________________\n"
     ]
    }
   ],
   "source": [
    "model.summary()"
   ]
  },
  {
   "cell_type": "code",
   "execution_count": 86,
   "id": "3e29bf09",
   "metadata": {},
   "outputs": [],
   "source": [
    "model.compile(\n",
    "    loss=\"binary_crossentropy\",\n",
    "    optimizer=\"adam\",\n",
    "    metrics=[\"accuracy\"]\n",
    ")"
   ]
  },
  {
   "cell_type": "code",
   "execution_count": 87,
   "id": "f847b9a8",
   "metadata": {},
   "outputs": [
    {
     "name": "stdout",
     "output_type": "stream",
     "text": [
      "Epoch 1/5\n",
      "782/782 [==============================] - 25s 29ms/step - loss: 0.6795 - accuracy: 0.5478 - val_loss: 0.5814 - val_accuracy: 0.6928\n",
      "Epoch 2/5\n",
      "782/782 [==============================] - 36s 46ms/step - loss: 0.4582 - accuracy: 0.7855 - val_loss: 0.4620 - val_accuracy: 0.7834\n",
      "Epoch 3/5\n",
      "782/782 [==============================] - 45s 57ms/step - loss: 0.2791 - accuracy: 0.8878 - val_loss: 0.4823 - val_accuracy: 0.7991\n",
      "Epoch 4/5\n",
      "782/782 [==============================] - 27s 35ms/step - loss: 0.1813 - accuracy: 0.9330 - val_loss: 0.6570 - val_accuracy: 0.7761\n",
      "Epoch 5/5\n",
      "782/782 [==============================] - 24s 31ms/step - loss: 0.1187 - accuracy: 0.9595 - val_loss: 0.7171 - val_accuracy: 0.7806\n"
     ]
    },
    {
     "data": {
      "text/plain": [
       "<keras.src.callbacks.History at 0x238e15f67d0>"
      ]
     },
     "execution_count": 87,
     "metadata": {},
     "output_type": "execute_result"
    }
   ],
   "source": [
    "model.fit(X_train, y_train, epochs=5, validation_data=(X_test, y_test))"
   ]
  }
 ],
 "metadata": {
  "kernelspec": {
   "display_name": "Python 3 (ipykernel)",
   "language": "python",
   "name": "python3"
  },
  "language_info": {
   "codemirror_mode": {
    "name": "ipython",
    "version": 3
   },
   "file_extension": ".py",
   "mimetype": "text/x-python",
   "name": "python",
   "nbconvert_exporter": "python",
   "pygments_lexer": "ipython3",
   "version": "3.11.3"
  }
 },
 "nbformat": 4,
 "nbformat_minor": 5
}
