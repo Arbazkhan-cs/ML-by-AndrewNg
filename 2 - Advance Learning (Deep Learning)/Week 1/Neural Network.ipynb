{
 "cells": [
  {
   "cell_type": "markdown",
   "id": "e82654c0",
   "metadata": {},
   "source": [
    "## Implementing Own Neural Network of One layer"
   ]
  },
  {
   "cell_type": "code",
   "execution_count": 2,
   "id": "d112a6f0",
   "metadata": {},
   "outputs": [],
   "source": [
    "import numpy as np\n",
    "import matplotlib.pyplot as plt"
   ]
  },
  {
   "cell_type": "code",
   "execution_count": 70,
   "id": "21bf748f",
   "metadata": {},
   "outputs": [],
   "source": [
    "def compute_cost(f_wb, y, m):\n",
    "    # Cost Function\n",
    "    cost = np.sum((f_wb - y)**2)\n",
    "    cost = (1/(2*m)) * cost\n",
    "    \n",
    "    return cost\n",
    "\n",
    "def gradient_descent(X, y, W, b, alpha, iteration):\n",
    "    m = len(X)\n",
    "    for i in range(iteration):\n",
    "        f_wb = np.dot(X, W) + b\n",
    "            \n",
    "        d_dw = (1/m) * np.dot(X.T, f_wb - y)\n",
    "        d_db = (1/m) * np.sum(f_wb - y)\n",
    "        \n",
    "        W = W - alpha * d_dw\n",
    "        b = b - alpha * d_db\n",
    "        \n",
    "        cost = compute_cost(f_wb, y, m)\n",
    "        if(i%100 == 0):\n",
    "            print(f\"Iteration = {i}, Cost = {cost}\")\n",
    "    \n",
    "    return W, b"
   ]
  },
  {
   "cell_type": "code",
   "execution_count": 87,
   "id": "c54f4bfe",
   "metadata": {},
   "outputs": [],
   "source": [
    "_input = np.array([[1, 2, 3]])\n",
    "y = np.array([1])"
   ]
  },
  {
   "cell_type": "code",
   "execution_count": 88,
   "id": "7d04ae86",
   "metadata": {},
   "outputs": [
    {
     "name": "stdout",
     "output_type": "stream",
     "text": [
      "Iteration = 0, Cost = 0.5\n",
      "Iteration = 100, Cost = 3.826089696766985e-15\n",
      "Iteration = 200, Cost = 2.9341927888728416e-29\n",
      "Iteration = 300, Cost = 9.860761315262648e-32\n",
      "Iteration = 400, Cost = 9.860761315262648e-32\n",
      "Iteration = 500, Cost = 9.860761315262648e-32\n",
      "Iteration = 600, Cost = 9.860761315262648e-32\n",
      "Iteration = 700, Cost = 9.860761315262648e-32\n",
      "Iteration = 800, Cost = 9.860761315262648e-32\n",
      "Iteration = 900, Cost = 9.860761315262648e-32\n"
     ]
    }
   ],
   "source": [
    "W = np.zeros(_input.shape[1]) # One neuron\n",
    "b = 0\n",
    "alpha = 0.01\n",
    "iteration = 1000\n",
    "\n",
    "Weight, bias = gradient_descent(_input, y, W, b, alpha, iteration)"
   ]
  },
  {
   "cell_type": "code",
   "execution_count": 89,
   "id": "75844405",
   "metadata": {},
   "outputs": [],
   "source": [
    "output = np.dot(_input, Weight) + bias"
   ]
  },
  {
   "cell_type": "code",
   "execution_count": 90,
   "id": "7ad02e60",
   "metadata": {},
   "outputs": [
    {
     "data": {
      "text/plain": [
       "array([1.])"
      ]
     },
     "execution_count": 90,
     "metadata": {},
     "output_type": "execute_result"
    }
   ],
   "source": [
    "output"
   ]
  },
  {
   "cell_type": "code",
   "execution_count": 92,
   "id": "dc2069ed",
   "metadata": {},
   "outputs": [
    {
     "data": {
      "text/plain": [
       "(array([0.06666667, 0.13333333, 0.2       ]), 0.06666666666666671)"
      ]
     },
     "execution_count": 92,
     "metadata": {},
     "output_type": "execute_result"
    }
   ],
   "source": [
    "Weight, bias"
   ]
  },
  {
   "cell_type": "code",
   "execution_count": null,
   "id": "5c88614b",
   "metadata": {},
   "outputs": [],
   "source": []
  },
  {
   "cell_type": "code",
   "execution_count": null,
   "id": "d64866b9",
   "metadata": {},
   "outputs": [],
   "source": []
  },
  {
   "cell_type": "code",
   "execution_count": null,
   "id": "07db34e1",
   "metadata": {},
   "outputs": [],
   "source": []
  },
  {
   "cell_type": "code",
   "execution_count": null,
   "id": "1f444a6b",
   "metadata": {},
   "outputs": [],
   "source": []
  },
  {
   "cell_type": "code",
   "execution_count": null,
   "id": "f4fcc4c9",
   "metadata": {},
   "outputs": [],
   "source": []
  },
  {
   "cell_type": "code",
   "execution_count": 94,
   "id": "74ea3df6",
   "metadata": {},
   "outputs": [],
   "source": [
    "import numpy as np\n",
    "import random"
   ]
  },
  {
   "cell_type": "code",
   "execution_count": 127,
   "id": "1f0a0409",
   "metadata": {},
   "outputs": [],
   "source": [
    "def Dense(input_, n):\n",
    "    Weights = []\n",
    "    biases = []\n",
    "    for i in range(n):\n",
    "        W = []\n",
    "        for j in range(len(input_)):\n",
    "            W.append(random.random())          \n",
    "        Weights.append(W)\n",
    "        biases.append(random.random())\n",
    "    \n",
    "    output = np.dot(Weights, input_) + biases\n",
    "    return output"
   ]
  },
  {
   "cell_type": "code",
   "execution_count": 128,
   "id": "7d66d0e1",
   "metadata": {},
   "outputs": [
    {
     "name": "stdout",
     "output_type": "stream",
     "text": [
      "Output = [5.26661893 4.57569148 5.45797235]\n"
     ]
    }
   ],
   "source": [
    "_input = [1, 2, 3, 2.5]\n",
    "output = Dense(_input, 3)\n",
    "\n",
    "print(f\"Output = {output}\")"
   ]
  },
  {
   "cell_type": "code",
   "execution_count": 131,
   "id": "414da2e6",
   "metadata": {},
   "outputs": [
    {
     "data": {
      "text/plain": [
       "array([17.27013989])"
      ]
     },
     "execution_count": 131,
     "metadata": {},
     "output_type": "execute_result"
    }
   ],
   "source": [
    "a1 = Dense(_input, 3) # First Hidden Layer\n",
    "a2 = Dense(a1, 4)  # second Hidden Layer\n",
    "a3 = Dense(a2, 3)  # Third Hidden Layer\n",
    "output = Dense(a3, 1)  # Output Layer\n",
    "\n",
    "output"
   ]
  }
 ],
 "metadata": {
  "kernelspec": {
   "display_name": "Python 3 (ipykernel)",
   "language": "python",
   "name": "python3"
  },
  "language_info": {
   "codemirror_mode": {
    "name": "ipython",
    "version": 3
   },
   "file_extension": ".py",
   "mimetype": "text/x-python",
   "name": "python",
   "nbconvert_exporter": "python",
   "pygments_lexer": "ipython3",
   "version": "3.11.3"
  }
 },
 "nbformat": 4,
 "nbformat_minor": 5
}
