{
 "cells": [
  {
   "cell_type": "markdown",
   "metadata": {
    "id": "YOCDCbxtIU2D"
   },
   "source": [
    "# import training dataset"
   ]
  },
  {
   "cell_type": "code",
   "execution_count": 1,
   "metadata": {
    "executionInfo": {
     "elapsed": 715,
     "status": "ok",
     "timestamp": 1709300858402,
     "user": {
      "displayName": "Arbaz Khan",
      "userId": "05992317790063661793"
     },
     "user_tz": -330
    },
    "id": "3EtcJfVoIQ_j"
   },
   "outputs": [],
   "source": [
    "from pickle import load, dump\n",
    "import numpy as np\n",
    "with open(\"X_train.pkl\", \"rb\") as f:\n",
    "    X_train = load(f)"
   ]
  },
  {
   "cell_type": "code",
   "execution_count": 2,
   "metadata": {
    "executionInfo": {
     "elapsed": 526,
     "status": "ok",
     "timestamp": 1709300860647,
     "user": {
      "displayName": "Arbaz Khan",
      "userId": "05992317790063661793"
     },
     "user_tz": -330
    },
    "id": "Xxd7bf61I-OC"
   },
   "outputs": [],
   "source": [
    "with open(\"y_train.pkl\", \"rb\") as f:\n",
    "    y_train = load(f)"
   ]
  },
  {
   "cell_type": "code",
   "execution_count": 3,
   "metadata": {
    "colab": {
     "base_uri": "https://localhost:8080/"
    },
    "executionInfo": {
     "elapsed": 7,
     "status": "ok",
     "timestamp": 1709300862258,
     "user": {
      "displayName": "Arbaz Khan",
      "userId": "05992317790063661793"
     },
     "user_tz": -330
    },
    "id": "D4DEt9eIJDc5",
    "outputId": "3e7eb351-cf5b-449d-f20e-6511fef1f0be"
   },
   "outputs": [
    {
     "data": {
      "text/plain": [
       "(array([  53,    5,   69, 1174,    0,    0,    0,    0,    0,    0,    0,\n",
       "           0,    0,    0,    0,    0,    0,    0,    0,    0,    0,    0,\n",
       "           0,    0,    0,    0,    0,    0,    0,    0,    0,    0,    0,\n",
       "           0,    0,    0,    0,    0,    0,    0,    0,    0,    0,    0,\n",
       "           0,    0,    0,    0,    0,    0,    0,    0,    0,    0,    0,\n",
       "           0,    0,    0,    0,    0,    0,    0,    0,    0,    0,    0,\n",
       "           0,    0,    0,    0,    0,    0,    0,    0,    0,    0,    0,\n",
       "           0,    0,    0,    0,    0,    0,    0,    0,    0,    0,    0,\n",
       "           0,    0,    0,    0,    0,    0,    0,    0,    0,    0,    0,\n",
       "           0,    0,    0,    0,    0,    0,    0,    0,    0,    0,    0,\n",
       "           0,    0,    0,    0,    0,    0,    0,    0,    0,    0,    0,\n",
       "           0,    0,    0,    0,    0,    0,    0,    0,    0,    0]),\n",
       " (73996, 131))"
      ]
     },
     "execution_count": 3,
     "metadata": {},
     "output_type": "execute_result"
    }
   ],
   "source": [
    "X_train[0], X_train.shape"
   ]
  },
  {
   "cell_type": "code",
   "execution_count": 4,
   "metadata": {
    "colab": {
     "base_uri": "https://localhost:8080/"
    },
    "executionInfo": {
     "elapsed": 399,
     "status": "ok",
     "timestamp": 1709300864955,
     "user": {
      "displayName": "Arbaz Khan",
      "userId": "05992317790063661793"
     },
     "user_tz": -330
    },
    "id": "oJJcxoDvJGP7",
    "outputId": "c30c222c-554f-4f84-a6d7-48f999c03c26"
   },
   "outputs": [
    {
     "data": {
      "text/plain": [
       "(array([0, 0, 0, 0, 0], dtype=int64), (73996,))"
      ]
     },
     "execution_count": 4,
     "metadata": {},
     "output_type": "execute_result"
    }
   ],
   "source": [
    "lables = {'Positive': 0, 'Neutral': 1, 'Negative': 2, 'Irrelevant': 3}\n",
    "y_train[:5], y_train.shape"
   ]
  },
  {
   "cell_type": "markdown",
   "metadata": {
    "id": "MfHR4yveJQ3S"
   },
   "source": [
    "# Train Model"
   ]
  },
  {
   "cell_type": "code",
   "execution_count": 5,
   "metadata": {
    "colab": {
     "base_uri": "https://localhost:8080/"
    },
    "executionInfo": {
     "elapsed": 726,
     "status": "ok",
     "timestamp": 1709300905835,
     "user": {
      "displayName": "Arbaz Khan",
      "userId": "05992317790063661793"
     },
     "user_tz": -330
    },
    "id": "s8VURkIYONzW",
    "outputId": "66c48007-05bc-497c-ce5c-4017a9318a75"
   },
   "outputs": [
    {
     "name": "stdout",
     "output_type": "stream",
     "text": [
      "Model: \"sequential\"\n",
      "_________________________________________________________________\n",
      " Layer (type)                Output Shape              Param #   \n",
      "=================================================================\n",
      " embedding (Embedding)       (None, None, 2)           200000    \n",
      "                                                                 \n",
      " simple_rnn (SimpleRNN)      (None, 32)                1120      \n",
      "                                                                 \n",
      " dense (Dense)               (None, 4)                 132       \n",
      "                                                                 \n",
      "=================================================================\n",
      "Total params: 201252 (786.14 KB)\n",
      "Trainable params: 201252 (786.14 KB)\n",
      "Non-trainable params: 0 (0.00 Byte)\n",
      "_________________________________________________________________\n"
     ]
    }
   ],
   "source": [
    "from keras.models import Sequential\n",
    "from keras.layers import Embedding, LSTM, Dense, Dropout, SimpleRNN\n",
    "\n",
    "# Define the model\n",
    "model = Sequential([\n",
    "    Embedding(input_dim=100000, output_dim=2),\n",
    "    SimpleRNN(32),\n",
    "    Dense(4, activation='softmax')\n",
    "])\n",
    "\n",
    "# Compile the model\n",
    "model.compile(loss='sparse_categorical_crossentropy',\n",
    "              optimizer='adam',\n",
    "              metrics=['accuracy'])\n",
    "\n",
    "# Print the model summary\n",
    "model.summary()"
   ]
  },
  {
   "cell_type": "code",
   "execution_count": null,
   "metadata": {
    "colab": {
     "base_uri": "https://localhost:8080/",
     "height": 490
    },
    "executionInfo": {
     "elapsed": 302920,
     "status": "error",
     "timestamp": 1709301211770,
     "user": {
      "displayName": "Arbaz Khan",
      "userId": "05992317790063661793"
     },
     "user_tz": -330
    },
    "id": "eCb37hjVTwUX",
    "outputId": "028460ac-3372-4f32-a45a-6b77c6e30fb1"
   },
   "outputs": [
    {
     "name": "stdout",
     "output_type": "stream",
     "text": [
      "Epoch 1/10\n",
      "1281/2313 [===============>..............] - ETA: 53s - loss: 1.3677 - accuracy: 0.2983"
     ]
    }
   ],
   "source": [
    "history = model.fit(X_train, y_train, epochs=10)"
   ]
  },
  {
   "cell_type": "code",
   "execution_count": null,
   "metadata": {
    "colab": {
     "base_uri": "https://localhost:8080/"
    },
    "executionInfo": {
     "elapsed": 21314,
     "status": "ok",
     "timestamp": 1709276966610,
     "user": {
      "displayName": "Arbaz Khan",
      "userId": "05992317790063661793"
     },
     "user_tz": -330
    },
    "id": "zVQhpXCuwwd_",
    "outputId": "550c41e6-b079-4487-c0a9-f6601478890a"
   },
   "outputs": [
    {
     "name": "stdout",
     "output_type": "stream",
     "text": [
      "2313/2313 [==============================] - 14s 6ms/step\n"
     ]
    }
   ],
   "source": [
    "predict = model.predict(X_train)"
   ]
  },
  {
   "cell_type": "code",
   "execution_count": null,
   "metadata": {
    "id": "Yi1CB-dQzmWb"
   },
   "outputs": [],
   "source": [
    "y_hat = [np.argmax(i) for i in predict]"
   ]
  },
  {
   "cell_type": "code",
   "execution_count": null,
   "metadata": {
    "colab": {
     "base_uri": "https://localhost:8080/"
    },
    "executionInfo": {
     "elapsed": 7,
     "status": "ok",
     "timestamp": 1709276988957,
     "user": {
      "displayName": "Arbaz Khan",
      "userId": "05992317790063661793"
     },
     "user_tz": -330
    },
    "id": "WfTMAGCFz2r_",
    "outputId": "f4d7b967-5fd6-49dd-aaa4-c11b2b133f52"
   },
   "outputs": [
    {
     "data": {
      "text/plain": [
       "[2, 2, 2, 2, 2]"
      ]
     },
     "execution_count": 30,
     "metadata": {},
     "output_type": "execute_result"
    }
   ],
   "source": [
    "y_hat[:5]"
   ]
  },
  {
   "cell_type": "code",
   "execution_count": null,
   "metadata": {
    "colab": {
     "base_uri": "https://localhost:8080/"
    },
    "executionInfo": {
     "elapsed": 8,
     "status": "ok",
     "timestamp": 1709276994202,
     "user": {
      "displayName": "Arbaz Khan",
      "userId": "05992317790063661793"
     },
     "user_tz": -330
    },
    "id": "tMhk36Af0D0o",
    "outputId": "f61ee959-1211-466e-c7e6-5dbde1aed2d9"
   },
   "outputs": [
    {
     "data": {
      "text/plain": [
       "array([0, 0, 0, 0, 0])"
      ]
     },
     "execution_count": 31,
     "metadata": {},
     "output_type": "execute_result"
    }
   ],
   "source": [
    "y_train[:5]"
   ]
  }
 ],
 "metadata": {
  "accelerator": "GPU",
  "colab": {
   "authorship_tag": "ABX9TyMkqbt+m9FwslgKezRUsuw8",
   "gpuType": "T4",
   "provenance": []
  },
  "kernelspec": {
   "display_name": "Python 3 (ipykernel)",
   "language": "python",
   "name": "python3"
  },
  "language_info": {
   "codemirror_mode": {
    "name": "ipython",
    "version": 3
   },
   "file_extension": ".py",
   "mimetype": "text/x-python",
   "name": "python",
   "nbconvert_exporter": "python",
   "pygments_lexer": "ipython3",
   "version": "3.11.3"
  }
 },
 "nbformat": 4,
 "nbformat_minor": 1
}
