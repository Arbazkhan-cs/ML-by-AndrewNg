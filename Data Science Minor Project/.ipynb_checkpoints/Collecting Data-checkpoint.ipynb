{
 "cells": [
  {
   "cell_type": "markdown",
   "id": "7d796320",
   "metadata": {},
   "source": [
    "# Importing Neccessary Library"
   ]
  },
  {
   "cell_type": "code",
   "execution_count": 2,
   "id": "3c1464e8",
   "metadata": {},
   "outputs": [],
   "source": [
    "from bs4 import BeautifulSoup\n",
    "import requests"
   ]
  },
  {
   "cell_type": "markdown",
   "id": "b0b1311c",
   "metadata": {},
   "source": [
    "## Scratch the html from https://www.citypopulation.de/en/india/delhi/"
   ]
  },
  {
   "cell_type": "code",
   "execution_count": 4,
   "id": "723fdc99",
   "metadata": {},
   "outputs": [
    {
     "data": {
      "text/plain": [
       "<Response [200]>"
      ]
     },
     "execution_count": 4,
     "metadata": {},
     "output_type": "execute_result"
    }
   ],
   "source": [
    "url = \"https://www.citypopulation.de/en/india/delhi/\"\n",
    "\n",
    "page = requests.get(url)\n",
    "page"
   ]
  },
  {
   "cell_type": "code",
   "execution_count": 11,
   "id": "8972ed91",
   "metadata": {
    "scrolled": false
   },
   "outputs": [],
   "source": [
    "soup = BeautifulSoup(page.text, 'html')"
   ]
  },
  {
   "cell_type": "markdown",
   "id": "d1385ab2",
   "metadata": {},
   "source": [
    "## Columns"
   ]
  },
  {
   "cell_type": "code",
   "execution_count": 15,
   "id": "3ee27793",
   "metadata": {},
   "outputs": [
    {
     "data": {
      "text/plain": [
       "'Name\\nStatusDistrictPopulationCensus1991-03-01PopulationCensus2001-03-01PopulationCensus2011-03-01\\xa0'"
      ]
     },
     "execution_count": 15,
     "metadata": {},
     "output_type": "execute_result"
    }
   ],
   "source": [
    "soup.find(\"tr\", id=\"tsh\").text"
   ]
  },
  {
   "cell_type": "code",
   "execution_count": 22,
   "id": "4afb4f83",
   "metadata": {},
   "outputs": [
    {
     "data": {
      "text/plain": [
       "['City', 'Status', 'District', 'Population', 'Area']"
      ]
     },
     "execution_count": 22,
     "metadata": {},
     "output_type": "execute_result"
    }
   ],
   "source": [
    "columns = [\"City\", \"Status\", \"District\", \"Population\", \"Area\"]\n",
    "columns"
   ]
  },
  {
   "cell_type": "markdown",
   "id": "93abdd02",
   "metadata": {},
   "source": [
    "## City Names"
   ]
  },
  {
   "cell_type": "code",
   "execution_count": 57,
   "id": "25ea5328",
   "metadata": {},
   "outputs": [],
   "source": [
    "CityNames = soup.find_all(\"td\", class_=\"rname\")[10:]"
   ]
  },
  {
   "cell_type": "code",
   "execution_count": 58,
   "id": "02a4e3f8",
   "metadata": {},
   "outputs": [],
   "source": [
    "CityNames = [i.text for i in CityNames]"
   ]
  },
  {
   "cell_type": "code",
   "execution_count": 59,
   "id": "bb4f07e6",
   "metadata": {},
   "outputs": [
    {
     "data": {
      "text/plain": [
       "['Aali',\n",
       " 'Ali Pur',\n",
       " 'Asola',\n",
       " 'Aya Nagar',\n",
       " 'Babar Pur',\n",
       " 'Bakhtawar Pur',\n",
       " 'Bakkar Wala',\n",
       " 'Bankauli',\n",
       " 'Bankner',\n",
       " 'Bapraula']"
      ]
     },
     "execution_count": 59,
     "metadata": {},
     "output_type": "execute_result"
    }
   ],
   "source": [
    "CityNames[:10]"
   ]
  },
  {
   "cell_type": "markdown",
   "id": "81c81733",
   "metadata": {},
   "source": [
    "## Status"
   ]
  },
  {
   "cell_type": "code",
   "execution_count": 54,
   "id": "46c95e0d",
   "metadata": {},
   "outputs": [],
   "source": [
    "Status = soup.find_all(\"td\", class_=\"rstatus\")[10:]"
   ]
  },
  {
   "cell_type": "code",
   "execution_count": 55,
   "id": "30dae0c4",
   "metadata": {},
   "outputs": [],
   "source": [
    "Status = [i.text for i in Status]"
   ]
  },
  {
   "cell_type": "code",
   "execution_count": 56,
   "id": "b5ab64db",
   "metadata": {},
   "outputs": [
    {
     "data": {
      "text/plain": [
       "['Census Town',\n",
       " 'Census Town',\n",
       " 'Census Town',\n",
       " 'Census Town',\n",
       " 'Census Town',\n",
       " 'Census Town',\n",
       " 'Census Town',\n",
       " 'Census Town',\n",
       " 'Census Town',\n",
       " 'Census Town']"
      ]
     },
     "execution_count": 56,
     "metadata": {},
     "output_type": "execute_result"
    }
   ],
   "source": [
    "Status[:10]"
   ]
  },
  {
   "cell_type": "markdown",
   "id": "836a4a0c",
   "metadata": {},
   "source": [
    "## District"
   ]
  },
  {
   "cell_type": "code",
   "execution_count": 156,
   "id": "c50ab488",
   "metadata": {},
   "outputs": [],
   "source": [
    "District = soup.find_all(\"td\", class_=\"radm\")"
   ]
  },
  {
   "cell_type": "code",
   "execution_count": 157,
   "id": "03185b63",
   "metadata": {},
   "outputs": [],
   "source": [
    "District = [i.text for i in District]"
   ]
  },
  {
   "cell_type": "code",
   "execution_count": 158,
   "id": "6eff2ff1",
   "metadata": {},
   "outputs": [
    {
     "data": {
      "text/plain": [
       "['South',\n",
       " 'North West',\n",
       " 'South',\n",
       " 'South',\n",
       " 'North East',\n",
       " 'North West',\n",
       " 'West',\n",
       " 'North West',\n",
       " 'North West',\n",
       " 'West']"
      ]
     },
     "execution_count": 158,
     "metadata": {},
     "output_type": "execute_result"
    }
   ],
   "source": [
    "District[:10]"
   ]
  },
  {
   "cell_type": "markdown",
   "id": "f98b6c90",
   "metadata": {},
   "source": [
    "## Population"
   ]
  },
  {
   "cell_type": "code",
   "execution_count": 60,
   "id": "63c943fb",
   "metadata": {
    "scrolled": false
   },
   "outputs": [],
   "source": [
    "Population = soup.find_all(\"td\", class_=\"rpop prio1\")[10:]"
   ]
  },
  {
   "cell_type": "code",
   "execution_count": 61,
   "id": "c02b29fa",
   "metadata": {},
   "outputs": [],
   "source": [
    "Population = [i.text for i in Population]"
   ]
  },
  {
   "cell_type": "code",
   "execution_count": 62,
   "id": "4a452b0d",
   "metadata": {},
   "outputs": [
    {
     "data": {
      "text/plain": [
       "['27,169',\n",
       " '20,332',\n",
       " '13,275',\n",
       " '33,123',\n",
       " '37,058',\n",
       " '12,716',\n",
       " '18,122',\n",
       " '5,339',\n",
       " '14,788',\n",
       " '52,744']"
      ]
     },
     "execution_count": 62,
     "metadata": {},
     "output_type": "execute_result"
    }
   ],
   "source": [
    "Population[:10]"
   ]
  },
  {
   "cell_type": "markdown",
   "id": "cdf6a395",
   "metadata": {},
   "source": [
    "## Areas"
   ]
  },
  {
   "cell_type": "code",
   "execution_count": 142,
   "id": "a84f7c6e",
   "metadata": {},
   "outputs": [],
   "source": [
    "Areas = soup.find_all(\"td\", class_=\"rname\")[10:]"
   ]
  },
  {
   "cell_type": "code",
   "execution_count": 143,
   "id": "4bfb5137",
   "metadata": {},
   "outputs": [],
   "source": [
    "Area1 = [row.attrs[\"data-area\"] for row in Areas[:25]]\n",
    "Area2 = [row.attrs[\"data-area\"] for row in Areas[26:]]"
   ]
  },
  {
   "cell_type": "code",
   "execution_count": 144,
   "id": "a8e13aca",
   "metadata": {},
   "outputs": [],
   "source": [
    "Areas = Area1+Area2"
   ]
  },
  {
   "cell_type": "markdown",
   "id": "2659bc6e",
   "metadata": {},
   "source": [
    "## Filttering the dataset"
   ]
  },
  {
   "cell_type": "code",
   "execution_count": 152,
   "id": "8d5416bb",
   "metadata": {},
   "outputs": [
    {
     "data": {
      "text/plain": [
       "(113, 113, 113, 113, 112)"
      ]
     },
     "execution_count": 152,
     "metadata": {},
     "output_type": "execute_result"
    }
   ],
   "source": [
    "len(Population), len(CityNames), len(District), len(Status), len(Areas)"
   ]
  },
  {
   "cell_type": "code",
   "execution_count": 153,
   "id": "a8778847",
   "metadata": {},
   "outputs": [
    {
     "data": {
      "text/plain": [
       "112"
      ]
     },
     "execution_count": 153,
     "metadata": {},
     "output_type": "execute_result"
    }
   ],
   "source": [
    "Population = Population[:25] + Population[26:]\n",
    "len(Population)"
   ]
  },
  {
   "cell_type": "code",
   "execution_count": 154,
   "id": "9bbc3ac4",
   "metadata": {},
   "outputs": [
    {
     "data": {
      "text/plain": [
       "112"
      ]
     },
     "execution_count": 154,
     "metadata": {},
     "output_type": "execute_result"
    }
   ],
   "source": [
    "CityNames = CityNames[:25] + CityNames[26:]\n",
    "len(CityNames)"
   ]
  },
  {
   "cell_type": "code",
   "execution_count": 159,
   "id": "6ea1ca6f",
   "metadata": {},
   "outputs": [
    {
     "data": {
      "text/plain": [
       "112"
      ]
     },
     "execution_count": 159,
     "metadata": {},
     "output_type": "execute_result"
    }
   ],
   "source": [
    "District = District[:25] + District[26:]\n",
    "len(District)"
   ]
  },
  {
   "cell_type": "code",
   "execution_count": 160,
   "id": "3a3b0481",
   "metadata": {},
   "outputs": [
    {
     "data": {
      "text/plain": [
       "112"
      ]
     },
     "execution_count": 160,
     "metadata": {},
     "output_type": "execute_result"
    }
   ],
   "source": [
    "Status = Status[:25] + Status[26:]\n",
    "len(Status)"
   ]
  },
  {
   "cell_type": "markdown",
   "id": "e8a64e65",
   "metadata": {},
   "source": [
    "# Develeping The Data Frame"
   ]
  },
  {
   "cell_type": "code",
   "execution_count": 161,
   "id": "6275fc7c",
   "metadata": {},
   "outputs": [],
   "source": [
    "import pandas as pd"
   ]
  },
  {
   "cell_type": "code",
   "execution_count": 167,
   "id": "83e51aee",
   "metadata": {},
   "outputs": [
    {
     "data": {
      "text/html": [
       "<div>\n",
       "<style scoped>\n",
       "    .dataframe tbody tr th:only-of-type {\n",
       "        vertical-align: middle;\n",
       "    }\n",
       "\n",
       "    .dataframe tbody tr th {\n",
       "        vertical-align: top;\n",
       "    }\n",
       "\n",
       "    .dataframe thead th {\n",
       "        text-align: right;\n",
       "    }\n",
       "</style>\n",
       "<table border=\"1\" class=\"dataframe\">\n",
       "  <thead>\n",
       "    <tr style=\"text-align: right;\">\n",
       "      <th></th>\n",
       "      <th>City</th>\n",
       "      <th>Status</th>\n",
       "      <th>District</th>\n",
       "      <th>Population</th>\n",
       "      <th>Area</th>\n",
       "    </tr>\n",
       "  </thead>\n",
       "  <tbody>\n",
       "    <tr>\n",
       "      <th>0</th>\n",
       "      <td>Aali</td>\n",
       "      <td>Census Town</td>\n",
       "      <td>South</td>\n",
       "      <td>27,169</td>\n",
       "      <td>4</td>\n",
       "    </tr>\n",
       "    <tr>\n",
       "      <th>1</th>\n",
       "      <td>Ali Pur</td>\n",
       "      <td>Census Town</td>\n",
       "      <td>North West</td>\n",
       "      <td>20,332</td>\n",
       "      <td>8.6</td>\n",
       "    </tr>\n",
       "    <tr>\n",
       "      <th>2</th>\n",
       "      <td>Asola</td>\n",
       "      <td>Census Town</td>\n",
       "      <td>South</td>\n",
       "      <td>13,275</td>\n",
       "      <td>12</td>\n",
       "    </tr>\n",
       "    <tr>\n",
       "      <th>3</th>\n",
       "      <td>Aya Nagar</td>\n",
       "      <td>Census Town</td>\n",
       "      <td>South</td>\n",
       "      <td>33,123</td>\n",
       "      <td>8.18</td>\n",
       "    </tr>\n",
       "    <tr>\n",
       "      <th>4</th>\n",
       "      <td>Babar Pur</td>\n",
       "      <td>Census Town</td>\n",
       "      <td>North East</td>\n",
       "      <td>37,058</td>\n",
       "      <td>0.8</td>\n",
       "    </tr>\n",
       "  </tbody>\n",
       "</table>\n",
       "</div>"
      ],
      "text/plain": [
       "        City       Status    District Population  Area\n",
       "0       Aali  Census Town       South     27,169     4\n",
       "1    Ali Pur  Census Town  North West     20,332   8.6\n",
       "2      Asola  Census Town       South     13,275    12\n",
       "3  Aya Nagar  Census Town       South     33,123  8.18\n",
       "4  Babar Pur  Census Town  North East     37,058   0.8"
      ]
     },
     "execution_count": 167,
     "metadata": {},
     "output_type": "execute_result"
    }
   ],
   "source": [
    "# Create the DataFrame\n",
    "df = pd.DataFrame({\n",
    "    'City': CityNames,\n",
    "    'Status': Status,\n",
    "    'District': District,\n",
    "    'Population': Population,\n",
    "    'Area': Areas\n",
    "})\n",
    "\n",
    "df.head()"
   ]
  },
  {
   "cell_type": "markdown",
   "id": "4b5bff48",
   "metadata": {},
   "source": [
    "## Information about the dataset"
   ]
  },
  {
   "cell_type": "code",
   "execution_count": 168,
   "id": "a16b43cf",
   "metadata": {},
   "outputs": [
    {
     "name": "stdout",
     "output_type": "stream",
     "text": [
      "<class 'pandas.core.frame.DataFrame'>\n",
      "RangeIndex: 112 entries, 0 to 111\n",
      "Data columns (total 5 columns):\n",
      " #   Column      Non-Null Count  Dtype \n",
      "---  ------      --------------  ----- \n",
      " 0   City        112 non-null    object\n",
      " 1   Status      112 non-null    object\n",
      " 2   District    112 non-null    object\n",
      " 3   Population  112 non-null    object\n",
      " 4   Area        112 non-null    object\n",
      "dtypes: object(5)\n",
      "memory usage: 4.5+ KB\n"
     ]
    }
   ],
   "source": [
    "df.info()"
   ]
  },
  {
   "cell_type": "markdown",
   "id": "7ebc5f98",
   "metadata": {},
   "source": [
    "## Filttering"
   ]
  },
  {
   "cell_type": "code",
   "execution_count": 170,
   "id": "823582dd",
   "metadata": {},
   "outputs": [],
   "source": [
    "df[\"Population\"] = df[\"Population\"].apply(lambda x: int(x.split(\",\")[0] + x.split(\",\")[1]))"
   ]
  },
  {
   "cell_type": "code",
   "execution_count": 174,
   "id": "51eb65e5",
   "metadata": {},
   "outputs": [],
   "source": [
    "df[\"Area\"] = df[\"Area\"].apply(lambda x: float(x))"
   ]
  },
  {
   "cell_type": "code",
   "execution_count": 178,
   "id": "dbeb244d",
   "metadata": {},
   "outputs": [
    {
     "name": "stdout",
     "output_type": "stream",
     "text": [
      "<class 'pandas.core.frame.DataFrame'>\n",
      "RangeIndex: 112 entries, 0 to 111\n",
      "Data columns (total 5 columns):\n",
      " #   Column      Non-Null Count  Dtype  \n",
      "---  ------      --------------  -----  \n",
      " 0   City        112 non-null    object \n",
      " 1   Status      112 non-null    object \n",
      " 2   District    112 non-null    object \n",
      " 3   Population  112 non-null    int64  \n",
      " 4   Area        112 non-null    float64\n",
      "dtypes: float64(1), int64(1), object(3)\n",
      "memory usage: 4.5+ KB\n"
     ]
    }
   ],
   "source": [
    "df.info()"
   ]
  },
  {
   "cell_type": "markdown",
   "id": "d7422769",
   "metadata": {},
   "source": [
    "## Feature Engineering"
   ]
  },
  {
   "cell_type": "code",
   "execution_count": 180,
   "id": "7b784acd",
   "metadata": {},
   "outputs": [
    {
     "data": {
      "text/html": [
       "<div>\n",
       "<style scoped>\n",
       "    .dataframe tbody tr th:only-of-type {\n",
       "        vertical-align: middle;\n",
       "    }\n",
       "\n",
       "    .dataframe tbody tr th {\n",
       "        vertical-align: top;\n",
       "    }\n",
       "\n",
       "    .dataframe thead th {\n",
       "        text-align: right;\n",
       "    }\n",
       "</style>\n",
       "<table border=\"1\" class=\"dataframe\">\n",
       "  <thead>\n",
       "    <tr style=\"text-align: right;\">\n",
       "      <th></th>\n",
       "      <th>City</th>\n",
       "      <th>Status</th>\n",
       "      <th>District</th>\n",
       "      <th>Population</th>\n",
       "      <th>Area</th>\n",
       "    </tr>\n",
       "  </thead>\n",
       "  <tbody>\n",
       "    <tr>\n",
       "      <th>0</th>\n",
       "      <td>Aali</td>\n",
       "      <td>Census Town</td>\n",
       "      <td>South</td>\n",
       "      <td>27169</td>\n",
       "      <td>4.00</td>\n",
       "    </tr>\n",
       "    <tr>\n",
       "      <th>1</th>\n",
       "      <td>Ali Pur</td>\n",
       "      <td>Census Town</td>\n",
       "      <td>North West</td>\n",
       "      <td>20332</td>\n",
       "      <td>8.60</td>\n",
       "    </tr>\n",
       "    <tr>\n",
       "      <th>2</th>\n",
       "      <td>Asola</td>\n",
       "      <td>Census Town</td>\n",
       "      <td>South</td>\n",
       "      <td>13275</td>\n",
       "      <td>12.00</td>\n",
       "    </tr>\n",
       "    <tr>\n",
       "      <th>3</th>\n",
       "      <td>Aya Nagar</td>\n",
       "      <td>Census Town</td>\n",
       "      <td>South</td>\n",
       "      <td>33123</td>\n",
       "      <td>8.18</td>\n",
       "    </tr>\n",
       "    <tr>\n",
       "      <th>4</th>\n",
       "      <td>Babar Pur</td>\n",
       "      <td>Census Town</td>\n",
       "      <td>North East</td>\n",
       "      <td>37058</td>\n",
       "      <td>0.80</td>\n",
       "    </tr>\n",
       "  </tbody>\n",
       "</table>\n",
       "</div>"
      ],
      "text/plain": [
       "        City       Status    District  Population   Area\n",
       "0       Aali  Census Town       South       27169   4.00\n",
       "1    Ali Pur  Census Town  North West       20332   8.60\n",
       "2      Asola  Census Town       South       13275  12.00\n",
       "3  Aya Nagar  Census Town       South       33123   8.18\n",
       "4  Babar Pur  Census Town  North East       37058   0.80"
      ]
     },
     "execution_count": 180,
     "metadata": {},
     "output_type": "execute_result"
    }
   ],
   "source": [
    "df.head()"
   ]
  },
  {
   "cell_type": "code",
   "execution_count": 183,
   "id": "12935257",
   "metadata": {},
   "outputs": [],
   "source": [
    "df[\"Density\"] = df[\"Population\"]/df[\"Area\"]"
   ]
  },
  {
   "cell_type": "code",
   "execution_count": 184,
   "id": "3c95f4b8",
   "metadata": {},
   "outputs": [
    {
     "data": {
      "text/html": [
       "<div>\n",
       "<style scoped>\n",
       "    .dataframe tbody tr th:only-of-type {\n",
       "        vertical-align: middle;\n",
       "    }\n",
       "\n",
       "    .dataframe tbody tr th {\n",
       "        vertical-align: top;\n",
       "    }\n",
       "\n",
       "    .dataframe thead th {\n",
       "        text-align: right;\n",
       "    }\n",
       "</style>\n",
       "<table border=\"1\" class=\"dataframe\">\n",
       "  <thead>\n",
       "    <tr style=\"text-align: right;\">\n",
       "      <th></th>\n",
       "      <th>City</th>\n",
       "      <th>Status</th>\n",
       "      <th>District</th>\n",
       "      <th>Population</th>\n",
       "      <th>Area</th>\n",
       "      <th>Density</th>\n",
       "    </tr>\n",
       "  </thead>\n",
       "  <tbody>\n",
       "    <tr>\n",
       "      <th>0</th>\n",
       "      <td>Aali</td>\n",
       "      <td>Census Town</td>\n",
       "      <td>South</td>\n",
       "      <td>27169</td>\n",
       "      <td>4.00</td>\n",
       "      <td>6792.250000</td>\n",
       "    </tr>\n",
       "    <tr>\n",
       "      <th>1</th>\n",
       "      <td>Ali Pur</td>\n",
       "      <td>Census Town</td>\n",
       "      <td>North West</td>\n",
       "      <td>20332</td>\n",
       "      <td>8.60</td>\n",
       "      <td>2364.186047</td>\n",
       "    </tr>\n",
       "    <tr>\n",
       "      <th>2</th>\n",
       "      <td>Asola</td>\n",
       "      <td>Census Town</td>\n",
       "      <td>South</td>\n",
       "      <td>13275</td>\n",
       "      <td>12.00</td>\n",
       "      <td>1106.250000</td>\n",
       "    </tr>\n",
       "    <tr>\n",
       "      <th>3</th>\n",
       "      <td>Aya Nagar</td>\n",
       "      <td>Census Town</td>\n",
       "      <td>South</td>\n",
       "      <td>33123</td>\n",
       "      <td>8.18</td>\n",
       "      <td>4049.266504</td>\n",
       "    </tr>\n",
       "    <tr>\n",
       "      <th>4</th>\n",
       "      <td>Babar Pur</td>\n",
       "      <td>Census Town</td>\n",
       "      <td>North East</td>\n",
       "      <td>37058</td>\n",
       "      <td>0.80</td>\n",
       "      <td>46322.500000</td>\n",
       "    </tr>\n",
       "  </tbody>\n",
       "</table>\n",
       "</div>"
      ],
      "text/plain": [
       "        City       Status    District  Population   Area       Density\n",
       "0       Aali  Census Town       South       27169   4.00   6792.250000\n",
       "1    Ali Pur  Census Town  North West       20332   8.60   2364.186047\n",
       "2      Asola  Census Town       South       13275  12.00   1106.250000\n",
       "3  Aya Nagar  Census Town       South       33123   8.18   4049.266504\n",
       "4  Babar Pur  Census Town  North East       37058   0.80  46322.500000"
      ]
     },
     "execution_count": 184,
     "metadata": {},
     "output_type": "execute_result"
    }
   ],
   "source": [
    "df.head()"
   ]
  },
  {
   "cell_type": "markdown",
   "id": "87f33991",
   "metadata": {},
   "source": [
    "## Save Dataset"
   ]
  },
  {
   "cell_type": "code",
   "execution_count": 186,
   "id": "8c9dd51a",
   "metadata": {},
   "outputs": [],
   "source": [
    "df.to_csv(\"Delhi Population Dataset.csv\", index=False)"
   ]
  },
  {
   "cell_type": "markdown",
   "id": "69037b11",
   "metadata": {},
   "source": [
    "## Finding Langititude And Longtitude"
   ]
  },
  {
   "cell_type": "code",
   "execution_count": 11,
   "id": "4078a74f",
   "metadata": {},
   "outputs": [],
   "source": [
    "import pandas as pd\n",
    "df = pd.read_csv(\"Delhi Population Dataset.csv\")"
   ]
  },
  {
   "cell_type": "code",
   "execution_count": 13,
   "id": "fcf03447",
   "metadata": {},
   "outputs": [],
   "source": [
    "city = df[\"City\"]"
   ]
  },
  {
   "cell_type": "code",
   "execution_count": 72,
   "id": "3b74fe32",
   "metadata": {},
   "outputs": [],
   "source": [
    "City = [\"\".join(i.split(\" \")) for i in city]"
   ]
  },
  {
   "cell_type": "code",
   "execution_count": 74,
   "id": "94a85487",
   "metadata": {},
   "outputs": [],
   "source": [
    "import pyautogui as auto\n",
    "import time\n",
    "\n",
    "for i in range(len(city)):\n",
    "    auto.click(x=981, y=19)\n",
    "    auto.click()\n",
    "    auto.write(City[i]+\" Delhi\", interval=0.25)\n",
    "    time.sleep(1)\n",
    "    auto.click(x=306, y=167)\n",
    "    time.sleep(5)\n",
    "    auto.rightClick(x=909, y=424)\n",
    "    auto.sleep(1)\n",
    "    auto.click(x=979, y=393)\n",
    "    time.sleep(1)\n",
    "    auto.click(x=605, y=741)\n",
    "    auto.rightClick(x=1097, y=391)\n",
    "    auto.click(x=1139, y=478)\n",
    "    auto.press('enter')\n",
    "    time.sleep(2)\n",
    "    auto.click(x=605, y=741)\n",
    "    \n",
    "    auto.click(x=438, y=117)\n",
    "    time.sleep(1)"
   ]
  },
  {
   "cell_type": "code",
   "execution_count": 123,
   "id": "4cc53b94",
   "metadata": {},
   "outputs": [],
   "source": [
    "df2 = pd.read_csv(\"Locations Logtiudes.csv\", header=None)"
   ]
  },
  {
   "cell_type": "code",
   "execution_count": 124,
   "id": "44d80fed",
   "metadata": {},
   "outputs": [
    {
     "data": {
      "text/html": [
       "<div>\n",
       "<style scoped>\n",
       "    .dataframe tbody tr th:only-of-type {\n",
       "        vertical-align: middle;\n",
       "    }\n",
       "\n",
       "    .dataframe tbody tr th {\n",
       "        vertical-align: top;\n",
       "    }\n",
       "\n",
       "    .dataframe thead th {\n",
       "        text-align: right;\n",
       "    }\n",
       "</style>\n",
       "<table border=\"1\" class=\"dataframe\">\n",
       "  <thead>\n",
       "    <tr style=\"text-align: right;\">\n",
       "      <th></th>\n",
       "      <th>0</th>\n",
       "      <th>1</th>\n",
       "    </tr>\n",
       "  </thead>\n",
       "  <tbody>\n",
       "    <tr>\n",
       "      <th>0</th>\n",
       "      <td>28.513960</td>\n",
       "      <td>77.308403</td>\n",
       "    </tr>\n",
       "    <tr>\n",
       "      <th>1</th>\n",
       "      <td>28.798120</td>\n",
       "      <td>77.134838</td>\n",
       "    </tr>\n",
       "    <tr>\n",
       "      <th>2</th>\n",
       "      <td>28.455643</td>\n",
       "      <td>77.186957</td>\n",
       "    </tr>\n",
       "    <tr>\n",
       "      <th>3</th>\n",
       "      <td>28.469408</td>\n",
       "      <td>77.126244</td>\n",
       "    </tr>\n",
       "    <tr>\n",
       "      <th>4</th>\n",
       "      <td>28.687594</td>\n",
       "      <td>77.283368</td>\n",
       "    </tr>\n",
       "    <tr>\n",
       "      <th>...</th>\n",
       "      <td>...</td>\n",
       "      <td>...</td>\n",
       "    </tr>\n",
       "    <tr>\n",
       "      <th>105</th>\n",
       "      <td>28.830846</td>\n",
       "      <td>77.117630</td>\n",
       "    </tr>\n",
       "    <tr>\n",
       "      <th>106</th>\n",
       "      <td>28.646294</td>\n",
       "      <td>77.026390</td>\n",
       "    </tr>\n",
       "    <tr>\n",
       "      <th>107</th>\n",
       "      <td>28.707211</td>\n",
       "      <td>77.262790</td>\n",
       "    </tr>\n",
       "    <tr>\n",
       "      <th>108</th>\n",
       "      <td>28.564026</td>\n",
       "      <td>76.911070</td>\n",
       "    </tr>\n",
       "    <tr>\n",
       "      <th>109</th>\n",
       "      <td>28.707412</td>\n",
       "      <td>77.269338</td>\n",
       "    </tr>\n",
       "  </tbody>\n",
       "</table>\n",
       "<p>110 rows × 2 columns</p>\n",
       "</div>"
      ],
      "text/plain": [
       "             0          1\n",
       "0    28.513960  77.308403\n",
       "1    28.798120  77.134838\n",
       "2    28.455643  77.186957\n",
       "3    28.469408  77.126244\n",
       "4    28.687594  77.283368\n",
       "..         ...        ...\n",
       "105  28.830846  77.117630\n",
       "106  28.646294  77.026390\n",
       "107  28.707211  77.262790\n",
       "108  28.564026  76.911070\n",
       "109  28.707412  77.269338\n",
       "\n",
       "[110 rows x 2 columns]"
      ]
     },
     "execution_count": 124,
     "metadata": {},
     "output_type": "execute_result"
    }
   ],
   "source": [
    "df2"
   ]
  },
  {
   "cell_type": "code",
   "execution_count": 129,
   "id": "6a1561b3",
   "metadata": {},
   "outputs": [],
   "source": [
    "df3 = pd.concat([df, df2], axis=1)"
   ]
  },
  {
   "cell_type": "code",
   "execution_count": 136,
   "id": "92d8be19",
   "metadata": {},
   "outputs": [],
   "source": [
    "new_df = df3[:111]"
   ]
  },
  {
   "cell_type": "code",
   "execution_count": 140,
   "id": "d55073e2",
   "metadata": {},
   "outputs": [],
   "source": [
    "new_df = new_df.rename(columns={0:\"Longitude\", 1:\"latitude\"})"
   ]
  },
  {
   "cell_type": "code",
   "execution_count": 144,
   "id": "3c996df0",
   "metadata": {},
   "outputs": [
    {
     "data": {
      "text/html": [
       "<div>\n",
       "<style scoped>\n",
       "    .dataframe tbody tr th:only-of-type {\n",
       "        vertical-align: middle;\n",
       "    }\n",
       "\n",
       "    .dataframe tbody tr th {\n",
       "        vertical-align: top;\n",
       "    }\n",
       "\n",
       "    .dataframe thead th {\n",
       "        text-align: right;\n",
       "    }\n",
       "</style>\n",
       "<table border=\"1\" class=\"dataframe\">\n",
       "  <thead>\n",
       "    <tr style=\"text-align: right;\">\n",
       "      <th></th>\n",
       "      <th>City</th>\n",
       "      <th>Status</th>\n",
       "      <th>District</th>\n",
       "      <th>Population</th>\n",
       "      <th>Area</th>\n",
       "      <th>Density</th>\n",
       "      <th>Longitude</th>\n",
       "      <th>latitude</th>\n",
       "    </tr>\n",
       "  </thead>\n",
       "  <tbody>\n",
       "    <tr>\n",
       "      <th>0</th>\n",
       "      <td>Aali</td>\n",
       "      <td>Census Town</td>\n",
       "      <td>South</td>\n",
       "      <td>27169</td>\n",
       "      <td>4.00</td>\n",
       "      <td>6792.250000</td>\n",
       "      <td>28.513960</td>\n",
       "      <td>77.308403</td>\n",
       "    </tr>\n",
       "    <tr>\n",
       "      <th>1</th>\n",
       "      <td>Ali Pur</td>\n",
       "      <td>Census Town</td>\n",
       "      <td>North West</td>\n",
       "      <td>20332</td>\n",
       "      <td>8.60</td>\n",
       "      <td>2364.186047</td>\n",
       "      <td>28.798120</td>\n",
       "      <td>77.134838</td>\n",
       "    </tr>\n",
       "    <tr>\n",
       "      <th>2</th>\n",
       "      <td>Asola</td>\n",
       "      <td>Census Town</td>\n",
       "      <td>South</td>\n",
       "      <td>13275</td>\n",
       "      <td>12.00</td>\n",
       "      <td>1106.250000</td>\n",
       "      <td>28.455643</td>\n",
       "      <td>77.186957</td>\n",
       "    </tr>\n",
       "    <tr>\n",
       "      <th>3</th>\n",
       "      <td>Aya Nagar</td>\n",
       "      <td>Census Town</td>\n",
       "      <td>South</td>\n",
       "      <td>33123</td>\n",
       "      <td>8.18</td>\n",
       "      <td>4049.266504</td>\n",
       "      <td>28.469408</td>\n",
       "      <td>77.126244</td>\n",
       "    </tr>\n",
       "    <tr>\n",
       "      <th>4</th>\n",
       "      <td>Babar Pur</td>\n",
       "      <td>Census Town</td>\n",
       "      <td>North East</td>\n",
       "      <td>37058</td>\n",
       "      <td>0.80</td>\n",
       "      <td>46322.500000</td>\n",
       "      <td>28.687594</td>\n",
       "      <td>77.283368</td>\n",
       "    </tr>\n",
       "    <tr>\n",
       "      <th>...</th>\n",
       "      <td>...</td>\n",
       "      <td>...</td>\n",
       "      <td>...</td>\n",
       "      <td>...</td>\n",
       "      <td>...</td>\n",
       "      <td>...</td>\n",
       "      <td>...</td>\n",
       "      <td>...</td>\n",
       "    </tr>\n",
       "    <tr>\n",
       "      <th>106</th>\n",
       "      <td>Tigri</td>\n",
       "      <td>Census Town</td>\n",
       "      <td>South</td>\n",
       "      <td>46974</td>\n",
       "      <td>1.10</td>\n",
       "      <td>42703.636364</td>\n",
       "      <td>28.830846</td>\n",
       "      <td>77.117630</td>\n",
       "    </tr>\n",
       "    <tr>\n",
       "      <th>107</th>\n",
       "      <td>Tikri Kalan</td>\n",
       "      <td>Census Town</td>\n",
       "      <td>West</td>\n",
       "      <td>16313</td>\n",
       "      <td>9.68</td>\n",
       "      <td>1685.227273</td>\n",
       "      <td>28.646294</td>\n",
       "      <td>77.026390</td>\n",
       "    </tr>\n",
       "    <tr>\n",
       "      <th>108</th>\n",
       "      <td>Tikri Khurd</td>\n",
       "      <td>Census Town</td>\n",
       "      <td>North West</td>\n",
       "      <td>13772</td>\n",
       "      <td>3.92</td>\n",
       "      <td>3513.265306</td>\n",
       "      <td>28.707211</td>\n",
       "      <td>77.262790</td>\n",
       "    </tr>\n",
       "    <tr>\n",
       "      <th>109</th>\n",
       "      <td>Tilang Pur Kotla</td>\n",
       "      <td>Census Town</td>\n",
       "      <td>West</td>\n",
       "      <td>13614</td>\n",
       "      <td>0.82</td>\n",
       "      <td>16602.439024</td>\n",
       "      <td>28.564026</td>\n",
       "      <td>76.911070</td>\n",
       "    </tr>\n",
       "    <tr>\n",
       "      <th>110</th>\n",
       "      <td>Tukhmir Pur</td>\n",
       "      <td>Census Town</td>\n",
       "      <td>North East</td>\n",
       "      <td>5658</td>\n",
       "      <td>0.40</td>\n",
       "      <td>14145.000000</td>\n",
       "      <td>28.707412</td>\n",
       "      <td>77.269338</td>\n",
       "    </tr>\n",
       "  </tbody>\n",
       "</table>\n",
       "<p>111 rows × 8 columns</p>\n",
       "</div>"
      ],
      "text/plain": [
       "                 City       Status    District  Population   Area  \\\n",
       "0                Aali  Census Town       South       27169   4.00   \n",
       "1             Ali Pur  Census Town  North West       20332   8.60   \n",
       "2               Asola  Census Town       South       13275  12.00   \n",
       "3           Aya Nagar  Census Town       South       33123   8.18   \n",
       "4           Babar Pur  Census Town  North East       37058   0.80   \n",
       "..                ...          ...         ...         ...    ...   \n",
       "106             Tigri  Census Town       South       46974   1.10   \n",
       "107       Tikri Kalan  Census Town        West       16313   9.68   \n",
       "108       Tikri Khurd  Census Town  North West       13772   3.92   \n",
       "109  Tilang Pur Kotla  Census Town        West       13614   0.82   \n",
       "110       Tukhmir Pur  Census Town  North East        5658   0.40   \n",
       "\n",
       "          Density  Longitude   latitude  \n",
       "0     6792.250000  28.513960  77.308403  \n",
       "1     2364.186047  28.798120  77.134838  \n",
       "2     1106.250000  28.455643  77.186957  \n",
       "3     4049.266504  28.469408  77.126244  \n",
       "4    46322.500000  28.687594  77.283368  \n",
       "..            ...        ...        ...  \n",
       "106  42703.636364  28.830846  77.117630  \n",
       "107   1685.227273  28.646294  77.026390  \n",
       "108   3513.265306  28.707211  77.262790  \n",
       "109  16602.439024  28.564026  76.911070  \n",
       "110  14145.000000  28.707412  77.269338  \n",
       "\n",
       "[111 rows x 8 columns]"
      ]
     },
     "execution_count": 144,
     "metadata": {},
     "output_type": "execute_result"
    }
   ],
   "source": [
    "new_df"
   ]
  },
  {
   "cell_type": "markdown",
   "id": "d958e473",
   "metadata": {},
   "source": [
    "## Save The Final Dataset"
   ]
  },
  {
   "cell_type": "code",
   "execution_count": 145,
   "id": "28c82860",
   "metadata": {},
   "outputs": [],
   "source": [
    "new_df.to_csv(\"Final Dataset.csv\", index=False)"
   ]
  }
 ],
 "metadata": {
  "kernelspec": {
   "display_name": "Python 3 (ipykernel)",
   "language": "python",
   "name": "python3"
  },
  "language_info": {
   "codemirror_mode": {
    "name": "ipython",
    "version": 3
   },
   "file_extension": ".py",
   "mimetype": "text/x-python",
   "name": "python",
   "nbconvert_exporter": "python",
   "pygments_lexer": "ipython3",
   "version": "3.11.3"
  }
 },
 "nbformat": 4,
 "nbformat_minor": 5
}
