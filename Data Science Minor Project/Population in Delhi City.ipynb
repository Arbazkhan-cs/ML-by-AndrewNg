{
 "cells": [
  {
   "cell_type": "markdown",
   "id": "9e510d7a",
   "metadata": {},
   "source": [
    "# Importing Neccessary Librarys"
   ]
  },
  {
   "cell_type": "code",
   "execution_count": 36,
   "id": "35170dba",
   "metadata": {},
   "outputs": [],
   "source": [
    "from bs4 import BeautifulSoup\n",
    "import requests\n",
    "\n",
    "import pandas as pd"
   ]
  },
  {
   "cell_type": "markdown",
   "id": "b4aa5861",
   "metadata": {},
   "source": [
    "## Scraping the html from the government website"
   ]
  },
  {
   "cell_type": "code",
   "execution_count": 2,
   "id": "2fe57104",
   "metadata": {},
   "outputs": [
    {
     "data": {
      "text/plain": [
       "<Response [200]>"
      ]
     },
     "execution_count": 2,
     "metadata": {},
     "output_type": "execute_result"
    }
   ],
   "source": [
    "url = \"https://www.census2011.co.in/census/metropolitan/50-delhi.html\"\n",
    "\n",
    "page = requests.get(url)\n",
    "page"
   ]
  },
  {
   "cell_type": "code",
   "execution_count": 3,
   "id": "2171de67",
   "metadata": {},
   "outputs": [],
   "source": [
    "soup = BeautifulSoup(page.text, \"html\")"
   ]
  },
  {
   "cell_type": "code",
   "execution_count": 4,
   "id": "ee6b0b26",
   "metadata": {},
   "outputs": [
    {
     "data": {
      "text/plain": [
       "<!DOCTYPE html>\n",
       "<html lang=\"en\">\n",
       "<head>\n",
       "<title>Delhi Metropolitan Urban Region Population 2011-2024 Census</title>\n",
       "<meta content=\"Population of Delhi Urban Region is 16,349,831 as per official report from Population Census 2011. Delhi Urban Agglomeration is situated in Delhi State/UT.\" name=\"Description\"/>\n",
       "<link href=\"https://www.census2011.co.in/census/metropolitan/50-delhi.html\" rel=\"canonical\"/>\n",
       "<meta content=\"QbxJa6sCRx5cTa6fqP5ym7m___7TzvwWMuJaBdOP3H8\" name=\"google-site-verification\"/>\n",
       "<link as=\"style\" href=\"/assets/css/docs.css?v=1.3\" rel=\"preload\"/>\n",
       "<link as=\"style\" href=\"https://cdn.jsdelivr.net/npm/bootstrap-icons@1.10.2/font/bootstrap-icons.css\" rel=\"preload\"/>\n",
       "<link as=\"style\" href=\"https://cdn.jsdelivr.net/npm/bootstrap@5.2.3/dist/css/bootstrap.min.css\" rel=\"preload\"/>\n",
       "<link href=\"//www.googletagmanager.com\" rel=\"preconnect\"/>\n",
       "<link href=\"//pagead2.googlesyndication.com\" rel=\"preconnect\"/>\n",
       "<link href=\"//googleads.g.doubleclick.net\" rel=\"preconnect\"/>\n",
       "<link href=\"//fonts.googleapis.com\" rel=\"dns-prefetch\"/>\n",
       "<link href=\"//fonts.gstatic.com\" rel=\"dns-prefetch\"/>\n",
       "<meta charset=\"utf-8\"/>\n",
       "<meta content=\"width=device-width, initial-scale=1\" name=\"viewport\"/>\n",
       "<link crossorigin=\"anonymous\" href=\"https://cdn.jsdelivr.net/npm/bootstrap@5.2.3/dist/css/bootstrap.min.css\" integrity=\"sha384-rbsA2VBKQhggwzxH7pPCaAqO46MgnOM80zW1RWuH61DGLwZJEdK2Kadq2F9CUG65\" rel=\"stylesheet\"/>\n",
       "<link href=\"/assets/css/docs.css?v=1.3\" rel=\"stylesheet\"/>\n",
       "<link href=\"https://cdn.jsdelivr.net/npm/bootstrap-icons@1.10.2/font/bootstrap-icons.css\" rel=\"stylesheet\"/>\n",
       "<script async=\"\" src=\"//pagead2.googlesyndication.com/pagead/js/adsbygoogle.js\"></script>\n",
       "<script>\n",
       "\t(adsbygoogle = window.adsbygoogle || []).push({\n",
       "\t\tgoogle_ad_client: \"ca-pub-0612465356921996\",\n",
       "\t\tenable_page_level_ads: true\n",
       "\t});\n",
       "\t</script>\n",
       "</head>\n",
       "<body>\n",
       "<div class=\"skippy visually-hidden-focusable overflow-hidden\">\n",
       "<div class=\"container-xl\"> <a class=\"d-inline-flex p-2 m-1\" href=\"#content\">Skip to main content</a> <a class=\"d-none d-md-inline-flex p-2 m-1\" href=\"#bd-docs-nav\">Skip to docs navigation</a> </div>\n",
       "</div>\n",
       "<header class=\"navbar navbar-expand-lg navbar-dark bd-navbar sticky-top\">\n",
       "<nav aria-label=\"Main navigation\" class=\"container-xxl bd-gutter flex-wrap flex-lg-nowrap\">\n",
       "<div class=\"bd-navbar-toggle\">\n",
       "<button aria-controls=\"bdSidebar\" aria-label=\"Toggle docs navigation\" class=\"navbar-toggler p-2\" data-bs-target=\"#bdSidebar\" data-bs-toggle=\"offcanvas\" type=\"button\"> <i class=\"bi bi-list\"></i> </button>\n",
       "</div> <a aria-label=\"Population Census\" class=\"navbar-brand p-0 me-0 me-lg-2\" href=\"/\">Population Census</a>\n",
       "<div class=\"d-flex\">\n",
       "<button aria-controls=\"bdNavbar\" aria-label=\"Toggle navigation\" class=\"navbar-toggler d-flex d-lg-none order-3 p-2\" data-bs-target=\"#bdNavbar\" data-bs-toggle=\"offcanvas\" type=\"button\"> <i class=\"bi bi-three-dots\"></i> </button>\n",
       "</div>\n",
       "<div aria-labelledby=\"bdNavbarOffcanvasLabel\" class=\"offcanvas-lg offcanvas-end flex-grow-1\" data-bs-scroll=\"true\" id=\"bdNavbar\" tabindex=\"-1\">\n",
       "<div class=\"offcanvas-header px-4 pb-0\">\n",
       "<h5 class=\"offcanvas-title text-white\" id=\"bdNavbarOffcanvasLabel\">Population Census</h5>\n",
       "<button aria-label=\"Close\" class=\"btn-close btn-close-white\" data-bs-dismiss=\"offcanvas\" data-bs-target=\"#bdNavbar\" type=\"button\"></button>\n",
       "</div>\n",
       "<div class=\"offcanvas-body p-4 pt-0 p-lg-0\">\n",
       "<hr class=\"d-lg-none text-white-50\"/>\n",
       "<ul class=\"navbar-nav flex-row flex-wrap bd-navbar-nav\">\n",
       "<li class=\"nav-item col-6 col-lg-auto\"> <a class=\"nav-link py-2 px-0 px-lg-2\" href=\"/\">Home</a> </li>\n",
       "<li class=\"nav-item col-6 col-lg-auto\"> <a class=\"nav-link py-2 px-0 px-lg-2\" href=\"/states.php\">States</a> </li>\n",
       "<li class=\"nav-item col-6 col-lg-auto\"> <a class=\"nav-link py-2 px-0 px-lg-2\" href=\"/district.php\">District</a> </li>\n",
       "<li class=\"nav-item col-6 col-lg-auto\"> <a class=\"nav-link py-2 px-0 px-lg-2\" href=\"/city.php\">Cities</a> </li>\n",
       "<li class=\"nav-item col-6 col-lg-auto\"> <a class=\"nav-link py-2 px-0 px-lg-2\" href=\"/towns.php\">Towns</a> </li>\n",
       "<li class=\"nav-item col-6 col-lg-auto\"> <a class=\"nav-link py-2 px-0 px-lg-2\" href=\"/religion.php\">Religion Data</a> </li>\n",
       "<li class=\"nav-item col-6 col-lg-auto\"> <a class=\"nav-link py-2 px-0 px-lg-2\" href=\"/facts.php\">Interesting Facts</a> </li>\n",
       "</ul>\n",
       "<hr class=\"d-lg-none text-white-50\"/>\n",
       "<div class=\"d-flex justify-content-end flex-row-reverse\">\n",
       "<form action=\"/search.php\" class=\"form-inline d-flex\" id=\"cse-search-box\" role=\"search\">\n",
       "<input name=\"cx\" type=\"hidden\" value=\"partner-pub-0612465356921996:9964620645\"/>\n",
       "<input name=\"cof\" type=\"hidden\" value=\"FORID:10\"/>\n",
       "<input name=\"ie\" type=\"hidden\" value=\"UTF-8\"/>\n",
       "<input aria-label=\"Search\" class=\"form-control me-2\" id=\"search_key\" maxlength=\"128\" name=\"q\" placeholder=\"Search\" size=\"20\" type=\"text\" value=\"\"/>\n",
       "<button class=\"btn btn-light\" id=\"submit\" name=\"sa\" type=\"submit\" value=\"Search\">Search</button>\n",
       "</form>\n",
       "</div>\n",
       "</div>\n",
       "</div>\n",
       "</nav>\n",
       "</header>\n",
       "<div class=\"container-xxl bd-gutter mt-3 my-md-4 bd-layout\">\n",
       "<aside class=\"bd-sidebar\">\n",
       "<div aria-labelledby=\"bdSidebarOffcanvasLabel\" class=\"offcanvas-lg offcanvas-start\" id=\"bdSidebar\" tabindex=\"-1\">\n",
       "<div class=\"offcanvas-header border-bottom\">\n",
       "<h5 class=\"offcanvas-title\" id=\"bdSidebarOffcanvasLabel\">Census Population</h5>\n",
       "<button aria-label=\"Close\" class=\"btn-close\" data-bs-dismiss=\"offcanvas\" data-bs-target=\"#bdSidebar\" type=\"button\"></button>\n",
       "</div>\n",
       "<div class=\"offcanvas-body\">\n",
       "<nav aria-label=\"Docs navigation\" class=\"bd-links w-100\" id=\"bd-docs-nav\">\n",
       "<ul class=\"bd-links-nav list-unstyled mb-0 pb-3 pb-md-2 pe-lg-2\">\n",
       "<li class=\"bd-links-group py-2\"> <i class=\"bi bi-people-fill\"></i> <strong class=\"bd-links-heading w-100 align-items-center fw-semibold\">Population Census </strong>\n",
       "<ul class=\"list-unstyled fw-normal pb-2 small\">\n",
       "<li> <a class=\"bd-links-link d-inline-block rounded\" href=\"/census/city/49-delhi.html\">Delhi Population</a> </li>\n",
       "<li> <a class=\"bd-links-link d-inline-block rounded\" href=\"/census/city/365-mumbai.html\">Mumbai Population</a> </li>\n",
       "</ul>\n",
       "</li>\n",
       "<li class=\"bd-links-group py-2\"> <i class=\"bi bi-bar-chart-fill\"></i> <strong class=\"bd-links-heading w-100 align-items-center fw-semibold\">Top Facts</strong>\n",
       "<ul class=\"list-unstyled fw-normal pb-2 small\">\n",
       "<li> <a class=\"bd-links-link d-inline-block rounded\" href=\"/facts/largestates.html\">Largest States</a> </li>\n",
       "<li> <a class=\"bd-links-link d-inline-block rounded\" href=\"/facts/highsexratiostate.html\">Highest Sex Ratio</a> </li>\n",
       "<li> <a class=\"bd-links-link d-inline-block rounded\" href=\"/facts/highstateliteracy.html\">Highest Literacy Rate</a> </li>\n",
       "<li> <a class=\"bd-links-link d-inline-block rounded\" href=\"/facts/topstateurban.html\">Urbanised States</a> </li>\n",
       "<li> <a class=\"bd-links-link d-inline-block rounded\" href=\"/facts/topstatepopulation.html\">Highest Population</a> </li>\n",
       "</ul>\n",
       "</li>\n",
       "<li class=\"bd-links-group py-2\"> <i class=\"bi bi-bank2\"></i> <strong class=\"bd-links-heading w-100 align-items-center fw-semibold\">Religion Population</strong>\n",
       "<ul class=\"list-unstyled fw-normal pb-2 small\">\n",
       "<li> <a class=\"bd-links-link d-inline-block rounded\" href=\"/religion.php\">All Religion</a> </li>\n",
       "<li> <a class=\"bd-links-link d-inline-block rounded\" href=\"/data/religion/1-hinduism.html\">Hindu Population</a> </li>\n",
       "<li> <a class=\"bd-links-link d-inline-block rounded\" href=\"/data/religion/2-muslims.html\">Muslim Population</a> </li>\n",
       "<li> <a class=\"bd-links-link d-inline-block rounded\" href=\"/data/religion/3-christianity.html\">Christian Population</a> </li>\n",
       "<li> <a class=\"bd-links-link d-inline-block rounded\" href=\"/data/religion/4-sikhism.html\">Sikh Population</a> </li>\n",
       "<li> <a class=\"bd-links-link d-inline-block rounded\" href=\"/data/religion/6-jainism.html\">Jain Population</a> </li>\n",
       "</ul>\n",
       "</li>\n",
       "<li class=\"bd-links-group py-2\"> <i class=\"bi bi-person-vcard-fill\"></i> <strong class=\"bd-links-heading w-100 align-items-center fw-semibold\">Other Data</strong>\n",
       "<ul class=\"list-unstyled fw-normal pb-2 small\">\n",
       "<li> <a class=\"bd-links-link d-inline-block rounded\" href=\"/sexratio.php\">Sex Ratio in India</a> </li>\n",
       "<li> <a class=\"bd-links-link d-inline-block rounded\" href=\"/literacy.php\">Literacy rate in India</a> </li>\n",
       "<li> <a class=\"bd-links-link d-inline-block rounded\" href=\"/scheduled-castes.php\">SC Population</a> </li>\n",
       "<li> <a class=\"bd-links-link d-inline-block rounded\" href=\"/scheduled-tribes.php\">ST Population</a> </li>\n",
       "<li> <a class=\"bd-links-link d-inline-block rounded\" href=\"/slums.php\">Slum Population</a> </li>\n",
       "<li> <a class=\"bd-links-link d-inline-block rounded\" href=\"/data/village/455015-patewari-madhya-pradesh.html\">Patewari</a> </li>\n",
       "</ul>\n",
       "</li>\n",
       "</ul>\n",
       "</nav>\n",
       "</div>\n",
       "</div>\n",
       "</aside>\n",
       "<main><script async=\"\" crossorigin=\"anonymous\" src=\"https://pagead2.googlesyndication.com/pagead/js/adsbygoogle.js?client=ca-pub-0612465356921996\"></script>\n",
       "<style>\n",
       ".adslot_lbtop { width:100%;height:250px;margin:10px 0;}\n",
       "</style>\n",
       "<ins class=\"adsbygoogle adslot_lbtop\" data-ad-client=\"ca-pub-0612465356921996\" data-ad-slot=\"2926950643\" data-full-width-responsive=\"true\" style=\"display:block\"></ins>\n",
       "<script>\n",
       "(adsbygoogle = window.adsbygoogle || []).push({});\n",
       "</script>\n",
       "<nav aria-label=\"breadcrumb\"><ol class=\"breadcrumb\">\n",
       "<li class=\"breadcrumb-item\"><a href=\"/\">Home</a></li>\n",
       "<li class=\"breadcrumb-item\"><a href=\"/census/state/delhi.html\">Delhi</a></li>\n",
       "<li aria-current=\"page\" class=\"breadcrumb-item active\"><a href=\"/census/metropolitan/50-delhi.html\">Delhi Metropolitan Region</a></li>\n",
       "</ol>\n",
       "</nav>\n",
       "<h1>Delhi Metropolitan Population 2011 - 2024</h1>\n",
       "<p class=\"text-sm-start mb-0\">\n",
       "As per data released by Govt. of India for Census 2011, Delhi is an Urban Agglomeration coming under category of Mega City.\n",
       "<a href=\"/census/city/49-delhi.html\" title=\"Delhi City Population\">Delhi city</a> is governed by Municipal Corporation and is situated in Delhi Urban Region.\n",
       "<br/><br/>\n",
       "The total population of Delhi UA/Metropolitan region is 16,349,831. The male population of which is 8,750,834 while female population is 7,598,997.\n",
       "</p>\n",
       "<br/><br/>\n",
       "<h3>Delhi Population 2023 - 2024</h3>\n",
       "Population of Delhi city in 2024 is approximately\n",
       "23,223,000.\n",
       "The last census was conducted in 2011 and the schedule census for Delhi Metropolitian region in 2021 was postponed due to Covid. The current estimates of Delhi urban area is based on past growth rate. Once govt conducts census for Delhi region, we will update the same on this page in 2024.\n",
       "<br/><br/>\n",
       "<h3>Delhi Literacy Rate</h3>\n",
       "The literacy rate of Delhi Agglomeration is 86.32% which is higher than National Urban average of 85 %. Literacy rate for male and female for Delhi stood at 90.98 % and 80.96 % respectively.\n",
       "Total literates in Delhi UA were 12,427,342 of which males were 7,012,476 and remaining 5,414,866 were females.\n",
       "<br/><br/>\n",
       "<h3>Delhi Child Population</h3>\n",
       "The children (0-6 age) population of Delhi UA is around 11.95 % of total Delhi UA population which is higher than National Urban average of 10.93 %. Total children in Delhi Urban region were 1,953,206 of which male were 1,042,800 while remaining 910,406 childs were female.\n",
       "<br/><br/>\n",
       "<h3>Delhi Sex Ratio</h3>\n",
       "The sex ratio of female to male in Delhi UA was found lower with figure of 868 females against national urban average of 926 females per 1000 males. For children (0-6 age), girls were 873 per 1000 boys in Delhi Urban region against national average of 902 girls per 1000 boys.\n",
       "<br/>\n",
       "<h3>Delhi Population 2011 Census</h3>\n",
       "<div class=\"table-responsive\">\n",
       "<table class=\"table table1 table-striped table-hover\">\n",
       "<thead>\n",
       "<tr>\n",
       "<th>Description</th>\n",
       "<th></th>\n",
       "</tr>\n",
       "</thead>\n",
       "<tbody>\n",
       "<tr>\n",
       "<td>Urban Agglomeration</td>\n",
       "<td><b>Delhi</b></td>\n",
       "</tr>\n",
       "<tr>\n",
       "<td>Government</td>\n",
       "<td><b>Urban Agglomeration</b></td>\n",
       "</tr>\n",
       "<tr>\n",
       "<td>UA Type</td>\n",
       "<td>\n",
       "Mega City </td>\n",
       "</tr>\n",
       "<tr>\n",
       "<td>State</td>\n",
       "<td>Delhi</td>\n",
       "</tr>\n",
       "</tbody>\n",
       "</table>\n",
       "</div>\n",
       "<div class=\"table-responsive\">\n",
       "<table class=\"table table1 table-striped table-hover\">\n",
       "<thead>\n",
       "<tr>\n",
       "<th>Delhi UA</th>\n",
       "<th>Total</th>\n",
       "<th>Male</th>\n",
       "<th>Female</th>\n",
       "</tr>\n",
       "</thead>\n",
       "<tbody>\n",
       "<tr>\n",
       "<td>Population</td>\n",
       "<td>16,349,831</td>\n",
       "<td>8,750,834</td>\n",
       "<td>7,598,997</td>\n",
       "</tr>\n",
       "<tr>\n",
       "<td>Literates</td>\n",
       "<td>12,427,342</td>\n",
       "<td>7,012,476</td>\n",
       "<td>5,414,866</td>\n",
       "</tr>\n",
       "<tr>\n",
       "<td>Children (0-6)</td>\n",
       "<td>1,953,206</td>\n",
       "<td>1,042,800</td>\n",
       "<td>910,406</td>\n",
       "</tr>\n",
       "<tr>\n",
       "<td>Average Literacy (%)</td>\n",
       "<td>86.32 %</td>\n",
       "<td>90.98 %</td>\n",
       "<td>80.96 %</td>\n",
       "</tr>\n",
       "<tr>\n",
       "<td>Sexratio</td>\n",
       "<td>868</td>\n",
       "<td colspan=\"2\"></td>\n",
       "</tr>\n",
       "<tr>\n",
       "<td>Child Sexratio</td>\n",
       "<td>873</td>\n",
       "<td colspan=\"2\"></td>\n",
       "</tr>\n",
       "</tbody>\n",
       "</table>\n",
       "</div>\n",
       "<script async=\"\" crossorigin=\"anonymous\" src=\"https://pagead2.googlesyndication.com/pagead/js/adsbygoogle.js?client=ca-pub-0612465356921996\"></script>\n",
       "<style>\n",
       ".adslot_lbbottom { width:100%;height:200px;margin:10px 0; }\n",
       "</style>\n",
       "<ins class=\"adsbygoogle adslot_lbbottom\" data-ad-client=\"ca-pub-0612465356921996\" data-ad-format=\"auto\" data-ad-slot=\"5880417044\" data-full-width-responsive=\"true\" style=\"display:block\"></ins>\n",
       "<script>\n",
       "     (adsbygoogle = window.adsbygoogle || []).push({});\n",
       "</script>\n",
       "<h3>Delhi Metropolitan Region Future Population 2021-2031</h3>\n",
       "<div class=\"table-responsive\">\n",
       "<table class=\"table table1 table-striped table-hover\">\n",
       "<thead>\n",
       "<tr>\n",
       "<th> Metropolitan</th>\n",
       "<th>Population</th>\n",
       "</tr>\n",
       "</thead>\n",
       "<tbody>\n",
       "<tr>\n",
       "<td>2011</td>\n",
       "<td><b>16,349,831</b></td>\n",
       "</tr>\n",
       "<tr>\n",
       "<td>2021</td>\n",
       "<td><b>21,254,000</b></td>\n",
       "</tr>\n",
       "<tr>\n",
       "<td>2022</td>\n",
       "<td><b>21,891,000</b></td>\n",
       "</tr>\n",
       "<tr>\n",
       "<td>2023</td>\n",
       "<td><b>22,547,000</b></td>\n",
       "</tr>\n",
       "<tr>\n",
       "<td>2024</td>\n",
       "<td><b>23,223,000</b></td>\n",
       "</tr>\n",
       "<tr>\n",
       "<td>2025</td>\n",
       "<td><b>23,919,000</b></td>\n",
       "</tr>\n",
       "<tr>\n",
       "<td>2026</td>\n",
       "<td><b>24,636,000</b></td>\n",
       "</tr>\n",
       "<tr>\n",
       "<td>2027</td>\n",
       "<td><b>25,375,000</b></td>\n",
       "</tr>\n",
       "<tr>\n",
       "<td>2028</td>\n",
       "<td><b>26,136,000</b></td>\n",
       "</tr>\n",
       "<tr>\n",
       "<td>2029</td>\n",
       "<td><b>26,920,000</b></td>\n",
       "</tr>\n",
       "<tr>\n",
       "<td>2030</td>\n",
       "<td><b>27,727,000</b></td>\n",
       "</tr>\n",
       "<tr>\n",
       "<td>2031</td>\n",
       "<td><b>28,558,000</b></td>\n",
       "</tr>\n",
       "</tbody>\n",
       "</table>\n",
       "</div>\n",
       "<h3>Delhi Region - Cities &amp; Towns</h3>\n",
       "<div class=\"purplemetro\">Delhi UA has following cities under it.</div>\n",
       "<div class=\"table-responsive\">\n",
       "<table class=\"table table1 table-striped table-hover\">\n",
       "<thead>\n",
       "<tr>\n",
       "<th>City</th>\n",
       "<th>Population</th>\n",
       "</tr>\n",
       "</thead>\n",
       "<tbody>\n",
       "<tr>\n",
       "<td><a href=\"/census/city/49-delhi.html\" title=\"Delhi\">Delhi</a> (Municipal Corporation)</td>\n",
       "<td>11,034,555</td>\n",
       "</tr>\n",
       "<tr>\n",
       "<td><a href=\"/census/city/51-kirari-suleman-nagar.html\" title=\"Kirari Suleman Nagar\">Kirari Suleman Nagar</a> (Census Town)</td>\n",
       "<td>283,211</td>\n",
       "</tr>\n",
       "<tr>\n",
       "<td><a href=\"/census/city/50-ndmc.html\" title=\"NDMC\">NDMC</a> (Municipal Council)</td>\n",
       "<td>257,803</td>\n",
       "</tr>\n",
       "<tr>\n",
       "<td><a href=\"/census/city/55-karawal-nagar.html\" title=\"Karawal Nagar\">Karawal Nagar</a> (Census Town)</td>\n",
       "<td>224,281</td>\n",
       "</tr>\n",
       "<tr>\n",
       "<td><a href=\"/census/city/61-nangloi-jat.html\" title=\"Nangloi Jat\">Nangloi Jat</a> (Census Town)</td>\n",
       "<td>205,596</td>\n",
       "</tr>\n",
       "<tr>\n",
       "<td><a href=\"/census/city/53-bhalswa-jahangir-pur.html\" title=\"Bhalswa Jahangir Pur\">Bhalswa Jahangir Pur</a> (Census Town)</td>\n",
       "<td>197,148</td>\n",
       "</tr>\n",
       "<tr>\n",
       "<td><a href=\"/census/city/52-sultan-pur-majra.html\" title=\"Sultan Pur Majra\">Sultan Pur Majra</a> (Census Town)</td>\n",
       "<td>181,554</td>\n",
       "</tr>\n",
       "<tr>\n",
       "<td><a href=\"/census/city/60-hastsal.html\" title=\"Hastsal\">Hastsal</a> (Census Town)</td>\n",
       "<td>176,877</td>\n",
       "</tr>\n",
       "<tr>\n",
       "<td><a href=\"/census/city/63-deoli.html\" title=\"Deoli\">Deoli</a> (Census Town)</td>\n",
       "<td>169,122</td>\n",
       "</tr>\n",
       "<tr>\n",
       "<td><a href=\"/census/city/59-dallo-pura.html\" title=\"Dallo Pura\">Dallo Pura</a> (Census Town)</td>\n",
       "<td>154,791</td>\n",
       "</tr>\n",
       "<tr>\n",
       "<td><a href=\"/census/city/54-burari.html\" title=\"Burari\">Burari</a> (Census Town)</td>\n",
       "<td>146,190</td>\n",
       "</tr>\n",
       "<tr>\n",
       "<td><a href=\"/census/city/56-mustafabad.html\" title=\"Mustafabad\">Mustafabad</a> (Census Town)</td>\n",
       "<td>127,167</td>\n",
       "</tr>\n",
       "<tr>\n",
       "<td><a href=\"/census/city/57-gokal-pur.html\" title=\"Gokal Pur\">Gokal Pur</a> (Census Town)</td>\n",
       "<td>121,870</td>\n",
       "</tr>\n",
       "<tr>\n",
       "<td><a href=\"/census/city/58-mandoli.html\" title=\"Mandoli\">Mandoli</a> (Census Town)</td>\n",
       "<td>120,417</td>\n",
       "</tr>\n",
       "<tr>\n",
       "<td><a href=\"/census/city/62-delhi-cantonment.html\" title=\"Delhi Cantonment\">Delhi Cantonment</a> (Cantonment Board)</td>\n",
       "<td>110,351</td>\n",
       "</tr>\n",
       "</tbody>\n",
       "</table>\n",
       "</div>\n",
       "<br/>\n",
       "<h3>Towns with population less than 1 Lakh</h3>\n",
       "<div class=\"table-responsive\">\n",
       "<table class=\"table table1 table-striped table-hover\">\n",
       "<thead>\n",
       "<tr>\n",
       "<th>Town</th>\n",
       "<th>Type</th>\n",
       "<th>Population</th>\n",
       "</tr>\n",
       "</thead>\n",
       "<tbody>\n",
       "<tr>\n",
       "<td><a href=\"/data/town/64086-aali-delhi.html\" title=\"Aali\">Aali</a></td>\n",
       "<td>Census Town</td>\n",
       "<td>27,169</td>\n",
       "</tr>\n",
       "<tr>\n",
       "<td><a href=\"/data/town/63910-ali-pur-delhi.html\" title=\"Ali Pur\">Ali Pur</a></td>\n",
       "<td>Census Town</td>\n",
       "<td>20,332</td>\n",
       "</tr>\n",
       "<tr>\n",
       "<td><a href=\"/data/town/64070-asola-delhi.html\" title=\"Asola\">Asola</a></td>\n",
       "<td>Census Town</td>\n",
       "<td>13,275</td>\n",
       "</tr>\n",
       "<tr>\n",
       "<td><a href=\"/data/town/64065-aya-nagar-delhi.html\" title=\"Aya Nagar\">Aya Nagar</a></td>\n",
       "<td>Census Town</td>\n",
       "<td>33,123</td>\n",
       "</tr>\n",
       "<tr>\n",
       "<td><a href=\"/data/town/63980-babar-pur-delhi.html\" title=\"Babar Pur\">Babar Pur</a></td>\n",
       "<td>Census Town</td>\n",
       "<td>37,058</td>\n",
       "</tr>\n",
       "<tr>\n",
       "<td><a href=\"/data/town/63908-bakhtawar-pur-delhi.html\" title=\"Bakhtawar Pur\">Bakhtawar Pur</a></td>\n",
       "<td>Census Town</td>\n",
       "<td>12,716</td>\n",
       "</tr>\n",
       "<tr>\n",
       "<td><a href=\"/data/town/64002-bakkar-wala-delhi.html\" title=\"Bakkar Wala\">Bakkar Wala</a></td>\n",
       "<td>Census Town</td>\n",
       "<td>18,122</td>\n",
       "</tr>\n",
       "<tr>\n",
       "<td><a href=\"/data/town/63909-bankauli-delhi.html\" title=\"Bankauli\">Bankauli</a></td>\n",
       "<td>Census Town</td>\n",
       "<td>5,339</td>\n",
       "</tr>\n",
       "<tr>\n",
       "<td><a href=\"/data/town/63905-bankner-delhi.html\" title=\"Bankner\">Bankner</a></td>\n",
       "<td>Census Town</td>\n",
       "<td>14,788</td>\n",
       "</tr>\n",
       "<tr>\n",
       "<td><a href=\"/data/town/63995-bapraula-delhi.html\" title=\"Bapraula\">Bapraula</a></td>\n",
       "<td>Census Town</td>\n",
       "<td>52,744</td>\n",
       "</tr>\n",
       "<tr>\n",
       "<td><a href=\"/data/town/63969-baqiabad-delhi.html\" title=\"Baqiabad\">Baqiabad</a></td>\n",
       "<td>Census Town</td>\n",
       "<td>14,429</td>\n",
       "</tr>\n",
       "<tr>\n",
       "<td><a href=\"/data/town/63920-barwala-delhi.html\" title=\"Barwala\">Barwala</a></td>\n",
       "<td>Census Town</td>\n",
       "<td>8,948</td>\n",
       "</tr>\n",
       "<tr>\n",
       "<td><a href=\"/data/town/63922-bawana-delhi.html\" title=\"Bawana\">Bawana</a></td>\n",
       "<td>Census Town</td>\n",
       "<td>73,680</td>\n",
       "</tr>\n",
       "<tr>\n",
       "<td><a href=\"/data/town/63946-begum-pur-delhi.html\" title=\"Begum Pur\">Begum Pur</a></td>\n",
       "<td>Census Town</td>\n",
       "<td>53,682</td>\n",
       "</tr>\n",
       "<tr>\n",
       "<td><a href=\"/data/town/64069-bhati-delhi.html\" title=\"Bhati\">Bhati</a></td>\n",
       "<td>Census Town</td>\n",
       "<td>18,864</td>\n",
       "</tr>\n",
       "<tr>\n",
       "<td><a href=\"/data/town/63906-bhor-garh-delhi.html\" title=\"Bhor Garh\">Bhor Garh</a></td>\n",
       "<td>Census Town</td>\n",
       "<td>8,627</td>\n",
       "</tr>\n",
       "<tr>\n",
       "<td><a href=\"/data/town/64071-chandan-hola-delhi.html\" title=\"Chandan Hola\">Chandan Hola</a></td>\n",
       "<td>Census Town</td>\n",
       "<td>6,780</td>\n",
       "</tr>\n",
       "<tr>\n",
       "<td><a href=\"/data/town/64073-chattar-pur-delhi.html\" title=\"Chattar Pur\">Chattar Pur</a></td>\n",
       "<td>Census Town</td>\n",
       "<td>46,776</td>\n",
       "</tr>\n",
       "<tr>\n",
       "<td><a href=\"/data/town/64054-chhawala-delhi.html\" title=\"Chhawala\">Chhawala</a></td>\n",
       "<td>Census Town</td>\n",
       "<td>14,662</td>\n",
       "</tr>\n",
       "<tr>\n",
       "<td><a href=\"/data/town/63989-chilla-saroda-bangar-delhi.html\" title=\"Chilla Saroda Bangar\">Chilla Saroda Bangar</a></td>\n",
       "<td>Census Town</td>\n",
       "<td>83,217</td>\n",
       "</tr>\n",
       "<tr>\n",
       "<td><a href=\"/data/town/63990-chilla-saroda-khadar-delhi.html\" title=\"Chilla Saroda Khadar\">Chilla Saroda Khadar</a></td>\n",
       "<td>Census Town</td>\n",
       "<td>11,743</td>\n",
       "</tr>\n",
       "<tr>\n",
       "<td><a href=\"/data/town/63923-darya-pur-kalan-delhi.html\" title=\"Darya Pur Kalan\">Darya Pur Kalan</a></td>\n",
       "<td>Census Town</td>\n",
       "<td>6,310</td>\n",
       "</tr>\n",
       "<tr>\n",
       "<td><a href=\"/data/town/63971-dayal-pur-delhi.html\" title=\"Dayal Pur\">Dayal Pur</a></td>\n",
       "<td>Census Town</td>\n",
       "<td>20,589</td>\n",
       "</tr>\n",
       "<tr>\n",
       "<td><a href=\"/data/town/64068-dera-mandi-delhi.html\" title=\"Dera Mandi\">Dera Mandi</a></td>\n",
       "<td>Census Town</td>\n",
       "<td>16,725</td>\n",
       "</tr>\n",
       "<tr>\n",
       "<td><a href=\"/data/town/64051-dindar-pur-delhi.html\" title=\"Dindar Pur\">Dindar Pur</a></td>\n",
       "<td>Census Town</td>\n",
       "<td>35,856</td>\n",
       "</tr>\n",
       "<tr>\n",
       "<td><a href=\"/data/town/64067-fateh-pur-beri-delhi.html\" title=\"Fateh Pur Beri\">Fateh Pur Beri</a></td>\n",
       "<td>Census Town</td>\n",
       "<td>8,861</td>\n",
       "</tr>\n",
       "<tr>\n",
       "<td><a href=\"/data/town/63986-gharoli-delhi.html\" title=\"Gharoli\">Gharoli</a></td>\n",
       "<td>Census Town</td>\n",
       "<td>92,540</td>\n",
       "</tr>\n",
       "<tr>\n",
       "<td><a href=\"/data/town/63985-gharonda-neemka-bangar-alias-patpar-ganj-delhi.html\" title=\"Gharonda Neemka Bangar alias Patpar Ganj\">Gharonda Neemka Bangar alias Patpar Ganj</a></td>\n",
       "<td>Census Town</td>\n",
       "<td>37,876</td>\n",
       "</tr>\n",
       "<tr>\n",
       "<td><a href=\"/data/town/63939-gheora-delhi.html\" title=\"Gheora\">Gheora</a></td>\n",
       "<td>Census Town</td>\n",
       "<td>6,876</td>\n",
       "</tr>\n",
       "<tr>\n",
       "<td><a href=\"/data/town/64061-ghitorni-delhi.html\" title=\"Ghitorni\">Ghitorni</a></td>\n",
       "<td>Census Town</td>\n",
       "<td>14,893</td>\n",
       "</tr>\n",
       "<tr>\n",
       "<td><a href=\"/data/town/63912-ibrahim-pur-delhi.html\" title=\"Ibrahim Pur\">Ibrahim Pur</a></td>\n",
       "<td>Census Town</td>\n",
       "<td>10,614</td>\n",
       "</tr>\n",
       "<tr>\n",
       "<td><a href=\"/data/town/63981-jaffrabad-delhi.html\" title=\"Jaffrabad\">Jaffrabad</a></td>\n",
       "<td>Census Town</td>\n",
       "<td>54,601</td>\n",
       "</tr>\n",
       "<tr>\n",
       "<td><a href=\"/data/town/64087-jait-pur-delhi.html\" title=\"Jait Pur\">Jait Pur</a></td>\n",
       "<td>Census Town</td>\n",
       "<td>59,330</td>\n",
       "</tr>\n",
       "<tr>\n",
       "<td><a href=\"/data/town/64045-jharoda-kalan-delhi.html\" title=\"Jharoda Kalan\">Jharoda Kalan</a></td>\n",
       "<td>Census Town</td>\n",
       "<td>19,578</td>\n",
       "</tr>\n",
       "<tr>\n",
       "<td><a href=\"/data/town/63958-jharoda-majra-burari-delhi.html\" title=\"Jharoda Majra Burari\">Jharoda Majra Burari</a></td>\n",
       "<td>Census Town</td>\n",
       "<td>22,878</td>\n",
       "</tr>\n",
       "<tr>\n",
       "<td><a href=\"/data/town/63972-jiwan-pur-alias-johri-pur-delhi.html\" title=\"Jiwan Pur alias Johri Pur\">Jiwan Pur alias Johri Pur</a></td>\n",
       "<td>Census Town</td>\n",
       "<td>43,054</td>\n",
       "</tr>\n",
       "<tr>\n",
       "<td><a href=\"/data/town/64066-jona-pur-delhi.html\" title=\"Jona Pur\">Jona Pur</a></td>\n",
       "<td>Census Town</td>\n",
       "<td>10,635</td>\n",
       "</tr>\n",
       "<tr>\n",
       "<td><a href=\"/data/town/64046-kair-delhi.html\" title=\"Kair\">Kair</a></td>\n",
       "<td>Census Town</td>\n",
       "<td>4,074</td>\n",
       "</tr>\n",
       "<tr>\n",
       "<td><a href=\"/data/town/63956-kamal-pur-majra-burari-delhi.html\" title=\"Kamal Pur Majra Burari\">Kamal Pur Majra Burari</a></td>\n",
       "<td>Census Town</td>\n",
       "<td>43,086</td>\n",
       "</tr>\n",
       "<tr>\n",
       "<td><a href=\"/data/town/63938-kanjhawala-delhi.html\" title=\"Kanjhawala\">Kanjhawala</a></td>\n",
       "<td>Census Town</td>\n",
       "<td>10,331</td>\n",
       "</tr>\n",
       "<tr>\n",
       "<td><a href=\"/data/town/64059-kapas-hera-delhi.html\" title=\"Kapas Hera\">Kapas Hera</a></td>\n",
       "<td>Census Town</td>\n",
       "<td>74,073</td>\n",
       "</tr>\n",
       "<tr>\n",
       "<td><a href=\"/data/town/63945-karala-delhi.html\" title=\"Karala\">Karala</a></td>\n",
       "<td>Census Town</td>\n",
       "<td>35,730</td>\n",
       "</tr>\n",
       "<tr>\n",
       "<td><a href=\"/data/town/63976-khajoori-khas-delhi.html\" title=\"Khajoori Khas\">Khajoori Khas</a></td>\n",
       "<td>Census Town</td>\n",
       "<td>76,640</td>\n",
       "</tr>\n",
       "<tr>\n",
       "<td><a href=\"/data/town/63974-khan-pur-dhani-delhi.html\" title=\"Khan Pur Dhani\">Khan Pur Dhani</a></td>\n",
       "<td>Census Town</td>\n",
       "<td>6,994</td>\n",
       "</tr>\n",
       "<tr>\n",
       "<td><a href=\"/data/town/64050-khera-delhi.html\" title=\"Khera\">Khera</a></td>\n",
       "<td>Census Town</td>\n",
       "<td>7,220</td>\n",
       "</tr>\n",
       "<tr>\n",
       "<td><a href=\"/data/town/63916-khera-kalan-delhi.html\" title=\"Khera Kalan\">Khera Kalan</a></td>\n",
       "<td>Census Town</td>\n",
       "<td>8,252</td>\n",
       "</tr>\n",
       "<tr>\n",
       "<td><a href=\"/data/town/63919-khera-khurd-delhi.html\" title=\"Khera Khurd\">Khera Khurd</a></td>\n",
       "<td>Census Town</td>\n",
       "<td>9,777</td>\n",
       "</tr>\n",
       "<tr>\n",
       "<td><a href=\"/data/town/63987-kondli-delhi.html\" title=\"Kondli\">Kondli</a></td>\n",
       "<td>Census Town</td>\n",
       "<td>38,207</td>\n",
       "</tr>\n",
       "<tr>\n",
       "<td><a href=\"/data/town/64081-kotla-mahigiran-delhi.html\" title=\"Kotla Mahigiran\">Kotla Mahigiran</a></td>\n",
       "<td>Census Town</td>\n",
       "<td>7,376</td>\n",
       "</tr>\n",
       "<tr>\n",
       "<td><a href=\"/data/town/64056-kusum-pur-delhi.html\" title=\"Kusum Pur\">Kusum Pur</a></td>\n",
       "<td>Census Town</td>\n",
       "<td>17,028</td>\n",
       "</tr>\n",
       "<tr>\n",
       "<td><a href=\"/data/town/63937-lad-pur-delhi.html\" title=\"Lad Pur\">Lad Pur</a></td>\n",
       "<td>Census Town</td>\n",
       "<td>5,529</td>\n",
       "</tr>\n",
       "<tr>\n",
       "<td><a href=\"/data/town/63914-libas-pur-delhi.html\" title=\"Libas Pur\">Libas Pur</a></td>\n",
       "<td>Census Town</td>\n",
       "<td>44,375</td>\n",
       "</tr>\n",
       "<tr>\n",
       "<td><a href=\"/data/town/64074-maidan-garhi-delhi.html\" title=\"Maidan Garhi\">Maidan Garhi</a></td>\n",
       "<td>Census Town</td>\n",
       "<td>11,111</td>\n",
       "</tr>\n",
       "<tr>\n",
       "<td><a href=\"/data/town/64057-malik-pur-kohi-alias-rang-puri-delhi.html\" title=\"Malik Pur Kohi alias Rang Puri\">Malik Pur Kohi alias Rang Puri</a></td>\n",
       "<td>Census Town</td>\n",
       "<td>23,726</td>\n",
       "</tr>\n",
       "<tr>\n",
       "<td><a href=\"/data/town/63977-mir-pur-turk-delhi.html\" title=\"Mir Pur Turk\">Mir Pur Turk</a></td>\n",
       "<td>Census Town</td>\n",
       "<td>19,098</td>\n",
       "</tr>\n",
       "<tr>\n",
       "<td><a href=\"/data/town/64084-mithe-pur-delhi.html\" title=\"Mithe Pur\">Mithe Pur</a></td>\n",
       "<td>Census Town</td>\n",
       "<td>69,837</td>\n",
       "</tr>\n",
       "<tr>\n",
       "<td><a href=\"/data/town/64049-mitraon-delhi.html\" title=\"Mitraon\">Mitraon</a></td>\n",
       "<td>Census Town</td>\n",
       "<td>6,512</td>\n",
       "</tr>\n",
       "<tr>\n",
       "<td><a href=\"/data/town/63944-mohammad-pur-majri-delhi.html\" title=\"Mohammad Pur Majri\">Mohammad Pur Majri</a></td>\n",
       "<td>Census Town</td>\n",
       "<td>17,462</td>\n",
       "</tr>\n",
       "<tr>\n",
       "<td><a href=\"/data/town/64085-molar-band-delhi.html\" title=\"Molar Band\">Molar Band</a></td>\n",
       "<td>Census Town</td>\n",
       "<td>91,402</td>\n",
       "</tr>\n",
       "<tr>\n",
       "<td><a href=\"/data/town/64055-moradabad-pahari-delhi.html\" title=\"Moradabad Pahari\">Moradabad Pahari</a></td>\n",
       "<td>Census Town</td>\n",
       "<td>21,502</td>\n",
       "</tr>\n",
       "<tr>\n",
       "<td><a href=\"/data/town/63941-mubarak-pur-dabas-delhi.html\" title=\"Mubarak Pur Dabas\">Mubarak Pur Dabas</a></td>\n",
       "<td>Census Town</td>\n",
       "<td>12,043</td>\n",
       "</tr>\n",
       "<tr>\n",
       "<td><a href=\"/data/town/63955-mukand-pur-delhi.html\" title=\"Mukand Pur\">Mukand Pur</a></td>\n",
       "<td>Census Town</td>\n",
       "<td>57,135</td>\n",
       "</tr>\n",
       "<tr>\n",
       "<td><a href=\"/data/town/63911-mukhmel-pur-delhi.html\" title=\"Mukhmel Pur\">Mukhmel Pur</a></td>\n",
       "<td>Census Town</td>\n",
       "<td>4,931</td>\n",
       "</tr>\n",
       "<tr>\n",
       "<td><a href=\"/data/town/64001-mundka-delhi.html\" title=\"Mundka\">Mundka</a></td>\n",
       "<td>Census Town</td>\n",
       "<td>54,541</td>\n",
       "</tr>\n",
       "<tr>\n",
       "<td><a href=\"/data/town/64053-nangli-sakrawati-delhi.html\" title=\"Nangli Sakrawati\">Nangli Sakrawati</a></td>\n",
       "<td>Census Town</td>\n",
       "<td>37,706</td>\n",
       "</tr>\n",
       "<tr>\n",
       "<td><a href=\"/data/town/64077-neb-sarai-delhi.html\" title=\"Neb Sarai\">Neb Sarai</a></td>\n",
       "<td>Census Town</td>\n",
       "<td>15,640</td>\n",
       "</tr>\n",
       "<tr>\n",
       "<td><a href=\"/data/town/63998-nilothi-delhi.html\" title=\"Nilothi\">Nilothi</a></td>\n",
       "<td>Census Town</td>\n",
       "<td>43,371</td>\n",
       "</tr>\n",
       "<tr>\n",
       "<td><a href=\"/data/town/63943-nithari-delhi.html\" title=\"Nithari\">Nithari</a></td>\n",
       "<td>Census Town</td>\n",
       "<td>50,464</td>\n",
       "</tr>\n",
       "<tr>\n",
       "<td><a href=\"/data/town/63918-pehlad-pur-bangar-delhi.html\" title=\"Pehlad Pur Bangar\">Pehlad Pur Bangar</a></td>\n",
       "<td>Census Town</td>\n",
       "<td>22,968</td>\n",
       "</tr>\n",
       "<tr>\n",
       "<td><a href=\"/data/town/63947-pooth-kalan-delhi.html\" title=\"Pooth Kalan\">Pooth Kalan</a></td>\n",
       "<td>Census Town</td>\n",
       "<td>96,002</td>\n",
       "</tr>\n",
       "<tr>\n",
       "<td><a href=\"/data/town/63921-pooth-khurd-delhi.html\" title=\"Pooth Khurd\">Pooth Khurd</a></td>\n",
       "<td>Census Town</td>\n",
       "<td>10,654</td>\n",
       "</tr>\n",
       "<tr>\n",
       "<td><a href=\"/data/town/64082-pul-pehlad-delhi.html\" title=\"Pul Pehlad\">Pul Pehlad</a></td>\n",
       "<td>Census Town</td>\n",
       "<td>69,657</td>\n",
       "</tr>\n",
       "<tr>\n",
       "<td><a href=\"/data/town/63913-qadi-pur-delhi.html\" title=\"Qadi Pur\">Qadi Pur</a></td>\n",
       "<td>Census Town</td>\n",
       "<td>18,369</td>\n",
       "</tr>\n",
       "<tr>\n",
       "<td><a href=\"/data/town/64000-quammruddin-nagar-delhi.html\" title=\"Quammruddin Nagar\">Quammruddin Nagar</a></td>\n",
       "<td>Census Town</td>\n",
       "<td>25,126</td>\n",
       "</tr>\n",
       "<tr>\n",
       "<td><a href=\"/data/town/64075-raj-pur-khurd-delhi.html\" title=\"Raj Pur Khurd\">Raj Pur Khurd</a></td>\n",
       "<td>Census Town</td>\n",
       "<td>11,161</td>\n",
       "</tr>\n",
       "<tr>\n",
       "<td><a href=\"/data/town/63992-raja-pur-khurd-delhi.html\" title=\"Raja Pur Khurd\">Raja Pur Khurd</a></td>\n",
       "<td>Census Town</td>\n",
       "<td>19,312</td>\n",
       "</tr>\n",
       "<tr>\n",
       "<td><a href=\"/data/town/64060-rajokri-delhi.html\" title=\"Rajokri\">Rajokri</a></td>\n",
       "<td>Census Town</td>\n",
       "<td>19,148</td>\n",
       "</tr>\n",
       "<tr>\n",
       "<td><a href=\"/data/town/63940-rani-khera-delhi.html\" title=\"Rani Khera\">Rani Khera</a></td>\n",
       "<td>Census Town</td>\n",
       "<td>16,402</td>\n",
       "</tr>\n",
       "<tr>\n",
       "<td><a href=\"/data/town/64052-roshan-pura-alias-dichaon-khurd-delhi.html\" title=\"Roshan Pura alias Dichaon Khurd\">Roshan Pura alias Dichaon Khurd</a></td>\n",
       "<td>Census Town</td>\n",
       "<td>57,217</td>\n",
       "</tr>\n",
       "<tr>\n",
       "<td><a href=\"/data/town/63968-sadat-pur-gujran-delhi.html\" title=\"Sadat Pur Gujran\">Sadat Pur Gujran</a></td>\n",
       "<td>Census Town</td>\n",
       "<td>97,641</td>\n",
       "</tr>\n",
       "<tr>\n",
       "<td><a href=\"/data/town/63917-sahibabad-daulat-pur-delhi.html\" title=\"Sahibabad Daulat Pur\">Sahibabad Daulat Pur</a></td>\n",
       "<td>Census Town</td>\n",
       "<td>54,773</td>\n",
       "</tr>\n",
       "<tr>\n",
       "<td><a href=\"/data/town/64080-saidabad-delhi.html\" title=\"Saidabad\">Saidabad</a></td>\n",
       "<td>Census Town</td>\n",
       "<td>10,168</td>\n",
       "</tr>\n",
       "<tr>\n",
       "<td><a href=\"/data/town/64078-saidul-azaib-delhi.html\" title=\"Saidul Azaib\">Saidul Azaib</a></td>\n",
       "<td>Census Town</td>\n",
       "<td>17,914</td>\n",
       "</tr>\n",
       "<tr>\n",
       "<td><a href=\"/data/town/64058-sambhalka-delhi.html\" title=\"Sambhalka\">Sambhalka</a></td>\n",
       "<td>Census Town</td>\n",
       "<td>17,076</td>\n",
       "</tr>\n",
       "<tr>\n",
       "<td><a href=\"/data/town/63997-shafi-pur-ranhola-delhi.html\" title=\"Shafi Pur Ranhola\">Shafi Pur Ranhola</a></td>\n",
       "<td>Census Town</td>\n",
       "<td>31,944</td>\n",
       "</tr>\n",
       "<tr>\n",
       "<td><a href=\"/data/town/63983-shakar-pur-baramad-delhi.html\" title=\"Shakar Pur Baramad\">Shakar Pur Baramad</a></td>\n",
       "<td>Census Town</td>\n",
       "<td>1,178</td>\n",
       "</tr>\n",
       "<tr>\n",
       "<td><a href=\"/data/town/63915-siras-pur-delhi.html\" title=\"Siras Pur\">Siras Pur</a></td>\n",
       "<td>Census Town</td>\n",
       "<td>30,445</td>\n",
       "</tr>\n",
       "<tr>\n",
       "<td><a href=\"/data/town/64072-sultan-pur-delhi.html\" title=\"Sultan Pur\">Sultan Pur</a></td>\n",
       "<td>Census Town</td>\n",
       "<td>15,160</td>\n",
       "</tr>\n",
       "<tr>\n",
       "<td><a href=\"/data/town/64083-taj-pul-delhi.html\" title=\"Taj Pul\">Taj Pul</a></td>\n",
       "<td>Census Town</td>\n",
       "<td>68,796</td>\n",
       "</tr>\n",
       "<tr>\n",
       "<td><a href=\"/data/town/64079-tigri-delhi.html\" title=\"Tigri\">Tigri</a></td>\n",
       "<td>Census Town</td>\n",
       "<td>46,974</td>\n",
       "</tr>\n",
       "<tr>\n",
       "<td><a href=\"/data/town/64003-tikri-kalan-delhi.html\" title=\"Tikri Kalan\">Tikri Kalan</a></td>\n",
       "<td>Census Town</td>\n",
       "<td>16,313</td>\n",
       "</tr>\n",
       "<tr>\n",
       "<td><a href=\"/data/town/63907-tikri-khurd-delhi.html\" title=\"Tikri Khurd\">Tikri Khurd</a></td>\n",
       "<td>Census Town</td>\n",
       "<td>13,772</td>\n",
       "</tr>\n",
       "<tr>\n",
       "<td><a href=\"/data/town/63996-tilang-pur-kotla-delhi.html\" title=\"Tilang Pur Kotla\">Tilang Pur Kotla</a></td>\n",
       "<td>Census Town</td>\n",
       "<td>13,614</td>\n",
       "</tr>\n",
       "<tr>\n",
       "<td><a href=\"/data/town/63975-tukhmir-pur-delhi.html\" title=\"Tukhmir Pur\">Tukhmir Pur</a></td>\n",
       "<td>Census Town</td>\n",
       "<td>5,658</td>\n",
       "</tr>\n",
       "<tr>\n",
       "<td><a href=\"/data/town/63978-ziauddin-pur-delhi.html\" title=\"Ziauddin Pur\">Ziauddin Pur</a></td>\n",
       "<td>Census Town</td>\n",
       "<td>68,993</td>\n",
       "</tr>\n",
       "</tbody>\n",
       "</table>\n",
       "</div>\n",
       "</main>\n",
       "</div>\n",
       "<footer class=\"bd-footer py-4 py-md-5 mt-5 bg-light\">\n",
       "<div class=\"container py-4 py-md-5 px-4 px-md-3\">\n",
       "<div class=\"row\">\n",
       "<div class=\"col-lg-3 mb-3\">\n",
       "<a aria-label=\"Bootstrap\" class=\"d-inline-flex align-items-center mb-2 link-dark text-decoration-none\" href=\"/\">\n",
       "<svg class=\"d-block me-2\" height=\"32\" role=\"img\" viewbox=\"0 0 118 94\" width=\"40\" xmlns=\"http://www.w3.org/2000/svg\">\n",
       "<title>Bootstrap</title>\n",
       "<path clip-rule=\"evenodd\" d=\"M24.509 0c-6.733 0-11.715 5.893-11.492 12.284.214 6.14-.064 14.092-2.066 20.577C8.943 39.365 5.547 43.485 0 44.014v5.972c5.547.529 8.943 4.649 10.951 11.153 2.002 6.485 2.28 14.437 2.066 20.577C12.794 88.106 17.776 94 24.51 94H93.5c6.733 0 11.714-5.893 11.491-12.284-.214-6.14.064-14.092 2.066-20.577 2.009-6.504 5.396-10.624 10.943-11.153v-5.972c-5.547-.529-8.934-4.649-10.943-11.153-2.002-6.484-2.28-14.437-2.066-20.577C105.214 5.894 100.233 0 93.5 0H24.508zM80 57.863C80 66.663 73.436 72 62.543 72H44a2 2 0 01-2-2V24a2 2 0 012-2h18.437c9.083 0 15.044 4.92 15.044 12.474 0 5.302-4.01 10.049-9.119 10.88v.277C75.317 46.394 80 51.21 80 57.863zM60.521 28.34H49.948v14.934h8.905c6.884 0 10.68-2.772 10.68-7.727 0-4.643-3.264-7.207-9.012-7.207zM49.948 49.2v16.458H60.91c7.167 0 10.964-2.876 10.964-8.281 0-5.406-3.903-8.178-11.425-8.178H49.948z\" fill=\"currentColor\" fill-rule=\"evenodd\"></path> </svg> <span class=\"fs-5\">Census 2022</span> </a>\n",
       "<ul class=\"list-unstyled small text-muted\">\n",
       "<li class=\"mb-2\">Our focus remains on collecting important data and facts for all the states and cities. Please use contact form for further information.</li>\n",
       "<li class=\"mb-2\">Copyright © 2022 Population Census Data</li>\n",
       "</ul>\n",
       "</div>\n",
       "<div class=\"col-6 col-lg-2 offset-lg-1 mb-3\">\n",
       "<h5>Links</h5>\n",
       "<ul class=\"list-unstyled\">\n",
       "<li class=\"mb-2\"> <a href=\"/\">Home</a> </li>\n",
       "<li class=\"mb-2\"> <a href=\"/states.php\">States</a> </li>\n",
       "<li class=\"mb-2\"> <a href=\"/district.php\">District Data</a> </li>\n",
       "<li class=\"mb-2\"> <a href=\"/city.php\">Cities in India</a> </li>\n",
       "<li class=\"mb-2\"> <a href=\"/towns.php\">Towns in India</a> </li>\n",
       "</ul>\n",
       "</div>\n",
       "<div class=\"col-6 col-lg-2 mb-3\">\n",
       "<h5>Facts</h5>\n",
       "<ul class=\"list-unstyled\">\n",
       "<li class=\"mb-2\"> <a href=\"/facts.php\">All facts</a> </li>\n",
       "<li class=\"mb-2\"> <a href=\"/facts/state.php\">State Facts</a> </li>\n",
       "<li class=\"mb-2\"> <a href=\"/facts/district.php\">District Facts</a> </li>\n",
       "<li class=\"mb-2\"> <a href=\"/facts/urban.php\">Metropolitan Facts</a> </li>\n",
       "<li class=\"mb-2\"> <a href=\"/facts/city.php\">City Facts</a> </li>\n",
       "</ul>\n",
       "</div>\n",
       "<div class=\"col-6 col-lg-2 mb-3\">\n",
       "<h5>Facts</h5>\n",
       "<ul class=\"list-unstyled\">\n",
       "<li class=\"mb-2\"> <a href=\"/facts.php\">All facts</a> </li>\n",
       "<li class=\"mb-2\"> <a href=\"/facts/state.php\">State Facts</a> </li>\n",
       "<li class=\"mb-2\"> <a href=\"/facts/district.php\">District Facts</a> </li>\n",
       "<li class=\"mb-2\"> <a href=\"/facts/urban.php\">Metropolitan Facts</a> </li>\n",
       "<li class=\"mb-2\"> <a href=\"/facts/city.php\">City Facts</a> </li>\n",
       "</ul>\n",
       "</div>\n",
       "<div class=\"col-6 col-lg-2 mb-3\">\n",
       "<h5>Facts</h5>\n",
       "<ul class=\"list-unstyled\">\n",
       "<li class=\"mb-2\"> <a href=\"/facts.php\">All facts</a> </li>\n",
       "<li class=\"mb-2\"> <a href=\"/facts/state.php\">State Facts</a> </li>\n",
       "<li class=\"mb-2\"> <a href=\"/facts/district.php\">District Facts</a> </li>\n",
       "<li class=\"mb-2\"> <a href=\"/facts/urban.php\">Metropolitan Facts</a> </li>\n",
       "<li class=\"mb-2\"> <a href=\"/facts/city.php\">City Facts</a> </li>\n",
       "</ul>\n",
       "</div>\n",
       "</div>\n",
       "</div>\n",
       "</footer>\n",
       "<script async=\"\" crossorigin=\"anonymous\" integrity=\"sha384-kenU1KFdBIe4zVF0s0G1M5b4hcpxyD9F7jL+jjXkk+Q2h455rYXK/7HAuoJl+0I4\" src=\"https://cdn.jsdelivr.net/npm/bootstrap@5.2.3/dist/js/bootstrap.bundle.min.js\"></script>\n",
       "<script async=\"\" nonce=\"OftdtzjHJcAYXXRlVkabOg\" src=\"https://fundingchoicesmessages.google.com/i/pub-0612465356921996?ers=1\"></script><script nonce=\"OftdtzjHJcAYXXRlVkabOg\">(function() {function signalGooglefcPresent() {if (!window.frames['googlefcPresent']) {if (document.body) {const iframe = document.createElement('iframe'); iframe.style = 'width: 0; height: 0; border: none; z-index: -1000; left: -1000px; top: -1000px;'; iframe.style.display = 'none'; iframe.name = 'googlefcPresent'; document.body.appendChild(iframe);} else {setTimeout(signalGooglefcPresent, 0);}}}signalGooglefcPresent();})();</script>\n",
       "<script async=\"\" src=\"https://www.googletagmanager.com/gtag/js?id=G-35X0WCV0YK\"></script>\n",
       "<script>\n",
       "  window.dataLayer = window.dataLayer || [];\n",
       "  function gtag(){dataLayer.push(arguments);}\n",
       "  gtag('js', new Date());\n",
       "\n",
       "  gtag('config', 'G-35X0WCV0YK');\n",
       "</script>\n",
       "<script crossorigin=\"anonymous\" data-cf-beacon='{\"rayId\":\"85540d01c8f51a6d\",\"version\":\"2024.2.0\",\"r\":1,\"token\":\"1afca9ee50cd4be3a6048c484e58e0bc\",\"b\":1}' defer=\"\" integrity=\"sha512-euoFGowhlaLqXsPWQ48qSkBSCFs3DPRyiwVu3FjR96cMPx+Fr+gpWRhIafcHwqwCqWS42RZhIudOvEI+Ckf6MA==\" src=\"https://static.cloudflareinsights.com/beacon.min.js/v84a3a4012de94ce1a686ba8c167c359c1696973893317\"></script>\n",
       "</body>\n",
       "</html> "
      ]
     },
     "execution_count": 4,
     "metadata": {},
     "output_type": "execute_result"
    }
   ],
   "source": [
    "soup"
   ]
  },
  {
   "cell_type": "markdown",
   "id": "22c26174",
   "metadata": {},
   "source": [
    "## Working on first table"
   ]
  },
  {
   "cell_type": "code",
   "execution_count": 17,
   "id": "4140aaba",
   "metadata": {},
   "outputs": [
    {
     "data": {
      "text/plain": [
       "<table class=\"table table1 table-striped table-hover\">\n",
       "<thead>\n",
       "<tr>\n",
       "<th>City</th>\n",
       "<th>Population</th>\n",
       "</tr>\n",
       "</thead>\n",
       "<tbody>\n",
       "<tr>\n",
       "<td><a href=\"/census/city/49-delhi.html\" title=\"Delhi\">Delhi</a> (Municipal Corporation)</td>\n",
       "<td>11,034,555</td>\n",
       "</tr>\n",
       "<tr>\n",
       "<td><a href=\"/census/city/51-kirari-suleman-nagar.html\" title=\"Kirari Suleman Nagar\">Kirari Suleman Nagar</a> (Census Town)</td>\n",
       "<td>283,211</td>\n",
       "</tr>\n",
       "<tr>\n",
       "<td><a href=\"/census/city/50-ndmc.html\" title=\"NDMC\">NDMC</a> (Municipal Council)</td>\n",
       "<td>257,803</td>\n",
       "</tr>\n",
       "<tr>\n",
       "<td><a href=\"/census/city/55-karawal-nagar.html\" title=\"Karawal Nagar\">Karawal Nagar</a> (Census Town)</td>\n",
       "<td>224,281</td>\n",
       "</tr>\n",
       "<tr>\n",
       "<td><a href=\"/census/city/61-nangloi-jat.html\" title=\"Nangloi Jat\">Nangloi Jat</a> (Census Town)</td>\n",
       "<td>205,596</td>\n",
       "</tr>\n",
       "<tr>\n",
       "<td><a href=\"/census/city/53-bhalswa-jahangir-pur.html\" title=\"Bhalswa Jahangir Pur\">Bhalswa Jahangir Pur</a> (Census Town)</td>\n",
       "<td>197,148</td>\n",
       "</tr>\n",
       "<tr>\n",
       "<td><a href=\"/census/city/52-sultan-pur-majra.html\" title=\"Sultan Pur Majra\">Sultan Pur Majra</a> (Census Town)</td>\n",
       "<td>181,554</td>\n",
       "</tr>\n",
       "<tr>\n",
       "<td><a href=\"/census/city/60-hastsal.html\" title=\"Hastsal\">Hastsal</a> (Census Town)</td>\n",
       "<td>176,877</td>\n",
       "</tr>\n",
       "<tr>\n",
       "<td><a href=\"/census/city/63-deoli.html\" title=\"Deoli\">Deoli</a> (Census Town)</td>\n",
       "<td>169,122</td>\n",
       "</tr>\n",
       "<tr>\n",
       "<td><a href=\"/census/city/59-dallo-pura.html\" title=\"Dallo Pura\">Dallo Pura</a> (Census Town)</td>\n",
       "<td>154,791</td>\n",
       "</tr>\n",
       "<tr>\n",
       "<td><a href=\"/census/city/54-burari.html\" title=\"Burari\">Burari</a> (Census Town)</td>\n",
       "<td>146,190</td>\n",
       "</tr>\n",
       "<tr>\n",
       "<td><a href=\"/census/city/56-mustafabad.html\" title=\"Mustafabad\">Mustafabad</a> (Census Town)</td>\n",
       "<td>127,167</td>\n",
       "</tr>\n",
       "<tr>\n",
       "<td><a href=\"/census/city/57-gokal-pur.html\" title=\"Gokal Pur\">Gokal Pur</a> (Census Town)</td>\n",
       "<td>121,870</td>\n",
       "</tr>\n",
       "<tr>\n",
       "<td><a href=\"/census/city/58-mandoli.html\" title=\"Mandoli\">Mandoli</a> (Census Town)</td>\n",
       "<td>120,417</td>\n",
       "</tr>\n",
       "<tr>\n",
       "<td><a href=\"/census/city/62-delhi-cantonment.html\" title=\"Delhi Cantonment\">Delhi Cantonment</a> (Cantonment Board)</td>\n",
       "<td>110,351</td>\n",
       "</tr>\n",
       "</tbody>\n",
       "</table>"
      ]
     },
     "execution_count": 17,
     "metadata": {},
     "output_type": "execute_result"
    }
   ],
   "source": [
    "table = soup.find_all(\"table\", class_=\"table table1 table-striped table-hover\")[-2]\n",
    "table"
   ]
  },
  {
   "cell_type": "code",
   "execution_count": 29,
   "id": "4dda4e98",
   "metadata": {},
   "outputs": [
    {
     "data": {
      "text/plain": [
       "[<th>City</th>, <th>Population</th>]"
      ]
     },
     "execution_count": 29,
     "metadata": {},
     "output_type": "execute_result"
    }
   ],
   "source": [
    "columns_html = table.find_all(\"th\")\n",
    "columns_html"
   ]
  },
  {
   "cell_type": "code",
   "execution_count": 30,
   "id": "c62053f1",
   "metadata": {},
   "outputs": [
    {
     "data": {
      "text/plain": [
       "['City', 'Population']"
      ]
     },
     "execution_count": 30,
     "metadata": {},
     "output_type": "execute_result"
    }
   ],
   "source": [
    "columns = [col.text for col in columns_html]\n",
    "columns"
   ]
  },
  {
   "cell_type": "code",
   "execution_count": 55,
   "id": "476ac0f3",
   "metadata": {},
   "outputs": [
    {
     "data": {
      "text/plain": [
       "[<tr>\n",
       " <td><a href=\"/census/city/51-kirari-suleman-nagar.html\" title=\"Kirari Suleman Nagar\">Kirari Suleman Nagar</a> (Census Town)</td>\n",
       " <td>283,211</td>\n",
       " </tr>,\n",
       " <tr>\n",
       " <td><a href=\"/census/city/50-ndmc.html\" title=\"NDMC\">NDMC</a> (Municipal Council)</td>\n",
       " <td>257,803</td>\n",
       " </tr>,\n",
       " <tr>\n",
       " <td><a href=\"/census/city/55-karawal-nagar.html\" title=\"Karawal Nagar\">Karawal Nagar</a> (Census Town)</td>\n",
       " <td>224,281</td>\n",
       " </tr>,\n",
       " <tr>\n",
       " <td><a href=\"/census/city/61-nangloi-jat.html\" title=\"Nangloi Jat\">Nangloi Jat</a> (Census Town)</td>\n",
       " <td>205,596</td>\n",
       " </tr>,\n",
       " <tr>\n",
       " <td><a href=\"/census/city/53-bhalswa-jahangir-pur.html\" title=\"Bhalswa Jahangir Pur\">Bhalswa Jahangir Pur</a> (Census Town)</td>\n",
       " <td>197,148</td>\n",
       " </tr>,\n",
       " <tr>\n",
       " <td><a href=\"/census/city/52-sultan-pur-majra.html\" title=\"Sultan Pur Majra\">Sultan Pur Majra</a> (Census Town)</td>\n",
       " <td>181,554</td>\n",
       " </tr>,\n",
       " <tr>\n",
       " <td><a href=\"/census/city/60-hastsal.html\" title=\"Hastsal\">Hastsal</a> (Census Town)</td>\n",
       " <td>176,877</td>\n",
       " </tr>,\n",
       " <tr>\n",
       " <td><a href=\"/census/city/63-deoli.html\" title=\"Deoli\">Deoli</a> (Census Town)</td>\n",
       " <td>169,122</td>\n",
       " </tr>,\n",
       " <tr>\n",
       " <td><a href=\"/census/city/59-dallo-pura.html\" title=\"Dallo Pura\">Dallo Pura</a> (Census Town)</td>\n",
       " <td>154,791</td>\n",
       " </tr>,\n",
       " <tr>\n",
       " <td><a href=\"/census/city/54-burari.html\" title=\"Burari\">Burari</a> (Census Town)</td>\n",
       " <td>146,190</td>\n",
       " </tr>,\n",
       " <tr>\n",
       " <td><a href=\"/census/city/56-mustafabad.html\" title=\"Mustafabad\">Mustafabad</a> (Census Town)</td>\n",
       " <td>127,167</td>\n",
       " </tr>,\n",
       " <tr>\n",
       " <td><a href=\"/census/city/57-gokal-pur.html\" title=\"Gokal Pur\">Gokal Pur</a> (Census Town)</td>\n",
       " <td>121,870</td>\n",
       " </tr>,\n",
       " <tr>\n",
       " <td><a href=\"/census/city/58-mandoli.html\" title=\"Mandoli\">Mandoli</a> (Census Town)</td>\n",
       " <td>120,417</td>\n",
       " </tr>,\n",
       " <tr>\n",
       " <td><a href=\"/census/city/62-delhi-cantonment.html\" title=\"Delhi Cantonment\">Delhi Cantonment</a> (Cantonment Board)</td>\n",
       " <td>110,351</td>\n",
       " </tr>]"
      ]
     },
     "execution_count": 55,
     "metadata": {},
     "output_type": "execute_result"
    }
   ],
   "source": [
    "rows_html = table.find_all(\"tr\")[2:]\n",
    "rows_html"
   ]
  },
  {
   "cell_type": "code",
   "execution_count": 65,
   "id": "e8dcbeec",
   "metadata": {},
   "outputs": [
    {
     "data": {
      "text/plain": [
       "['Kirari Suleman Nagar (Census Town)\\n283,211',\n",
       " 'NDMC (Municipal Council)\\n257,803',\n",
       " 'Karawal Nagar (Census Town)\\n224,281',\n",
       " 'Nangloi Jat (Census Town)\\n205,596',\n",
       " 'Bhalswa Jahangir Pur (Census Town)\\n197,148',\n",
       " 'Sultan Pur Majra (Census Town)\\n181,554',\n",
       " 'Hastsal (Census Town)\\n176,877',\n",
       " 'Deoli (Census Town)\\n169,122',\n",
       " 'Dallo Pura (Census Town)\\n154,791',\n",
       " 'Burari (Census Town)\\n146,190',\n",
       " 'Mustafabad (Census Town)\\n127,167',\n",
       " 'Gokal Pur (Census Town)\\n121,870',\n",
       " 'Mandoli (Census Town)\\n120,417',\n",
       " 'Delhi Cantonment (Cantonment Board)\\n110,351']"
      ]
     },
     "execution_count": 65,
     "metadata": {},
     "output_type": "execute_result"
    }
   ],
   "source": [
    "rows = [r.text.strip() for r in rows_html]\n",
    "rows"
   ]
  },
  {
   "cell_type": "code",
   "execution_count": 66,
   "id": "c01e6989",
   "metadata": {},
   "outputs": [],
   "source": [
    "st = \"Kirari Suleman Nagar (Census Town)\\n283,211\""
   ]
  },
  {
   "cell_type": "code",
   "execution_count": 67,
   "id": "d7e35e2e",
   "metadata": {
    "scrolled": true
   },
   "outputs": [
    {
     "data": {
      "text/plain": [
       "['Kirari Suleman Nagar (Census Town)', '283,211']"
      ]
     },
     "execution_count": 67,
     "metadata": {},
     "output_type": "execute_result"
    }
   ],
   "source": [
    "st.split(\"\\n\")"
   ]
  },
  {
   "cell_type": "code",
   "execution_count": 68,
   "id": "d5095f55",
   "metadata": {},
   "outputs": [],
   "source": [
    "def filter_rows(rows):\n",
    "    li = []\n",
    "    for r in rows:\n",
    "        li.append(r.split(\"\\n\"))\n",
    "    return li"
   ]
  },
  {
   "cell_type": "code",
   "execution_count": 69,
   "id": "5291a3f7",
   "metadata": {},
   "outputs": [
    {
     "data": {
      "text/plain": [
       "[['Kirari Suleman Nagar (Census Town)', '283,211'],\n",
       " ['NDMC (Municipal Council)', '257,803'],\n",
       " ['Karawal Nagar (Census Town)', '224,281'],\n",
       " ['Nangloi Jat (Census Town)', '205,596'],\n",
       " ['Bhalswa Jahangir Pur (Census Town)', '197,148'],\n",
       " ['Sultan Pur Majra (Census Town)', '181,554'],\n",
       " ['Hastsal (Census Town)', '176,877'],\n",
       " ['Deoli (Census Town)', '169,122'],\n",
       " ['Dallo Pura (Census Town)', '154,791'],\n",
       " ['Burari (Census Town)', '146,190'],\n",
       " ['Mustafabad (Census Town)', '127,167'],\n",
       " ['Gokal Pur (Census Town)', '121,870'],\n",
       " ['Mandoli (Census Town)', '120,417'],\n",
       " ['Delhi Cantonment (Cantonment Board)', '110,351']]"
      ]
     },
     "execution_count": 69,
     "metadata": {},
     "output_type": "execute_result"
    }
   ],
   "source": [
    "rows_ = filter_rows(rows)\n",
    "rows_"
   ]
  },
  {
   "cell_type": "code",
   "execution_count": 83,
   "id": "537f50f7",
   "metadata": {},
   "outputs": [
    {
     "data": {
      "text/plain": [
       "[['Kirari Suleman Nagar', '283,211'],\n",
       " ['NDMC', '257,803'],\n",
       " ['Karawal Nagar', '224,281'],\n",
       " ['Nangloi Jat', '205,596'],\n",
       " ['Bhalswa Jahangir Pur', '197,148'],\n",
       " ['Sultan Pur Majra', '181,554'],\n",
       " ['Hastsal', '176,877'],\n",
       " ['Deoli', '169,122'],\n",
       " ['Dallo Pura', '154,791'],\n",
       " ['Burari', '146,190'],\n",
       " ['Mustafabad', '127,167'],\n",
       " ['Gokal Pur', '121,870'],\n",
       " ['Mandoli', '120,417'],\n",
       " ['Delhi Cantonment', '110,351']]"
      ]
     },
     "execution_count": 83,
     "metadata": {},
     "output_type": "execute_result"
    }
   ],
   "source": [
    "rows_ = [[name.split('(')[0].strip(), population] for name, population in rows_]\n",
    "rows_"
   ]
  },
  {
   "cell_type": "code",
   "execution_count": 194,
   "id": "42be33ec",
   "metadata": {},
   "outputs": [
    {
     "data": {
      "text/html": [
       "<div>\n",
       "<style scoped>\n",
       "    .dataframe tbody tr th:only-of-type {\n",
       "        vertical-align: middle;\n",
       "    }\n",
       "\n",
       "    .dataframe tbody tr th {\n",
       "        vertical-align: top;\n",
       "    }\n",
       "\n",
       "    .dataframe thead th {\n",
       "        text-align: right;\n",
       "    }\n",
       "</style>\n",
       "<table border=\"1\" class=\"dataframe\">\n",
       "  <thead>\n",
       "    <tr style=\"text-align: right;\">\n",
       "      <th></th>\n",
       "      <th>City</th>\n",
       "      <th>Population</th>\n",
       "    </tr>\n",
       "  </thead>\n",
       "  <tbody>\n",
       "    <tr>\n",
       "      <th>0</th>\n",
       "      <td>Kirari Suleman Nagar</td>\n",
       "      <td>283,211</td>\n",
       "    </tr>\n",
       "    <tr>\n",
       "      <th>1</th>\n",
       "      <td>NDMC</td>\n",
       "      <td>257,803</td>\n",
       "    </tr>\n",
       "    <tr>\n",
       "      <th>2</th>\n",
       "      <td>Karawal Nagar</td>\n",
       "      <td>224,281</td>\n",
       "    </tr>\n",
       "    <tr>\n",
       "      <th>3</th>\n",
       "      <td>Nangloi Jat</td>\n",
       "      <td>205,596</td>\n",
       "    </tr>\n",
       "    <tr>\n",
       "      <th>4</th>\n",
       "      <td>Bhalswa Jahangir Pur</td>\n",
       "      <td>197,148</td>\n",
       "    </tr>\n",
       "    <tr>\n",
       "      <th>5</th>\n",
       "      <td>Sultan Pur Majra</td>\n",
       "      <td>181,554</td>\n",
       "    </tr>\n",
       "    <tr>\n",
       "      <th>6</th>\n",
       "      <td>Hastsal</td>\n",
       "      <td>176,877</td>\n",
       "    </tr>\n",
       "    <tr>\n",
       "      <th>7</th>\n",
       "      <td>Deoli</td>\n",
       "      <td>169,122</td>\n",
       "    </tr>\n",
       "    <tr>\n",
       "      <th>8</th>\n",
       "      <td>Dallo Pura</td>\n",
       "      <td>154,791</td>\n",
       "    </tr>\n",
       "    <tr>\n",
       "      <th>9</th>\n",
       "      <td>Burari</td>\n",
       "      <td>146,190</td>\n",
       "    </tr>\n",
       "    <tr>\n",
       "      <th>10</th>\n",
       "      <td>Mustafabad</td>\n",
       "      <td>127,167</td>\n",
       "    </tr>\n",
       "    <tr>\n",
       "      <th>11</th>\n",
       "      <td>Gokal Pur</td>\n",
       "      <td>121,870</td>\n",
       "    </tr>\n",
       "    <tr>\n",
       "      <th>12</th>\n",
       "      <td>Mandoli</td>\n",
       "      <td>120,417</td>\n",
       "    </tr>\n",
       "    <tr>\n",
       "      <th>13</th>\n",
       "      <td>Delhi Cantonment</td>\n",
       "      <td>110,351</td>\n",
       "    </tr>\n",
       "  </tbody>\n",
       "</table>\n",
       "</div>"
      ],
      "text/plain": [
       "                    City Population\n",
       "0   Kirari Suleman Nagar    283,211\n",
       "1                   NDMC    257,803\n",
       "2          Karawal Nagar    224,281\n",
       "3            Nangloi Jat    205,596\n",
       "4   Bhalswa Jahangir Pur    197,148\n",
       "5       Sultan Pur Majra    181,554\n",
       "6                Hastsal    176,877\n",
       "7                  Deoli    169,122\n",
       "8             Dallo Pura    154,791\n",
       "9                 Burari    146,190\n",
       "10            Mustafabad    127,167\n",
       "11             Gokal Pur    121,870\n",
       "12               Mandoli    120,417\n",
       "13      Delhi Cantonment    110,351"
      ]
     },
     "execution_count": 194,
     "metadata": {},
     "output_type": "execute_result"
    }
   ],
   "source": [
    "df2 = pd.DataFrame(rows_, columns=columns)\n",
    "df2"
   ]
  },
  {
   "cell_type": "markdown",
   "id": "4dcb20a7",
   "metadata": {},
   "source": [
    "## Working on second table"
   ]
  },
  {
   "cell_type": "code",
   "execution_count": 88,
   "id": "d54e7cbf",
   "metadata": {},
   "outputs": [
    {
     "data": {
      "text/plain": [
       "<!DOCTYPE html>\n",
       "<html lang=\"en\">\n",
       "<head>\n",
       "<title>Delhi Metropolitan Urban Region Population 2011-2024 Census</title>\n",
       "<meta content=\"Population of Delhi Urban Region is 16,349,831 as per official report from Population Census 2011. Delhi Urban Agglomeration is situated in Delhi State/UT.\" name=\"Description\"/>\n",
       "<link href=\"https://www.census2011.co.in/census/metropolitan/50-delhi.html\" rel=\"canonical\"/>\n",
       "<meta content=\"QbxJa6sCRx5cTa6fqP5ym7m___7TzvwWMuJaBdOP3H8\" name=\"google-site-verification\"/>\n",
       "<link as=\"style\" href=\"/assets/css/docs.css?v=1.3\" rel=\"preload\"/>\n",
       "<link as=\"style\" href=\"https://cdn.jsdelivr.net/npm/bootstrap-icons@1.10.2/font/bootstrap-icons.css\" rel=\"preload\"/>\n",
       "<link as=\"style\" href=\"https://cdn.jsdelivr.net/npm/bootstrap@5.2.3/dist/css/bootstrap.min.css\" rel=\"preload\"/>\n",
       "<link href=\"//www.googletagmanager.com\" rel=\"preconnect\"/>\n",
       "<link href=\"//pagead2.googlesyndication.com\" rel=\"preconnect\"/>\n",
       "<link href=\"//googleads.g.doubleclick.net\" rel=\"preconnect\"/>\n",
       "<link href=\"//fonts.googleapis.com\" rel=\"dns-prefetch\"/>\n",
       "<link href=\"//fonts.gstatic.com\" rel=\"dns-prefetch\"/>\n",
       "<meta charset=\"utf-8\"/>\n",
       "<meta content=\"width=device-width, initial-scale=1\" name=\"viewport\"/>\n",
       "<link crossorigin=\"anonymous\" href=\"https://cdn.jsdelivr.net/npm/bootstrap@5.2.3/dist/css/bootstrap.min.css\" integrity=\"sha384-rbsA2VBKQhggwzxH7pPCaAqO46MgnOM80zW1RWuH61DGLwZJEdK2Kadq2F9CUG65\" rel=\"stylesheet\"/>\n",
       "<link href=\"/assets/css/docs.css?v=1.3\" rel=\"stylesheet\"/>\n",
       "<link href=\"https://cdn.jsdelivr.net/npm/bootstrap-icons@1.10.2/font/bootstrap-icons.css\" rel=\"stylesheet\"/>\n",
       "<script async=\"\" src=\"//pagead2.googlesyndication.com/pagead/js/adsbygoogle.js\"></script>\n",
       "<script>\n",
       "\t(adsbygoogle = window.adsbygoogle || []).push({\n",
       "\t\tgoogle_ad_client: \"ca-pub-0612465356921996\",\n",
       "\t\tenable_page_level_ads: true\n",
       "\t});\n",
       "\t</script>\n",
       "</head>\n",
       "<body>\n",
       "<div class=\"skippy visually-hidden-focusable overflow-hidden\">\n",
       "<div class=\"container-xl\"> <a class=\"d-inline-flex p-2 m-1\" href=\"#content\">Skip to main content</a> <a class=\"d-none d-md-inline-flex p-2 m-1\" href=\"#bd-docs-nav\">Skip to docs navigation</a> </div>\n",
       "</div>\n",
       "<header class=\"navbar navbar-expand-lg navbar-dark bd-navbar sticky-top\">\n",
       "<nav aria-label=\"Main navigation\" class=\"container-xxl bd-gutter flex-wrap flex-lg-nowrap\">\n",
       "<div class=\"bd-navbar-toggle\">\n",
       "<button aria-controls=\"bdSidebar\" aria-label=\"Toggle docs navigation\" class=\"navbar-toggler p-2\" data-bs-target=\"#bdSidebar\" data-bs-toggle=\"offcanvas\" type=\"button\"> <i class=\"bi bi-list\"></i> </button>\n",
       "</div> <a aria-label=\"Population Census\" class=\"navbar-brand p-0 me-0 me-lg-2\" href=\"/\">Population Census</a>\n",
       "<div class=\"d-flex\">\n",
       "<button aria-controls=\"bdNavbar\" aria-label=\"Toggle navigation\" class=\"navbar-toggler d-flex d-lg-none order-3 p-2\" data-bs-target=\"#bdNavbar\" data-bs-toggle=\"offcanvas\" type=\"button\"> <i class=\"bi bi-three-dots\"></i> </button>\n",
       "</div>\n",
       "<div aria-labelledby=\"bdNavbarOffcanvasLabel\" class=\"offcanvas-lg offcanvas-end flex-grow-1\" data-bs-scroll=\"true\" id=\"bdNavbar\" tabindex=\"-1\">\n",
       "<div class=\"offcanvas-header px-4 pb-0\">\n",
       "<h5 class=\"offcanvas-title text-white\" id=\"bdNavbarOffcanvasLabel\">Population Census</h5>\n",
       "<button aria-label=\"Close\" class=\"btn-close btn-close-white\" data-bs-dismiss=\"offcanvas\" data-bs-target=\"#bdNavbar\" type=\"button\"></button>\n",
       "</div>\n",
       "<div class=\"offcanvas-body p-4 pt-0 p-lg-0\">\n",
       "<hr class=\"d-lg-none text-white-50\"/>\n",
       "<ul class=\"navbar-nav flex-row flex-wrap bd-navbar-nav\">\n",
       "<li class=\"nav-item col-6 col-lg-auto\"> <a class=\"nav-link py-2 px-0 px-lg-2\" href=\"/\">Home</a> </li>\n",
       "<li class=\"nav-item col-6 col-lg-auto\"> <a class=\"nav-link py-2 px-0 px-lg-2\" href=\"/states.php\">States</a> </li>\n",
       "<li class=\"nav-item col-6 col-lg-auto\"> <a class=\"nav-link py-2 px-0 px-lg-2\" href=\"/district.php\">District</a> </li>\n",
       "<li class=\"nav-item col-6 col-lg-auto\"> <a class=\"nav-link py-2 px-0 px-lg-2\" href=\"/city.php\">Cities</a> </li>\n",
       "<li class=\"nav-item col-6 col-lg-auto\"> <a class=\"nav-link py-2 px-0 px-lg-2\" href=\"/towns.php\">Towns</a> </li>\n",
       "<li class=\"nav-item col-6 col-lg-auto\"> <a class=\"nav-link py-2 px-0 px-lg-2\" href=\"/religion.php\">Religion Data</a> </li>\n",
       "<li class=\"nav-item col-6 col-lg-auto\"> <a class=\"nav-link py-2 px-0 px-lg-2\" href=\"/facts.php\">Interesting Facts</a> </li>\n",
       "</ul>\n",
       "<hr class=\"d-lg-none text-white-50\"/>\n",
       "<div class=\"d-flex justify-content-end flex-row-reverse\">\n",
       "<form action=\"/search.php\" class=\"form-inline d-flex\" id=\"cse-search-box\" role=\"search\">\n",
       "<input name=\"cx\" type=\"hidden\" value=\"partner-pub-0612465356921996:9964620645\"/>\n",
       "<input name=\"cof\" type=\"hidden\" value=\"FORID:10\"/>\n",
       "<input name=\"ie\" type=\"hidden\" value=\"UTF-8\"/>\n",
       "<input aria-label=\"Search\" class=\"form-control me-2\" id=\"search_key\" maxlength=\"128\" name=\"q\" placeholder=\"Search\" size=\"20\" type=\"text\" value=\"\"/>\n",
       "<button class=\"btn btn-light\" id=\"submit\" name=\"sa\" type=\"submit\" value=\"Search\">Search</button>\n",
       "</form>\n",
       "</div>\n",
       "</div>\n",
       "</div>\n",
       "</nav>\n",
       "</header>\n",
       "<div class=\"container-xxl bd-gutter mt-3 my-md-4 bd-layout\">\n",
       "<aside class=\"bd-sidebar\">\n",
       "<div aria-labelledby=\"bdSidebarOffcanvasLabel\" class=\"offcanvas-lg offcanvas-start\" id=\"bdSidebar\" tabindex=\"-1\">\n",
       "<div class=\"offcanvas-header border-bottom\">\n",
       "<h5 class=\"offcanvas-title\" id=\"bdSidebarOffcanvasLabel\">Census Population</h5>\n",
       "<button aria-label=\"Close\" class=\"btn-close\" data-bs-dismiss=\"offcanvas\" data-bs-target=\"#bdSidebar\" type=\"button\"></button>\n",
       "</div>\n",
       "<div class=\"offcanvas-body\">\n",
       "<nav aria-label=\"Docs navigation\" class=\"bd-links w-100\" id=\"bd-docs-nav\">\n",
       "<ul class=\"bd-links-nav list-unstyled mb-0 pb-3 pb-md-2 pe-lg-2\">\n",
       "<li class=\"bd-links-group py-2\"> <i class=\"bi bi-people-fill\"></i> <strong class=\"bd-links-heading w-100 align-items-center fw-semibold\">Population Census </strong>\n",
       "<ul class=\"list-unstyled fw-normal pb-2 small\">\n",
       "<li> <a class=\"bd-links-link d-inline-block rounded\" href=\"/census/city/49-delhi.html\">Delhi Population</a> </li>\n",
       "<li> <a class=\"bd-links-link d-inline-block rounded\" href=\"/census/city/365-mumbai.html\">Mumbai Population</a> </li>\n",
       "</ul>\n",
       "</li>\n",
       "<li class=\"bd-links-group py-2\"> <i class=\"bi bi-bar-chart-fill\"></i> <strong class=\"bd-links-heading w-100 align-items-center fw-semibold\">Top Facts</strong>\n",
       "<ul class=\"list-unstyled fw-normal pb-2 small\">\n",
       "<li> <a class=\"bd-links-link d-inline-block rounded\" href=\"/facts/largestates.html\">Largest States</a> </li>\n",
       "<li> <a class=\"bd-links-link d-inline-block rounded\" href=\"/facts/highsexratiostate.html\">Highest Sex Ratio</a> </li>\n",
       "<li> <a class=\"bd-links-link d-inline-block rounded\" href=\"/facts/highstateliteracy.html\">Highest Literacy Rate</a> </li>\n",
       "<li> <a class=\"bd-links-link d-inline-block rounded\" href=\"/facts/topstateurban.html\">Urbanised States</a> </li>\n",
       "<li> <a class=\"bd-links-link d-inline-block rounded\" href=\"/facts/topstatepopulation.html\">Highest Population</a> </li>\n",
       "</ul>\n",
       "</li>\n",
       "<li class=\"bd-links-group py-2\"> <i class=\"bi bi-bank2\"></i> <strong class=\"bd-links-heading w-100 align-items-center fw-semibold\">Religion Population</strong>\n",
       "<ul class=\"list-unstyled fw-normal pb-2 small\">\n",
       "<li> <a class=\"bd-links-link d-inline-block rounded\" href=\"/religion.php\">All Religion</a> </li>\n",
       "<li> <a class=\"bd-links-link d-inline-block rounded\" href=\"/data/religion/1-hinduism.html\">Hindu Population</a> </li>\n",
       "<li> <a class=\"bd-links-link d-inline-block rounded\" href=\"/data/religion/2-muslims.html\">Muslim Population</a> </li>\n",
       "<li> <a class=\"bd-links-link d-inline-block rounded\" href=\"/data/religion/3-christianity.html\">Christian Population</a> </li>\n",
       "<li> <a class=\"bd-links-link d-inline-block rounded\" href=\"/data/religion/4-sikhism.html\">Sikh Population</a> </li>\n",
       "<li> <a class=\"bd-links-link d-inline-block rounded\" href=\"/data/religion/6-jainism.html\">Jain Population</a> </li>\n",
       "</ul>\n",
       "</li>\n",
       "<li class=\"bd-links-group py-2\"> <i class=\"bi bi-person-vcard-fill\"></i> <strong class=\"bd-links-heading w-100 align-items-center fw-semibold\">Other Data</strong>\n",
       "<ul class=\"list-unstyled fw-normal pb-2 small\">\n",
       "<li> <a class=\"bd-links-link d-inline-block rounded\" href=\"/sexratio.php\">Sex Ratio in India</a> </li>\n",
       "<li> <a class=\"bd-links-link d-inline-block rounded\" href=\"/literacy.php\">Literacy rate in India</a> </li>\n",
       "<li> <a class=\"bd-links-link d-inline-block rounded\" href=\"/scheduled-castes.php\">SC Population</a> </li>\n",
       "<li> <a class=\"bd-links-link d-inline-block rounded\" href=\"/scheduled-tribes.php\">ST Population</a> </li>\n",
       "<li> <a class=\"bd-links-link d-inline-block rounded\" href=\"/slums.php\">Slum Population</a> </li>\n",
       "<li> <a class=\"bd-links-link d-inline-block rounded\" href=\"/data/village/455015-patewari-madhya-pradesh.html\">Patewari</a> </li>\n",
       "</ul>\n",
       "</li>\n",
       "</ul>\n",
       "</nav>\n",
       "</div>\n",
       "</div>\n",
       "</aside>\n",
       "<main><script async=\"\" crossorigin=\"anonymous\" src=\"https://pagead2.googlesyndication.com/pagead/js/adsbygoogle.js?client=ca-pub-0612465356921996\"></script>\n",
       "<style>\n",
       ".adslot_lbtop { width:100%;height:250px;margin:10px 0;}\n",
       "</style>\n",
       "<ins class=\"adsbygoogle adslot_lbtop\" data-ad-client=\"ca-pub-0612465356921996\" data-ad-slot=\"2926950643\" data-full-width-responsive=\"true\" style=\"display:block\"></ins>\n",
       "<script>\n",
       "(adsbygoogle = window.adsbygoogle || []).push({});\n",
       "</script>\n",
       "<nav aria-label=\"breadcrumb\"><ol class=\"breadcrumb\">\n",
       "<li class=\"breadcrumb-item\"><a href=\"/\">Home</a></li>\n",
       "<li class=\"breadcrumb-item\"><a href=\"/census/state/delhi.html\">Delhi</a></li>\n",
       "<li aria-current=\"page\" class=\"breadcrumb-item active\"><a href=\"/census/metropolitan/50-delhi.html\">Delhi Metropolitan Region</a></li>\n",
       "</ol>\n",
       "</nav>\n",
       "<h1>Delhi Metropolitan Population 2011 - 2024</h1>\n",
       "<p class=\"text-sm-start mb-0\">\n",
       "As per data released by Govt. of India for Census 2011, Delhi is an Urban Agglomeration coming under category of Mega City.\n",
       "<a href=\"/census/city/49-delhi.html\" title=\"Delhi City Population\">Delhi city</a> is governed by Municipal Corporation and is situated in Delhi Urban Region.\n",
       "<br/><br/>\n",
       "The total population of Delhi UA/Metropolitan region is 16,349,831. The male population of which is 8,750,834 while female population is 7,598,997.\n",
       "</p>\n",
       "<br/><br/>\n",
       "<h3>Delhi Population 2023 - 2024</h3>\n",
       "Population of Delhi city in 2024 is approximately\n",
       "23,223,000.\n",
       "The last census was conducted in 2011 and the schedule census for Delhi Metropolitian region in 2021 was postponed due to Covid. The current estimates of Delhi urban area is based on past growth rate. Once govt conducts census for Delhi region, we will update the same on this page in 2024.\n",
       "<br/><br/>\n",
       "<h3>Delhi Literacy Rate</h3>\n",
       "The literacy rate of Delhi Agglomeration is 86.32% which is higher than National Urban average of 85 %. Literacy rate for male and female for Delhi stood at 90.98 % and 80.96 % respectively.\n",
       "Total literates in Delhi UA were 12,427,342 of which males were 7,012,476 and remaining 5,414,866 were females.\n",
       "<br/><br/>\n",
       "<h3>Delhi Child Population</h3>\n",
       "The children (0-6 age) population of Delhi UA is around 11.95 % of total Delhi UA population which is higher than National Urban average of 10.93 %. Total children in Delhi Urban region were 1,953,206 of which male were 1,042,800 while remaining 910,406 childs were female.\n",
       "<br/><br/>\n",
       "<h3>Delhi Sex Ratio</h3>\n",
       "The sex ratio of female to male in Delhi UA was found lower with figure of 868 females against national urban average of 926 females per 1000 males. For children (0-6 age), girls were 873 per 1000 boys in Delhi Urban region against national average of 902 girls per 1000 boys.\n",
       "<br/>\n",
       "<h3>Delhi Population 2011 Census</h3>\n",
       "<div class=\"table-responsive\">\n",
       "<table class=\"table table1 table-striped table-hover\">\n",
       "<thead>\n",
       "<tr>\n",
       "<th>Description</th>\n",
       "<th></th>\n",
       "</tr>\n",
       "</thead>\n",
       "<tbody>\n",
       "<tr>\n",
       "<td>Urban Agglomeration</td>\n",
       "<td><b>Delhi</b></td>\n",
       "</tr>\n",
       "<tr>\n",
       "<td>Government</td>\n",
       "<td><b>Urban Agglomeration</b></td>\n",
       "</tr>\n",
       "<tr>\n",
       "<td>UA Type</td>\n",
       "<td>\n",
       "Mega City </td>\n",
       "</tr>\n",
       "<tr>\n",
       "<td>State</td>\n",
       "<td>Delhi</td>\n",
       "</tr>\n",
       "</tbody>\n",
       "</table>\n",
       "</div>\n",
       "<div class=\"table-responsive\">\n",
       "<table class=\"table table1 table-striped table-hover\">\n",
       "<thead>\n",
       "<tr>\n",
       "<th>Delhi UA</th>\n",
       "<th>Total</th>\n",
       "<th>Male</th>\n",
       "<th>Female</th>\n",
       "</tr>\n",
       "</thead>\n",
       "<tbody>\n",
       "<tr>\n",
       "<td>Population</td>\n",
       "<td>16,349,831</td>\n",
       "<td>8,750,834</td>\n",
       "<td>7,598,997</td>\n",
       "</tr>\n",
       "<tr>\n",
       "<td>Literates</td>\n",
       "<td>12,427,342</td>\n",
       "<td>7,012,476</td>\n",
       "<td>5,414,866</td>\n",
       "</tr>\n",
       "<tr>\n",
       "<td>Children (0-6)</td>\n",
       "<td>1,953,206</td>\n",
       "<td>1,042,800</td>\n",
       "<td>910,406</td>\n",
       "</tr>\n",
       "<tr>\n",
       "<td>Average Literacy (%)</td>\n",
       "<td>86.32 %</td>\n",
       "<td>90.98 %</td>\n",
       "<td>80.96 %</td>\n",
       "</tr>\n",
       "<tr>\n",
       "<td>Sexratio</td>\n",
       "<td>868</td>\n",
       "<td colspan=\"2\"></td>\n",
       "</tr>\n",
       "<tr>\n",
       "<td>Child Sexratio</td>\n",
       "<td>873</td>\n",
       "<td colspan=\"2\"></td>\n",
       "</tr>\n",
       "</tbody>\n",
       "</table>\n",
       "</div>\n",
       "<script async=\"\" crossorigin=\"anonymous\" src=\"https://pagead2.googlesyndication.com/pagead/js/adsbygoogle.js?client=ca-pub-0612465356921996\"></script>\n",
       "<style>\n",
       ".adslot_lbbottom { width:100%;height:200px;margin:10px 0; }\n",
       "</style>\n",
       "<ins class=\"adsbygoogle adslot_lbbottom\" data-ad-client=\"ca-pub-0612465356921996\" data-ad-format=\"auto\" data-ad-slot=\"5880417044\" data-full-width-responsive=\"true\" style=\"display:block\"></ins>\n",
       "<script>\n",
       "     (adsbygoogle = window.adsbygoogle || []).push({});\n",
       "</script>\n",
       "<h3>Delhi Metropolitan Region Future Population 2021-2031</h3>\n",
       "<div class=\"table-responsive\">\n",
       "<table class=\"table table1 table-striped table-hover\">\n",
       "<thead>\n",
       "<tr>\n",
       "<th> Metropolitan</th>\n",
       "<th>Population</th>\n",
       "</tr>\n",
       "</thead>\n",
       "<tbody>\n",
       "<tr>\n",
       "<td>2011</td>\n",
       "<td><b>16,349,831</b></td>\n",
       "</tr>\n",
       "<tr>\n",
       "<td>2021</td>\n",
       "<td><b>21,254,000</b></td>\n",
       "</tr>\n",
       "<tr>\n",
       "<td>2022</td>\n",
       "<td><b>21,891,000</b></td>\n",
       "</tr>\n",
       "<tr>\n",
       "<td>2023</td>\n",
       "<td><b>22,547,000</b></td>\n",
       "</tr>\n",
       "<tr>\n",
       "<td>2024</td>\n",
       "<td><b>23,223,000</b></td>\n",
       "</tr>\n",
       "<tr>\n",
       "<td>2025</td>\n",
       "<td><b>23,919,000</b></td>\n",
       "</tr>\n",
       "<tr>\n",
       "<td>2026</td>\n",
       "<td><b>24,636,000</b></td>\n",
       "</tr>\n",
       "<tr>\n",
       "<td>2027</td>\n",
       "<td><b>25,375,000</b></td>\n",
       "</tr>\n",
       "<tr>\n",
       "<td>2028</td>\n",
       "<td><b>26,136,000</b></td>\n",
       "</tr>\n",
       "<tr>\n",
       "<td>2029</td>\n",
       "<td><b>26,920,000</b></td>\n",
       "</tr>\n",
       "<tr>\n",
       "<td>2030</td>\n",
       "<td><b>27,727,000</b></td>\n",
       "</tr>\n",
       "<tr>\n",
       "<td>2031</td>\n",
       "<td><b>28,558,000</b></td>\n",
       "</tr>\n",
       "</tbody>\n",
       "</table>\n",
       "</div>\n",
       "<h3>Delhi Region - Cities &amp; Towns</h3>\n",
       "<div class=\"purplemetro\">Delhi UA has following cities under it.</div>\n",
       "<div class=\"table-responsive\">\n",
       "<table class=\"table table1 table-striped table-hover\">\n",
       "<thead>\n",
       "<tr>\n",
       "<th>City</th>\n",
       "<th>Population</th>\n",
       "</tr>\n",
       "</thead>\n",
       "<tbody>\n",
       "<tr>\n",
       "<td><a href=\"/census/city/49-delhi.html\" title=\"Delhi\">Delhi</a> (Municipal Corporation)</td>\n",
       "<td>11,034,555</td>\n",
       "</tr>\n",
       "<tr>\n",
       "<td><a href=\"/census/city/51-kirari-suleman-nagar.html\" title=\"Kirari Suleman Nagar\">Kirari Suleman Nagar</a> (Census Town)</td>\n",
       "<td>283,211</td>\n",
       "</tr>\n",
       "<tr>\n",
       "<td><a href=\"/census/city/50-ndmc.html\" title=\"NDMC\">NDMC</a> (Municipal Council)</td>\n",
       "<td>257,803</td>\n",
       "</tr>\n",
       "<tr>\n",
       "<td><a href=\"/census/city/55-karawal-nagar.html\" title=\"Karawal Nagar\">Karawal Nagar</a> (Census Town)</td>\n",
       "<td>224,281</td>\n",
       "</tr>\n",
       "<tr>\n",
       "<td><a href=\"/census/city/61-nangloi-jat.html\" title=\"Nangloi Jat\">Nangloi Jat</a> (Census Town)</td>\n",
       "<td>205,596</td>\n",
       "</tr>\n",
       "<tr>\n",
       "<td><a href=\"/census/city/53-bhalswa-jahangir-pur.html\" title=\"Bhalswa Jahangir Pur\">Bhalswa Jahangir Pur</a> (Census Town)</td>\n",
       "<td>197,148</td>\n",
       "</tr>\n",
       "<tr>\n",
       "<td><a href=\"/census/city/52-sultan-pur-majra.html\" title=\"Sultan Pur Majra\">Sultan Pur Majra</a> (Census Town)</td>\n",
       "<td>181,554</td>\n",
       "</tr>\n",
       "<tr>\n",
       "<td><a href=\"/census/city/60-hastsal.html\" title=\"Hastsal\">Hastsal</a> (Census Town)</td>\n",
       "<td>176,877</td>\n",
       "</tr>\n",
       "<tr>\n",
       "<td><a href=\"/census/city/63-deoli.html\" title=\"Deoli\">Deoli</a> (Census Town)</td>\n",
       "<td>169,122</td>\n",
       "</tr>\n",
       "<tr>\n",
       "<td><a href=\"/census/city/59-dallo-pura.html\" title=\"Dallo Pura\">Dallo Pura</a> (Census Town)</td>\n",
       "<td>154,791</td>\n",
       "</tr>\n",
       "<tr>\n",
       "<td><a href=\"/census/city/54-burari.html\" title=\"Burari\">Burari</a> (Census Town)</td>\n",
       "<td>146,190</td>\n",
       "</tr>\n",
       "<tr>\n",
       "<td><a href=\"/census/city/56-mustafabad.html\" title=\"Mustafabad\">Mustafabad</a> (Census Town)</td>\n",
       "<td>127,167</td>\n",
       "</tr>\n",
       "<tr>\n",
       "<td><a href=\"/census/city/57-gokal-pur.html\" title=\"Gokal Pur\">Gokal Pur</a> (Census Town)</td>\n",
       "<td>121,870</td>\n",
       "</tr>\n",
       "<tr>\n",
       "<td><a href=\"/census/city/58-mandoli.html\" title=\"Mandoli\">Mandoli</a> (Census Town)</td>\n",
       "<td>120,417</td>\n",
       "</tr>\n",
       "<tr>\n",
       "<td><a href=\"/census/city/62-delhi-cantonment.html\" title=\"Delhi Cantonment\">Delhi Cantonment</a> (Cantonment Board)</td>\n",
       "<td>110,351</td>\n",
       "</tr>\n",
       "</tbody>\n",
       "</table>\n",
       "</div>\n",
       "<br/>\n",
       "<h3>Towns with population less than 1 Lakh</h3>\n",
       "<div class=\"table-responsive\">\n",
       "<table class=\"table table1 table-striped table-hover\">\n",
       "<thead>\n",
       "<tr>\n",
       "<th>Town</th>\n",
       "<th>Type</th>\n",
       "<th>Population</th>\n",
       "</tr>\n",
       "</thead>\n",
       "<tbody>\n",
       "<tr>\n",
       "<td><a href=\"/data/town/64086-aali-delhi.html\" title=\"Aali\">Aali</a></td>\n",
       "<td>Census Town</td>\n",
       "<td>27,169</td>\n",
       "</tr>\n",
       "<tr>\n",
       "<td><a href=\"/data/town/63910-ali-pur-delhi.html\" title=\"Ali Pur\">Ali Pur</a></td>\n",
       "<td>Census Town</td>\n",
       "<td>20,332</td>\n",
       "</tr>\n",
       "<tr>\n",
       "<td><a href=\"/data/town/64070-asola-delhi.html\" title=\"Asola\">Asola</a></td>\n",
       "<td>Census Town</td>\n",
       "<td>13,275</td>\n",
       "</tr>\n",
       "<tr>\n",
       "<td><a href=\"/data/town/64065-aya-nagar-delhi.html\" title=\"Aya Nagar\">Aya Nagar</a></td>\n",
       "<td>Census Town</td>\n",
       "<td>33,123</td>\n",
       "</tr>\n",
       "<tr>\n",
       "<td><a href=\"/data/town/63980-babar-pur-delhi.html\" title=\"Babar Pur\">Babar Pur</a></td>\n",
       "<td>Census Town</td>\n",
       "<td>37,058</td>\n",
       "</tr>\n",
       "<tr>\n",
       "<td><a href=\"/data/town/63908-bakhtawar-pur-delhi.html\" title=\"Bakhtawar Pur\">Bakhtawar Pur</a></td>\n",
       "<td>Census Town</td>\n",
       "<td>12,716</td>\n",
       "</tr>\n",
       "<tr>\n",
       "<td><a href=\"/data/town/64002-bakkar-wala-delhi.html\" title=\"Bakkar Wala\">Bakkar Wala</a></td>\n",
       "<td>Census Town</td>\n",
       "<td>18,122</td>\n",
       "</tr>\n",
       "<tr>\n",
       "<td><a href=\"/data/town/63909-bankauli-delhi.html\" title=\"Bankauli\">Bankauli</a></td>\n",
       "<td>Census Town</td>\n",
       "<td>5,339</td>\n",
       "</tr>\n",
       "<tr>\n",
       "<td><a href=\"/data/town/63905-bankner-delhi.html\" title=\"Bankner\">Bankner</a></td>\n",
       "<td>Census Town</td>\n",
       "<td>14,788</td>\n",
       "</tr>\n",
       "<tr>\n",
       "<td><a href=\"/data/town/63995-bapraula-delhi.html\" title=\"Bapraula\">Bapraula</a></td>\n",
       "<td>Census Town</td>\n",
       "<td>52,744</td>\n",
       "</tr>\n",
       "<tr>\n",
       "<td><a href=\"/data/town/63969-baqiabad-delhi.html\" title=\"Baqiabad\">Baqiabad</a></td>\n",
       "<td>Census Town</td>\n",
       "<td>14,429</td>\n",
       "</tr>\n",
       "<tr>\n",
       "<td><a href=\"/data/town/63920-barwala-delhi.html\" title=\"Barwala\">Barwala</a></td>\n",
       "<td>Census Town</td>\n",
       "<td>8,948</td>\n",
       "</tr>\n",
       "<tr>\n",
       "<td><a href=\"/data/town/63922-bawana-delhi.html\" title=\"Bawana\">Bawana</a></td>\n",
       "<td>Census Town</td>\n",
       "<td>73,680</td>\n",
       "</tr>\n",
       "<tr>\n",
       "<td><a href=\"/data/town/63946-begum-pur-delhi.html\" title=\"Begum Pur\">Begum Pur</a></td>\n",
       "<td>Census Town</td>\n",
       "<td>53,682</td>\n",
       "</tr>\n",
       "<tr>\n",
       "<td><a href=\"/data/town/64069-bhati-delhi.html\" title=\"Bhati\">Bhati</a></td>\n",
       "<td>Census Town</td>\n",
       "<td>18,864</td>\n",
       "</tr>\n",
       "<tr>\n",
       "<td><a href=\"/data/town/63906-bhor-garh-delhi.html\" title=\"Bhor Garh\">Bhor Garh</a></td>\n",
       "<td>Census Town</td>\n",
       "<td>8,627</td>\n",
       "</tr>\n",
       "<tr>\n",
       "<td><a href=\"/data/town/64071-chandan-hola-delhi.html\" title=\"Chandan Hola\">Chandan Hola</a></td>\n",
       "<td>Census Town</td>\n",
       "<td>6,780</td>\n",
       "</tr>\n",
       "<tr>\n",
       "<td><a href=\"/data/town/64073-chattar-pur-delhi.html\" title=\"Chattar Pur\">Chattar Pur</a></td>\n",
       "<td>Census Town</td>\n",
       "<td>46,776</td>\n",
       "</tr>\n",
       "<tr>\n",
       "<td><a href=\"/data/town/64054-chhawala-delhi.html\" title=\"Chhawala\">Chhawala</a></td>\n",
       "<td>Census Town</td>\n",
       "<td>14,662</td>\n",
       "</tr>\n",
       "<tr>\n",
       "<td><a href=\"/data/town/63989-chilla-saroda-bangar-delhi.html\" title=\"Chilla Saroda Bangar\">Chilla Saroda Bangar</a></td>\n",
       "<td>Census Town</td>\n",
       "<td>83,217</td>\n",
       "</tr>\n",
       "<tr>\n",
       "<td><a href=\"/data/town/63990-chilla-saroda-khadar-delhi.html\" title=\"Chilla Saroda Khadar\">Chilla Saroda Khadar</a></td>\n",
       "<td>Census Town</td>\n",
       "<td>11,743</td>\n",
       "</tr>\n",
       "<tr>\n",
       "<td><a href=\"/data/town/63923-darya-pur-kalan-delhi.html\" title=\"Darya Pur Kalan\">Darya Pur Kalan</a></td>\n",
       "<td>Census Town</td>\n",
       "<td>6,310</td>\n",
       "</tr>\n",
       "<tr>\n",
       "<td><a href=\"/data/town/63971-dayal-pur-delhi.html\" title=\"Dayal Pur\">Dayal Pur</a></td>\n",
       "<td>Census Town</td>\n",
       "<td>20,589</td>\n",
       "</tr>\n",
       "<tr>\n",
       "<td><a href=\"/data/town/64068-dera-mandi-delhi.html\" title=\"Dera Mandi\">Dera Mandi</a></td>\n",
       "<td>Census Town</td>\n",
       "<td>16,725</td>\n",
       "</tr>\n",
       "<tr>\n",
       "<td><a href=\"/data/town/64051-dindar-pur-delhi.html\" title=\"Dindar Pur\">Dindar Pur</a></td>\n",
       "<td>Census Town</td>\n",
       "<td>35,856</td>\n",
       "</tr>\n",
       "<tr>\n",
       "<td><a href=\"/data/town/64067-fateh-pur-beri-delhi.html\" title=\"Fateh Pur Beri\">Fateh Pur Beri</a></td>\n",
       "<td>Census Town</td>\n",
       "<td>8,861</td>\n",
       "</tr>\n",
       "<tr>\n",
       "<td><a href=\"/data/town/63986-gharoli-delhi.html\" title=\"Gharoli\">Gharoli</a></td>\n",
       "<td>Census Town</td>\n",
       "<td>92,540</td>\n",
       "</tr>\n",
       "<tr>\n",
       "<td><a href=\"/data/town/63985-gharonda-neemka-bangar-alias-patpar-ganj-delhi.html\" title=\"Gharonda Neemka Bangar alias Patpar Ganj\">Gharonda Neemka Bangar alias Patpar Ganj</a></td>\n",
       "<td>Census Town</td>\n",
       "<td>37,876</td>\n",
       "</tr>\n",
       "<tr>\n",
       "<td><a href=\"/data/town/63939-gheora-delhi.html\" title=\"Gheora\">Gheora</a></td>\n",
       "<td>Census Town</td>\n",
       "<td>6,876</td>\n",
       "</tr>\n",
       "<tr>\n",
       "<td><a href=\"/data/town/64061-ghitorni-delhi.html\" title=\"Ghitorni\">Ghitorni</a></td>\n",
       "<td>Census Town</td>\n",
       "<td>14,893</td>\n",
       "</tr>\n",
       "<tr>\n",
       "<td><a href=\"/data/town/63912-ibrahim-pur-delhi.html\" title=\"Ibrahim Pur\">Ibrahim Pur</a></td>\n",
       "<td>Census Town</td>\n",
       "<td>10,614</td>\n",
       "</tr>\n",
       "<tr>\n",
       "<td><a href=\"/data/town/63981-jaffrabad-delhi.html\" title=\"Jaffrabad\">Jaffrabad</a></td>\n",
       "<td>Census Town</td>\n",
       "<td>54,601</td>\n",
       "</tr>\n",
       "<tr>\n",
       "<td><a href=\"/data/town/64087-jait-pur-delhi.html\" title=\"Jait Pur\">Jait Pur</a></td>\n",
       "<td>Census Town</td>\n",
       "<td>59,330</td>\n",
       "</tr>\n",
       "<tr>\n",
       "<td><a href=\"/data/town/64045-jharoda-kalan-delhi.html\" title=\"Jharoda Kalan\">Jharoda Kalan</a></td>\n",
       "<td>Census Town</td>\n",
       "<td>19,578</td>\n",
       "</tr>\n",
       "<tr>\n",
       "<td><a href=\"/data/town/63958-jharoda-majra-burari-delhi.html\" title=\"Jharoda Majra Burari\">Jharoda Majra Burari</a></td>\n",
       "<td>Census Town</td>\n",
       "<td>22,878</td>\n",
       "</tr>\n",
       "<tr>\n",
       "<td><a href=\"/data/town/63972-jiwan-pur-alias-johri-pur-delhi.html\" title=\"Jiwan Pur alias Johri Pur\">Jiwan Pur alias Johri Pur</a></td>\n",
       "<td>Census Town</td>\n",
       "<td>43,054</td>\n",
       "</tr>\n",
       "<tr>\n",
       "<td><a href=\"/data/town/64066-jona-pur-delhi.html\" title=\"Jona Pur\">Jona Pur</a></td>\n",
       "<td>Census Town</td>\n",
       "<td>10,635</td>\n",
       "</tr>\n",
       "<tr>\n",
       "<td><a href=\"/data/town/64046-kair-delhi.html\" title=\"Kair\">Kair</a></td>\n",
       "<td>Census Town</td>\n",
       "<td>4,074</td>\n",
       "</tr>\n",
       "<tr>\n",
       "<td><a href=\"/data/town/63956-kamal-pur-majra-burari-delhi.html\" title=\"Kamal Pur Majra Burari\">Kamal Pur Majra Burari</a></td>\n",
       "<td>Census Town</td>\n",
       "<td>43,086</td>\n",
       "</tr>\n",
       "<tr>\n",
       "<td><a href=\"/data/town/63938-kanjhawala-delhi.html\" title=\"Kanjhawala\">Kanjhawala</a></td>\n",
       "<td>Census Town</td>\n",
       "<td>10,331</td>\n",
       "</tr>\n",
       "<tr>\n",
       "<td><a href=\"/data/town/64059-kapas-hera-delhi.html\" title=\"Kapas Hera\">Kapas Hera</a></td>\n",
       "<td>Census Town</td>\n",
       "<td>74,073</td>\n",
       "</tr>\n",
       "<tr>\n",
       "<td><a href=\"/data/town/63945-karala-delhi.html\" title=\"Karala\">Karala</a></td>\n",
       "<td>Census Town</td>\n",
       "<td>35,730</td>\n",
       "</tr>\n",
       "<tr>\n",
       "<td><a href=\"/data/town/63976-khajoori-khas-delhi.html\" title=\"Khajoori Khas\">Khajoori Khas</a></td>\n",
       "<td>Census Town</td>\n",
       "<td>76,640</td>\n",
       "</tr>\n",
       "<tr>\n",
       "<td><a href=\"/data/town/63974-khan-pur-dhani-delhi.html\" title=\"Khan Pur Dhani\">Khan Pur Dhani</a></td>\n",
       "<td>Census Town</td>\n",
       "<td>6,994</td>\n",
       "</tr>\n",
       "<tr>\n",
       "<td><a href=\"/data/town/64050-khera-delhi.html\" title=\"Khera\">Khera</a></td>\n",
       "<td>Census Town</td>\n",
       "<td>7,220</td>\n",
       "</tr>\n",
       "<tr>\n",
       "<td><a href=\"/data/town/63916-khera-kalan-delhi.html\" title=\"Khera Kalan\">Khera Kalan</a></td>\n",
       "<td>Census Town</td>\n",
       "<td>8,252</td>\n",
       "</tr>\n",
       "<tr>\n",
       "<td><a href=\"/data/town/63919-khera-khurd-delhi.html\" title=\"Khera Khurd\">Khera Khurd</a></td>\n",
       "<td>Census Town</td>\n",
       "<td>9,777</td>\n",
       "</tr>\n",
       "<tr>\n",
       "<td><a href=\"/data/town/63987-kondli-delhi.html\" title=\"Kondli\">Kondli</a></td>\n",
       "<td>Census Town</td>\n",
       "<td>38,207</td>\n",
       "</tr>\n",
       "<tr>\n",
       "<td><a href=\"/data/town/64081-kotla-mahigiran-delhi.html\" title=\"Kotla Mahigiran\">Kotla Mahigiran</a></td>\n",
       "<td>Census Town</td>\n",
       "<td>7,376</td>\n",
       "</tr>\n",
       "<tr>\n",
       "<td><a href=\"/data/town/64056-kusum-pur-delhi.html\" title=\"Kusum Pur\">Kusum Pur</a></td>\n",
       "<td>Census Town</td>\n",
       "<td>17,028</td>\n",
       "</tr>\n",
       "<tr>\n",
       "<td><a href=\"/data/town/63937-lad-pur-delhi.html\" title=\"Lad Pur\">Lad Pur</a></td>\n",
       "<td>Census Town</td>\n",
       "<td>5,529</td>\n",
       "</tr>\n",
       "<tr>\n",
       "<td><a href=\"/data/town/63914-libas-pur-delhi.html\" title=\"Libas Pur\">Libas Pur</a></td>\n",
       "<td>Census Town</td>\n",
       "<td>44,375</td>\n",
       "</tr>\n",
       "<tr>\n",
       "<td><a href=\"/data/town/64074-maidan-garhi-delhi.html\" title=\"Maidan Garhi\">Maidan Garhi</a></td>\n",
       "<td>Census Town</td>\n",
       "<td>11,111</td>\n",
       "</tr>\n",
       "<tr>\n",
       "<td><a href=\"/data/town/64057-malik-pur-kohi-alias-rang-puri-delhi.html\" title=\"Malik Pur Kohi alias Rang Puri\">Malik Pur Kohi alias Rang Puri</a></td>\n",
       "<td>Census Town</td>\n",
       "<td>23,726</td>\n",
       "</tr>\n",
       "<tr>\n",
       "<td><a href=\"/data/town/63977-mir-pur-turk-delhi.html\" title=\"Mir Pur Turk\">Mir Pur Turk</a></td>\n",
       "<td>Census Town</td>\n",
       "<td>19,098</td>\n",
       "</tr>\n",
       "<tr>\n",
       "<td><a href=\"/data/town/64084-mithe-pur-delhi.html\" title=\"Mithe Pur\">Mithe Pur</a></td>\n",
       "<td>Census Town</td>\n",
       "<td>69,837</td>\n",
       "</tr>\n",
       "<tr>\n",
       "<td><a href=\"/data/town/64049-mitraon-delhi.html\" title=\"Mitraon\">Mitraon</a></td>\n",
       "<td>Census Town</td>\n",
       "<td>6,512</td>\n",
       "</tr>\n",
       "<tr>\n",
       "<td><a href=\"/data/town/63944-mohammad-pur-majri-delhi.html\" title=\"Mohammad Pur Majri\">Mohammad Pur Majri</a></td>\n",
       "<td>Census Town</td>\n",
       "<td>17,462</td>\n",
       "</tr>\n",
       "<tr>\n",
       "<td><a href=\"/data/town/64085-molar-band-delhi.html\" title=\"Molar Band\">Molar Band</a></td>\n",
       "<td>Census Town</td>\n",
       "<td>91,402</td>\n",
       "</tr>\n",
       "<tr>\n",
       "<td><a href=\"/data/town/64055-moradabad-pahari-delhi.html\" title=\"Moradabad Pahari\">Moradabad Pahari</a></td>\n",
       "<td>Census Town</td>\n",
       "<td>21,502</td>\n",
       "</tr>\n",
       "<tr>\n",
       "<td><a href=\"/data/town/63941-mubarak-pur-dabas-delhi.html\" title=\"Mubarak Pur Dabas\">Mubarak Pur Dabas</a></td>\n",
       "<td>Census Town</td>\n",
       "<td>12,043</td>\n",
       "</tr>\n",
       "<tr>\n",
       "<td><a href=\"/data/town/63955-mukand-pur-delhi.html\" title=\"Mukand Pur\">Mukand Pur</a></td>\n",
       "<td>Census Town</td>\n",
       "<td>57,135</td>\n",
       "</tr>\n",
       "<tr>\n",
       "<td><a href=\"/data/town/63911-mukhmel-pur-delhi.html\" title=\"Mukhmel Pur\">Mukhmel Pur</a></td>\n",
       "<td>Census Town</td>\n",
       "<td>4,931</td>\n",
       "</tr>\n",
       "<tr>\n",
       "<td><a href=\"/data/town/64001-mundka-delhi.html\" title=\"Mundka\">Mundka</a></td>\n",
       "<td>Census Town</td>\n",
       "<td>54,541</td>\n",
       "</tr>\n",
       "<tr>\n",
       "<td><a href=\"/data/town/64053-nangli-sakrawati-delhi.html\" title=\"Nangli Sakrawati\">Nangli Sakrawati</a></td>\n",
       "<td>Census Town</td>\n",
       "<td>37,706</td>\n",
       "</tr>\n",
       "<tr>\n",
       "<td><a href=\"/data/town/64077-neb-sarai-delhi.html\" title=\"Neb Sarai\">Neb Sarai</a></td>\n",
       "<td>Census Town</td>\n",
       "<td>15,640</td>\n",
       "</tr>\n",
       "<tr>\n",
       "<td><a href=\"/data/town/63998-nilothi-delhi.html\" title=\"Nilothi\">Nilothi</a></td>\n",
       "<td>Census Town</td>\n",
       "<td>43,371</td>\n",
       "</tr>\n",
       "<tr>\n",
       "<td><a href=\"/data/town/63943-nithari-delhi.html\" title=\"Nithari\">Nithari</a></td>\n",
       "<td>Census Town</td>\n",
       "<td>50,464</td>\n",
       "</tr>\n",
       "<tr>\n",
       "<td><a href=\"/data/town/63918-pehlad-pur-bangar-delhi.html\" title=\"Pehlad Pur Bangar\">Pehlad Pur Bangar</a></td>\n",
       "<td>Census Town</td>\n",
       "<td>22,968</td>\n",
       "</tr>\n",
       "<tr>\n",
       "<td><a href=\"/data/town/63947-pooth-kalan-delhi.html\" title=\"Pooth Kalan\">Pooth Kalan</a></td>\n",
       "<td>Census Town</td>\n",
       "<td>96,002</td>\n",
       "</tr>\n",
       "<tr>\n",
       "<td><a href=\"/data/town/63921-pooth-khurd-delhi.html\" title=\"Pooth Khurd\">Pooth Khurd</a></td>\n",
       "<td>Census Town</td>\n",
       "<td>10,654</td>\n",
       "</tr>\n",
       "<tr>\n",
       "<td><a href=\"/data/town/64082-pul-pehlad-delhi.html\" title=\"Pul Pehlad\">Pul Pehlad</a></td>\n",
       "<td>Census Town</td>\n",
       "<td>69,657</td>\n",
       "</tr>\n",
       "<tr>\n",
       "<td><a href=\"/data/town/63913-qadi-pur-delhi.html\" title=\"Qadi Pur\">Qadi Pur</a></td>\n",
       "<td>Census Town</td>\n",
       "<td>18,369</td>\n",
       "</tr>\n",
       "<tr>\n",
       "<td><a href=\"/data/town/64000-quammruddin-nagar-delhi.html\" title=\"Quammruddin Nagar\">Quammruddin Nagar</a></td>\n",
       "<td>Census Town</td>\n",
       "<td>25,126</td>\n",
       "</tr>\n",
       "<tr>\n",
       "<td><a href=\"/data/town/64075-raj-pur-khurd-delhi.html\" title=\"Raj Pur Khurd\">Raj Pur Khurd</a></td>\n",
       "<td>Census Town</td>\n",
       "<td>11,161</td>\n",
       "</tr>\n",
       "<tr>\n",
       "<td><a href=\"/data/town/63992-raja-pur-khurd-delhi.html\" title=\"Raja Pur Khurd\">Raja Pur Khurd</a></td>\n",
       "<td>Census Town</td>\n",
       "<td>19,312</td>\n",
       "</tr>\n",
       "<tr>\n",
       "<td><a href=\"/data/town/64060-rajokri-delhi.html\" title=\"Rajokri\">Rajokri</a></td>\n",
       "<td>Census Town</td>\n",
       "<td>19,148</td>\n",
       "</tr>\n",
       "<tr>\n",
       "<td><a href=\"/data/town/63940-rani-khera-delhi.html\" title=\"Rani Khera\">Rani Khera</a></td>\n",
       "<td>Census Town</td>\n",
       "<td>16,402</td>\n",
       "</tr>\n",
       "<tr>\n",
       "<td><a href=\"/data/town/64052-roshan-pura-alias-dichaon-khurd-delhi.html\" title=\"Roshan Pura alias Dichaon Khurd\">Roshan Pura alias Dichaon Khurd</a></td>\n",
       "<td>Census Town</td>\n",
       "<td>57,217</td>\n",
       "</tr>\n",
       "<tr>\n",
       "<td><a href=\"/data/town/63968-sadat-pur-gujran-delhi.html\" title=\"Sadat Pur Gujran\">Sadat Pur Gujran</a></td>\n",
       "<td>Census Town</td>\n",
       "<td>97,641</td>\n",
       "</tr>\n",
       "<tr>\n",
       "<td><a href=\"/data/town/63917-sahibabad-daulat-pur-delhi.html\" title=\"Sahibabad Daulat Pur\">Sahibabad Daulat Pur</a></td>\n",
       "<td>Census Town</td>\n",
       "<td>54,773</td>\n",
       "</tr>\n",
       "<tr>\n",
       "<td><a href=\"/data/town/64080-saidabad-delhi.html\" title=\"Saidabad\">Saidabad</a></td>\n",
       "<td>Census Town</td>\n",
       "<td>10,168</td>\n",
       "</tr>\n",
       "<tr>\n",
       "<td><a href=\"/data/town/64078-saidul-azaib-delhi.html\" title=\"Saidul Azaib\">Saidul Azaib</a></td>\n",
       "<td>Census Town</td>\n",
       "<td>17,914</td>\n",
       "</tr>\n",
       "<tr>\n",
       "<td><a href=\"/data/town/64058-sambhalka-delhi.html\" title=\"Sambhalka\">Sambhalka</a></td>\n",
       "<td>Census Town</td>\n",
       "<td>17,076</td>\n",
       "</tr>\n",
       "<tr>\n",
       "<td><a href=\"/data/town/63997-shafi-pur-ranhola-delhi.html\" title=\"Shafi Pur Ranhola\">Shafi Pur Ranhola</a></td>\n",
       "<td>Census Town</td>\n",
       "<td>31,944</td>\n",
       "</tr>\n",
       "<tr>\n",
       "<td><a href=\"/data/town/63983-shakar-pur-baramad-delhi.html\" title=\"Shakar Pur Baramad\">Shakar Pur Baramad</a></td>\n",
       "<td>Census Town</td>\n",
       "<td>1,178</td>\n",
       "</tr>\n",
       "<tr>\n",
       "<td><a href=\"/data/town/63915-siras-pur-delhi.html\" title=\"Siras Pur\">Siras Pur</a></td>\n",
       "<td>Census Town</td>\n",
       "<td>30,445</td>\n",
       "</tr>\n",
       "<tr>\n",
       "<td><a href=\"/data/town/64072-sultan-pur-delhi.html\" title=\"Sultan Pur\">Sultan Pur</a></td>\n",
       "<td>Census Town</td>\n",
       "<td>15,160</td>\n",
       "</tr>\n",
       "<tr>\n",
       "<td><a href=\"/data/town/64083-taj-pul-delhi.html\" title=\"Taj Pul\">Taj Pul</a></td>\n",
       "<td>Census Town</td>\n",
       "<td>68,796</td>\n",
       "</tr>\n",
       "<tr>\n",
       "<td><a href=\"/data/town/64079-tigri-delhi.html\" title=\"Tigri\">Tigri</a></td>\n",
       "<td>Census Town</td>\n",
       "<td>46,974</td>\n",
       "</tr>\n",
       "<tr>\n",
       "<td><a href=\"/data/town/64003-tikri-kalan-delhi.html\" title=\"Tikri Kalan\">Tikri Kalan</a></td>\n",
       "<td>Census Town</td>\n",
       "<td>16,313</td>\n",
       "</tr>\n",
       "<tr>\n",
       "<td><a href=\"/data/town/63907-tikri-khurd-delhi.html\" title=\"Tikri Khurd\">Tikri Khurd</a></td>\n",
       "<td>Census Town</td>\n",
       "<td>13,772</td>\n",
       "</tr>\n",
       "<tr>\n",
       "<td><a href=\"/data/town/63996-tilang-pur-kotla-delhi.html\" title=\"Tilang Pur Kotla\">Tilang Pur Kotla</a></td>\n",
       "<td>Census Town</td>\n",
       "<td>13,614</td>\n",
       "</tr>\n",
       "<tr>\n",
       "<td><a href=\"/data/town/63975-tukhmir-pur-delhi.html\" title=\"Tukhmir Pur\">Tukhmir Pur</a></td>\n",
       "<td>Census Town</td>\n",
       "<td>5,658</td>\n",
       "</tr>\n",
       "<tr>\n",
       "<td><a href=\"/data/town/63978-ziauddin-pur-delhi.html\" title=\"Ziauddin Pur\">Ziauddin Pur</a></td>\n",
       "<td>Census Town</td>\n",
       "<td>68,993</td>\n",
       "</tr>\n",
       "</tbody>\n",
       "</table>\n",
       "</div>\n",
       "</main>\n",
       "</div>\n",
       "<footer class=\"bd-footer py-4 py-md-5 mt-5 bg-light\">\n",
       "<div class=\"container py-4 py-md-5 px-4 px-md-3\">\n",
       "<div class=\"row\">\n",
       "<div class=\"col-lg-3 mb-3\">\n",
       "<a aria-label=\"Bootstrap\" class=\"d-inline-flex align-items-center mb-2 link-dark text-decoration-none\" href=\"/\">\n",
       "<svg class=\"d-block me-2\" height=\"32\" role=\"img\" viewbox=\"0 0 118 94\" width=\"40\" xmlns=\"http://www.w3.org/2000/svg\">\n",
       "<title>Bootstrap</title>\n",
       "<path clip-rule=\"evenodd\" d=\"M24.509 0c-6.733 0-11.715 5.893-11.492 12.284.214 6.14-.064 14.092-2.066 20.577C8.943 39.365 5.547 43.485 0 44.014v5.972c5.547.529 8.943 4.649 10.951 11.153 2.002 6.485 2.28 14.437 2.066 20.577C12.794 88.106 17.776 94 24.51 94H93.5c6.733 0 11.714-5.893 11.491-12.284-.214-6.14.064-14.092 2.066-20.577 2.009-6.504 5.396-10.624 10.943-11.153v-5.972c-5.547-.529-8.934-4.649-10.943-11.153-2.002-6.484-2.28-14.437-2.066-20.577C105.214 5.894 100.233 0 93.5 0H24.508zM80 57.863C80 66.663 73.436 72 62.543 72H44a2 2 0 01-2-2V24a2 2 0 012-2h18.437c9.083 0 15.044 4.92 15.044 12.474 0 5.302-4.01 10.049-9.119 10.88v.277C75.317 46.394 80 51.21 80 57.863zM60.521 28.34H49.948v14.934h8.905c6.884 0 10.68-2.772 10.68-7.727 0-4.643-3.264-7.207-9.012-7.207zM49.948 49.2v16.458H60.91c7.167 0 10.964-2.876 10.964-8.281 0-5.406-3.903-8.178-11.425-8.178H49.948z\" fill=\"currentColor\" fill-rule=\"evenodd\"></path> </svg> <span class=\"fs-5\">Census 2022</span> </a>\n",
       "<ul class=\"list-unstyled small text-muted\">\n",
       "<li class=\"mb-2\">Our focus remains on collecting important data and facts for all the states and cities. Please use contact form for further information.</li>\n",
       "<li class=\"mb-2\">Copyright © 2022 Population Census Data</li>\n",
       "</ul>\n",
       "</div>\n",
       "<div class=\"col-6 col-lg-2 offset-lg-1 mb-3\">\n",
       "<h5>Links</h5>\n",
       "<ul class=\"list-unstyled\">\n",
       "<li class=\"mb-2\"> <a href=\"/\">Home</a> </li>\n",
       "<li class=\"mb-2\"> <a href=\"/states.php\">States</a> </li>\n",
       "<li class=\"mb-2\"> <a href=\"/district.php\">District Data</a> </li>\n",
       "<li class=\"mb-2\"> <a href=\"/city.php\">Cities in India</a> </li>\n",
       "<li class=\"mb-2\"> <a href=\"/towns.php\">Towns in India</a> </li>\n",
       "</ul>\n",
       "</div>\n",
       "<div class=\"col-6 col-lg-2 mb-3\">\n",
       "<h5>Facts</h5>\n",
       "<ul class=\"list-unstyled\">\n",
       "<li class=\"mb-2\"> <a href=\"/facts.php\">All facts</a> </li>\n",
       "<li class=\"mb-2\"> <a href=\"/facts/state.php\">State Facts</a> </li>\n",
       "<li class=\"mb-2\"> <a href=\"/facts/district.php\">District Facts</a> </li>\n",
       "<li class=\"mb-2\"> <a href=\"/facts/urban.php\">Metropolitan Facts</a> </li>\n",
       "<li class=\"mb-2\"> <a href=\"/facts/city.php\">City Facts</a> </li>\n",
       "</ul>\n",
       "</div>\n",
       "<div class=\"col-6 col-lg-2 mb-3\">\n",
       "<h5>Facts</h5>\n",
       "<ul class=\"list-unstyled\">\n",
       "<li class=\"mb-2\"> <a href=\"/facts.php\">All facts</a> </li>\n",
       "<li class=\"mb-2\"> <a href=\"/facts/state.php\">State Facts</a> </li>\n",
       "<li class=\"mb-2\"> <a href=\"/facts/district.php\">District Facts</a> </li>\n",
       "<li class=\"mb-2\"> <a href=\"/facts/urban.php\">Metropolitan Facts</a> </li>\n",
       "<li class=\"mb-2\"> <a href=\"/facts/city.php\">City Facts</a> </li>\n",
       "</ul>\n",
       "</div>\n",
       "<div class=\"col-6 col-lg-2 mb-3\">\n",
       "<h5>Facts</h5>\n",
       "<ul class=\"list-unstyled\">\n",
       "<li class=\"mb-2\"> <a href=\"/facts.php\">All facts</a> </li>\n",
       "<li class=\"mb-2\"> <a href=\"/facts/state.php\">State Facts</a> </li>\n",
       "<li class=\"mb-2\"> <a href=\"/facts/district.php\">District Facts</a> </li>\n",
       "<li class=\"mb-2\"> <a href=\"/facts/urban.php\">Metropolitan Facts</a> </li>\n",
       "<li class=\"mb-2\"> <a href=\"/facts/city.php\">City Facts</a> </li>\n",
       "</ul>\n",
       "</div>\n",
       "</div>\n",
       "</div>\n",
       "</footer>\n",
       "<script async=\"\" crossorigin=\"anonymous\" integrity=\"sha384-kenU1KFdBIe4zVF0s0G1M5b4hcpxyD9F7jL+jjXkk+Q2h455rYXK/7HAuoJl+0I4\" src=\"https://cdn.jsdelivr.net/npm/bootstrap@5.2.3/dist/js/bootstrap.bundle.min.js\"></script>\n",
       "<script async=\"\" nonce=\"OftdtzjHJcAYXXRlVkabOg\" src=\"https://fundingchoicesmessages.google.com/i/pub-0612465356921996?ers=1\"></script><script nonce=\"OftdtzjHJcAYXXRlVkabOg\">(function() {function signalGooglefcPresent() {if (!window.frames['googlefcPresent']) {if (document.body) {const iframe = document.createElement('iframe'); iframe.style = 'width: 0; height: 0; border: none; z-index: -1000; left: -1000px; top: -1000px;'; iframe.style.display = 'none'; iframe.name = 'googlefcPresent'; document.body.appendChild(iframe);} else {setTimeout(signalGooglefcPresent, 0);}}}signalGooglefcPresent();})();</script>\n",
       "<script async=\"\" src=\"https://www.googletagmanager.com/gtag/js?id=G-35X0WCV0YK\"></script>\n",
       "<script>\n",
       "  window.dataLayer = window.dataLayer || [];\n",
       "  function gtag(){dataLayer.push(arguments);}\n",
       "  gtag('js', new Date());\n",
       "\n",
       "  gtag('config', 'G-35X0WCV0YK');\n",
       "</script>\n",
       "<script crossorigin=\"anonymous\" data-cf-beacon='{\"rayId\":\"85540d01c8f51a6d\",\"version\":\"2024.2.0\",\"r\":1,\"token\":\"1afca9ee50cd4be3a6048c484e58e0bc\",\"b\":1}' defer=\"\" integrity=\"sha512-euoFGowhlaLqXsPWQ48qSkBSCFs3DPRyiwVu3FjR96cMPx+Fr+gpWRhIafcHwqwCqWS42RZhIudOvEI+Ckf6MA==\" src=\"https://static.cloudflareinsights.com/beacon.min.js/v84a3a4012de94ce1a686ba8c167c359c1696973893317\"></script>\n",
       "</body>\n",
       "</html> "
      ]
     },
     "execution_count": 88,
     "metadata": {},
     "output_type": "execute_result"
    }
   ],
   "source": [
    "soup"
   ]
  },
  {
   "cell_type": "code",
   "execution_count": 91,
   "id": "ae2624f8",
   "metadata": {},
   "outputs": [
    {
     "data": {
      "text/plain": [
       "<table class=\"table table1 table-striped table-hover\">\n",
       "<thead>\n",
       "<tr>\n",
       "<th>Town</th>\n",
       "<th>Type</th>\n",
       "<th>Population</th>\n",
       "</tr>\n",
       "</thead>\n",
       "<tbody>\n",
       "<tr>\n",
       "<td><a href=\"/data/town/64086-aali-delhi.html\" title=\"Aali\">Aali</a></td>\n",
       "<td>Census Town</td>\n",
       "<td>27,169</td>\n",
       "</tr>\n",
       "<tr>\n",
       "<td><a href=\"/data/town/63910-ali-pur-delhi.html\" title=\"Ali Pur\">Ali Pur</a></td>\n",
       "<td>Census Town</td>\n",
       "<td>20,332</td>\n",
       "</tr>\n",
       "<tr>\n",
       "<td><a href=\"/data/town/64070-asola-delhi.html\" title=\"Asola\">Asola</a></td>\n",
       "<td>Census Town</td>\n",
       "<td>13,275</td>\n",
       "</tr>\n",
       "<tr>\n",
       "<td><a href=\"/data/town/64065-aya-nagar-delhi.html\" title=\"Aya Nagar\">Aya Nagar</a></td>\n",
       "<td>Census Town</td>\n",
       "<td>33,123</td>\n",
       "</tr>\n",
       "<tr>\n",
       "<td><a href=\"/data/town/63980-babar-pur-delhi.html\" title=\"Babar Pur\">Babar Pur</a></td>\n",
       "<td>Census Town</td>\n",
       "<td>37,058</td>\n",
       "</tr>\n",
       "<tr>\n",
       "<td><a href=\"/data/town/63908-bakhtawar-pur-delhi.html\" title=\"Bakhtawar Pur\">Bakhtawar Pur</a></td>\n",
       "<td>Census Town</td>\n",
       "<td>12,716</td>\n",
       "</tr>\n",
       "<tr>\n",
       "<td><a href=\"/data/town/64002-bakkar-wala-delhi.html\" title=\"Bakkar Wala\">Bakkar Wala</a></td>\n",
       "<td>Census Town</td>\n",
       "<td>18,122</td>\n",
       "</tr>\n",
       "<tr>\n",
       "<td><a href=\"/data/town/63909-bankauli-delhi.html\" title=\"Bankauli\">Bankauli</a></td>\n",
       "<td>Census Town</td>\n",
       "<td>5,339</td>\n",
       "</tr>\n",
       "<tr>\n",
       "<td><a href=\"/data/town/63905-bankner-delhi.html\" title=\"Bankner\">Bankner</a></td>\n",
       "<td>Census Town</td>\n",
       "<td>14,788</td>\n",
       "</tr>\n",
       "<tr>\n",
       "<td><a href=\"/data/town/63995-bapraula-delhi.html\" title=\"Bapraula\">Bapraula</a></td>\n",
       "<td>Census Town</td>\n",
       "<td>52,744</td>\n",
       "</tr>\n",
       "<tr>\n",
       "<td><a href=\"/data/town/63969-baqiabad-delhi.html\" title=\"Baqiabad\">Baqiabad</a></td>\n",
       "<td>Census Town</td>\n",
       "<td>14,429</td>\n",
       "</tr>\n",
       "<tr>\n",
       "<td><a href=\"/data/town/63920-barwala-delhi.html\" title=\"Barwala\">Barwala</a></td>\n",
       "<td>Census Town</td>\n",
       "<td>8,948</td>\n",
       "</tr>\n",
       "<tr>\n",
       "<td><a href=\"/data/town/63922-bawana-delhi.html\" title=\"Bawana\">Bawana</a></td>\n",
       "<td>Census Town</td>\n",
       "<td>73,680</td>\n",
       "</tr>\n",
       "<tr>\n",
       "<td><a href=\"/data/town/63946-begum-pur-delhi.html\" title=\"Begum Pur\">Begum Pur</a></td>\n",
       "<td>Census Town</td>\n",
       "<td>53,682</td>\n",
       "</tr>\n",
       "<tr>\n",
       "<td><a href=\"/data/town/64069-bhati-delhi.html\" title=\"Bhati\">Bhati</a></td>\n",
       "<td>Census Town</td>\n",
       "<td>18,864</td>\n",
       "</tr>\n",
       "<tr>\n",
       "<td><a href=\"/data/town/63906-bhor-garh-delhi.html\" title=\"Bhor Garh\">Bhor Garh</a></td>\n",
       "<td>Census Town</td>\n",
       "<td>8,627</td>\n",
       "</tr>\n",
       "<tr>\n",
       "<td><a href=\"/data/town/64071-chandan-hola-delhi.html\" title=\"Chandan Hola\">Chandan Hola</a></td>\n",
       "<td>Census Town</td>\n",
       "<td>6,780</td>\n",
       "</tr>\n",
       "<tr>\n",
       "<td><a href=\"/data/town/64073-chattar-pur-delhi.html\" title=\"Chattar Pur\">Chattar Pur</a></td>\n",
       "<td>Census Town</td>\n",
       "<td>46,776</td>\n",
       "</tr>\n",
       "<tr>\n",
       "<td><a href=\"/data/town/64054-chhawala-delhi.html\" title=\"Chhawala\">Chhawala</a></td>\n",
       "<td>Census Town</td>\n",
       "<td>14,662</td>\n",
       "</tr>\n",
       "<tr>\n",
       "<td><a href=\"/data/town/63989-chilla-saroda-bangar-delhi.html\" title=\"Chilla Saroda Bangar\">Chilla Saroda Bangar</a></td>\n",
       "<td>Census Town</td>\n",
       "<td>83,217</td>\n",
       "</tr>\n",
       "<tr>\n",
       "<td><a href=\"/data/town/63990-chilla-saroda-khadar-delhi.html\" title=\"Chilla Saroda Khadar\">Chilla Saroda Khadar</a></td>\n",
       "<td>Census Town</td>\n",
       "<td>11,743</td>\n",
       "</tr>\n",
       "<tr>\n",
       "<td><a href=\"/data/town/63923-darya-pur-kalan-delhi.html\" title=\"Darya Pur Kalan\">Darya Pur Kalan</a></td>\n",
       "<td>Census Town</td>\n",
       "<td>6,310</td>\n",
       "</tr>\n",
       "<tr>\n",
       "<td><a href=\"/data/town/63971-dayal-pur-delhi.html\" title=\"Dayal Pur\">Dayal Pur</a></td>\n",
       "<td>Census Town</td>\n",
       "<td>20,589</td>\n",
       "</tr>\n",
       "<tr>\n",
       "<td><a href=\"/data/town/64068-dera-mandi-delhi.html\" title=\"Dera Mandi\">Dera Mandi</a></td>\n",
       "<td>Census Town</td>\n",
       "<td>16,725</td>\n",
       "</tr>\n",
       "<tr>\n",
       "<td><a href=\"/data/town/64051-dindar-pur-delhi.html\" title=\"Dindar Pur\">Dindar Pur</a></td>\n",
       "<td>Census Town</td>\n",
       "<td>35,856</td>\n",
       "</tr>\n",
       "<tr>\n",
       "<td><a href=\"/data/town/64067-fateh-pur-beri-delhi.html\" title=\"Fateh Pur Beri\">Fateh Pur Beri</a></td>\n",
       "<td>Census Town</td>\n",
       "<td>8,861</td>\n",
       "</tr>\n",
       "<tr>\n",
       "<td><a href=\"/data/town/63986-gharoli-delhi.html\" title=\"Gharoli\">Gharoli</a></td>\n",
       "<td>Census Town</td>\n",
       "<td>92,540</td>\n",
       "</tr>\n",
       "<tr>\n",
       "<td><a href=\"/data/town/63985-gharonda-neemka-bangar-alias-patpar-ganj-delhi.html\" title=\"Gharonda Neemka Bangar alias Patpar Ganj\">Gharonda Neemka Bangar alias Patpar Ganj</a></td>\n",
       "<td>Census Town</td>\n",
       "<td>37,876</td>\n",
       "</tr>\n",
       "<tr>\n",
       "<td><a href=\"/data/town/63939-gheora-delhi.html\" title=\"Gheora\">Gheora</a></td>\n",
       "<td>Census Town</td>\n",
       "<td>6,876</td>\n",
       "</tr>\n",
       "<tr>\n",
       "<td><a href=\"/data/town/64061-ghitorni-delhi.html\" title=\"Ghitorni\">Ghitorni</a></td>\n",
       "<td>Census Town</td>\n",
       "<td>14,893</td>\n",
       "</tr>\n",
       "<tr>\n",
       "<td><a href=\"/data/town/63912-ibrahim-pur-delhi.html\" title=\"Ibrahim Pur\">Ibrahim Pur</a></td>\n",
       "<td>Census Town</td>\n",
       "<td>10,614</td>\n",
       "</tr>\n",
       "<tr>\n",
       "<td><a href=\"/data/town/63981-jaffrabad-delhi.html\" title=\"Jaffrabad\">Jaffrabad</a></td>\n",
       "<td>Census Town</td>\n",
       "<td>54,601</td>\n",
       "</tr>\n",
       "<tr>\n",
       "<td><a href=\"/data/town/64087-jait-pur-delhi.html\" title=\"Jait Pur\">Jait Pur</a></td>\n",
       "<td>Census Town</td>\n",
       "<td>59,330</td>\n",
       "</tr>\n",
       "<tr>\n",
       "<td><a href=\"/data/town/64045-jharoda-kalan-delhi.html\" title=\"Jharoda Kalan\">Jharoda Kalan</a></td>\n",
       "<td>Census Town</td>\n",
       "<td>19,578</td>\n",
       "</tr>\n",
       "<tr>\n",
       "<td><a href=\"/data/town/63958-jharoda-majra-burari-delhi.html\" title=\"Jharoda Majra Burari\">Jharoda Majra Burari</a></td>\n",
       "<td>Census Town</td>\n",
       "<td>22,878</td>\n",
       "</tr>\n",
       "<tr>\n",
       "<td><a href=\"/data/town/63972-jiwan-pur-alias-johri-pur-delhi.html\" title=\"Jiwan Pur alias Johri Pur\">Jiwan Pur alias Johri Pur</a></td>\n",
       "<td>Census Town</td>\n",
       "<td>43,054</td>\n",
       "</tr>\n",
       "<tr>\n",
       "<td><a href=\"/data/town/64066-jona-pur-delhi.html\" title=\"Jona Pur\">Jona Pur</a></td>\n",
       "<td>Census Town</td>\n",
       "<td>10,635</td>\n",
       "</tr>\n",
       "<tr>\n",
       "<td><a href=\"/data/town/64046-kair-delhi.html\" title=\"Kair\">Kair</a></td>\n",
       "<td>Census Town</td>\n",
       "<td>4,074</td>\n",
       "</tr>\n",
       "<tr>\n",
       "<td><a href=\"/data/town/63956-kamal-pur-majra-burari-delhi.html\" title=\"Kamal Pur Majra Burari\">Kamal Pur Majra Burari</a></td>\n",
       "<td>Census Town</td>\n",
       "<td>43,086</td>\n",
       "</tr>\n",
       "<tr>\n",
       "<td><a href=\"/data/town/63938-kanjhawala-delhi.html\" title=\"Kanjhawala\">Kanjhawala</a></td>\n",
       "<td>Census Town</td>\n",
       "<td>10,331</td>\n",
       "</tr>\n",
       "<tr>\n",
       "<td><a href=\"/data/town/64059-kapas-hera-delhi.html\" title=\"Kapas Hera\">Kapas Hera</a></td>\n",
       "<td>Census Town</td>\n",
       "<td>74,073</td>\n",
       "</tr>\n",
       "<tr>\n",
       "<td><a href=\"/data/town/63945-karala-delhi.html\" title=\"Karala\">Karala</a></td>\n",
       "<td>Census Town</td>\n",
       "<td>35,730</td>\n",
       "</tr>\n",
       "<tr>\n",
       "<td><a href=\"/data/town/63976-khajoori-khas-delhi.html\" title=\"Khajoori Khas\">Khajoori Khas</a></td>\n",
       "<td>Census Town</td>\n",
       "<td>76,640</td>\n",
       "</tr>\n",
       "<tr>\n",
       "<td><a href=\"/data/town/63974-khan-pur-dhani-delhi.html\" title=\"Khan Pur Dhani\">Khan Pur Dhani</a></td>\n",
       "<td>Census Town</td>\n",
       "<td>6,994</td>\n",
       "</tr>\n",
       "<tr>\n",
       "<td><a href=\"/data/town/64050-khera-delhi.html\" title=\"Khera\">Khera</a></td>\n",
       "<td>Census Town</td>\n",
       "<td>7,220</td>\n",
       "</tr>\n",
       "<tr>\n",
       "<td><a href=\"/data/town/63916-khera-kalan-delhi.html\" title=\"Khera Kalan\">Khera Kalan</a></td>\n",
       "<td>Census Town</td>\n",
       "<td>8,252</td>\n",
       "</tr>\n",
       "<tr>\n",
       "<td><a href=\"/data/town/63919-khera-khurd-delhi.html\" title=\"Khera Khurd\">Khera Khurd</a></td>\n",
       "<td>Census Town</td>\n",
       "<td>9,777</td>\n",
       "</tr>\n",
       "<tr>\n",
       "<td><a href=\"/data/town/63987-kondli-delhi.html\" title=\"Kondli\">Kondli</a></td>\n",
       "<td>Census Town</td>\n",
       "<td>38,207</td>\n",
       "</tr>\n",
       "<tr>\n",
       "<td><a href=\"/data/town/64081-kotla-mahigiran-delhi.html\" title=\"Kotla Mahigiran\">Kotla Mahigiran</a></td>\n",
       "<td>Census Town</td>\n",
       "<td>7,376</td>\n",
       "</tr>\n",
       "<tr>\n",
       "<td><a href=\"/data/town/64056-kusum-pur-delhi.html\" title=\"Kusum Pur\">Kusum Pur</a></td>\n",
       "<td>Census Town</td>\n",
       "<td>17,028</td>\n",
       "</tr>\n",
       "<tr>\n",
       "<td><a href=\"/data/town/63937-lad-pur-delhi.html\" title=\"Lad Pur\">Lad Pur</a></td>\n",
       "<td>Census Town</td>\n",
       "<td>5,529</td>\n",
       "</tr>\n",
       "<tr>\n",
       "<td><a href=\"/data/town/63914-libas-pur-delhi.html\" title=\"Libas Pur\">Libas Pur</a></td>\n",
       "<td>Census Town</td>\n",
       "<td>44,375</td>\n",
       "</tr>\n",
       "<tr>\n",
       "<td><a href=\"/data/town/64074-maidan-garhi-delhi.html\" title=\"Maidan Garhi\">Maidan Garhi</a></td>\n",
       "<td>Census Town</td>\n",
       "<td>11,111</td>\n",
       "</tr>\n",
       "<tr>\n",
       "<td><a href=\"/data/town/64057-malik-pur-kohi-alias-rang-puri-delhi.html\" title=\"Malik Pur Kohi alias Rang Puri\">Malik Pur Kohi alias Rang Puri</a></td>\n",
       "<td>Census Town</td>\n",
       "<td>23,726</td>\n",
       "</tr>\n",
       "<tr>\n",
       "<td><a href=\"/data/town/63977-mir-pur-turk-delhi.html\" title=\"Mir Pur Turk\">Mir Pur Turk</a></td>\n",
       "<td>Census Town</td>\n",
       "<td>19,098</td>\n",
       "</tr>\n",
       "<tr>\n",
       "<td><a href=\"/data/town/64084-mithe-pur-delhi.html\" title=\"Mithe Pur\">Mithe Pur</a></td>\n",
       "<td>Census Town</td>\n",
       "<td>69,837</td>\n",
       "</tr>\n",
       "<tr>\n",
       "<td><a href=\"/data/town/64049-mitraon-delhi.html\" title=\"Mitraon\">Mitraon</a></td>\n",
       "<td>Census Town</td>\n",
       "<td>6,512</td>\n",
       "</tr>\n",
       "<tr>\n",
       "<td><a href=\"/data/town/63944-mohammad-pur-majri-delhi.html\" title=\"Mohammad Pur Majri\">Mohammad Pur Majri</a></td>\n",
       "<td>Census Town</td>\n",
       "<td>17,462</td>\n",
       "</tr>\n",
       "<tr>\n",
       "<td><a href=\"/data/town/64085-molar-band-delhi.html\" title=\"Molar Band\">Molar Band</a></td>\n",
       "<td>Census Town</td>\n",
       "<td>91,402</td>\n",
       "</tr>\n",
       "<tr>\n",
       "<td><a href=\"/data/town/64055-moradabad-pahari-delhi.html\" title=\"Moradabad Pahari\">Moradabad Pahari</a></td>\n",
       "<td>Census Town</td>\n",
       "<td>21,502</td>\n",
       "</tr>\n",
       "<tr>\n",
       "<td><a href=\"/data/town/63941-mubarak-pur-dabas-delhi.html\" title=\"Mubarak Pur Dabas\">Mubarak Pur Dabas</a></td>\n",
       "<td>Census Town</td>\n",
       "<td>12,043</td>\n",
       "</tr>\n",
       "<tr>\n",
       "<td><a href=\"/data/town/63955-mukand-pur-delhi.html\" title=\"Mukand Pur\">Mukand Pur</a></td>\n",
       "<td>Census Town</td>\n",
       "<td>57,135</td>\n",
       "</tr>\n",
       "<tr>\n",
       "<td><a href=\"/data/town/63911-mukhmel-pur-delhi.html\" title=\"Mukhmel Pur\">Mukhmel Pur</a></td>\n",
       "<td>Census Town</td>\n",
       "<td>4,931</td>\n",
       "</tr>\n",
       "<tr>\n",
       "<td><a href=\"/data/town/64001-mundka-delhi.html\" title=\"Mundka\">Mundka</a></td>\n",
       "<td>Census Town</td>\n",
       "<td>54,541</td>\n",
       "</tr>\n",
       "<tr>\n",
       "<td><a href=\"/data/town/64053-nangli-sakrawati-delhi.html\" title=\"Nangli Sakrawati\">Nangli Sakrawati</a></td>\n",
       "<td>Census Town</td>\n",
       "<td>37,706</td>\n",
       "</tr>\n",
       "<tr>\n",
       "<td><a href=\"/data/town/64077-neb-sarai-delhi.html\" title=\"Neb Sarai\">Neb Sarai</a></td>\n",
       "<td>Census Town</td>\n",
       "<td>15,640</td>\n",
       "</tr>\n",
       "<tr>\n",
       "<td><a href=\"/data/town/63998-nilothi-delhi.html\" title=\"Nilothi\">Nilothi</a></td>\n",
       "<td>Census Town</td>\n",
       "<td>43,371</td>\n",
       "</tr>\n",
       "<tr>\n",
       "<td><a href=\"/data/town/63943-nithari-delhi.html\" title=\"Nithari\">Nithari</a></td>\n",
       "<td>Census Town</td>\n",
       "<td>50,464</td>\n",
       "</tr>\n",
       "<tr>\n",
       "<td><a href=\"/data/town/63918-pehlad-pur-bangar-delhi.html\" title=\"Pehlad Pur Bangar\">Pehlad Pur Bangar</a></td>\n",
       "<td>Census Town</td>\n",
       "<td>22,968</td>\n",
       "</tr>\n",
       "<tr>\n",
       "<td><a href=\"/data/town/63947-pooth-kalan-delhi.html\" title=\"Pooth Kalan\">Pooth Kalan</a></td>\n",
       "<td>Census Town</td>\n",
       "<td>96,002</td>\n",
       "</tr>\n",
       "<tr>\n",
       "<td><a href=\"/data/town/63921-pooth-khurd-delhi.html\" title=\"Pooth Khurd\">Pooth Khurd</a></td>\n",
       "<td>Census Town</td>\n",
       "<td>10,654</td>\n",
       "</tr>\n",
       "<tr>\n",
       "<td><a href=\"/data/town/64082-pul-pehlad-delhi.html\" title=\"Pul Pehlad\">Pul Pehlad</a></td>\n",
       "<td>Census Town</td>\n",
       "<td>69,657</td>\n",
       "</tr>\n",
       "<tr>\n",
       "<td><a href=\"/data/town/63913-qadi-pur-delhi.html\" title=\"Qadi Pur\">Qadi Pur</a></td>\n",
       "<td>Census Town</td>\n",
       "<td>18,369</td>\n",
       "</tr>\n",
       "<tr>\n",
       "<td><a href=\"/data/town/64000-quammruddin-nagar-delhi.html\" title=\"Quammruddin Nagar\">Quammruddin Nagar</a></td>\n",
       "<td>Census Town</td>\n",
       "<td>25,126</td>\n",
       "</tr>\n",
       "<tr>\n",
       "<td><a href=\"/data/town/64075-raj-pur-khurd-delhi.html\" title=\"Raj Pur Khurd\">Raj Pur Khurd</a></td>\n",
       "<td>Census Town</td>\n",
       "<td>11,161</td>\n",
       "</tr>\n",
       "<tr>\n",
       "<td><a href=\"/data/town/63992-raja-pur-khurd-delhi.html\" title=\"Raja Pur Khurd\">Raja Pur Khurd</a></td>\n",
       "<td>Census Town</td>\n",
       "<td>19,312</td>\n",
       "</tr>\n",
       "<tr>\n",
       "<td><a href=\"/data/town/64060-rajokri-delhi.html\" title=\"Rajokri\">Rajokri</a></td>\n",
       "<td>Census Town</td>\n",
       "<td>19,148</td>\n",
       "</tr>\n",
       "<tr>\n",
       "<td><a href=\"/data/town/63940-rani-khera-delhi.html\" title=\"Rani Khera\">Rani Khera</a></td>\n",
       "<td>Census Town</td>\n",
       "<td>16,402</td>\n",
       "</tr>\n",
       "<tr>\n",
       "<td><a href=\"/data/town/64052-roshan-pura-alias-dichaon-khurd-delhi.html\" title=\"Roshan Pura alias Dichaon Khurd\">Roshan Pura alias Dichaon Khurd</a></td>\n",
       "<td>Census Town</td>\n",
       "<td>57,217</td>\n",
       "</tr>\n",
       "<tr>\n",
       "<td><a href=\"/data/town/63968-sadat-pur-gujran-delhi.html\" title=\"Sadat Pur Gujran\">Sadat Pur Gujran</a></td>\n",
       "<td>Census Town</td>\n",
       "<td>97,641</td>\n",
       "</tr>\n",
       "<tr>\n",
       "<td><a href=\"/data/town/63917-sahibabad-daulat-pur-delhi.html\" title=\"Sahibabad Daulat Pur\">Sahibabad Daulat Pur</a></td>\n",
       "<td>Census Town</td>\n",
       "<td>54,773</td>\n",
       "</tr>\n",
       "<tr>\n",
       "<td><a href=\"/data/town/64080-saidabad-delhi.html\" title=\"Saidabad\">Saidabad</a></td>\n",
       "<td>Census Town</td>\n",
       "<td>10,168</td>\n",
       "</tr>\n",
       "<tr>\n",
       "<td><a href=\"/data/town/64078-saidul-azaib-delhi.html\" title=\"Saidul Azaib\">Saidul Azaib</a></td>\n",
       "<td>Census Town</td>\n",
       "<td>17,914</td>\n",
       "</tr>\n",
       "<tr>\n",
       "<td><a href=\"/data/town/64058-sambhalka-delhi.html\" title=\"Sambhalka\">Sambhalka</a></td>\n",
       "<td>Census Town</td>\n",
       "<td>17,076</td>\n",
       "</tr>\n",
       "<tr>\n",
       "<td><a href=\"/data/town/63997-shafi-pur-ranhola-delhi.html\" title=\"Shafi Pur Ranhola\">Shafi Pur Ranhola</a></td>\n",
       "<td>Census Town</td>\n",
       "<td>31,944</td>\n",
       "</tr>\n",
       "<tr>\n",
       "<td><a href=\"/data/town/63983-shakar-pur-baramad-delhi.html\" title=\"Shakar Pur Baramad\">Shakar Pur Baramad</a></td>\n",
       "<td>Census Town</td>\n",
       "<td>1,178</td>\n",
       "</tr>\n",
       "<tr>\n",
       "<td><a href=\"/data/town/63915-siras-pur-delhi.html\" title=\"Siras Pur\">Siras Pur</a></td>\n",
       "<td>Census Town</td>\n",
       "<td>30,445</td>\n",
       "</tr>\n",
       "<tr>\n",
       "<td><a href=\"/data/town/64072-sultan-pur-delhi.html\" title=\"Sultan Pur\">Sultan Pur</a></td>\n",
       "<td>Census Town</td>\n",
       "<td>15,160</td>\n",
       "</tr>\n",
       "<tr>\n",
       "<td><a href=\"/data/town/64083-taj-pul-delhi.html\" title=\"Taj Pul\">Taj Pul</a></td>\n",
       "<td>Census Town</td>\n",
       "<td>68,796</td>\n",
       "</tr>\n",
       "<tr>\n",
       "<td><a href=\"/data/town/64079-tigri-delhi.html\" title=\"Tigri\">Tigri</a></td>\n",
       "<td>Census Town</td>\n",
       "<td>46,974</td>\n",
       "</tr>\n",
       "<tr>\n",
       "<td><a href=\"/data/town/64003-tikri-kalan-delhi.html\" title=\"Tikri Kalan\">Tikri Kalan</a></td>\n",
       "<td>Census Town</td>\n",
       "<td>16,313</td>\n",
       "</tr>\n",
       "<tr>\n",
       "<td><a href=\"/data/town/63907-tikri-khurd-delhi.html\" title=\"Tikri Khurd\">Tikri Khurd</a></td>\n",
       "<td>Census Town</td>\n",
       "<td>13,772</td>\n",
       "</tr>\n",
       "<tr>\n",
       "<td><a href=\"/data/town/63996-tilang-pur-kotla-delhi.html\" title=\"Tilang Pur Kotla\">Tilang Pur Kotla</a></td>\n",
       "<td>Census Town</td>\n",
       "<td>13,614</td>\n",
       "</tr>\n",
       "<tr>\n",
       "<td><a href=\"/data/town/63975-tukhmir-pur-delhi.html\" title=\"Tukhmir Pur\">Tukhmir Pur</a></td>\n",
       "<td>Census Town</td>\n",
       "<td>5,658</td>\n",
       "</tr>\n",
       "<tr>\n",
       "<td><a href=\"/data/town/63978-ziauddin-pur-delhi.html\" title=\"Ziauddin Pur\">Ziauddin Pur</a></td>\n",
       "<td>Census Town</td>\n",
       "<td>68,993</td>\n",
       "</tr>\n",
       "</tbody>\n",
       "</table>"
      ]
     },
     "execution_count": 91,
     "metadata": {},
     "output_type": "execute_result"
    }
   ],
   "source": [
    "table = soup.find_all(\"table\")[-1]\n",
    "table"
   ]
  },
  {
   "cell_type": "code",
   "execution_count": 100,
   "id": "99418945",
   "metadata": {},
   "outputs": [
    {
     "data": {
      "text/plain": [
       "[<tr>\n",
       " <td><a href=\"/data/town/64086-aali-delhi.html\" title=\"Aali\">Aali</a></td>\n",
       " <td>Census Town</td>\n",
       " <td>27,169</td>\n",
       " </tr>,\n",
       " <tr>\n",
       " <td><a href=\"/data/town/63910-ali-pur-delhi.html\" title=\"Ali Pur\">Ali Pur</a></td>\n",
       " <td>Census Town</td>\n",
       " <td>20,332</td>\n",
       " </tr>,\n",
       " <tr>\n",
       " <td><a href=\"/data/town/64070-asola-delhi.html\" title=\"Asola\">Asola</a></td>\n",
       " <td>Census Town</td>\n",
       " <td>13,275</td>\n",
       " </tr>,\n",
       " <tr>\n",
       " <td><a href=\"/data/town/64065-aya-nagar-delhi.html\" title=\"Aya Nagar\">Aya Nagar</a></td>\n",
       " <td>Census Town</td>\n",
       " <td>33,123</td>\n",
       " </tr>,\n",
       " <tr>\n",
       " <td><a href=\"/data/town/63980-babar-pur-delhi.html\" title=\"Babar Pur\">Babar Pur</a></td>\n",
       " <td>Census Town</td>\n",
       " <td>37,058</td>\n",
       " </tr>,\n",
       " <tr>\n",
       " <td><a href=\"/data/town/63908-bakhtawar-pur-delhi.html\" title=\"Bakhtawar Pur\">Bakhtawar Pur</a></td>\n",
       " <td>Census Town</td>\n",
       " <td>12,716</td>\n",
       " </tr>,\n",
       " <tr>\n",
       " <td><a href=\"/data/town/64002-bakkar-wala-delhi.html\" title=\"Bakkar Wala\">Bakkar Wala</a></td>\n",
       " <td>Census Town</td>\n",
       " <td>18,122</td>\n",
       " </tr>,\n",
       " <tr>\n",
       " <td><a href=\"/data/town/63909-bankauli-delhi.html\" title=\"Bankauli\">Bankauli</a></td>\n",
       " <td>Census Town</td>\n",
       " <td>5,339</td>\n",
       " </tr>,\n",
       " <tr>\n",
       " <td><a href=\"/data/town/63905-bankner-delhi.html\" title=\"Bankner\">Bankner</a></td>\n",
       " <td>Census Town</td>\n",
       " <td>14,788</td>\n",
       " </tr>,\n",
       " <tr>\n",
       " <td><a href=\"/data/town/63995-bapraula-delhi.html\" title=\"Bapraula\">Bapraula</a></td>\n",
       " <td>Census Town</td>\n",
       " <td>52,744</td>\n",
       " </tr>,\n",
       " <tr>\n",
       " <td><a href=\"/data/town/63969-baqiabad-delhi.html\" title=\"Baqiabad\">Baqiabad</a></td>\n",
       " <td>Census Town</td>\n",
       " <td>14,429</td>\n",
       " </tr>,\n",
       " <tr>\n",
       " <td><a href=\"/data/town/63920-barwala-delhi.html\" title=\"Barwala\">Barwala</a></td>\n",
       " <td>Census Town</td>\n",
       " <td>8,948</td>\n",
       " </tr>,\n",
       " <tr>\n",
       " <td><a href=\"/data/town/63922-bawana-delhi.html\" title=\"Bawana\">Bawana</a></td>\n",
       " <td>Census Town</td>\n",
       " <td>73,680</td>\n",
       " </tr>,\n",
       " <tr>\n",
       " <td><a href=\"/data/town/63946-begum-pur-delhi.html\" title=\"Begum Pur\">Begum Pur</a></td>\n",
       " <td>Census Town</td>\n",
       " <td>53,682</td>\n",
       " </tr>,\n",
       " <tr>\n",
       " <td><a href=\"/data/town/64069-bhati-delhi.html\" title=\"Bhati\">Bhati</a></td>\n",
       " <td>Census Town</td>\n",
       " <td>18,864</td>\n",
       " </tr>,\n",
       " <tr>\n",
       " <td><a href=\"/data/town/63906-bhor-garh-delhi.html\" title=\"Bhor Garh\">Bhor Garh</a></td>\n",
       " <td>Census Town</td>\n",
       " <td>8,627</td>\n",
       " </tr>,\n",
       " <tr>\n",
       " <td><a href=\"/data/town/64071-chandan-hola-delhi.html\" title=\"Chandan Hola\">Chandan Hola</a></td>\n",
       " <td>Census Town</td>\n",
       " <td>6,780</td>\n",
       " </tr>,\n",
       " <tr>\n",
       " <td><a href=\"/data/town/64073-chattar-pur-delhi.html\" title=\"Chattar Pur\">Chattar Pur</a></td>\n",
       " <td>Census Town</td>\n",
       " <td>46,776</td>\n",
       " </tr>,\n",
       " <tr>\n",
       " <td><a href=\"/data/town/64054-chhawala-delhi.html\" title=\"Chhawala\">Chhawala</a></td>\n",
       " <td>Census Town</td>\n",
       " <td>14,662</td>\n",
       " </tr>,\n",
       " <tr>\n",
       " <td><a href=\"/data/town/63989-chilla-saroda-bangar-delhi.html\" title=\"Chilla Saroda Bangar\">Chilla Saroda Bangar</a></td>\n",
       " <td>Census Town</td>\n",
       " <td>83,217</td>\n",
       " </tr>,\n",
       " <tr>\n",
       " <td><a href=\"/data/town/63990-chilla-saroda-khadar-delhi.html\" title=\"Chilla Saroda Khadar\">Chilla Saroda Khadar</a></td>\n",
       " <td>Census Town</td>\n",
       " <td>11,743</td>\n",
       " </tr>,\n",
       " <tr>\n",
       " <td><a href=\"/data/town/63923-darya-pur-kalan-delhi.html\" title=\"Darya Pur Kalan\">Darya Pur Kalan</a></td>\n",
       " <td>Census Town</td>\n",
       " <td>6,310</td>\n",
       " </tr>,\n",
       " <tr>\n",
       " <td><a href=\"/data/town/63971-dayal-pur-delhi.html\" title=\"Dayal Pur\">Dayal Pur</a></td>\n",
       " <td>Census Town</td>\n",
       " <td>20,589</td>\n",
       " </tr>,\n",
       " <tr>\n",
       " <td><a href=\"/data/town/64068-dera-mandi-delhi.html\" title=\"Dera Mandi\">Dera Mandi</a></td>\n",
       " <td>Census Town</td>\n",
       " <td>16,725</td>\n",
       " </tr>,\n",
       " <tr>\n",
       " <td><a href=\"/data/town/64051-dindar-pur-delhi.html\" title=\"Dindar Pur\">Dindar Pur</a></td>\n",
       " <td>Census Town</td>\n",
       " <td>35,856</td>\n",
       " </tr>,\n",
       " <tr>\n",
       " <td><a href=\"/data/town/64067-fateh-pur-beri-delhi.html\" title=\"Fateh Pur Beri\">Fateh Pur Beri</a></td>\n",
       " <td>Census Town</td>\n",
       " <td>8,861</td>\n",
       " </tr>,\n",
       " <tr>\n",
       " <td><a href=\"/data/town/63986-gharoli-delhi.html\" title=\"Gharoli\">Gharoli</a></td>\n",
       " <td>Census Town</td>\n",
       " <td>92,540</td>\n",
       " </tr>,\n",
       " <tr>\n",
       " <td><a href=\"/data/town/63985-gharonda-neemka-bangar-alias-patpar-ganj-delhi.html\" title=\"Gharonda Neemka Bangar alias Patpar Ganj\">Gharonda Neemka Bangar alias Patpar Ganj</a></td>\n",
       " <td>Census Town</td>\n",
       " <td>37,876</td>\n",
       " </tr>,\n",
       " <tr>\n",
       " <td><a href=\"/data/town/63939-gheora-delhi.html\" title=\"Gheora\">Gheora</a></td>\n",
       " <td>Census Town</td>\n",
       " <td>6,876</td>\n",
       " </tr>,\n",
       " <tr>\n",
       " <td><a href=\"/data/town/64061-ghitorni-delhi.html\" title=\"Ghitorni\">Ghitorni</a></td>\n",
       " <td>Census Town</td>\n",
       " <td>14,893</td>\n",
       " </tr>,\n",
       " <tr>\n",
       " <td><a href=\"/data/town/63912-ibrahim-pur-delhi.html\" title=\"Ibrahim Pur\">Ibrahim Pur</a></td>\n",
       " <td>Census Town</td>\n",
       " <td>10,614</td>\n",
       " </tr>,\n",
       " <tr>\n",
       " <td><a href=\"/data/town/63981-jaffrabad-delhi.html\" title=\"Jaffrabad\">Jaffrabad</a></td>\n",
       " <td>Census Town</td>\n",
       " <td>54,601</td>\n",
       " </tr>,\n",
       " <tr>\n",
       " <td><a href=\"/data/town/64087-jait-pur-delhi.html\" title=\"Jait Pur\">Jait Pur</a></td>\n",
       " <td>Census Town</td>\n",
       " <td>59,330</td>\n",
       " </tr>,\n",
       " <tr>\n",
       " <td><a href=\"/data/town/64045-jharoda-kalan-delhi.html\" title=\"Jharoda Kalan\">Jharoda Kalan</a></td>\n",
       " <td>Census Town</td>\n",
       " <td>19,578</td>\n",
       " </tr>,\n",
       " <tr>\n",
       " <td><a href=\"/data/town/63958-jharoda-majra-burari-delhi.html\" title=\"Jharoda Majra Burari\">Jharoda Majra Burari</a></td>\n",
       " <td>Census Town</td>\n",
       " <td>22,878</td>\n",
       " </tr>,\n",
       " <tr>\n",
       " <td><a href=\"/data/town/63972-jiwan-pur-alias-johri-pur-delhi.html\" title=\"Jiwan Pur alias Johri Pur\">Jiwan Pur alias Johri Pur</a></td>\n",
       " <td>Census Town</td>\n",
       " <td>43,054</td>\n",
       " </tr>,\n",
       " <tr>\n",
       " <td><a href=\"/data/town/64066-jona-pur-delhi.html\" title=\"Jona Pur\">Jona Pur</a></td>\n",
       " <td>Census Town</td>\n",
       " <td>10,635</td>\n",
       " </tr>,\n",
       " <tr>\n",
       " <td><a href=\"/data/town/64046-kair-delhi.html\" title=\"Kair\">Kair</a></td>\n",
       " <td>Census Town</td>\n",
       " <td>4,074</td>\n",
       " </tr>,\n",
       " <tr>\n",
       " <td><a href=\"/data/town/63956-kamal-pur-majra-burari-delhi.html\" title=\"Kamal Pur Majra Burari\">Kamal Pur Majra Burari</a></td>\n",
       " <td>Census Town</td>\n",
       " <td>43,086</td>\n",
       " </tr>,\n",
       " <tr>\n",
       " <td><a href=\"/data/town/63938-kanjhawala-delhi.html\" title=\"Kanjhawala\">Kanjhawala</a></td>\n",
       " <td>Census Town</td>\n",
       " <td>10,331</td>\n",
       " </tr>,\n",
       " <tr>\n",
       " <td><a href=\"/data/town/64059-kapas-hera-delhi.html\" title=\"Kapas Hera\">Kapas Hera</a></td>\n",
       " <td>Census Town</td>\n",
       " <td>74,073</td>\n",
       " </tr>,\n",
       " <tr>\n",
       " <td><a href=\"/data/town/63945-karala-delhi.html\" title=\"Karala\">Karala</a></td>\n",
       " <td>Census Town</td>\n",
       " <td>35,730</td>\n",
       " </tr>,\n",
       " <tr>\n",
       " <td><a href=\"/data/town/63976-khajoori-khas-delhi.html\" title=\"Khajoori Khas\">Khajoori Khas</a></td>\n",
       " <td>Census Town</td>\n",
       " <td>76,640</td>\n",
       " </tr>,\n",
       " <tr>\n",
       " <td><a href=\"/data/town/63974-khan-pur-dhani-delhi.html\" title=\"Khan Pur Dhani\">Khan Pur Dhani</a></td>\n",
       " <td>Census Town</td>\n",
       " <td>6,994</td>\n",
       " </tr>,\n",
       " <tr>\n",
       " <td><a href=\"/data/town/64050-khera-delhi.html\" title=\"Khera\">Khera</a></td>\n",
       " <td>Census Town</td>\n",
       " <td>7,220</td>\n",
       " </tr>,\n",
       " <tr>\n",
       " <td><a href=\"/data/town/63916-khera-kalan-delhi.html\" title=\"Khera Kalan\">Khera Kalan</a></td>\n",
       " <td>Census Town</td>\n",
       " <td>8,252</td>\n",
       " </tr>,\n",
       " <tr>\n",
       " <td><a href=\"/data/town/63919-khera-khurd-delhi.html\" title=\"Khera Khurd\">Khera Khurd</a></td>\n",
       " <td>Census Town</td>\n",
       " <td>9,777</td>\n",
       " </tr>,\n",
       " <tr>\n",
       " <td><a href=\"/data/town/63987-kondli-delhi.html\" title=\"Kondli\">Kondli</a></td>\n",
       " <td>Census Town</td>\n",
       " <td>38,207</td>\n",
       " </tr>,\n",
       " <tr>\n",
       " <td><a href=\"/data/town/64081-kotla-mahigiran-delhi.html\" title=\"Kotla Mahigiran\">Kotla Mahigiran</a></td>\n",
       " <td>Census Town</td>\n",
       " <td>7,376</td>\n",
       " </tr>,\n",
       " <tr>\n",
       " <td><a href=\"/data/town/64056-kusum-pur-delhi.html\" title=\"Kusum Pur\">Kusum Pur</a></td>\n",
       " <td>Census Town</td>\n",
       " <td>17,028</td>\n",
       " </tr>,\n",
       " <tr>\n",
       " <td><a href=\"/data/town/63937-lad-pur-delhi.html\" title=\"Lad Pur\">Lad Pur</a></td>\n",
       " <td>Census Town</td>\n",
       " <td>5,529</td>\n",
       " </tr>,\n",
       " <tr>\n",
       " <td><a href=\"/data/town/63914-libas-pur-delhi.html\" title=\"Libas Pur\">Libas Pur</a></td>\n",
       " <td>Census Town</td>\n",
       " <td>44,375</td>\n",
       " </tr>,\n",
       " <tr>\n",
       " <td><a href=\"/data/town/64074-maidan-garhi-delhi.html\" title=\"Maidan Garhi\">Maidan Garhi</a></td>\n",
       " <td>Census Town</td>\n",
       " <td>11,111</td>\n",
       " </tr>,\n",
       " <tr>\n",
       " <td><a href=\"/data/town/64057-malik-pur-kohi-alias-rang-puri-delhi.html\" title=\"Malik Pur Kohi alias Rang Puri\">Malik Pur Kohi alias Rang Puri</a></td>\n",
       " <td>Census Town</td>\n",
       " <td>23,726</td>\n",
       " </tr>,\n",
       " <tr>\n",
       " <td><a href=\"/data/town/63977-mir-pur-turk-delhi.html\" title=\"Mir Pur Turk\">Mir Pur Turk</a></td>\n",
       " <td>Census Town</td>\n",
       " <td>19,098</td>\n",
       " </tr>,\n",
       " <tr>\n",
       " <td><a href=\"/data/town/64084-mithe-pur-delhi.html\" title=\"Mithe Pur\">Mithe Pur</a></td>\n",
       " <td>Census Town</td>\n",
       " <td>69,837</td>\n",
       " </tr>,\n",
       " <tr>\n",
       " <td><a href=\"/data/town/64049-mitraon-delhi.html\" title=\"Mitraon\">Mitraon</a></td>\n",
       " <td>Census Town</td>\n",
       " <td>6,512</td>\n",
       " </tr>,\n",
       " <tr>\n",
       " <td><a href=\"/data/town/63944-mohammad-pur-majri-delhi.html\" title=\"Mohammad Pur Majri\">Mohammad Pur Majri</a></td>\n",
       " <td>Census Town</td>\n",
       " <td>17,462</td>\n",
       " </tr>,\n",
       " <tr>\n",
       " <td><a href=\"/data/town/64085-molar-band-delhi.html\" title=\"Molar Band\">Molar Band</a></td>\n",
       " <td>Census Town</td>\n",
       " <td>91,402</td>\n",
       " </tr>,\n",
       " <tr>\n",
       " <td><a href=\"/data/town/64055-moradabad-pahari-delhi.html\" title=\"Moradabad Pahari\">Moradabad Pahari</a></td>\n",
       " <td>Census Town</td>\n",
       " <td>21,502</td>\n",
       " </tr>,\n",
       " <tr>\n",
       " <td><a href=\"/data/town/63941-mubarak-pur-dabas-delhi.html\" title=\"Mubarak Pur Dabas\">Mubarak Pur Dabas</a></td>\n",
       " <td>Census Town</td>\n",
       " <td>12,043</td>\n",
       " </tr>,\n",
       " <tr>\n",
       " <td><a href=\"/data/town/63955-mukand-pur-delhi.html\" title=\"Mukand Pur\">Mukand Pur</a></td>\n",
       " <td>Census Town</td>\n",
       " <td>57,135</td>\n",
       " </tr>,\n",
       " <tr>\n",
       " <td><a href=\"/data/town/63911-mukhmel-pur-delhi.html\" title=\"Mukhmel Pur\">Mukhmel Pur</a></td>\n",
       " <td>Census Town</td>\n",
       " <td>4,931</td>\n",
       " </tr>,\n",
       " <tr>\n",
       " <td><a href=\"/data/town/64001-mundka-delhi.html\" title=\"Mundka\">Mundka</a></td>\n",
       " <td>Census Town</td>\n",
       " <td>54,541</td>\n",
       " </tr>,\n",
       " <tr>\n",
       " <td><a href=\"/data/town/64053-nangli-sakrawati-delhi.html\" title=\"Nangli Sakrawati\">Nangli Sakrawati</a></td>\n",
       " <td>Census Town</td>\n",
       " <td>37,706</td>\n",
       " </tr>,\n",
       " <tr>\n",
       " <td><a href=\"/data/town/64077-neb-sarai-delhi.html\" title=\"Neb Sarai\">Neb Sarai</a></td>\n",
       " <td>Census Town</td>\n",
       " <td>15,640</td>\n",
       " </tr>,\n",
       " <tr>\n",
       " <td><a href=\"/data/town/63998-nilothi-delhi.html\" title=\"Nilothi\">Nilothi</a></td>\n",
       " <td>Census Town</td>\n",
       " <td>43,371</td>\n",
       " </tr>,\n",
       " <tr>\n",
       " <td><a href=\"/data/town/63943-nithari-delhi.html\" title=\"Nithari\">Nithari</a></td>\n",
       " <td>Census Town</td>\n",
       " <td>50,464</td>\n",
       " </tr>,\n",
       " <tr>\n",
       " <td><a href=\"/data/town/63918-pehlad-pur-bangar-delhi.html\" title=\"Pehlad Pur Bangar\">Pehlad Pur Bangar</a></td>\n",
       " <td>Census Town</td>\n",
       " <td>22,968</td>\n",
       " </tr>,\n",
       " <tr>\n",
       " <td><a href=\"/data/town/63947-pooth-kalan-delhi.html\" title=\"Pooth Kalan\">Pooth Kalan</a></td>\n",
       " <td>Census Town</td>\n",
       " <td>96,002</td>\n",
       " </tr>,\n",
       " <tr>\n",
       " <td><a href=\"/data/town/63921-pooth-khurd-delhi.html\" title=\"Pooth Khurd\">Pooth Khurd</a></td>\n",
       " <td>Census Town</td>\n",
       " <td>10,654</td>\n",
       " </tr>,\n",
       " <tr>\n",
       " <td><a href=\"/data/town/64082-pul-pehlad-delhi.html\" title=\"Pul Pehlad\">Pul Pehlad</a></td>\n",
       " <td>Census Town</td>\n",
       " <td>69,657</td>\n",
       " </tr>,\n",
       " <tr>\n",
       " <td><a href=\"/data/town/63913-qadi-pur-delhi.html\" title=\"Qadi Pur\">Qadi Pur</a></td>\n",
       " <td>Census Town</td>\n",
       " <td>18,369</td>\n",
       " </tr>,\n",
       " <tr>\n",
       " <td><a href=\"/data/town/64000-quammruddin-nagar-delhi.html\" title=\"Quammruddin Nagar\">Quammruddin Nagar</a></td>\n",
       " <td>Census Town</td>\n",
       " <td>25,126</td>\n",
       " </tr>,\n",
       " <tr>\n",
       " <td><a href=\"/data/town/64075-raj-pur-khurd-delhi.html\" title=\"Raj Pur Khurd\">Raj Pur Khurd</a></td>\n",
       " <td>Census Town</td>\n",
       " <td>11,161</td>\n",
       " </tr>,\n",
       " <tr>\n",
       " <td><a href=\"/data/town/63992-raja-pur-khurd-delhi.html\" title=\"Raja Pur Khurd\">Raja Pur Khurd</a></td>\n",
       " <td>Census Town</td>\n",
       " <td>19,312</td>\n",
       " </tr>,\n",
       " <tr>\n",
       " <td><a href=\"/data/town/64060-rajokri-delhi.html\" title=\"Rajokri\">Rajokri</a></td>\n",
       " <td>Census Town</td>\n",
       " <td>19,148</td>\n",
       " </tr>,\n",
       " <tr>\n",
       " <td><a href=\"/data/town/63940-rani-khera-delhi.html\" title=\"Rani Khera\">Rani Khera</a></td>\n",
       " <td>Census Town</td>\n",
       " <td>16,402</td>\n",
       " </tr>,\n",
       " <tr>\n",
       " <td><a href=\"/data/town/64052-roshan-pura-alias-dichaon-khurd-delhi.html\" title=\"Roshan Pura alias Dichaon Khurd\">Roshan Pura alias Dichaon Khurd</a></td>\n",
       " <td>Census Town</td>\n",
       " <td>57,217</td>\n",
       " </tr>,\n",
       " <tr>\n",
       " <td><a href=\"/data/town/63968-sadat-pur-gujran-delhi.html\" title=\"Sadat Pur Gujran\">Sadat Pur Gujran</a></td>\n",
       " <td>Census Town</td>\n",
       " <td>97,641</td>\n",
       " </tr>,\n",
       " <tr>\n",
       " <td><a href=\"/data/town/63917-sahibabad-daulat-pur-delhi.html\" title=\"Sahibabad Daulat Pur\">Sahibabad Daulat Pur</a></td>\n",
       " <td>Census Town</td>\n",
       " <td>54,773</td>\n",
       " </tr>,\n",
       " <tr>\n",
       " <td><a href=\"/data/town/64080-saidabad-delhi.html\" title=\"Saidabad\">Saidabad</a></td>\n",
       " <td>Census Town</td>\n",
       " <td>10,168</td>\n",
       " </tr>,\n",
       " <tr>\n",
       " <td><a href=\"/data/town/64078-saidul-azaib-delhi.html\" title=\"Saidul Azaib\">Saidul Azaib</a></td>\n",
       " <td>Census Town</td>\n",
       " <td>17,914</td>\n",
       " </tr>,\n",
       " <tr>\n",
       " <td><a href=\"/data/town/64058-sambhalka-delhi.html\" title=\"Sambhalka\">Sambhalka</a></td>\n",
       " <td>Census Town</td>\n",
       " <td>17,076</td>\n",
       " </tr>,\n",
       " <tr>\n",
       " <td><a href=\"/data/town/63997-shafi-pur-ranhola-delhi.html\" title=\"Shafi Pur Ranhola\">Shafi Pur Ranhola</a></td>\n",
       " <td>Census Town</td>\n",
       " <td>31,944</td>\n",
       " </tr>,\n",
       " <tr>\n",
       " <td><a href=\"/data/town/63983-shakar-pur-baramad-delhi.html\" title=\"Shakar Pur Baramad\">Shakar Pur Baramad</a></td>\n",
       " <td>Census Town</td>\n",
       " <td>1,178</td>\n",
       " </tr>,\n",
       " <tr>\n",
       " <td><a href=\"/data/town/63915-siras-pur-delhi.html\" title=\"Siras Pur\">Siras Pur</a></td>\n",
       " <td>Census Town</td>\n",
       " <td>30,445</td>\n",
       " </tr>,\n",
       " <tr>\n",
       " <td><a href=\"/data/town/64072-sultan-pur-delhi.html\" title=\"Sultan Pur\">Sultan Pur</a></td>\n",
       " <td>Census Town</td>\n",
       " <td>15,160</td>\n",
       " </tr>,\n",
       " <tr>\n",
       " <td><a href=\"/data/town/64083-taj-pul-delhi.html\" title=\"Taj Pul\">Taj Pul</a></td>\n",
       " <td>Census Town</td>\n",
       " <td>68,796</td>\n",
       " </tr>,\n",
       " <tr>\n",
       " <td><a href=\"/data/town/64079-tigri-delhi.html\" title=\"Tigri\">Tigri</a></td>\n",
       " <td>Census Town</td>\n",
       " <td>46,974</td>\n",
       " </tr>,\n",
       " <tr>\n",
       " <td><a href=\"/data/town/64003-tikri-kalan-delhi.html\" title=\"Tikri Kalan\">Tikri Kalan</a></td>\n",
       " <td>Census Town</td>\n",
       " <td>16,313</td>\n",
       " </tr>,\n",
       " <tr>\n",
       " <td><a href=\"/data/town/63907-tikri-khurd-delhi.html\" title=\"Tikri Khurd\">Tikri Khurd</a></td>\n",
       " <td>Census Town</td>\n",
       " <td>13,772</td>\n",
       " </tr>,\n",
       " <tr>\n",
       " <td><a href=\"/data/town/63996-tilang-pur-kotla-delhi.html\" title=\"Tilang Pur Kotla\">Tilang Pur Kotla</a></td>\n",
       " <td>Census Town</td>\n",
       " <td>13,614</td>\n",
       " </tr>,\n",
       " <tr>\n",
       " <td><a href=\"/data/town/63975-tukhmir-pur-delhi.html\" title=\"Tukhmir Pur\">Tukhmir Pur</a></td>\n",
       " <td>Census Town</td>\n",
       " <td>5,658</td>\n",
       " </tr>,\n",
       " <tr>\n",
       " <td><a href=\"/data/town/63978-ziauddin-pur-delhi.html\" title=\"Ziauddin Pur\">Ziauddin Pur</a></td>\n",
       " <td>Census Town</td>\n",
       " <td>68,993</td>\n",
       " </tr>]"
      ]
     },
     "execution_count": 100,
     "metadata": {},
     "output_type": "execute_result"
    }
   ],
   "source": [
    "rows_html = table.find_all(\"tr\")[1:]\n",
    "rows_html"
   ]
  },
  {
   "cell_type": "code",
   "execution_count": 117,
   "id": "54117604",
   "metadata": {},
   "outputs": [
    {
     "data": {
      "text/plain": [
       "['Aali\\nCensus Town\\n27,169',\n",
       " 'Ali Pur\\nCensus Town\\n20,332',\n",
       " 'Asola\\nCensus Town\\n13,275',\n",
       " 'Aya Nagar\\nCensus Town\\n33,123',\n",
       " 'Babar Pur\\nCensus Town\\n37,058',\n",
       " 'Bakhtawar Pur\\nCensus Town\\n12,716',\n",
       " 'Bakkar Wala\\nCensus Town\\n18,122',\n",
       " 'Bankauli\\nCensus Town\\n5,339',\n",
       " 'Bankner\\nCensus Town\\n14,788',\n",
       " 'Bapraula\\nCensus Town\\n52,744',\n",
       " 'Baqiabad\\nCensus Town\\n14,429',\n",
       " 'Barwala\\nCensus Town\\n8,948',\n",
       " 'Bawana\\nCensus Town\\n73,680',\n",
       " 'Begum Pur\\nCensus Town\\n53,682',\n",
       " 'Bhati\\nCensus Town\\n18,864',\n",
       " 'Bhor Garh\\nCensus Town\\n8,627',\n",
       " 'Chandan Hola\\nCensus Town\\n6,780',\n",
       " 'Chattar Pur\\nCensus Town\\n46,776',\n",
       " 'Chhawala\\nCensus Town\\n14,662',\n",
       " 'Chilla Saroda Bangar\\nCensus Town\\n83,217',\n",
       " 'Chilla Saroda Khadar\\nCensus Town\\n11,743',\n",
       " 'Darya Pur Kalan\\nCensus Town\\n6,310',\n",
       " 'Dayal Pur\\nCensus Town\\n20,589',\n",
       " 'Dera Mandi\\nCensus Town\\n16,725',\n",
       " 'Dindar Pur\\nCensus Town\\n35,856',\n",
       " 'Fateh Pur Beri\\nCensus Town\\n8,861',\n",
       " 'Gharoli\\nCensus Town\\n92,540',\n",
       " 'Gharonda Neemka Bangar alias Patpar Ganj\\nCensus Town\\n37,876',\n",
       " 'Gheora\\nCensus Town\\n6,876',\n",
       " 'Ghitorni\\nCensus Town\\n14,893',\n",
       " 'Ibrahim Pur\\nCensus Town\\n10,614',\n",
       " 'Jaffrabad\\nCensus Town\\n54,601',\n",
       " 'Jait Pur\\nCensus Town\\n59,330',\n",
       " 'Jharoda Kalan\\nCensus Town\\n19,578',\n",
       " 'Jharoda Majra Burari\\nCensus Town\\n22,878',\n",
       " 'Jiwan Pur alias Johri Pur\\nCensus Town\\n43,054',\n",
       " 'Jona Pur\\nCensus Town\\n10,635',\n",
       " 'Kair\\nCensus Town\\n4,074',\n",
       " 'Kamal Pur Majra Burari\\nCensus Town\\n43,086',\n",
       " 'Kanjhawala\\nCensus Town\\n10,331',\n",
       " 'Kapas Hera\\nCensus Town\\n74,073',\n",
       " 'Karala\\nCensus Town\\n35,730',\n",
       " 'Khajoori Khas\\nCensus Town\\n76,640',\n",
       " 'Khan Pur Dhani\\nCensus Town\\n6,994',\n",
       " 'Khera\\nCensus Town\\n7,220',\n",
       " 'Khera Kalan\\nCensus Town\\n8,252',\n",
       " 'Khera Khurd\\nCensus Town\\n9,777',\n",
       " 'Kondli\\nCensus Town\\n38,207',\n",
       " 'Kotla Mahigiran\\nCensus Town\\n7,376',\n",
       " 'Kusum Pur\\nCensus Town\\n17,028',\n",
       " 'Lad Pur\\nCensus Town\\n5,529',\n",
       " 'Libas Pur\\nCensus Town\\n44,375',\n",
       " 'Maidan Garhi\\nCensus Town\\n11,111',\n",
       " 'Malik Pur Kohi alias Rang Puri\\nCensus Town\\n23,726',\n",
       " 'Mir Pur Turk\\nCensus Town\\n19,098',\n",
       " 'Mithe Pur\\nCensus Town\\n69,837',\n",
       " 'Mitraon\\nCensus Town\\n6,512',\n",
       " 'Mohammad Pur Majri\\nCensus Town\\n17,462',\n",
       " 'Molar Band\\nCensus Town\\n91,402',\n",
       " 'Moradabad Pahari\\nCensus Town\\n21,502',\n",
       " 'Mubarak Pur Dabas\\nCensus Town\\n12,043',\n",
       " 'Mukand Pur\\nCensus Town\\n57,135',\n",
       " 'Mukhmel Pur\\nCensus Town\\n4,931',\n",
       " 'Mundka\\nCensus Town\\n54,541',\n",
       " 'Nangli Sakrawati\\nCensus Town\\n37,706',\n",
       " 'Neb Sarai\\nCensus Town\\n15,640',\n",
       " 'Nilothi\\nCensus Town\\n43,371',\n",
       " 'Nithari\\nCensus Town\\n50,464',\n",
       " 'Pehlad Pur Bangar\\nCensus Town\\n22,968',\n",
       " 'Pooth Kalan\\nCensus Town\\n96,002',\n",
       " 'Pooth Khurd\\nCensus Town\\n10,654',\n",
       " 'Pul Pehlad\\nCensus Town\\n69,657',\n",
       " 'Qadi Pur\\nCensus Town\\n18,369',\n",
       " 'Quammruddin Nagar\\nCensus Town\\n25,126',\n",
       " 'Raj Pur Khurd\\nCensus Town\\n11,161',\n",
       " 'Raja Pur Khurd\\nCensus Town\\n19,312',\n",
       " 'Rajokri\\nCensus Town\\n19,148',\n",
       " 'Rani Khera\\nCensus Town\\n16,402',\n",
       " 'Roshan Pura alias Dichaon Khurd\\nCensus Town\\n57,217',\n",
       " 'Sadat Pur Gujran\\nCensus Town\\n97,641',\n",
       " 'Sahibabad Daulat Pur\\nCensus Town\\n54,773',\n",
       " 'Saidabad\\nCensus Town\\n10,168',\n",
       " 'Saidul Azaib\\nCensus Town\\n17,914',\n",
       " 'Sambhalka\\nCensus Town\\n17,076',\n",
       " 'Shafi Pur Ranhola\\nCensus Town\\n31,944',\n",
       " 'Shakar Pur Baramad\\nCensus Town\\n1,178',\n",
       " 'Siras Pur\\nCensus Town\\n30,445',\n",
       " 'Sultan Pur\\nCensus Town\\n15,160',\n",
       " 'Taj Pul\\nCensus Town\\n68,796',\n",
       " 'Tigri\\nCensus Town\\n46,974',\n",
       " 'Tikri Kalan\\nCensus Town\\n16,313',\n",
       " 'Tikri Khurd\\nCensus Town\\n13,772',\n",
       " 'Tilang Pur Kotla\\nCensus Town\\n13,614',\n",
       " 'Tukhmir Pur\\nCensus Town\\n5,658',\n",
       " 'Ziauddin Pur\\nCensus Town\\n68,993']"
      ]
     },
     "execution_count": 117,
     "metadata": {},
     "output_type": "execute_result"
    }
   ],
   "source": [
    "rows = [i.text.strip() for i in rows_html]\n",
    "rows"
   ]
  },
  {
   "cell_type": "code",
   "execution_count": 120,
   "id": "65aa5ebc",
   "metadata": {},
   "outputs": [],
   "source": [
    "cleaned_data = [[entry.split('\\n')[0], entry.split(\"\\n\")[-1]] for entry in rows]"
   ]
  },
  {
   "cell_type": "code",
   "execution_count": 121,
   "id": "4659e435",
   "metadata": {},
   "outputs": [
    {
     "data": {
      "text/plain": [
       "[['Aali', '27,169'],\n",
       " ['Ali Pur', '20,332'],\n",
       " ['Asola', '13,275'],\n",
       " ['Aya Nagar', '33,123'],\n",
       " ['Babar Pur', '37,058'],\n",
       " ['Bakhtawar Pur', '12,716'],\n",
       " ['Bakkar Wala', '18,122'],\n",
       " ['Bankauli', '5,339'],\n",
       " ['Bankner', '14,788'],\n",
       " ['Bapraula', '52,744'],\n",
       " ['Baqiabad', '14,429'],\n",
       " ['Barwala', '8,948'],\n",
       " ['Bawana', '73,680'],\n",
       " ['Begum Pur', '53,682'],\n",
       " ['Bhati', '18,864'],\n",
       " ['Bhor Garh', '8,627'],\n",
       " ['Chandan Hola', '6,780'],\n",
       " ['Chattar Pur', '46,776'],\n",
       " ['Chhawala', '14,662'],\n",
       " ['Chilla Saroda Bangar', '83,217'],\n",
       " ['Chilla Saroda Khadar', '11,743'],\n",
       " ['Darya Pur Kalan', '6,310'],\n",
       " ['Dayal Pur', '20,589'],\n",
       " ['Dera Mandi', '16,725'],\n",
       " ['Dindar Pur', '35,856'],\n",
       " ['Fateh Pur Beri', '8,861'],\n",
       " ['Gharoli', '92,540'],\n",
       " ['Gharonda Neemka Bangar alias Patpar Ganj', '37,876'],\n",
       " ['Gheora', '6,876'],\n",
       " ['Ghitorni', '14,893'],\n",
       " ['Ibrahim Pur', '10,614'],\n",
       " ['Jaffrabad', '54,601'],\n",
       " ['Jait Pur', '59,330'],\n",
       " ['Jharoda Kalan', '19,578'],\n",
       " ['Jharoda Majra Burari', '22,878'],\n",
       " ['Jiwan Pur alias Johri Pur', '43,054'],\n",
       " ['Jona Pur', '10,635'],\n",
       " ['Kair', '4,074'],\n",
       " ['Kamal Pur Majra Burari', '43,086'],\n",
       " ['Kanjhawala', '10,331'],\n",
       " ['Kapas Hera', '74,073'],\n",
       " ['Karala', '35,730'],\n",
       " ['Khajoori Khas', '76,640'],\n",
       " ['Khan Pur Dhani', '6,994'],\n",
       " ['Khera', '7,220'],\n",
       " ['Khera Kalan', '8,252'],\n",
       " ['Khera Khurd', '9,777'],\n",
       " ['Kondli', '38,207'],\n",
       " ['Kotla Mahigiran', '7,376'],\n",
       " ['Kusum Pur', '17,028'],\n",
       " ['Lad Pur', '5,529'],\n",
       " ['Libas Pur', '44,375'],\n",
       " ['Maidan Garhi', '11,111'],\n",
       " ['Malik Pur Kohi alias Rang Puri', '23,726'],\n",
       " ['Mir Pur Turk', '19,098'],\n",
       " ['Mithe Pur', '69,837'],\n",
       " ['Mitraon', '6,512'],\n",
       " ['Mohammad Pur Majri', '17,462'],\n",
       " ['Molar Band', '91,402'],\n",
       " ['Moradabad Pahari', '21,502'],\n",
       " ['Mubarak Pur Dabas', '12,043'],\n",
       " ['Mukand Pur', '57,135'],\n",
       " ['Mukhmel Pur', '4,931'],\n",
       " ['Mundka', '54,541'],\n",
       " ['Nangli Sakrawati', '37,706'],\n",
       " ['Neb Sarai', '15,640'],\n",
       " ['Nilothi', '43,371'],\n",
       " ['Nithari', '50,464'],\n",
       " ['Pehlad Pur Bangar', '22,968'],\n",
       " ['Pooth Kalan', '96,002'],\n",
       " ['Pooth Khurd', '10,654'],\n",
       " ['Pul Pehlad', '69,657'],\n",
       " ['Qadi Pur', '18,369'],\n",
       " ['Quammruddin Nagar', '25,126'],\n",
       " ['Raj Pur Khurd', '11,161'],\n",
       " ['Raja Pur Khurd', '19,312'],\n",
       " ['Rajokri', '19,148'],\n",
       " ['Rani Khera', '16,402'],\n",
       " ['Roshan Pura alias Dichaon Khurd', '57,217'],\n",
       " ['Sadat Pur Gujran', '97,641'],\n",
       " ['Sahibabad Daulat Pur', '54,773'],\n",
       " ['Saidabad', '10,168'],\n",
       " ['Saidul Azaib', '17,914'],\n",
       " ['Sambhalka', '17,076'],\n",
       " ['Shafi Pur Ranhola', '31,944'],\n",
       " ['Shakar Pur Baramad', '1,178'],\n",
       " ['Siras Pur', '30,445'],\n",
       " ['Sultan Pur', '15,160'],\n",
       " ['Taj Pul', '68,796'],\n",
       " ['Tigri', '46,974'],\n",
       " ['Tikri Kalan', '16,313'],\n",
       " ['Tikri Khurd', '13,772'],\n",
       " ['Tilang Pur Kotla', '13,614'],\n",
       " ['Tukhmir Pur', '5,658'],\n",
       " ['Ziauddin Pur', '68,993']]"
      ]
     },
     "execution_count": 121,
     "metadata": {},
     "output_type": "execute_result"
    }
   ],
   "source": [
    "cleaned_data"
   ]
  },
  {
   "cell_type": "code",
   "execution_count": 124,
   "id": "6bdc6509",
   "metadata": {},
   "outputs": [
    {
     "data": {
      "text/html": [
       "<div>\n",
       "<style scoped>\n",
       "    .dataframe tbody tr th:only-of-type {\n",
       "        vertical-align: middle;\n",
       "    }\n",
       "\n",
       "    .dataframe tbody tr th {\n",
       "        vertical-align: top;\n",
       "    }\n",
       "\n",
       "    .dataframe thead th {\n",
       "        text-align: right;\n",
       "    }\n",
       "</style>\n",
       "<table border=\"1\" class=\"dataframe\">\n",
       "  <thead>\n",
       "    <tr style=\"text-align: right;\">\n",
       "      <th></th>\n",
       "      <th>City</th>\n",
       "      <th>Population</th>\n",
       "    </tr>\n",
       "  </thead>\n",
       "  <tbody>\n",
       "    <tr>\n",
       "      <th>0</th>\n",
       "      <td>Aali</td>\n",
       "      <td>27,169</td>\n",
       "    </tr>\n",
       "    <tr>\n",
       "      <th>1</th>\n",
       "      <td>Ali Pur</td>\n",
       "      <td>20,332</td>\n",
       "    </tr>\n",
       "    <tr>\n",
       "      <th>2</th>\n",
       "      <td>Asola</td>\n",
       "      <td>13,275</td>\n",
       "    </tr>\n",
       "    <tr>\n",
       "      <th>3</th>\n",
       "      <td>Aya Nagar</td>\n",
       "      <td>33,123</td>\n",
       "    </tr>\n",
       "    <tr>\n",
       "      <th>4</th>\n",
       "      <td>Babar Pur</td>\n",
       "      <td>37,058</td>\n",
       "    </tr>\n",
       "  </tbody>\n",
       "</table>\n",
       "</div>"
      ],
      "text/plain": [
       "        City Population\n",
       "0       Aali     27,169\n",
       "1    Ali Pur     20,332\n",
       "2      Asola     13,275\n",
       "3  Aya Nagar     33,123\n",
       "4  Babar Pur     37,058"
      ]
     },
     "execution_count": 124,
     "metadata": {},
     "output_type": "execute_result"
    }
   ],
   "source": [
    "new_df = pd.DataFrame(cleaned_data, columns=columns)\n",
    "new_df.head()"
   ]
  },
  {
   "cell_type": "markdown",
   "id": "484224f3",
   "metadata": {},
   "source": [
    "## Merge both datasets"
   ]
  },
  {
   "cell_type": "code",
   "execution_count": 125,
   "id": "2793450a",
   "metadata": {},
   "outputs": [
    {
     "data": {
      "text/html": [
       "<div>\n",
       "<style scoped>\n",
       "    .dataframe tbody tr th:only-of-type {\n",
       "        vertical-align: middle;\n",
       "    }\n",
       "\n",
       "    .dataframe tbody tr th {\n",
       "        vertical-align: top;\n",
       "    }\n",
       "\n",
       "    .dataframe thead th {\n",
       "        text-align: right;\n",
       "    }\n",
       "</style>\n",
       "<table border=\"1\" class=\"dataframe\">\n",
       "  <thead>\n",
       "    <tr style=\"text-align: right;\">\n",
       "      <th></th>\n",
       "      <th>City</th>\n",
       "      <th>Population</th>\n",
       "    </tr>\n",
       "  </thead>\n",
       "  <tbody>\n",
       "    <tr>\n",
       "      <th>0</th>\n",
       "      <td>Kirari Suleman Nagar</td>\n",
       "      <td>283,211</td>\n",
       "    </tr>\n",
       "    <tr>\n",
       "      <th>1</th>\n",
       "      <td>NDMC</td>\n",
       "      <td>257,803</td>\n",
       "    </tr>\n",
       "    <tr>\n",
       "      <th>2</th>\n",
       "      <td>Karawal Nagar</td>\n",
       "      <td>224,281</td>\n",
       "    </tr>\n",
       "    <tr>\n",
       "      <th>3</th>\n",
       "      <td>Nangloi Jat</td>\n",
       "      <td>205,596</td>\n",
       "    </tr>\n",
       "    <tr>\n",
       "      <th>4</th>\n",
       "      <td>Bhalswa Jahangir Pur</td>\n",
       "      <td>197,148</td>\n",
       "    </tr>\n",
       "  </tbody>\n",
       "</table>\n",
       "</div>"
      ],
      "text/plain": [
       "                   City Population\n",
       "0  Kirari Suleman Nagar    283,211\n",
       "1                  NDMC    257,803\n",
       "2         Karawal Nagar    224,281\n",
       "3           Nangloi Jat    205,596\n",
       "4  Bhalswa Jahangir Pur    197,148"
      ]
     },
     "execution_count": 125,
     "metadata": {},
     "output_type": "execute_result"
    }
   ],
   "source": [
    "df = pd.concat([df, new_df], ignore_index=True)\n",
    "df.head()"
   ]
  },
  {
   "cell_type": "code",
   "execution_count": 149,
   "id": "e41b01e0",
   "metadata": {},
   "outputs": [
    {
     "data": {
      "text/html": [
       "<div>\n",
       "<style scoped>\n",
       "    .dataframe tbody tr th:only-of-type {\n",
       "        vertical-align: middle;\n",
       "    }\n",
       "\n",
       "    .dataframe tbody tr th {\n",
       "        vertical-align: top;\n",
       "    }\n",
       "\n",
       "    .dataframe thead th {\n",
       "        text-align: right;\n",
       "    }\n",
       "</style>\n",
       "<table border=\"1\" class=\"dataframe\">\n",
       "  <thead>\n",
       "    <tr style=\"text-align: right;\">\n",
       "      <th></th>\n",
       "      <th>City</th>\n",
       "      <th>Population</th>\n",
       "    </tr>\n",
       "  </thead>\n",
       "  <tbody>\n",
       "    <tr>\n",
       "      <th>1</th>\n",
       "      <td>NDMC</td>\n",
       "      <td>257,803</td>\n",
       "    </tr>\n",
       "  </tbody>\n",
       "</table>\n",
       "</div>"
      ],
      "text/plain": [
       "   City Population\n",
       "1  NDMC    257,803"
      ]
     },
     "execution_count": 149,
     "metadata": {},
     "output_type": "execute_result"
    }
   ],
   "source": [
    "df[df[\"City\"] == \"NDMC\"] # New Delhi"
   ]
  },
  {
   "cell_type": "code",
   "execution_count": 132,
   "id": "0766f9fe",
   "metadata": {},
   "outputs": [
    {
     "name": "stdout",
     "output_type": "stream",
     "text": [
      "<class 'pandas.core.frame.DataFrame'>\n",
      "RangeIndex: 109 entries, 0 to 108\n",
      "Data columns (total 2 columns):\n",
      " #   Column      Non-Null Count  Dtype \n",
      "---  ------      --------------  ----- \n",
      " 0   City        109 non-null    object\n",
      " 1   Population  109 non-null    object\n",
      "dtypes: object(2)\n",
      "memory usage: 1.8+ KB\n"
     ]
    }
   ],
   "source": [
    "df.info()"
   ]
  },
  {
   "cell_type": "code",
   "execution_count": 158,
   "id": "244908a7",
   "metadata": {},
   "outputs": [
    {
     "data": {
      "text/html": [
       "<div>\n",
       "<style scoped>\n",
       "    .dataframe tbody tr th:only-of-type {\n",
       "        vertical-align: middle;\n",
       "    }\n",
       "\n",
       "    .dataframe tbody tr th {\n",
       "        vertical-align: top;\n",
       "    }\n",
       "\n",
       "    .dataframe thead th {\n",
       "        text-align: right;\n",
       "    }\n",
       "</style>\n",
       "<table border=\"1\" class=\"dataframe\">\n",
       "  <thead>\n",
       "    <tr style=\"text-align: right;\">\n",
       "      <th></th>\n",
       "      <th>City</th>\n",
       "      <th>Population</th>\n",
       "    </tr>\n",
       "  </thead>\n",
       "  <tbody>\n",
       "    <tr>\n",
       "      <th>0</th>\n",
       "      <td>Kirari Suleman Nagar</td>\n",
       "      <td>283,211</td>\n",
       "    </tr>\n",
       "    <tr>\n",
       "      <th>1</th>\n",
       "      <td>NDMC</td>\n",
       "      <td>257,803</td>\n",
       "    </tr>\n",
       "    <tr>\n",
       "      <th>2</th>\n",
       "      <td>Karawal Nagar</td>\n",
       "      <td>224,281</td>\n",
       "    </tr>\n",
       "    <tr>\n",
       "      <th>3</th>\n",
       "      <td>Nangloi Jat</td>\n",
       "      <td>205,596</td>\n",
       "    </tr>\n",
       "    <tr>\n",
       "      <th>4</th>\n",
       "      <td>Bhalswa Jahangir Pur</td>\n",
       "      <td>197,148</td>\n",
       "    </tr>\n",
       "    <tr>\n",
       "      <th>5</th>\n",
       "      <td>Sultan Pur Majra</td>\n",
       "      <td>181,554</td>\n",
       "    </tr>\n",
       "    <tr>\n",
       "      <th>6</th>\n",
       "      <td>Hastsal</td>\n",
       "      <td>176,877</td>\n",
       "    </tr>\n",
       "    <tr>\n",
       "      <th>7</th>\n",
       "      <td>Deoli</td>\n",
       "      <td>169,122</td>\n",
       "    </tr>\n",
       "    <tr>\n",
       "      <th>8</th>\n",
       "      <td>Dallo Pura</td>\n",
       "      <td>154,791</td>\n",
       "    </tr>\n",
       "    <tr>\n",
       "      <th>9</th>\n",
       "      <td>Burari</td>\n",
       "      <td>146,190</td>\n",
       "    </tr>\n",
       "    <tr>\n",
       "      <th>10</th>\n",
       "      <td>Mustafabad</td>\n",
       "      <td>127,167</td>\n",
       "    </tr>\n",
       "    <tr>\n",
       "      <th>11</th>\n",
       "      <td>Gokal Pur</td>\n",
       "      <td>121,870</td>\n",
       "    </tr>\n",
       "    <tr>\n",
       "      <th>12</th>\n",
       "      <td>Mandoli</td>\n",
       "      <td>120,417</td>\n",
       "    </tr>\n",
       "    <tr>\n",
       "      <th>13</th>\n",
       "      <td>Delhi Cantonment</td>\n",
       "      <td>110,351</td>\n",
       "    </tr>\n",
       "  </tbody>\n",
       "</table>\n",
       "</div>"
      ],
      "text/plain": [
       "                    City Population\n",
       "0   Kirari Suleman Nagar    283,211\n",
       "1                   NDMC    257,803\n",
       "2          Karawal Nagar    224,281\n",
       "3            Nangloi Jat    205,596\n",
       "4   Bhalswa Jahangir Pur    197,148\n",
       "5       Sultan Pur Majra    181,554\n",
       "6                Hastsal    176,877\n",
       "7                  Deoli    169,122\n",
       "8             Dallo Pura    154,791\n",
       "9                 Burari    146,190\n",
       "10            Mustafabad    127,167\n",
       "11             Gokal Pur    121,870\n",
       "12               Mandoli    120,417\n",
       "13      Delhi Cantonment    110,351"
      ]
     },
     "execution_count": 158,
     "metadata": {},
     "output_type": "execute_result"
    }
   ],
   "source": [
    "df2"
   ]
  },
  {
   "cell_type": "code",
   "execution_count": 165,
   "id": "fda125fd",
   "metadata": {},
   "outputs": [
    {
     "data": {
      "text/html": [
       "<div>\n",
       "<style scoped>\n",
       "    .dataframe tbody tr th:only-of-type {\n",
       "        vertical-align: middle;\n",
       "    }\n",
       "\n",
       "    .dataframe tbody tr th {\n",
       "        vertical-align: top;\n",
       "    }\n",
       "\n",
       "    .dataframe thead th {\n",
       "        text-align: right;\n",
       "    }\n",
       "</style>\n",
       "<table border=\"1\" class=\"dataframe\">\n",
       "  <thead>\n",
       "    <tr style=\"text-align: right;\">\n",
       "      <th></th>\n",
       "      <th>City</th>\n",
       "      <th>Population</th>\n",
       "      <th>Populations</th>\n",
       "    </tr>\n",
       "  </thead>\n",
       "  <tbody>\n",
       "    <tr>\n",
       "      <th>0</th>\n",
       "      <td>Kirari Suleman Nagar</td>\n",
       "      <td>283,211</td>\n",
       "      <td>283211</td>\n",
       "    </tr>\n",
       "    <tr>\n",
       "      <th>1</th>\n",
       "      <td>NDMC</td>\n",
       "      <td>257,803</td>\n",
       "      <td>257803</td>\n",
       "    </tr>\n",
       "    <tr>\n",
       "      <th>2</th>\n",
       "      <td>Karawal Nagar</td>\n",
       "      <td>224,281</td>\n",
       "      <td>224281</td>\n",
       "    </tr>\n",
       "    <tr>\n",
       "      <th>3</th>\n",
       "      <td>Nangloi Jat</td>\n",
       "      <td>205,596</td>\n",
       "      <td>205596</td>\n",
       "    </tr>\n",
       "    <tr>\n",
       "      <th>4</th>\n",
       "      <td>Bhalswa Jahangir Pur</td>\n",
       "      <td>197,148</td>\n",
       "      <td>197148</td>\n",
       "    </tr>\n",
       "  </tbody>\n",
       "</table>\n",
       "</div>"
      ],
      "text/plain": [
       "                   City Population  Populations\n",
       "0  Kirari Suleman Nagar    283,211       283211\n",
       "1                  NDMC    257,803       257803\n",
       "2         Karawal Nagar    224,281       224281\n",
       "3           Nangloi Jat    205,596       205596\n",
       "4  Bhalswa Jahangir Pur    197,148       197148"
      ]
     },
     "execution_count": 165,
     "metadata": {},
     "output_type": "execute_result"
    }
   ],
   "source": [
    "df[\"Populations\"] = df[\"Population\"].apply(lambda x: int(x.split(\",\")[0]+x.split(\",\")[1]))\n",
    "df.head()"
   ]
  },
  {
   "cell_type": "code",
   "execution_count": 166,
   "id": "3bb4d059",
   "metadata": {},
   "outputs": [],
   "source": [
    "df.drop(columns=[\"Population\"], inplace=True)"
   ]
  },
  {
   "cell_type": "code",
   "execution_count": 168,
   "id": "f0710254",
   "metadata": {},
   "outputs": [
    {
     "data": {
      "text/html": [
       "<div>\n",
       "<style scoped>\n",
       "    .dataframe tbody tr th:only-of-type {\n",
       "        vertical-align: middle;\n",
       "    }\n",
       "\n",
       "    .dataframe tbody tr th {\n",
       "        vertical-align: top;\n",
       "    }\n",
       "\n",
       "    .dataframe thead th {\n",
       "        text-align: right;\n",
       "    }\n",
       "</style>\n",
       "<table border=\"1\" class=\"dataframe\">\n",
       "  <thead>\n",
       "    <tr style=\"text-align: right;\">\n",
       "      <th></th>\n",
       "      <th>City</th>\n",
       "      <th>Populations</th>\n",
       "    </tr>\n",
       "  </thead>\n",
       "  <tbody>\n",
       "    <tr>\n",
       "      <th>0</th>\n",
       "      <td>Kirari Suleman Nagar</td>\n",
       "      <td>283211</td>\n",
       "    </tr>\n",
       "    <tr>\n",
       "      <th>1</th>\n",
       "      <td>NDMC</td>\n",
       "      <td>257803</td>\n",
       "    </tr>\n",
       "    <tr>\n",
       "      <th>2</th>\n",
       "      <td>Karawal Nagar</td>\n",
       "      <td>224281</td>\n",
       "    </tr>\n",
       "    <tr>\n",
       "      <th>3</th>\n",
       "      <td>Nangloi Jat</td>\n",
       "      <td>205596</td>\n",
       "    </tr>\n",
       "    <tr>\n",
       "      <th>4</th>\n",
       "      <td>Bhalswa Jahangir Pur</td>\n",
       "      <td>197148</td>\n",
       "    </tr>\n",
       "    <tr>\n",
       "      <th>...</th>\n",
       "      <td>...</td>\n",
       "      <td>...</td>\n",
       "    </tr>\n",
       "    <tr>\n",
       "      <th>104</th>\n",
       "      <td>Tikri Kalan</td>\n",
       "      <td>16313</td>\n",
       "    </tr>\n",
       "    <tr>\n",
       "      <th>105</th>\n",
       "      <td>Tikri Khurd</td>\n",
       "      <td>13772</td>\n",
       "    </tr>\n",
       "    <tr>\n",
       "      <th>106</th>\n",
       "      <td>Tilang Pur Kotla</td>\n",
       "      <td>13614</td>\n",
       "    </tr>\n",
       "    <tr>\n",
       "      <th>107</th>\n",
       "      <td>Tukhmir Pur</td>\n",
       "      <td>5658</td>\n",
       "    </tr>\n",
       "    <tr>\n",
       "      <th>108</th>\n",
       "      <td>Ziauddin Pur</td>\n",
       "      <td>68993</td>\n",
       "    </tr>\n",
       "  </tbody>\n",
       "</table>\n",
       "<p>109 rows × 2 columns</p>\n",
       "</div>"
      ],
      "text/plain": [
       "                     City  Populations\n",
       "0    Kirari Suleman Nagar       283211\n",
       "1                    NDMC       257803\n",
       "2           Karawal Nagar       224281\n",
       "3             Nangloi Jat       205596\n",
       "4    Bhalswa Jahangir Pur       197148\n",
       "..                    ...          ...\n",
       "104           Tikri Kalan        16313\n",
       "105           Tikri Khurd        13772\n",
       "106      Tilang Pur Kotla        13614\n",
       "107           Tukhmir Pur         5658\n",
       "108          Ziauddin Pur        68993\n",
       "\n",
       "[109 rows x 2 columns]"
      ]
     },
     "execution_count": 168,
     "metadata": {},
     "output_type": "execute_result"
    }
   ],
   "source": [
    "df"
   ]
  },
  {
   "cell_type": "code",
   "execution_count": 195,
   "id": "203720c2",
   "metadata": {},
   "outputs": [
    {
     "data": {
      "text/html": [
       "<div>\n",
       "<style scoped>\n",
       "    .dataframe tbody tr th:only-of-type {\n",
       "        vertical-align: middle;\n",
       "    }\n",
       "\n",
       "    .dataframe tbody tr th {\n",
       "        vertical-align: top;\n",
       "    }\n",
       "\n",
       "    .dataframe thead th {\n",
       "        text-align: right;\n",
       "    }\n",
       "</style>\n",
       "<table border=\"1\" class=\"dataframe\">\n",
       "  <thead>\n",
       "    <tr style=\"text-align: right;\">\n",
       "      <th></th>\n",
       "      <th>City</th>\n",
       "      <th>Populations</th>\n",
       "    </tr>\n",
       "  </thead>\n",
       "  <tbody>\n",
       "    <tr>\n",
       "      <th>0</th>\n",
       "      <td>Kirari Suleman Nagar</td>\n",
       "      <td>283211</td>\n",
       "    </tr>\n",
       "    <tr>\n",
       "      <th>1</th>\n",
       "      <td>NDMC</td>\n",
       "      <td>257803</td>\n",
       "    </tr>\n",
       "    <tr>\n",
       "      <th>2</th>\n",
       "      <td>Karawal Nagar</td>\n",
       "      <td>224281</td>\n",
       "    </tr>\n",
       "    <tr>\n",
       "      <th>3</th>\n",
       "      <td>Nangloi Jat</td>\n",
       "      <td>205596</td>\n",
       "    </tr>\n",
       "    <tr>\n",
       "      <th>4</th>\n",
       "      <td>Bhalswa Jahangir Pur</td>\n",
       "      <td>197148</td>\n",
       "    </tr>\n",
       "    <tr>\n",
       "      <th>5</th>\n",
       "      <td>Sultan Pur Majra</td>\n",
       "      <td>181554</td>\n",
       "    </tr>\n",
       "    <tr>\n",
       "      <th>6</th>\n",
       "      <td>Hastsal</td>\n",
       "      <td>176877</td>\n",
       "    </tr>\n",
       "    <tr>\n",
       "      <th>7</th>\n",
       "      <td>Deoli</td>\n",
       "      <td>169122</td>\n",
       "    </tr>\n",
       "    <tr>\n",
       "      <th>8</th>\n",
       "      <td>Dallo Pura</td>\n",
       "      <td>154791</td>\n",
       "    </tr>\n",
       "    <tr>\n",
       "      <th>9</th>\n",
       "      <td>Burari</td>\n",
       "      <td>146190</td>\n",
       "    </tr>\n",
       "    <tr>\n",
       "      <th>10</th>\n",
       "      <td>Mustafabad</td>\n",
       "      <td>127167</td>\n",
       "    </tr>\n",
       "    <tr>\n",
       "      <th>11</th>\n",
       "      <td>Gokal Pur</td>\n",
       "      <td>121870</td>\n",
       "    </tr>\n",
       "    <tr>\n",
       "      <th>12</th>\n",
       "      <td>Mandoli</td>\n",
       "      <td>120417</td>\n",
       "    </tr>\n",
       "    <tr>\n",
       "      <th>13</th>\n",
       "      <td>Delhi Cantonment</td>\n",
       "      <td>110351</td>\n",
       "    </tr>\n",
       "  </tbody>\n",
       "</table>\n",
       "</div>"
      ],
      "text/plain": [
       "                    City  Populations\n",
       "0   Kirari Suleman Nagar       283211\n",
       "1                   NDMC       257803\n",
       "2          Karawal Nagar       224281\n",
       "3            Nangloi Jat       205596\n",
       "4   Bhalswa Jahangir Pur       197148\n",
       "5       Sultan Pur Majra       181554\n",
       "6                Hastsal       176877\n",
       "7                  Deoli       169122\n",
       "8             Dallo Pura       154791\n",
       "9                 Burari       146190\n",
       "10            Mustafabad       127167\n",
       "11             Gokal Pur       121870\n",
       "12               Mandoli       120417\n",
       "13      Delhi Cantonment       110351"
      ]
     },
     "execution_count": 195,
     "metadata": {},
     "output_type": "execute_result"
    }
   ],
   "source": [
    "df2[\"Populations\"] = df2[\"Population\"].apply(lambda x: int(x.split(\",\")[0]+x.split(\",\")[1]))\n",
    "df2.drop(columns=[\"Population\"], inplace=True)\n",
    "df2"
   ]
  },
  {
   "cell_type": "markdown",
   "id": "97a4375c",
   "metadata": {},
   "source": [
    "## Visualization"
   ]
  },
  {
   "cell_type": "code",
   "execution_count": 201,
   "id": "c9d8f3bf",
   "metadata": {},
   "outputs": [],
   "source": [
    "import plotly.express as px\n",
    "import plotly.graph_objects as go"
   ]
  },
  {
   "cell_type": "code",
   "execution_count": 202,
   "id": "8add8109",
   "metadata": {},
   "outputs": [
    {
     "data": {
      "application/vnd.plotly.v1+json": {
       "config": {
        "plotlyServerURL": "https://plot.ly"
       },
       "data": [
        {
         "marker": {
          "color": [
           283211,
           257803,
           224281,
           205596,
           197148,
           181554,
           176877,
           169122,
           154791,
           146190,
           127167,
           121870,
           120417,
           110351
          ],
          "colorscale": [
           [
            0,
            "rgb(255,245,240)"
           ],
           [
            0.125,
            "rgb(254,224,210)"
           ],
           [
            0.25,
            "rgb(252,187,161)"
           ],
           [
            0.375,
            "rgb(252,146,114)"
           ],
           [
            0.5,
            "rgb(251,106,74)"
           ],
           [
            0.625,
            "rgb(239,59,44)"
           ],
           [
            0.75,
            "rgb(203,24,29)"
           ],
           [
            0.875,
            "rgb(165,15,21)"
           ],
           [
            1,
            "rgb(103,0,13)"
           ]
          ],
          "showscale": true
         },
         "type": "bar",
         "x": [
          "Kirari Suleman Nagar",
          "NDMC",
          "Karawal Nagar",
          "Nangloi Jat",
          "Bhalswa Jahangir Pur",
          "Sultan Pur Majra",
          "Hastsal",
          "Deoli",
          "Dallo Pura",
          "Burari",
          "Mustafabad",
          "Gokal Pur",
          "Mandoli",
          "Delhi Cantonment",
          "Aali",
          "Ali Pur",
          "Asola",
          "Aya Nagar",
          "Babar Pur",
          "Bakhtawar Pur",
          "Bakkar Wala",
          "Bankauli",
          "Bankner",
          "Bapraula",
          "Baqiabad",
          "Barwala",
          "Bawana",
          "Begum Pur",
          "Bhati",
          "Bhor Garh",
          "Chandan Hola",
          "Chattar Pur",
          "Chhawala",
          "Chilla Saroda Bangar",
          "Chilla Saroda Khadar",
          "Darya Pur Kalan",
          "Dayal Pur",
          "Dera Mandi",
          "Dindar Pur",
          "Fateh Pur Beri",
          "Gharoli",
          "Gharonda Neemka Bangar alias Patpar Ganj",
          "Gheora",
          "Ghitorni",
          "Ibrahim Pur",
          "Jaffrabad",
          "Jait Pur",
          "Jharoda Kalan",
          "Jharoda Majra Burari",
          "Jiwan Pur alias Johri Pur",
          "Jona Pur",
          "Kair",
          "Kamal Pur Majra Burari",
          "Kanjhawala",
          "Kapas Hera",
          "Karala",
          "Khajoori Khas",
          "Khan Pur Dhani",
          "Khera",
          "Khera Kalan",
          "Khera Khurd",
          "Kondli",
          "Kotla Mahigiran",
          "Kusum Pur",
          "Lad Pur",
          "Libas Pur",
          "Maidan Garhi",
          "Malik Pur Kohi alias Rang Puri",
          "Mir Pur Turk",
          "Mithe Pur",
          "Mitraon",
          "Mohammad Pur Majri",
          "Molar Band",
          "Moradabad Pahari",
          "Mubarak Pur Dabas",
          "Mukand Pur",
          "Mukhmel Pur",
          "Mundka",
          "Nangli Sakrawati",
          "Neb Sarai",
          "Nilothi",
          "Nithari",
          "Pehlad Pur Bangar",
          "Pooth Kalan",
          "Pooth Khurd",
          "Pul Pehlad",
          "Qadi Pur",
          "Quammruddin Nagar",
          "Raj Pur Khurd",
          "Raja Pur Khurd",
          "Rajokri",
          "Rani Khera",
          "Roshan Pura alias Dichaon Khurd",
          "Sadat Pur Gujran",
          "Sahibabad Daulat Pur",
          "Saidabad",
          "Saidul Azaib",
          "Sambhalka",
          "Shafi Pur Ranhola",
          "Shakar Pur Baramad",
          "Siras Pur",
          "Sultan Pur",
          "Taj Pul",
          "Tigri",
          "Tikri Kalan",
          "Tikri Khurd",
          "Tilang Pur Kotla",
          "Tukhmir Pur",
          "Ziauddin Pur"
         ],
         "y": [
          283211,
          257803,
          224281,
          205596,
          197148,
          181554,
          176877,
          169122,
          154791,
          146190,
          127167,
          121870,
          120417,
          110351,
          27169,
          20332,
          13275,
          33123,
          37058,
          12716,
          18122,
          5339,
          14788,
          52744,
          14429,
          8948,
          73680,
          53682,
          18864,
          8627,
          6780,
          46776,
          14662,
          83217,
          11743,
          6310,
          20589,
          16725,
          35856,
          8861,
          92540,
          37876,
          6876,
          14893,
          10614,
          54601,
          59330,
          19578,
          22878,
          43054,
          10635,
          4074,
          43086,
          10331,
          74073,
          35730,
          76640,
          6994,
          7220,
          8252,
          9777,
          38207,
          7376,
          17028,
          5529,
          44375,
          11111,
          23726,
          19098,
          69837,
          6512,
          17462,
          91402,
          21502,
          12043,
          57135,
          4931,
          54541,
          37706,
          15640,
          43371,
          50464,
          22968,
          96002,
          10654,
          69657,
          18369,
          25126,
          11161,
          19312,
          19148,
          16402,
          57217,
          97641,
          54773,
          10168,
          17914,
          17076,
          31944,
          1178,
          30445,
          15160,
          68796,
          46974,
          16313,
          13772,
          13614,
          5658,
          68993
         ]
        }
       ],
       "layout": {
        "template": {
         "data": {
          "bar": [
           {
            "error_x": {
             "color": "#2a3f5f"
            },
            "error_y": {
             "color": "#2a3f5f"
            },
            "marker": {
             "line": {
              "color": "#E5ECF6",
              "width": 0.5
             },
             "pattern": {
              "fillmode": "overlay",
              "size": 10,
              "solidity": 0.2
             }
            },
            "type": "bar"
           }
          ],
          "barpolar": [
           {
            "marker": {
             "line": {
              "color": "#E5ECF6",
              "width": 0.5
             },
             "pattern": {
              "fillmode": "overlay",
              "size": 10,
              "solidity": 0.2
             }
            },
            "type": "barpolar"
           }
          ],
          "carpet": [
           {
            "aaxis": {
             "endlinecolor": "#2a3f5f",
             "gridcolor": "white",
             "linecolor": "white",
             "minorgridcolor": "white",
             "startlinecolor": "#2a3f5f"
            },
            "baxis": {
             "endlinecolor": "#2a3f5f",
             "gridcolor": "white",
             "linecolor": "white",
             "minorgridcolor": "white",
             "startlinecolor": "#2a3f5f"
            },
            "type": "carpet"
           }
          ],
          "choropleth": [
           {
            "colorbar": {
             "outlinewidth": 0,
             "ticks": ""
            },
            "type": "choropleth"
           }
          ],
          "contour": [
           {
            "colorbar": {
             "outlinewidth": 0,
             "ticks": ""
            },
            "colorscale": [
             [
              0,
              "#0d0887"
             ],
             [
              0.1111111111111111,
              "#46039f"
             ],
             [
              0.2222222222222222,
              "#7201a8"
             ],
             [
              0.3333333333333333,
              "#9c179e"
             ],
             [
              0.4444444444444444,
              "#bd3786"
             ],
             [
              0.5555555555555556,
              "#d8576b"
             ],
             [
              0.6666666666666666,
              "#ed7953"
             ],
             [
              0.7777777777777778,
              "#fb9f3a"
             ],
             [
              0.8888888888888888,
              "#fdca26"
             ],
             [
              1,
              "#f0f921"
             ]
            ],
            "type": "contour"
           }
          ],
          "contourcarpet": [
           {
            "colorbar": {
             "outlinewidth": 0,
             "ticks": ""
            },
            "type": "contourcarpet"
           }
          ],
          "heatmap": [
           {
            "colorbar": {
             "outlinewidth": 0,
             "ticks": ""
            },
            "colorscale": [
             [
              0,
              "#0d0887"
             ],
             [
              0.1111111111111111,
              "#46039f"
             ],
             [
              0.2222222222222222,
              "#7201a8"
             ],
             [
              0.3333333333333333,
              "#9c179e"
             ],
             [
              0.4444444444444444,
              "#bd3786"
             ],
             [
              0.5555555555555556,
              "#d8576b"
             ],
             [
              0.6666666666666666,
              "#ed7953"
             ],
             [
              0.7777777777777778,
              "#fb9f3a"
             ],
             [
              0.8888888888888888,
              "#fdca26"
             ],
             [
              1,
              "#f0f921"
             ]
            ],
            "type": "heatmap"
           }
          ],
          "heatmapgl": [
           {
            "colorbar": {
             "outlinewidth": 0,
             "ticks": ""
            },
            "colorscale": [
             [
              0,
              "#0d0887"
             ],
             [
              0.1111111111111111,
              "#46039f"
             ],
             [
              0.2222222222222222,
              "#7201a8"
             ],
             [
              0.3333333333333333,
              "#9c179e"
             ],
             [
              0.4444444444444444,
              "#bd3786"
             ],
             [
              0.5555555555555556,
              "#d8576b"
             ],
             [
              0.6666666666666666,
              "#ed7953"
             ],
             [
              0.7777777777777778,
              "#fb9f3a"
             ],
             [
              0.8888888888888888,
              "#fdca26"
             ],
             [
              1,
              "#f0f921"
             ]
            ],
            "type": "heatmapgl"
           }
          ],
          "histogram": [
           {
            "marker": {
             "pattern": {
              "fillmode": "overlay",
              "size": 10,
              "solidity": 0.2
             }
            },
            "type": "histogram"
           }
          ],
          "histogram2d": [
           {
            "colorbar": {
             "outlinewidth": 0,
             "ticks": ""
            },
            "colorscale": [
             [
              0,
              "#0d0887"
             ],
             [
              0.1111111111111111,
              "#46039f"
             ],
             [
              0.2222222222222222,
              "#7201a8"
             ],
             [
              0.3333333333333333,
              "#9c179e"
             ],
             [
              0.4444444444444444,
              "#bd3786"
             ],
             [
              0.5555555555555556,
              "#d8576b"
             ],
             [
              0.6666666666666666,
              "#ed7953"
             ],
             [
              0.7777777777777778,
              "#fb9f3a"
             ],
             [
              0.8888888888888888,
              "#fdca26"
             ],
             [
              1,
              "#f0f921"
             ]
            ],
            "type": "histogram2d"
           }
          ],
          "histogram2dcontour": [
           {
            "colorbar": {
             "outlinewidth": 0,
             "ticks": ""
            },
            "colorscale": [
             [
              0,
              "#0d0887"
             ],
             [
              0.1111111111111111,
              "#46039f"
             ],
             [
              0.2222222222222222,
              "#7201a8"
             ],
             [
              0.3333333333333333,
              "#9c179e"
             ],
             [
              0.4444444444444444,
              "#bd3786"
             ],
             [
              0.5555555555555556,
              "#d8576b"
             ],
             [
              0.6666666666666666,
              "#ed7953"
             ],
             [
              0.7777777777777778,
              "#fb9f3a"
             ],
             [
              0.8888888888888888,
              "#fdca26"
             ],
             [
              1,
              "#f0f921"
             ]
            ],
            "type": "histogram2dcontour"
           }
          ],
          "mesh3d": [
           {
            "colorbar": {
             "outlinewidth": 0,
             "ticks": ""
            },
            "type": "mesh3d"
           }
          ],
          "parcoords": [
           {
            "line": {
             "colorbar": {
              "outlinewidth": 0,
              "ticks": ""
             }
            },
            "type": "parcoords"
           }
          ],
          "pie": [
           {
            "automargin": true,
            "type": "pie"
           }
          ],
          "scatter": [
           {
            "fillpattern": {
             "fillmode": "overlay",
             "size": 10,
             "solidity": 0.2
            },
            "type": "scatter"
           }
          ],
          "scatter3d": [
           {
            "line": {
             "colorbar": {
              "outlinewidth": 0,
              "ticks": ""
             }
            },
            "marker": {
             "colorbar": {
              "outlinewidth": 0,
              "ticks": ""
             }
            },
            "type": "scatter3d"
           }
          ],
          "scattercarpet": [
           {
            "marker": {
             "colorbar": {
              "outlinewidth": 0,
              "ticks": ""
             }
            },
            "type": "scattercarpet"
           }
          ],
          "scattergeo": [
           {
            "marker": {
             "colorbar": {
              "outlinewidth": 0,
              "ticks": ""
             }
            },
            "type": "scattergeo"
           }
          ],
          "scattergl": [
           {
            "marker": {
             "colorbar": {
              "outlinewidth": 0,
              "ticks": ""
             }
            },
            "type": "scattergl"
           }
          ],
          "scattermapbox": [
           {
            "marker": {
             "colorbar": {
              "outlinewidth": 0,
              "ticks": ""
             }
            },
            "type": "scattermapbox"
           }
          ],
          "scatterpolar": [
           {
            "marker": {
             "colorbar": {
              "outlinewidth": 0,
              "ticks": ""
             }
            },
            "type": "scatterpolar"
           }
          ],
          "scatterpolargl": [
           {
            "marker": {
             "colorbar": {
              "outlinewidth": 0,
              "ticks": ""
             }
            },
            "type": "scatterpolargl"
           }
          ],
          "scatterternary": [
           {
            "marker": {
             "colorbar": {
              "outlinewidth": 0,
              "ticks": ""
             }
            },
            "type": "scatterternary"
           }
          ],
          "surface": [
           {
            "colorbar": {
             "outlinewidth": 0,
             "ticks": ""
            },
            "colorscale": [
             [
              0,
              "#0d0887"
             ],
             [
              0.1111111111111111,
              "#46039f"
             ],
             [
              0.2222222222222222,
              "#7201a8"
             ],
             [
              0.3333333333333333,
              "#9c179e"
             ],
             [
              0.4444444444444444,
              "#bd3786"
             ],
             [
              0.5555555555555556,
              "#d8576b"
             ],
             [
              0.6666666666666666,
              "#ed7953"
             ],
             [
              0.7777777777777778,
              "#fb9f3a"
             ],
             [
              0.8888888888888888,
              "#fdca26"
             ],
             [
              1,
              "#f0f921"
             ]
            ],
            "type": "surface"
           }
          ],
          "table": [
           {
            "cells": {
             "fill": {
              "color": "#EBF0F8"
             },
             "line": {
              "color": "white"
             }
            },
            "header": {
             "fill": {
              "color": "#C8D4E3"
             },
             "line": {
              "color": "white"
             }
            },
            "type": "table"
           }
          ]
         },
         "layout": {
          "annotationdefaults": {
           "arrowcolor": "#2a3f5f",
           "arrowhead": 0,
           "arrowwidth": 1
          },
          "autotypenumbers": "strict",
          "coloraxis": {
           "colorbar": {
            "outlinewidth": 0,
            "ticks": ""
           }
          },
          "colorscale": {
           "diverging": [
            [
             0,
             "#8e0152"
            ],
            [
             0.1,
             "#c51b7d"
            ],
            [
             0.2,
             "#de77ae"
            ],
            [
             0.3,
             "#f1b6da"
            ],
            [
             0.4,
             "#fde0ef"
            ],
            [
             0.5,
             "#f7f7f7"
            ],
            [
             0.6,
             "#e6f5d0"
            ],
            [
             0.7,
             "#b8e186"
            ],
            [
             0.8,
             "#7fbc41"
            ],
            [
             0.9,
             "#4d9221"
            ],
            [
             1,
             "#276419"
            ]
           ],
           "sequential": [
            [
             0,
             "#0d0887"
            ],
            [
             0.1111111111111111,
             "#46039f"
            ],
            [
             0.2222222222222222,
             "#7201a8"
            ],
            [
             0.3333333333333333,
             "#9c179e"
            ],
            [
             0.4444444444444444,
             "#bd3786"
            ],
            [
             0.5555555555555556,
             "#d8576b"
            ],
            [
             0.6666666666666666,
             "#ed7953"
            ],
            [
             0.7777777777777778,
             "#fb9f3a"
            ],
            [
             0.8888888888888888,
             "#fdca26"
            ],
            [
             1,
             "#f0f921"
            ]
           ],
           "sequentialminus": [
            [
             0,
             "#0d0887"
            ],
            [
             0.1111111111111111,
             "#46039f"
            ],
            [
             0.2222222222222222,
             "#7201a8"
            ],
            [
             0.3333333333333333,
             "#9c179e"
            ],
            [
             0.4444444444444444,
             "#bd3786"
            ],
            [
             0.5555555555555556,
             "#d8576b"
            ],
            [
             0.6666666666666666,
             "#ed7953"
            ],
            [
             0.7777777777777778,
             "#fb9f3a"
            ],
            [
             0.8888888888888888,
             "#fdca26"
            ],
            [
             1,
             "#f0f921"
            ]
           ]
          },
          "colorway": [
           "#636efa",
           "#EF553B",
           "#00cc96",
           "#ab63fa",
           "#FFA15A",
           "#19d3f3",
           "#FF6692",
           "#B6E880",
           "#FF97FF",
           "#FECB52"
          ],
          "font": {
           "color": "#2a3f5f"
          },
          "geo": {
           "bgcolor": "white",
           "lakecolor": "white",
           "landcolor": "#E5ECF6",
           "showlakes": true,
           "showland": true,
           "subunitcolor": "white"
          },
          "hoverlabel": {
           "align": "left"
          },
          "hovermode": "closest",
          "mapbox": {
           "style": "light"
          },
          "paper_bgcolor": "white",
          "plot_bgcolor": "#E5ECF6",
          "polar": {
           "angularaxis": {
            "gridcolor": "white",
            "linecolor": "white",
            "ticks": ""
           },
           "bgcolor": "#E5ECF6",
           "radialaxis": {
            "gridcolor": "white",
            "linecolor": "white",
            "ticks": ""
           }
          },
          "scene": {
           "xaxis": {
            "backgroundcolor": "#E5ECF6",
            "gridcolor": "white",
            "gridwidth": 2,
            "linecolor": "white",
            "showbackground": true,
            "ticks": "",
            "zerolinecolor": "white"
           },
           "yaxis": {
            "backgroundcolor": "#E5ECF6",
            "gridcolor": "white",
            "gridwidth": 2,
            "linecolor": "white",
            "showbackground": true,
            "ticks": "",
            "zerolinecolor": "white"
           },
           "zaxis": {
            "backgroundcolor": "#E5ECF6",
            "gridcolor": "white",
            "gridwidth": 2,
            "linecolor": "white",
            "showbackground": true,
            "ticks": "",
            "zerolinecolor": "white"
           }
          },
          "shapedefaults": {
           "line": {
            "color": "#2a3f5f"
           }
          },
          "ternary": {
           "aaxis": {
            "gridcolor": "white",
            "linecolor": "white",
            "ticks": ""
           },
           "baxis": {
            "gridcolor": "white",
            "linecolor": "white",
            "ticks": ""
           },
           "bgcolor": "#E5ECF6",
           "caxis": {
            "gridcolor": "white",
            "linecolor": "white",
            "ticks": ""
           }
          },
          "title": {
           "x": 0.05
          },
          "xaxis": {
           "automargin": true,
           "gridcolor": "white",
           "linecolor": "white",
           "ticks": "",
           "title": {
            "standoff": 15
           },
           "zerolinecolor": "white",
           "zerolinewidth": 2
          },
          "yaxis": {
           "automargin": true,
           "gridcolor": "white",
           "linecolor": "white",
           "ticks": "",
           "title": {
            "standoff": 15
           },
           "zerolinecolor": "white",
           "zerolinewidth": 2
          }
         }
        },
        "title": {
         "text": "Population Bar Graph"
        },
        "xaxis": {
         "title": {
          "text": "Cities"
         }
        },
        "yaxis": {
         "title": {
          "text": "Population"
         }
        }
       }
      },
      "text/html": [
       "<div>                            <div id=\"34397508-1fe5-4f00-8712-a21eb1e35af4\" class=\"plotly-graph-div\" style=\"height:525px; width:100%;\"></div>            <script type=\"text/javascript\">                require([\"plotly\"], function(Plotly) {                    window.PLOTLYENV=window.PLOTLYENV || {};                                    if (document.getElementById(\"34397508-1fe5-4f00-8712-a21eb1e35af4\")) {                    Plotly.newPlot(                        \"34397508-1fe5-4f00-8712-a21eb1e35af4\",                        [{\"marker\":{\"color\":[283211,257803,224281,205596,197148,181554,176877,169122,154791,146190,127167,121870,120417,110351],\"colorscale\":[[0.0,\"rgb(255,245,240)\"],[0.125,\"rgb(254,224,210)\"],[0.25,\"rgb(252,187,161)\"],[0.375,\"rgb(252,146,114)\"],[0.5,\"rgb(251,106,74)\"],[0.625,\"rgb(239,59,44)\"],[0.75,\"rgb(203,24,29)\"],[0.875,\"rgb(165,15,21)\"],[1.0,\"rgb(103,0,13)\"]],\"showscale\":true},\"x\":[\"Kirari Suleman Nagar\",\"NDMC\",\"Karawal Nagar\",\"Nangloi Jat\",\"Bhalswa Jahangir Pur\",\"Sultan Pur Majra\",\"Hastsal\",\"Deoli\",\"Dallo Pura\",\"Burari\",\"Mustafabad\",\"Gokal Pur\",\"Mandoli\",\"Delhi Cantonment\",\"Aali\",\"Ali Pur\",\"Asola\",\"Aya Nagar\",\"Babar Pur\",\"Bakhtawar Pur\",\"Bakkar Wala\",\"Bankauli\",\"Bankner\",\"Bapraula\",\"Baqiabad\",\"Barwala\",\"Bawana\",\"Begum Pur\",\"Bhati\",\"Bhor Garh\",\"Chandan Hola\",\"Chattar Pur\",\"Chhawala\",\"Chilla Saroda Bangar\",\"Chilla Saroda Khadar\",\"Darya Pur Kalan\",\"Dayal Pur\",\"Dera Mandi\",\"Dindar Pur\",\"Fateh Pur Beri\",\"Gharoli\",\"Gharonda Neemka Bangar alias Patpar Ganj\",\"Gheora\",\"Ghitorni\",\"Ibrahim Pur\",\"Jaffrabad\",\"Jait Pur\",\"Jharoda Kalan\",\"Jharoda Majra Burari\",\"Jiwan Pur alias Johri Pur\",\"Jona Pur\",\"Kair\",\"Kamal Pur Majra Burari\",\"Kanjhawala\",\"Kapas Hera\",\"Karala\",\"Khajoori Khas\",\"Khan Pur Dhani\",\"Khera\",\"Khera Kalan\",\"Khera Khurd\",\"Kondli\",\"Kotla Mahigiran\",\"Kusum Pur\",\"Lad Pur\",\"Libas Pur\",\"Maidan Garhi\",\"Malik Pur Kohi alias Rang Puri\",\"Mir Pur Turk\",\"Mithe Pur\",\"Mitraon\",\"Mohammad Pur Majri\",\"Molar Band\",\"Moradabad Pahari\",\"Mubarak Pur Dabas\",\"Mukand Pur\",\"Mukhmel Pur\",\"Mundka\",\"Nangli Sakrawati\",\"Neb Sarai\",\"Nilothi\",\"Nithari\",\"Pehlad Pur Bangar\",\"Pooth Kalan\",\"Pooth Khurd\",\"Pul Pehlad\",\"Qadi Pur\",\"Quammruddin Nagar\",\"Raj Pur Khurd\",\"Raja Pur Khurd\",\"Rajokri\",\"Rani Khera\",\"Roshan Pura alias Dichaon Khurd\",\"Sadat Pur Gujran\",\"Sahibabad Daulat Pur\",\"Saidabad\",\"Saidul Azaib\",\"Sambhalka\",\"Shafi Pur Ranhola\",\"Shakar Pur Baramad\",\"Siras Pur\",\"Sultan Pur\",\"Taj Pul\",\"Tigri\",\"Tikri Kalan\",\"Tikri Khurd\",\"Tilang Pur Kotla\",\"Tukhmir Pur\",\"Ziauddin Pur\"],\"y\":[283211,257803,224281,205596,197148,181554,176877,169122,154791,146190,127167,121870,120417,110351,27169,20332,13275,33123,37058,12716,18122,5339,14788,52744,14429,8948,73680,53682,18864,8627,6780,46776,14662,83217,11743,6310,20589,16725,35856,8861,92540,37876,6876,14893,10614,54601,59330,19578,22878,43054,10635,4074,43086,10331,74073,35730,76640,6994,7220,8252,9777,38207,7376,17028,5529,44375,11111,23726,19098,69837,6512,17462,91402,21502,12043,57135,4931,54541,37706,15640,43371,50464,22968,96002,10654,69657,18369,25126,11161,19312,19148,16402,57217,97641,54773,10168,17914,17076,31944,1178,30445,15160,68796,46974,16313,13772,13614,5658,68993],\"type\":\"bar\"}],                        {\"template\":{\"data\":{\"histogram2dcontour\":[{\"type\":\"histogram2dcontour\",\"colorbar\":{\"outlinewidth\":0,\"ticks\":\"\"},\"colorscale\":[[0.0,\"#0d0887\"],[0.1111111111111111,\"#46039f\"],[0.2222222222222222,\"#7201a8\"],[0.3333333333333333,\"#9c179e\"],[0.4444444444444444,\"#bd3786\"],[0.5555555555555556,\"#d8576b\"],[0.6666666666666666,\"#ed7953\"],[0.7777777777777778,\"#fb9f3a\"],[0.8888888888888888,\"#fdca26\"],[1.0,\"#f0f921\"]]}],\"choropleth\":[{\"type\":\"choropleth\",\"colorbar\":{\"outlinewidth\":0,\"ticks\":\"\"}}],\"histogram2d\":[{\"type\":\"histogram2d\",\"colorbar\":{\"outlinewidth\":0,\"ticks\":\"\"},\"colorscale\":[[0.0,\"#0d0887\"],[0.1111111111111111,\"#46039f\"],[0.2222222222222222,\"#7201a8\"],[0.3333333333333333,\"#9c179e\"],[0.4444444444444444,\"#bd3786\"],[0.5555555555555556,\"#d8576b\"],[0.6666666666666666,\"#ed7953\"],[0.7777777777777778,\"#fb9f3a\"],[0.8888888888888888,\"#fdca26\"],[1.0,\"#f0f921\"]]}],\"heatmap\":[{\"type\":\"heatmap\",\"colorbar\":{\"outlinewidth\":0,\"ticks\":\"\"},\"colorscale\":[[0.0,\"#0d0887\"],[0.1111111111111111,\"#46039f\"],[0.2222222222222222,\"#7201a8\"],[0.3333333333333333,\"#9c179e\"],[0.4444444444444444,\"#bd3786\"],[0.5555555555555556,\"#d8576b\"],[0.6666666666666666,\"#ed7953\"],[0.7777777777777778,\"#fb9f3a\"],[0.8888888888888888,\"#fdca26\"],[1.0,\"#f0f921\"]]}],\"heatmapgl\":[{\"type\":\"heatmapgl\",\"colorbar\":{\"outlinewidth\":0,\"ticks\":\"\"},\"colorscale\":[[0.0,\"#0d0887\"],[0.1111111111111111,\"#46039f\"],[0.2222222222222222,\"#7201a8\"],[0.3333333333333333,\"#9c179e\"],[0.4444444444444444,\"#bd3786\"],[0.5555555555555556,\"#d8576b\"],[0.6666666666666666,\"#ed7953\"],[0.7777777777777778,\"#fb9f3a\"],[0.8888888888888888,\"#fdca26\"],[1.0,\"#f0f921\"]]}],\"contourcarpet\":[{\"type\":\"contourcarpet\",\"colorbar\":{\"outlinewidth\":0,\"ticks\":\"\"}}],\"contour\":[{\"type\":\"contour\",\"colorbar\":{\"outlinewidth\":0,\"ticks\":\"\"},\"colorscale\":[[0.0,\"#0d0887\"],[0.1111111111111111,\"#46039f\"],[0.2222222222222222,\"#7201a8\"],[0.3333333333333333,\"#9c179e\"],[0.4444444444444444,\"#bd3786\"],[0.5555555555555556,\"#d8576b\"],[0.6666666666666666,\"#ed7953\"],[0.7777777777777778,\"#fb9f3a\"],[0.8888888888888888,\"#fdca26\"],[1.0,\"#f0f921\"]]}],\"surface\":[{\"type\":\"surface\",\"colorbar\":{\"outlinewidth\":0,\"ticks\":\"\"},\"colorscale\":[[0.0,\"#0d0887\"],[0.1111111111111111,\"#46039f\"],[0.2222222222222222,\"#7201a8\"],[0.3333333333333333,\"#9c179e\"],[0.4444444444444444,\"#bd3786\"],[0.5555555555555556,\"#d8576b\"],[0.6666666666666666,\"#ed7953\"],[0.7777777777777778,\"#fb9f3a\"],[0.8888888888888888,\"#fdca26\"],[1.0,\"#f0f921\"]]}],\"mesh3d\":[{\"type\":\"mesh3d\",\"colorbar\":{\"outlinewidth\":0,\"ticks\":\"\"}}],\"scatter\":[{\"fillpattern\":{\"fillmode\":\"overlay\",\"size\":10,\"solidity\":0.2},\"type\":\"scatter\"}],\"parcoords\":[{\"type\":\"parcoords\",\"line\":{\"colorbar\":{\"outlinewidth\":0,\"ticks\":\"\"}}}],\"scatterpolargl\":[{\"type\":\"scatterpolargl\",\"marker\":{\"colorbar\":{\"outlinewidth\":0,\"ticks\":\"\"}}}],\"bar\":[{\"error_x\":{\"color\":\"#2a3f5f\"},\"error_y\":{\"color\":\"#2a3f5f\"},\"marker\":{\"line\":{\"color\":\"#E5ECF6\",\"width\":0.5},\"pattern\":{\"fillmode\":\"overlay\",\"size\":10,\"solidity\":0.2}},\"type\":\"bar\"}],\"scattergeo\":[{\"type\":\"scattergeo\",\"marker\":{\"colorbar\":{\"outlinewidth\":0,\"ticks\":\"\"}}}],\"scatterpolar\":[{\"type\":\"scatterpolar\",\"marker\":{\"colorbar\":{\"outlinewidth\":0,\"ticks\":\"\"}}}],\"histogram\":[{\"marker\":{\"pattern\":{\"fillmode\":\"overlay\",\"size\":10,\"solidity\":0.2}},\"type\":\"histogram\"}],\"scattergl\":[{\"type\":\"scattergl\",\"marker\":{\"colorbar\":{\"outlinewidth\":0,\"ticks\":\"\"}}}],\"scatter3d\":[{\"type\":\"scatter3d\",\"line\":{\"colorbar\":{\"outlinewidth\":0,\"ticks\":\"\"}},\"marker\":{\"colorbar\":{\"outlinewidth\":0,\"ticks\":\"\"}}}],\"scattermapbox\":[{\"type\":\"scattermapbox\",\"marker\":{\"colorbar\":{\"outlinewidth\":0,\"ticks\":\"\"}}}],\"scatterternary\":[{\"type\":\"scatterternary\",\"marker\":{\"colorbar\":{\"outlinewidth\":0,\"ticks\":\"\"}}}],\"scattercarpet\":[{\"type\":\"scattercarpet\",\"marker\":{\"colorbar\":{\"outlinewidth\":0,\"ticks\":\"\"}}}],\"carpet\":[{\"aaxis\":{\"endlinecolor\":\"#2a3f5f\",\"gridcolor\":\"white\",\"linecolor\":\"white\",\"minorgridcolor\":\"white\",\"startlinecolor\":\"#2a3f5f\"},\"baxis\":{\"endlinecolor\":\"#2a3f5f\",\"gridcolor\":\"white\",\"linecolor\":\"white\",\"minorgridcolor\":\"white\",\"startlinecolor\":\"#2a3f5f\"},\"type\":\"carpet\"}],\"table\":[{\"cells\":{\"fill\":{\"color\":\"#EBF0F8\"},\"line\":{\"color\":\"white\"}},\"header\":{\"fill\":{\"color\":\"#C8D4E3\"},\"line\":{\"color\":\"white\"}},\"type\":\"table\"}],\"barpolar\":[{\"marker\":{\"line\":{\"color\":\"#E5ECF6\",\"width\":0.5},\"pattern\":{\"fillmode\":\"overlay\",\"size\":10,\"solidity\":0.2}},\"type\":\"barpolar\"}],\"pie\":[{\"automargin\":true,\"type\":\"pie\"}]},\"layout\":{\"autotypenumbers\":\"strict\",\"colorway\":[\"#636efa\",\"#EF553B\",\"#00cc96\",\"#ab63fa\",\"#FFA15A\",\"#19d3f3\",\"#FF6692\",\"#B6E880\",\"#FF97FF\",\"#FECB52\"],\"font\":{\"color\":\"#2a3f5f\"},\"hovermode\":\"closest\",\"hoverlabel\":{\"align\":\"left\"},\"paper_bgcolor\":\"white\",\"plot_bgcolor\":\"#E5ECF6\",\"polar\":{\"bgcolor\":\"#E5ECF6\",\"angularaxis\":{\"gridcolor\":\"white\",\"linecolor\":\"white\",\"ticks\":\"\"},\"radialaxis\":{\"gridcolor\":\"white\",\"linecolor\":\"white\",\"ticks\":\"\"}},\"ternary\":{\"bgcolor\":\"#E5ECF6\",\"aaxis\":{\"gridcolor\":\"white\",\"linecolor\":\"white\",\"ticks\":\"\"},\"baxis\":{\"gridcolor\":\"white\",\"linecolor\":\"white\",\"ticks\":\"\"},\"caxis\":{\"gridcolor\":\"white\",\"linecolor\":\"white\",\"ticks\":\"\"}},\"coloraxis\":{\"colorbar\":{\"outlinewidth\":0,\"ticks\":\"\"}},\"colorscale\":{\"sequential\":[[0.0,\"#0d0887\"],[0.1111111111111111,\"#46039f\"],[0.2222222222222222,\"#7201a8\"],[0.3333333333333333,\"#9c179e\"],[0.4444444444444444,\"#bd3786\"],[0.5555555555555556,\"#d8576b\"],[0.6666666666666666,\"#ed7953\"],[0.7777777777777778,\"#fb9f3a\"],[0.8888888888888888,\"#fdca26\"],[1.0,\"#f0f921\"]],\"sequentialminus\":[[0.0,\"#0d0887\"],[0.1111111111111111,\"#46039f\"],[0.2222222222222222,\"#7201a8\"],[0.3333333333333333,\"#9c179e\"],[0.4444444444444444,\"#bd3786\"],[0.5555555555555556,\"#d8576b\"],[0.6666666666666666,\"#ed7953\"],[0.7777777777777778,\"#fb9f3a\"],[0.8888888888888888,\"#fdca26\"],[1.0,\"#f0f921\"]],\"diverging\":[[0,\"#8e0152\"],[0.1,\"#c51b7d\"],[0.2,\"#de77ae\"],[0.3,\"#f1b6da\"],[0.4,\"#fde0ef\"],[0.5,\"#f7f7f7\"],[0.6,\"#e6f5d0\"],[0.7,\"#b8e186\"],[0.8,\"#7fbc41\"],[0.9,\"#4d9221\"],[1,\"#276419\"]]},\"xaxis\":{\"gridcolor\":\"white\",\"linecolor\":\"white\",\"ticks\":\"\",\"title\":{\"standoff\":15},\"zerolinecolor\":\"white\",\"automargin\":true,\"zerolinewidth\":2},\"yaxis\":{\"gridcolor\":\"white\",\"linecolor\":\"white\",\"ticks\":\"\",\"title\":{\"standoff\":15},\"zerolinecolor\":\"white\",\"automargin\":true,\"zerolinewidth\":2},\"scene\":{\"xaxis\":{\"backgroundcolor\":\"#E5ECF6\",\"gridcolor\":\"white\",\"linecolor\":\"white\",\"showbackground\":true,\"ticks\":\"\",\"zerolinecolor\":\"white\",\"gridwidth\":2},\"yaxis\":{\"backgroundcolor\":\"#E5ECF6\",\"gridcolor\":\"white\",\"linecolor\":\"white\",\"showbackground\":true,\"ticks\":\"\",\"zerolinecolor\":\"white\",\"gridwidth\":2},\"zaxis\":{\"backgroundcolor\":\"#E5ECF6\",\"gridcolor\":\"white\",\"linecolor\":\"white\",\"showbackground\":true,\"ticks\":\"\",\"zerolinecolor\":\"white\",\"gridwidth\":2}},\"shapedefaults\":{\"line\":{\"color\":\"#2a3f5f\"}},\"annotationdefaults\":{\"arrowcolor\":\"#2a3f5f\",\"arrowhead\":0,\"arrowwidth\":1},\"geo\":{\"bgcolor\":\"white\",\"landcolor\":\"#E5ECF6\",\"subunitcolor\":\"white\",\"showland\":true,\"showlakes\":true,\"lakecolor\":\"white\"},\"title\":{\"x\":0.05},\"mapbox\":{\"style\":\"light\"}}},\"title\":{\"text\":\"Population Bar Graph\"},\"xaxis\":{\"title\":{\"text\":\"Cities\"}},\"yaxis\":{\"title\":{\"text\":\"Population\"}}},                        {\"responsive\": true}                    ).then(function(){\n",
       "                            \n",
       "var gd = document.getElementById('34397508-1fe5-4f00-8712-a21eb1e35af4');\n",
       "var x = new MutationObserver(function (mutations, observer) {{\n",
       "        var display = window.getComputedStyle(gd).display;\n",
       "        if (!display || display === 'none') {{\n",
       "            console.log([gd, 'removed!']);\n",
       "            Plotly.purge(gd);\n",
       "            observer.disconnect();\n",
       "        }}\n",
       "}});\n",
       "\n",
       "// Listen for the removal of the full notebook cells\n",
       "var notebookContainer = gd.closest('#notebook-container');\n",
       "if (notebookContainer) {{\n",
       "    x.observe(notebookContainer, {childList: true});\n",
       "}}\n",
       "\n",
       "// Listen for the clearing of the current output cell\n",
       "var outputEl = gd.closest('.output');\n",
       "if (outputEl) {{\n",
       "    x.observe(outputEl, {childList: true});\n",
       "}}\n",
       "\n",
       "                        })                };                });            </script>        </div>"
      ]
     },
     "metadata": {},
     "output_type": "display_data"
    }
   ],
   "source": [
    "# Create a bar graph\n",
    "fig = go.Figure(data=go.Bar(\n",
    "        x=df['City'],  # Set city names as x-axis labels\n",
    "        y=df['Populations'],  # Set population values as y-axis values\n",
    "        marker=dict(color=df2['Populations'], colorscale='Reds', showscale=True),  # Set color scale based on population\n",
    "    ))\n",
    "\n",
    "# Customize layout\n",
    "fig.update_layout(\n",
    "    title='Population Bar Graph',  # Set title\n",
    "    xaxis=dict(title='Cities'),  # Set x-axis label\n",
    "    yaxis=dict(title='Population'),  # Set y-axis label\n",
    ")\n",
    "\n",
    "# Show the plot\n",
    "fig.show()"
   ]
  },
  {
   "cell_type": "code",
   "execution_count": 203,
   "id": "07065fd1",
   "metadata": {},
   "outputs": [
    {
     "data": {
      "application/vnd.plotly.v1+json": {
       "config": {
        "plotlyServerURL": "https://plot.ly"
       },
       "data": [
        {
         "marker": {
          "color": [
           283211,
           257803,
           224281,
           205596,
           197148,
           181554,
           176877,
           169122,
           154791,
           146190,
           127167,
           121870,
           120417,
           110351
          ],
          "colorscale": [
           [
            0,
            "rgb(255,245,240)"
           ],
           [
            0.125,
            "rgb(254,224,210)"
           ],
           [
            0.25,
            "rgb(252,187,161)"
           ],
           [
            0.375,
            "rgb(252,146,114)"
           ],
           [
            0.5,
            "rgb(251,106,74)"
           ],
           [
            0.625,
            "rgb(239,59,44)"
           ],
           [
            0.75,
            "rgb(203,24,29)"
           ],
           [
            0.875,
            "rgb(165,15,21)"
           ],
           [
            1,
            "rgb(103,0,13)"
           ]
          ],
          "showscale": true
         },
         "type": "bar",
         "x": [
          "Kirari Suleman Nagar",
          "NDMC",
          "Karawal Nagar",
          "Nangloi Jat",
          "Bhalswa Jahangir Pur",
          "Sultan Pur Majra",
          "Hastsal",
          "Deoli",
          "Dallo Pura",
          "Burari",
          "Mustafabad",
          "Gokal Pur",
          "Mandoli",
          "Delhi Cantonment"
         ],
         "y": [
          283211,
          257803,
          224281,
          205596,
          197148,
          181554,
          176877,
          169122,
          154791,
          146190,
          127167,
          121870,
          120417,
          110351
         ]
        }
       ],
       "layout": {
        "template": {
         "data": {
          "bar": [
           {
            "error_x": {
             "color": "#2a3f5f"
            },
            "error_y": {
             "color": "#2a3f5f"
            },
            "marker": {
             "line": {
              "color": "#E5ECF6",
              "width": 0.5
             },
             "pattern": {
              "fillmode": "overlay",
              "size": 10,
              "solidity": 0.2
             }
            },
            "type": "bar"
           }
          ],
          "barpolar": [
           {
            "marker": {
             "line": {
              "color": "#E5ECF6",
              "width": 0.5
             },
             "pattern": {
              "fillmode": "overlay",
              "size": 10,
              "solidity": 0.2
             }
            },
            "type": "barpolar"
           }
          ],
          "carpet": [
           {
            "aaxis": {
             "endlinecolor": "#2a3f5f",
             "gridcolor": "white",
             "linecolor": "white",
             "minorgridcolor": "white",
             "startlinecolor": "#2a3f5f"
            },
            "baxis": {
             "endlinecolor": "#2a3f5f",
             "gridcolor": "white",
             "linecolor": "white",
             "minorgridcolor": "white",
             "startlinecolor": "#2a3f5f"
            },
            "type": "carpet"
           }
          ],
          "choropleth": [
           {
            "colorbar": {
             "outlinewidth": 0,
             "ticks": ""
            },
            "type": "choropleth"
           }
          ],
          "contour": [
           {
            "colorbar": {
             "outlinewidth": 0,
             "ticks": ""
            },
            "colorscale": [
             [
              0,
              "#0d0887"
             ],
             [
              0.1111111111111111,
              "#46039f"
             ],
             [
              0.2222222222222222,
              "#7201a8"
             ],
             [
              0.3333333333333333,
              "#9c179e"
             ],
             [
              0.4444444444444444,
              "#bd3786"
             ],
             [
              0.5555555555555556,
              "#d8576b"
             ],
             [
              0.6666666666666666,
              "#ed7953"
             ],
             [
              0.7777777777777778,
              "#fb9f3a"
             ],
             [
              0.8888888888888888,
              "#fdca26"
             ],
             [
              1,
              "#f0f921"
             ]
            ],
            "type": "contour"
           }
          ],
          "contourcarpet": [
           {
            "colorbar": {
             "outlinewidth": 0,
             "ticks": ""
            },
            "type": "contourcarpet"
           }
          ],
          "heatmap": [
           {
            "colorbar": {
             "outlinewidth": 0,
             "ticks": ""
            },
            "colorscale": [
             [
              0,
              "#0d0887"
             ],
             [
              0.1111111111111111,
              "#46039f"
             ],
             [
              0.2222222222222222,
              "#7201a8"
             ],
             [
              0.3333333333333333,
              "#9c179e"
             ],
             [
              0.4444444444444444,
              "#bd3786"
             ],
             [
              0.5555555555555556,
              "#d8576b"
             ],
             [
              0.6666666666666666,
              "#ed7953"
             ],
             [
              0.7777777777777778,
              "#fb9f3a"
             ],
             [
              0.8888888888888888,
              "#fdca26"
             ],
             [
              1,
              "#f0f921"
             ]
            ],
            "type": "heatmap"
           }
          ],
          "heatmapgl": [
           {
            "colorbar": {
             "outlinewidth": 0,
             "ticks": ""
            },
            "colorscale": [
             [
              0,
              "#0d0887"
             ],
             [
              0.1111111111111111,
              "#46039f"
             ],
             [
              0.2222222222222222,
              "#7201a8"
             ],
             [
              0.3333333333333333,
              "#9c179e"
             ],
             [
              0.4444444444444444,
              "#bd3786"
             ],
             [
              0.5555555555555556,
              "#d8576b"
             ],
             [
              0.6666666666666666,
              "#ed7953"
             ],
             [
              0.7777777777777778,
              "#fb9f3a"
             ],
             [
              0.8888888888888888,
              "#fdca26"
             ],
             [
              1,
              "#f0f921"
             ]
            ],
            "type": "heatmapgl"
           }
          ],
          "histogram": [
           {
            "marker": {
             "pattern": {
              "fillmode": "overlay",
              "size": 10,
              "solidity": 0.2
             }
            },
            "type": "histogram"
           }
          ],
          "histogram2d": [
           {
            "colorbar": {
             "outlinewidth": 0,
             "ticks": ""
            },
            "colorscale": [
             [
              0,
              "#0d0887"
             ],
             [
              0.1111111111111111,
              "#46039f"
             ],
             [
              0.2222222222222222,
              "#7201a8"
             ],
             [
              0.3333333333333333,
              "#9c179e"
             ],
             [
              0.4444444444444444,
              "#bd3786"
             ],
             [
              0.5555555555555556,
              "#d8576b"
             ],
             [
              0.6666666666666666,
              "#ed7953"
             ],
             [
              0.7777777777777778,
              "#fb9f3a"
             ],
             [
              0.8888888888888888,
              "#fdca26"
             ],
             [
              1,
              "#f0f921"
             ]
            ],
            "type": "histogram2d"
           }
          ],
          "histogram2dcontour": [
           {
            "colorbar": {
             "outlinewidth": 0,
             "ticks": ""
            },
            "colorscale": [
             [
              0,
              "#0d0887"
             ],
             [
              0.1111111111111111,
              "#46039f"
             ],
             [
              0.2222222222222222,
              "#7201a8"
             ],
             [
              0.3333333333333333,
              "#9c179e"
             ],
             [
              0.4444444444444444,
              "#bd3786"
             ],
             [
              0.5555555555555556,
              "#d8576b"
             ],
             [
              0.6666666666666666,
              "#ed7953"
             ],
             [
              0.7777777777777778,
              "#fb9f3a"
             ],
             [
              0.8888888888888888,
              "#fdca26"
             ],
             [
              1,
              "#f0f921"
             ]
            ],
            "type": "histogram2dcontour"
           }
          ],
          "mesh3d": [
           {
            "colorbar": {
             "outlinewidth": 0,
             "ticks": ""
            },
            "type": "mesh3d"
           }
          ],
          "parcoords": [
           {
            "line": {
             "colorbar": {
              "outlinewidth": 0,
              "ticks": ""
             }
            },
            "type": "parcoords"
           }
          ],
          "pie": [
           {
            "automargin": true,
            "type": "pie"
           }
          ],
          "scatter": [
           {
            "fillpattern": {
             "fillmode": "overlay",
             "size": 10,
             "solidity": 0.2
            },
            "type": "scatter"
           }
          ],
          "scatter3d": [
           {
            "line": {
             "colorbar": {
              "outlinewidth": 0,
              "ticks": ""
             }
            },
            "marker": {
             "colorbar": {
              "outlinewidth": 0,
              "ticks": ""
             }
            },
            "type": "scatter3d"
           }
          ],
          "scattercarpet": [
           {
            "marker": {
             "colorbar": {
              "outlinewidth": 0,
              "ticks": ""
             }
            },
            "type": "scattercarpet"
           }
          ],
          "scattergeo": [
           {
            "marker": {
             "colorbar": {
              "outlinewidth": 0,
              "ticks": ""
             }
            },
            "type": "scattergeo"
           }
          ],
          "scattergl": [
           {
            "marker": {
             "colorbar": {
              "outlinewidth": 0,
              "ticks": ""
             }
            },
            "type": "scattergl"
           }
          ],
          "scattermapbox": [
           {
            "marker": {
             "colorbar": {
              "outlinewidth": 0,
              "ticks": ""
             }
            },
            "type": "scattermapbox"
           }
          ],
          "scatterpolar": [
           {
            "marker": {
             "colorbar": {
              "outlinewidth": 0,
              "ticks": ""
             }
            },
            "type": "scatterpolar"
           }
          ],
          "scatterpolargl": [
           {
            "marker": {
             "colorbar": {
              "outlinewidth": 0,
              "ticks": ""
             }
            },
            "type": "scatterpolargl"
           }
          ],
          "scatterternary": [
           {
            "marker": {
             "colorbar": {
              "outlinewidth": 0,
              "ticks": ""
             }
            },
            "type": "scatterternary"
           }
          ],
          "surface": [
           {
            "colorbar": {
             "outlinewidth": 0,
             "ticks": ""
            },
            "colorscale": [
             [
              0,
              "#0d0887"
             ],
             [
              0.1111111111111111,
              "#46039f"
             ],
             [
              0.2222222222222222,
              "#7201a8"
             ],
             [
              0.3333333333333333,
              "#9c179e"
             ],
             [
              0.4444444444444444,
              "#bd3786"
             ],
             [
              0.5555555555555556,
              "#d8576b"
             ],
             [
              0.6666666666666666,
              "#ed7953"
             ],
             [
              0.7777777777777778,
              "#fb9f3a"
             ],
             [
              0.8888888888888888,
              "#fdca26"
             ],
             [
              1,
              "#f0f921"
             ]
            ],
            "type": "surface"
           }
          ],
          "table": [
           {
            "cells": {
             "fill": {
              "color": "#EBF0F8"
             },
             "line": {
              "color": "white"
             }
            },
            "header": {
             "fill": {
              "color": "#C8D4E3"
             },
             "line": {
              "color": "white"
             }
            },
            "type": "table"
           }
          ]
         },
         "layout": {
          "annotationdefaults": {
           "arrowcolor": "#2a3f5f",
           "arrowhead": 0,
           "arrowwidth": 1
          },
          "autotypenumbers": "strict",
          "coloraxis": {
           "colorbar": {
            "outlinewidth": 0,
            "ticks": ""
           }
          },
          "colorscale": {
           "diverging": [
            [
             0,
             "#8e0152"
            ],
            [
             0.1,
             "#c51b7d"
            ],
            [
             0.2,
             "#de77ae"
            ],
            [
             0.3,
             "#f1b6da"
            ],
            [
             0.4,
             "#fde0ef"
            ],
            [
             0.5,
             "#f7f7f7"
            ],
            [
             0.6,
             "#e6f5d0"
            ],
            [
             0.7,
             "#b8e186"
            ],
            [
             0.8,
             "#7fbc41"
            ],
            [
             0.9,
             "#4d9221"
            ],
            [
             1,
             "#276419"
            ]
           ],
           "sequential": [
            [
             0,
             "#0d0887"
            ],
            [
             0.1111111111111111,
             "#46039f"
            ],
            [
             0.2222222222222222,
             "#7201a8"
            ],
            [
             0.3333333333333333,
             "#9c179e"
            ],
            [
             0.4444444444444444,
             "#bd3786"
            ],
            [
             0.5555555555555556,
             "#d8576b"
            ],
            [
             0.6666666666666666,
             "#ed7953"
            ],
            [
             0.7777777777777778,
             "#fb9f3a"
            ],
            [
             0.8888888888888888,
             "#fdca26"
            ],
            [
             1,
             "#f0f921"
            ]
           ],
           "sequentialminus": [
            [
             0,
             "#0d0887"
            ],
            [
             0.1111111111111111,
             "#46039f"
            ],
            [
             0.2222222222222222,
             "#7201a8"
            ],
            [
             0.3333333333333333,
             "#9c179e"
            ],
            [
             0.4444444444444444,
             "#bd3786"
            ],
            [
             0.5555555555555556,
             "#d8576b"
            ],
            [
             0.6666666666666666,
             "#ed7953"
            ],
            [
             0.7777777777777778,
             "#fb9f3a"
            ],
            [
             0.8888888888888888,
             "#fdca26"
            ],
            [
             1,
             "#f0f921"
            ]
           ]
          },
          "colorway": [
           "#636efa",
           "#EF553B",
           "#00cc96",
           "#ab63fa",
           "#FFA15A",
           "#19d3f3",
           "#FF6692",
           "#B6E880",
           "#FF97FF",
           "#FECB52"
          ],
          "font": {
           "color": "#2a3f5f"
          },
          "geo": {
           "bgcolor": "white",
           "lakecolor": "white",
           "landcolor": "#E5ECF6",
           "showlakes": true,
           "showland": true,
           "subunitcolor": "white"
          },
          "hoverlabel": {
           "align": "left"
          },
          "hovermode": "closest",
          "mapbox": {
           "style": "light"
          },
          "paper_bgcolor": "white",
          "plot_bgcolor": "#E5ECF6",
          "polar": {
           "angularaxis": {
            "gridcolor": "white",
            "linecolor": "white",
            "ticks": ""
           },
           "bgcolor": "#E5ECF6",
           "radialaxis": {
            "gridcolor": "white",
            "linecolor": "white",
            "ticks": ""
           }
          },
          "scene": {
           "xaxis": {
            "backgroundcolor": "#E5ECF6",
            "gridcolor": "white",
            "gridwidth": 2,
            "linecolor": "white",
            "showbackground": true,
            "ticks": "",
            "zerolinecolor": "white"
           },
           "yaxis": {
            "backgroundcolor": "#E5ECF6",
            "gridcolor": "white",
            "gridwidth": 2,
            "linecolor": "white",
            "showbackground": true,
            "ticks": "",
            "zerolinecolor": "white"
           },
           "zaxis": {
            "backgroundcolor": "#E5ECF6",
            "gridcolor": "white",
            "gridwidth": 2,
            "linecolor": "white",
            "showbackground": true,
            "ticks": "",
            "zerolinecolor": "white"
           }
          },
          "shapedefaults": {
           "line": {
            "color": "#2a3f5f"
           }
          },
          "ternary": {
           "aaxis": {
            "gridcolor": "white",
            "linecolor": "white",
            "ticks": ""
           },
           "baxis": {
            "gridcolor": "white",
            "linecolor": "white",
            "ticks": ""
           },
           "bgcolor": "#E5ECF6",
           "caxis": {
            "gridcolor": "white",
            "linecolor": "white",
            "ticks": ""
           }
          },
          "title": {
           "x": 0.05
          },
          "xaxis": {
           "automargin": true,
           "gridcolor": "white",
           "linecolor": "white",
           "ticks": "",
           "title": {
            "standoff": 15
           },
           "zerolinecolor": "white",
           "zerolinewidth": 2
          },
          "yaxis": {
           "automargin": true,
           "gridcolor": "white",
           "linecolor": "white",
           "ticks": "",
           "title": {
            "standoff": 15
           },
           "zerolinecolor": "white",
           "zerolinewidth": 2
          }
         }
        },
        "title": {
         "text": "Population Bar Graph"
        },
        "xaxis": {
         "title": {
          "text": "Cities"
         }
        },
        "yaxis": {
         "title": {
          "text": "Population"
         }
        }
       }
      },
      "text/html": [
       "<div>                            <div id=\"a2ea1eb0-237d-4e7a-848a-235ccec7642f\" class=\"plotly-graph-div\" style=\"height:525px; width:100%;\"></div>            <script type=\"text/javascript\">                require([\"plotly\"], function(Plotly) {                    window.PLOTLYENV=window.PLOTLYENV || {};                                    if (document.getElementById(\"a2ea1eb0-237d-4e7a-848a-235ccec7642f\")) {                    Plotly.newPlot(                        \"a2ea1eb0-237d-4e7a-848a-235ccec7642f\",                        [{\"marker\":{\"color\":[283211,257803,224281,205596,197148,181554,176877,169122,154791,146190,127167,121870,120417,110351],\"colorscale\":[[0.0,\"rgb(255,245,240)\"],[0.125,\"rgb(254,224,210)\"],[0.25,\"rgb(252,187,161)\"],[0.375,\"rgb(252,146,114)\"],[0.5,\"rgb(251,106,74)\"],[0.625,\"rgb(239,59,44)\"],[0.75,\"rgb(203,24,29)\"],[0.875,\"rgb(165,15,21)\"],[1.0,\"rgb(103,0,13)\"]],\"showscale\":true},\"x\":[\"Kirari Suleman Nagar\",\"NDMC\",\"Karawal Nagar\",\"Nangloi Jat\",\"Bhalswa Jahangir Pur\",\"Sultan Pur Majra\",\"Hastsal\",\"Deoli\",\"Dallo Pura\",\"Burari\",\"Mustafabad\",\"Gokal Pur\",\"Mandoli\",\"Delhi Cantonment\"],\"y\":[283211,257803,224281,205596,197148,181554,176877,169122,154791,146190,127167,121870,120417,110351],\"type\":\"bar\"}],                        {\"template\":{\"data\":{\"histogram2dcontour\":[{\"type\":\"histogram2dcontour\",\"colorbar\":{\"outlinewidth\":0,\"ticks\":\"\"},\"colorscale\":[[0.0,\"#0d0887\"],[0.1111111111111111,\"#46039f\"],[0.2222222222222222,\"#7201a8\"],[0.3333333333333333,\"#9c179e\"],[0.4444444444444444,\"#bd3786\"],[0.5555555555555556,\"#d8576b\"],[0.6666666666666666,\"#ed7953\"],[0.7777777777777778,\"#fb9f3a\"],[0.8888888888888888,\"#fdca26\"],[1.0,\"#f0f921\"]]}],\"choropleth\":[{\"type\":\"choropleth\",\"colorbar\":{\"outlinewidth\":0,\"ticks\":\"\"}}],\"histogram2d\":[{\"type\":\"histogram2d\",\"colorbar\":{\"outlinewidth\":0,\"ticks\":\"\"},\"colorscale\":[[0.0,\"#0d0887\"],[0.1111111111111111,\"#46039f\"],[0.2222222222222222,\"#7201a8\"],[0.3333333333333333,\"#9c179e\"],[0.4444444444444444,\"#bd3786\"],[0.5555555555555556,\"#d8576b\"],[0.6666666666666666,\"#ed7953\"],[0.7777777777777778,\"#fb9f3a\"],[0.8888888888888888,\"#fdca26\"],[1.0,\"#f0f921\"]]}],\"heatmap\":[{\"type\":\"heatmap\",\"colorbar\":{\"outlinewidth\":0,\"ticks\":\"\"},\"colorscale\":[[0.0,\"#0d0887\"],[0.1111111111111111,\"#46039f\"],[0.2222222222222222,\"#7201a8\"],[0.3333333333333333,\"#9c179e\"],[0.4444444444444444,\"#bd3786\"],[0.5555555555555556,\"#d8576b\"],[0.6666666666666666,\"#ed7953\"],[0.7777777777777778,\"#fb9f3a\"],[0.8888888888888888,\"#fdca26\"],[1.0,\"#f0f921\"]]}],\"heatmapgl\":[{\"type\":\"heatmapgl\",\"colorbar\":{\"outlinewidth\":0,\"ticks\":\"\"},\"colorscale\":[[0.0,\"#0d0887\"],[0.1111111111111111,\"#46039f\"],[0.2222222222222222,\"#7201a8\"],[0.3333333333333333,\"#9c179e\"],[0.4444444444444444,\"#bd3786\"],[0.5555555555555556,\"#d8576b\"],[0.6666666666666666,\"#ed7953\"],[0.7777777777777778,\"#fb9f3a\"],[0.8888888888888888,\"#fdca26\"],[1.0,\"#f0f921\"]]}],\"contourcarpet\":[{\"type\":\"contourcarpet\",\"colorbar\":{\"outlinewidth\":0,\"ticks\":\"\"}}],\"contour\":[{\"type\":\"contour\",\"colorbar\":{\"outlinewidth\":0,\"ticks\":\"\"},\"colorscale\":[[0.0,\"#0d0887\"],[0.1111111111111111,\"#46039f\"],[0.2222222222222222,\"#7201a8\"],[0.3333333333333333,\"#9c179e\"],[0.4444444444444444,\"#bd3786\"],[0.5555555555555556,\"#d8576b\"],[0.6666666666666666,\"#ed7953\"],[0.7777777777777778,\"#fb9f3a\"],[0.8888888888888888,\"#fdca26\"],[1.0,\"#f0f921\"]]}],\"surface\":[{\"type\":\"surface\",\"colorbar\":{\"outlinewidth\":0,\"ticks\":\"\"},\"colorscale\":[[0.0,\"#0d0887\"],[0.1111111111111111,\"#46039f\"],[0.2222222222222222,\"#7201a8\"],[0.3333333333333333,\"#9c179e\"],[0.4444444444444444,\"#bd3786\"],[0.5555555555555556,\"#d8576b\"],[0.6666666666666666,\"#ed7953\"],[0.7777777777777778,\"#fb9f3a\"],[0.8888888888888888,\"#fdca26\"],[1.0,\"#f0f921\"]]}],\"mesh3d\":[{\"type\":\"mesh3d\",\"colorbar\":{\"outlinewidth\":0,\"ticks\":\"\"}}],\"scatter\":[{\"fillpattern\":{\"fillmode\":\"overlay\",\"size\":10,\"solidity\":0.2},\"type\":\"scatter\"}],\"parcoords\":[{\"type\":\"parcoords\",\"line\":{\"colorbar\":{\"outlinewidth\":0,\"ticks\":\"\"}}}],\"scatterpolargl\":[{\"type\":\"scatterpolargl\",\"marker\":{\"colorbar\":{\"outlinewidth\":0,\"ticks\":\"\"}}}],\"bar\":[{\"error_x\":{\"color\":\"#2a3f5f\"},\"error_y\":{\"color\":\"#2a3f5f\"},\"marker\":{\"line\":{\"color\":\"#E5ECF6\",\"width\":0.5},\"pattern\":{\"fillmode\":\"overlay\",\"size\":10,\"solidity\":0.2}},\"type\":\"bar\"}],\"scattergeo\":[{\"type\":\"scattergeo\",\"marker\":{\"colorbar\":{\"outlinewidth\":0,\"ticks\":\"\"}}}],\"scatterpolar\":[{\"type\":\"scatterpolar\",\"marker\":{\"colorbar\":{\"outlinewidth\":0,\"ticks\":\"\"}}}],\"histogram\":[{\"marker\":{\"pattern\":{\"fillmode\":\"overlay\",\"size\":10,\"solidity\":0.2}},\"type\":\"histogram\"}],\"scattergl\":[{\"type\":\"scattergl\",\"marker\":{\"colorbar\":{\"outlinewidth\":0,\"ticks\":\"\"}}}],\"scatter3d\":[{\"type\":\"scatter3d\",\"line\":{\"colorbar\":{\"outlinewidth\":0,\"ticks\":\"\"}},\"marker\":{\"colorbar\":{\"outlinewidth\":0,\"ticks\":\"\"}}}],\"scattermapbox\":[{\"type\":\"scattermapbox\",\"marker\":{\"colorbar\":{\"outlinewidth\":0,\"ticks\":\"\"}}}],\"scatterternary\":[{\"type\":\"scatterternary\",\"marker\":{\"colorbar\":{\"outlinewidth\":0,\"ticks\":\"\"}}}],\"scattercarpet\":[{\"type\":\"scattercarpet\",\"marker\":{\"colorbar\":{\"outlinewidth\":0,\"ticks\":\"\"}}}],\"carpet\":[{\"aaxis\":{\"endlinecolor\":\"#2a3f5f\",\"gridcolor\":\"white\",\"linecolor\":\"white\",\"minorgridcolor\":\"white\",\"startlinecolor\":\"#2a3f5f\"},\"baxis\":{\"endlinecolor\":\"#2a3f5f\",\"gridcolor\":\"white\",\"linecolor\":\"white\",\"minorgridcolor\":\"white\",\"startlinecolor\":\"#2a3f5f\"},\"type\":\"carpet\"}],\"table\":[{\"cells\":{\"fill\":{\"color\":\"#EBF0F8\"},\"line\":{\"color\":\"white\"}},\"header\":{\"fill\":{\"color\":\"#C8D4E3\"},\"line\":{\"color\":\"white\"}},\"type\":\"table\"}],\"barpolar\":[{\"marker\":{\"line\":{\"color\":\"#E5ECF6\",\"width\":0.5},\"pattern\":{\"fillmode\":\"overlay\",\"size\":10,\"solidity\":0.2}},\"type\":\"barpolar\"}],\"pie\":[{\"automargin\":true,\"type\":\"pie\"}]},\"layout\":{\"autotypenumbers\":\"strict\",\"colorway\":[\"#636efa\",\"#EF553B\",\"#00cc96\",\"#ab63fa\",\"#FFA15A\",\"#19d3f3\",\"#FF6692\",\"#B6E880\",\"#FF97FF\",\"#FECB52\"],\"font\":{\"color\":\"#2a3f5f\"},\"hovermode\":\"closest\",\"hoverlabel\":{\"align\":\"left\"},\"paper_bgcolor\":\"white\",\"plot_bgcolor\":\"#E5ECF6\",\"polar\":{\"bgcolor\":\"#E5ECF6\",\"angularaxis\":{\"gridcolor\":\"white\",\"linecolor\":\"white\",\"ticks\":\"\"},\"radialaxis\":{\"gridcolor\":\"white\",\"linecolor\":\"white\",\"ticks\":\"\"}},\"ternary\":{\"bgcolor\":\"#E5ECF6\",\"aaxis\":{\"gridcolor\":\"white\",\"linecolor\":\"white\",\"ticks\":\"\"},\"baxis\":{\"gridcolor\":\"white\",\"linecolor\":\"white\",\"ticks\":\"\"},\"caxis\":{\"gridcolor\":\"white\",\"linecolor\":\"white\",\"ticks\":\"\"}},\"coloraxis\":{\"colorbar\":{\"outlinewidth\":0,\"ticks\":\"\"}},\"colorscale\":{\"sequential\":[[0.0,\"#0d0887\"],[0.1111111111111111,\"#46039f\"],[0.2222222222222222,\"#7201a8\"],[0.3333333333333333,\"#9c179e\"],[0.4444444444444444,\"#bd3786\"],[0.5555555555555556,\"#d8576b\"],[0.6666666666666666,\"#ed7953\"],[0.7777777777777778,\"#fb9f3a\"],[0.8888888888888888,\"#fdca26\"],[1.0,\"#f0f921\"]],\"sequentialminus\":[[0.0,\"#0d0887\"],[0.1111111111111111,\"#46039f\"],[0.2222222222222222,\"#7201a8\"],[0.3333333333333333,\"#9c179e\"],[0.4444444444444444,\"#bd3786\"],[0.5555555555555556,\"#d8576b\"],[0.6666666666666666,\"#ed7953\"],[0.7777777777777778,\"#fb9f3a\"],[0.8888888888888888,\"#fdca26\"],[1.0,\"#f0f921\"]],\"diverging\":[[0,\"#8e0152\"],[0.1,\"#c51b7d\"],[0.2,\"#de77ae\"],[0.3,\"#f1b6da\"],[0.4,\"#fde0ef\"],[0.5,\"#f7f7f7\"],[0.6,\"#e6f5d0\"],[0.7,\"#b8e186\"],[0.8,\"#7fbc41\"],[0.9,\"#4d9221\"],[1,\"#276419\"]]},\"xaxis\":{\"gridcolor\":\"white\",\"linecolor\":\"white\",\"ticks\":\"\",\"title\":{\"standoff\":15},\"zerolinecolor\":\"white\",\"automargin\":true,\"zerolinewidth\":2},\"yaxis\":{\"gridcolor\":\"white\",\"linecolor\":\"white\",\"ticks\":\"\",\"title\":{\"standoff\":15},\"zerolinecolor\":\"white\",\"automargin\":true,\"zerolinewidth\":2},\"scene\":{\"xaxis\":{\"backgroundcolor\":\"#E5ECF6\",\"gridcolor\":\"white\",\"linecolor\":\"white\",\"showbackground\":true,\"ticks\":\"\",\"zerolinecolor\":\"white\",\"gridwidth\":2},\"yaxis\":{\"backgroundcolor\":\"#E5ECF6\",\"gridcolor\":\"white\",\"linecolor\":\"white\",\"showbackground\":true,\"ticks\":\"\",\"zerolinecolor\":\"white\",\"gridwidth\":2},\"zaxis\":{\"backgroundcolor\":\"#E5ECF6\",\"gridcolor\":\"white\",\"linecolor\":\"white\",\"showbackground\":true,\"ticks\":\"\",\"zerolinecolor\":\"white\",\"gridwidth\":2}},\"shapedefaults\":{\"line\":{\"color\":\"#2a3f5f\"}},\"annotationdefaults\":{\"arrowcolor\":\"#2a3f5f\",\"arrowhead\":0,\"arrowwidth\":1},\"geo\":{\"bgcolor\":\"white\",\"landcolor\":\"#E5ECF6\",\"subunitcolor\":\"white\",\"showland\":true,\"showlakes\":true,\"lakecolor\":\"white\"},\"title\":{\"x\":0.05},\"mapbox\":{\"style\":\"light\"}}},\"title\":{\"text\":\"Population Bar Graph\"},\"xaxis\":{\"title\":{\"text\":\"Cities\"}},\"yaxis\":{\"title\":{\"text\":\"Population\"}}},                        {\"responsive\": true}                    ).then(function(){\n",
       "                            \n",
       "var gd = document.getElementById('a2ea1eb0-237d-4e7a-848a-235ccec7642f');\n",
       "var x = new MutationObserver(function (mutations, observer) {{\n",
       "        var display = window.getComputedStyle(gd).display;\n",
       "        if (!display || display === 'none') {{\n",
       "            console.log([gd, 'removed!']);\n",
       "            Plotly.purge(gd);\n",
       "            observer.disconnect();\n",
       "        }}\n",
       "}});\n",
       "\n",
       "// Listen for the removal of the full notebook cells\n",
       "var notebookContainer = gd.closest('#notebook-container');\n",
       "if (notebookContainer) {{\n",
       "    x.observe(notebookContainer, {childList: true});\n",
       "}}\n",
       "\n",
       "// Listen for the clearing of the current output cell\n",
       "var outputEl = gd.closest('.output');\n",
       "if (outputEl) {{\n",
       "    x.observe(outputEl, {childList: true});\n",
       "}}\n",
       "\n",
       "                        })                };                });            </script>        </div>"
      ]
     },
     "metadata": {},
     "output_type": "display_data"
    }
   ],
   "source": [
    "# Create a bar graph\n",
    "fig = go.Figure(data=go.Bar(\n",
    "        x=df2['City'],  # Set city names as x-axis labels\n",
    "        y=df2['Populations'],  # Set population values as y-axis values\n",
    "        marker=dict(color=df2['Populations'], colorscale='Reds', showscale=True),  # Set color scale based on population\n",
    "    ))\n",
    "\n",
    "# Customize layout\n",
    "fig.update_layout(\n",
    "    title='Population Bar Graph',  # Set title\n",
    "    xaxis=dict(title='Cities'),  # Set x-axis label\n",
    "    yaxis=dict(title='Population'),  # Set y-axis label\n",
    ")\n",
    "\n",
    "# Show the plot\n",
    "fig.show()"
   ]
  },
  {
   "cell_type": "code",
   "execution_count": null,
   "id": "18ef681c",
   "metadata": {},
   "outputs": [],
   "source": []
  }
 ],
 "metadata": {
  "kernelspec": {
   "display_name": "Python 3 (ipykernel)",
   "language": "python",
   "name": "python3"
  },
  "language_info": {
   "codemirror_mode": {
    "name": "ipython",
    "version": 3
   },
   "file_extension": ".py",
   "mimetype": "text/x-python",
   "name": "python",
   "nbconvert_exporter": "python",
   "pygments_lexer": "ipython3",
   "version": "3.11.3"
  }
 },
 "nbformat": 4,
 "nbformat_minor": 5
}
