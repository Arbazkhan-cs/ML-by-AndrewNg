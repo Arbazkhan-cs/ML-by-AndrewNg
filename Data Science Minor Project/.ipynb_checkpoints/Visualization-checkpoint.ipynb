{
 "cells": [
  {
   "cell_type": "markdown",
   "id": "24f86a5b",
   "metadata": {},
   "source": [
    "## Importing Neccessary Librarys"
   ]
  },
  {
   "cell_type": "code",
   "execution_count": 15,
   "id": "0be400b2",
   "metadata": {},
   "outputs": [],
   "source": [
    "import pandas as pd\n",
    "import matplotlib.pyplot as plt\n",
    "import plotly.express as px"
   ]
  },
  {
   "cell_type": "markdown",
   "id": "11df3eff",
   "metadata": {},
   "source": [
    "## Load Dataset"
   ]
  },
  {
   "cell_type": "code",
   "execution_count": 16,
   "id": "698782a2",
   "metadata": {},
   "outputs": [],
   "source": [
    "df = pd.read_csv(\"Final Dataset.csv\")"
   ]
  },
  {
   "cell_type": "code",
   "execution_count": 17,
   "id": "81fd7be2",
   "metadata": {},
   "outputs": [
    {
     "data": {
      "text/html": [
       "<div>\n",
       "<style scoped>\n",
       "    .dataframe tbody tr th:only-of-type {\n",
       "        vertical-align: middle;\n",
       "    }\n",
       "\n",
       "    .dataframe tbody tr th {\n",
       "        vertical-align: top;\n",
       "    }\n",
       "\n",
       "    .dataframe thead th {\n",
       "        text-align: right;\n",
       "    }\n",
       "</style>\n",
       "<table border=\"1\" class=\"dataframe\">\n",
       "  <thead>\n",
       "    <tr style=\"text-align: right;\">\n",
       "      <th></th>\n",
       "      <th>City</th>\n",
       "      <th>Status</th>\n",
       "      <th>District</th>\n",
       "      <th>Population</th>\n",
       "      <th>Area</th>\n",
       "      <th>Density</th>\n",
       "      <th>Longitude</th>\n",
       "      <th>latitude</th>\n",
       "    </tr>\n",
       "  </thead>\n",
       "  <tbody>\n",
       "    <tr>\n",
       "      <th>0</th>\n",
       "      <td>Aali</td>\n",
       "      <td>Census Town</td>\n",
       "      <td>South</td>\n",
       "      <td>27169</td>\n",
       "      <td>4.00</td>\n",
       "      <td>6792.250000</td>\n",
       "      <td>28.513960</td>\n",
       "      <td>77.308403</td>\n",
       "    </tr>\n",
       "    <tr>\n",
       "      <th>1</th>\n",
       "      <td>Ali Pur</td>\n",
       "      <td>Census Town</td>\n",
       "      <td>North West</td>\n",
       "      <td>20332</td>\n",
       "      <td>8.60</td>\n",
       "      <td>2364.186047</td>\n",
       "      <td>28.798120</td>\n",
       "      <td>77.134838</td>\n",
       "    </tr>\n",
       "    <tr>\n",
       "      <th>2</th>\n",
       "      <td>Asola</td>\n",
       "      <td>Census Town</td>\n",
       "      <td>South</td>\n",
       "      <td>13275</td>\n",
       "      <td>12.00</td>\n",
       "      <td>1106.250000</td>\n",
       "      <td>28.455643</td>\n",
       "      <td>77.186957</td>\n",
       "    </tr>\n",
       "    <tr>\n",
       "      <th>3</th>\n",
       "      <td>Aya Nagar</td>\n",
       "      <td>Census Town</td>\n",
       "      <td>South</td>\n",
       "      <td>33123</td>\n",
       "      <td>8.18</td>\n",
       "      <td>4049.266504</td>\n",
       "      <td>28.469408</td>\n",
       "      <td>77.126244</td>\n",
       "    </tr>\n",
       "    <tr>\n",
       "      <th>4</th>\n",
       "      <td>Babar Pur</td>\n",
       "      <td>Census Town</td>\n",
       "      <td>North East</td>\n",
       "      <td>37058</td>\n",
       "      <td>0.80</td>\n",
       "      <td>46322.500000</td>\n",
       "      <td>28.687594</td>\n",
       "      <td>77.283368</td>\n",
       "    </tr>\n",
       "  </tbody>\n",
       "</table>\n",
       "</div>"
      ],
      "text/plain": [
       "        City       Status    District  Population   Area       Density  \\\n",
       "0       Aali  Census Town       South       27169   4.00   6792.250000   \n",
       "1    Ali Pur  Census Town  North West       20332   8.60   2364.186047   \n",
       "2      Asola  Census Town       South       13275  12.00   1106.250000   \n",
       "3  Aya Nagar  Census Town       South       33123   8.18   4049.266504   \n",
       "4  Babar Pur  Census Town  North East       37058   0.80  46322.500000   \n",
       "\n",
       "   Longitude   latitude  \n",
       "0  28.513960  77.308403  \n",
       "1  28.798120  77.134838  \n",
       "2  28.455643  77.186957  \n",
       "3  28.469408  77.126244  \n",
       "4  28.687594  77.283368  "
      ]
     },
     "execution_count": 17,
     "metadata": {},
     "output_type": "execute_result"
    }
   ],
   "source": [
    "df.head()"
   ]
  },
  {
   "cell_type": "markdown",
   "id": "c645e227",
   "metadata": {},
   "source": [
    "## Visualization"
   ]
  },
  {
   "cell_type": "code",
   "execution_count": 18,
   "id": "a8aea8ce",
   "metadata": {},
   "outputs": [
    {
     "data": {
      "text/html": [
       "<div style=\"width:100%;\"><div style=\"position:relative;width:100%;height:0;padding-bottom:60%;\"><span style=\"color:#565656\">Make this Notebook Trusted to load map: File -> Trust Notebook</span><iframe srcdoc=\"&lt;!DOCTYPE html&gt;\n",
       "&lt;html&gt;\n",
       "&lt;head&gt;\n",
       "    \n",
       "    &lt;meta http-equiv=&quot;content-type&quot; content=&quot;text/html; charset=UTF-8&quot; /&gt;\n",
       "    \n",
       "        &lt;script&gt;\n",
       "            L_NO_TOUCH = false;\n",
       "            L_DISABLE_3D = false;\n",
       "        &lt;/script&gt;\n",
       "    \n",
       "    &lt;style&gt;html, body {width: 100%;height: 100%;margin: 0;padding: 0;}&lt;/style&gt;\n",
       "    &lt;style&gt;#map {position:absolute;top:0;bottom:0;right:0;left:0;}&lt;/style&gt;\n",
       "    &lt;script src=&quot;https://cdn.jsdelivr.net/npm/leaflet@1.9.3/dist/leaflet.js&quot;&gt;&lt;/script&gt;\n",
       "    &lt;script src=&quot;https://code.jquery.com/jquery-3.7.1.min.js&quot;&gt;&lt;/script&gt;\n",
       "    &lt;script src=&quot;https://cdn.jsdelivr.net/npm/bootstrap@5.2.2/dist/js/bootstrap.bundle.min.js&quot;&gt;&lt;/script&gt;\n",
       "    &lt;script src=&quot;https://cdnjs.cloudflare.com/ajax/libs/Leaflet.awesome-markers/2.0.2/leaflet.awesome-markers.js&quot;&gt;&lt;/script&gt;\n",
       "    &lt;link rel=&quot;stylesheet&quot; href=&quot;https://cdn.jsdelivr.net/npm/leaflet@1.9.3/dist/leaflet.css&quot;/&gt;\n",
       "    &lt;link rel=&quot;stylesheet&quot; href=&quot;https://cdn.jsdelivr.net/npm/bootstrap@5.2.2/dist/css/bootstrap.min.css&quot;/&gt;\n",
       "    &lt;link rel=&quot;stylesheet&quot; href=&quot;https://netdna.bootstrapcdn.com/bootstrap/3.0.0/css/bootstrap.min.css&quot;/&gt;\n",
       "    &lt;link rel=&quot;stylesheet&quot; href=&quot;https://cdn.jsdelivr.net/npm/@fortawesome/fontawesome-free@6.2.0/css/all.min.css&quot;/&gt;\n",
       "    &lt;link rel=&quot;stylesheet&quot; href=&quot;https://cdnjs.cloudflare.com/ajax/libs/Leaflet.awesome-markers/2.0.2/leaflet.awesome-markers.css&quot;/&gt;\n",
       "    &lt;link rel=&quot;stylesheet&quot; href=&quot;https://cdn.jsdelivr.net/gh/python-visualization/folium/folium/templates/leaflet.awesome.rotate.min.css&quot;/&gt;\n",
       "    \n",
       "            &lt;meta name=&quot;viewport&quot; content=&quot;width=device-width,\n",
       "                initial-scale=1.0, maximum-scale=1.0, user-scalable=no&quot; /&gt;\n",
       "            &lt;style&gt;\n",
       "                #map_c601aaf588673a2cf5705949b442ad0e {\n",
       "                    position: relative;\n",
       "                    width: 100.0%;\n",
       "                    height: 100.0%;\n",
       "                    left: 0.0%;\n",
       "                    top: 0.0%;\n",
       "                }\n",
       "                .leaflet-container { font-size: 1rem; }\n",
       "            &lt;/style&gt;\n",
       "        \n",
       "    &lt;script src=&quot;https://cdn.jsdelivr.net/gh/python-visualization/folium@main/folium/templates/leaflet_heat.min.js&quot;&gt;&lt;/script&gt;\n",
       "&lt;/head&gt;\n",
       "&lt;body&gt;\n",
       "    \n",
       "    \n",
       "            &lt;div class=&quot;folium-map&quot; id=&quot;map_c601aaf588673a2cf5705949b442ad0e&quot; &gt;&lt;/div&gt;\n",
       "        \n",
       "&lt;/body&gt;\n",
       "&lt;script&gt;\n",
       "    \n",
       "    \n",
       "            var map_c601aaf588673a2cf5705949b442ad0e = L.map(\n",
       "                &quot;map_c601aaf588673a2cf5705949b442ad0e&quot;,\n",
       "                {\n",
       "                    center: [28.6139, 77.209],\n",
       "                    crs: L.CRS.EPSG3857,\n",
       "                    zoom: 10,\n",
       "                    zoomControl: true,\n",
       "                    preferCanvas: false,\n",
       "                }\n",
       "            );\n",
       "\n",
       "            \n",
       "\n",
       "        \n",
       "    \n",
       "            var tile_layer_acddab37cbc9183c297ea66b25726c94 = L.tileLayer(\n",
       "                &quot;https://tile.openstreetmap.org/{z}/{x}/{y}.png&quot;,\n",
       "                {&quot;attribution&quot;: &quot;\\u0026copy; \\u003ca href=\\&quot;https://www.openstreetmap.org/copyright\\&quot;\\u003eOpenStreetMap\\u003c/a\\u003e contributors&quot;, &quot;detectRetina&quot;: false, &quot;maxNativeZoom&quot;: 19, &quot;maxZoom&quot;: 19, &quot;minZoom&quot;: 0, &quot;noWrap&quot;: false, &quot;opacity&quot;: 1, &quot;subdomains&quot;: &quot;abc&quot;, &quot;tms&quot;: false}\n",
       "            );\n",
       "        \n",
       "    \n",
       "            tile_layer_acddab37cbc9183c297ea66b25726c94.addTo(map_c601aaf588673a2cf5705949b442ad0e);\n",
       "        \n",
       "    \n",
       "            var heat_map_86d84ea9cbbe6981dd26128489b203ce = L.heatLayer(\n",
       "                [[28.513960270583976, 77.30840347358063, 6792.25], [28.798119683949388, 77.1348377663563, 2364.186046511628], [28.455643493638785, 77.18695727357117, 1106.25], [28.469408333869605, 77.12624406549699, 4049.2665036674816], [28.68759395490345, 77.28336810916494, 46322.5], [28.82304768902445, 77.16893406642188, 3243.877551020408], [28.66095815968524, 77.0161851159965, 2741.6036308623297], [28.81277916332625, 77.14191366639483, 1207.9185520361991], [28.84147199644336, 77.0694915092656, 2174.705882352941], [28.63769077640276, 77.00603956593561, 9385.053380782918], [28.63769077640276, 77.00603956593561, 16975.29411764706], [28.761774187380045, 77.0619837915631, 1516.6101694915253], [28.800475615194525, 77.05150602384457, 4334.117647058823], [28.538546495283537, 77.20785432358453, 28253.68421052632], [28.72686003395033, 77.16173629156175, 29425.07462686567], [28.54761850244894, 77.18917420907388, 1217.032258064516], [28.82898219039697, 77.0943587915659, 2200.765306122449], [28.74836019466414, 77.19396137329274, 13052.678571428572], [28.46806718130696, 77.18264757357316, 8475.0], [28.49462308920672, 77.18469746556251, 6329.634641407308], [28.56116698119759, 77.00183939155501, 2065.0704225352115], [28.56116698119759, 77.00183939155501, 32254.6511627907], [28.56116698119759, 77.00183939155501, 22156.603773584902], [28.56116698119759, 77.00183939155501, 67594.3231441048], [28.81852453365093, 77.02044901640993, 793.7106918238993], [28.59491201614135, 77.12064997167383, 19.65898765300123], [28.6103471560786, 77.11441509155696, 2592.2245712943386], [28.50215468473656, 77.22994922357873, 16744.752475247526], [28.424861355884502, 77.16845041989008, 984.4025897586816], [28.59248182886341, 76.99308424155629, 9100.507614213198], [28.454284636173355, 77.1776159590134, 1893.3760683760688], [28.618224239559, 77.33224941588476, 25994.38202247191], [28.618224239559, 77.33224941588476, 25420.13422818792], [28.69477814875873, 76.99338165916963, 941.917808219178], [28.495802103490032, 77.1420000155656, 3463.488372093024], [28.70321739780314, 77.28312679156076, 52986.956521739135], [28.635957805312163, 77.04660666593112, 26011.32352941177], [28.778547494590548, 77.18080111630482, 3585.810810810811], [28.59164797017656, 76.91907515910246, 1910.7558139534883], [28.683481936835992, 77.27175652360805, 60667.777777777774], [28.509834123524843, 77.32724916560213, 15779.255319148937], [28.642444069104744, 76.94939657217435, 1572.5301204819275], [28.72692661401046, 77.20828751616932, 8799.23076923077], [28.71310541291756, 77.28179129156116, 43054.0], [28.45966626877846, 77.15515960901685, 1251.1764705882354], [28.61472454699497, 76.92625201587562, 919.6388261851016], [28.75153014485548, 77.19258817361919, 33143.07692307692], [28.7258905013644, 76.99950426616658, 1160.7865168539324], [28.52428561072368, 77.0791577090587, 21786.176470588234], [28.734777959852067, 77.03203461618992, 4069.476082004556], [28.72406627765, 77.27195810918874, 46725.208333333336], [28.711605301518144, 77.26019160918062, 85155.55555555555], [28.710235958531104, 77.282325691561, 24978.571428571428], [28.77516159014016, 77.10215510922214, 2615.9420289855075], [28.76893867713405, 77.11832181627959, 1075.8800521512387], [28.775461756867088, 77.0894615662967, 1111.0227272727273], [28.69889312200172, 77.04698656609582, 60257.65957446808], [28.608029619884377, 77.32744060911313, 20322.87234042553], [28.53831874644933, 77.29037129155408, 6470.175438596491], [28.56715819031334, 77.17478819155524, 10257.831325301206], [28.73265748396497, 76.98681801618436, 831.4285714285713], [28.750367069917008, 77.14560724156263, 19293.478260869568], [28.49150550144089, 77.1983961155544, 1452.4183006535948], [28.53060047530556, 77.1163405156562, 3163.4666666666667], [28.706411763698966, 77.31679041611554, 20513.96933560477], [28.707211224679227, 77.26279010917771, 38196.0], [28.4928602700128, 77.32425340903835, 38798.333333333336], [28.610170082916284, 76.94720860911451, 740.8418657565416], [28.727508471371017, 77.03887257361524, 5439.8753894081], [28.50507454411456, 77.31093455904627, 22293.17073170732], [28.56330498445039, 77.14929349155503, 18068.90756302521], [28.70760667827417, 77.03271631611864, 5124.680851063829], [28.7393274209311, 77.18232045919873, 22583.00395256917], [28.78691751210952, 77.15836135922984, 1896.5384615384608], [28.679796339197186, 77.01622151604582, 4583.27731092437], [28.71327924747406, 77.27176051613354, 97820.76923076923], [28.62228468894906, 77.00384611589537, 12282.084690553747], [28.67891592289403, 77.06575962360745, 30685.97014925373], [28.50629600152653, 77.20578355904706, 6627.118644067797], [28.56223988282995, 77.12190349155503, 6031.890500701918], [28.648715360601603, 77.05977756596448, 11178.092783505155], [28.7058964553061, 77.05563057361172, 22036.681222707422], [28.75002459024811, 77.07960407361898, 4886.808510638298], [28.71111897126635, 77.07810062361254, 13714.57142857143], [28.76995260825959, 77.05126905921875, 1065.4], [28.49771498476103, 77.30063219155245, 31662.272727272724], [28.771209854893264, 77.16622536628556, 3465.849056603773], [28.66821203663849, 77.05208960915228, 10469.166666666668], [28.8024667871328, 76.95512981636772, 1349.6466431095405], [28.635670438240744, 77.03264320913111, 10164.21052631579], [28.510340279659715, 77.11172351560343, 2226.5116279069766], [28.491059909092805, 77.19123465903718, 15082.432432432432], [28.70151068986611, 77.01369960917401, 5190.506329113924], [28.60098507700096, 76.97581555910851, 20434.64285714286], [28.721490225738048, 77.2554417915615, 88764.54545454544], [28.749333368334824, 77.11821099156268, 9609.298245614034], [28.52601912775437, 77.29062619155353, 4642.922374429224], [28.532846977961523, 77.08782067358369, 14928.333333333334], [28.656619804844592, 77.03703802360367, 5692.0], [28.656676292761823, 77.0368019892084, 5692.0], [28.62799624148327, 77.2791095591261, 7377.367205542725], [28.75722558038852, 77.13274795921043, 16828.571428571428], [28.4954878859516, 77.16169215904004, 7080.232558139535], [28.695688999209185, 77.08066739696896, 5227.586206896552], [28.511094111879885, 77.23903192358006, 64840.71428571429], [28.6814439673694, 76.96535515916092, 57330.0], [28.83084578127567, 77.11763020925862, 42703.63636363636], [28.646294302988927, 77.02638960913801, 1685.2272727272727], [28.707211224679227, 77.26279010917771, 3513.265306122449], [28.56402590217221, 76.91106955908452, 16602.439024390245], [28.70741225421473, 77.2693378915609, 14145.0]],\n",
       "                {&quot;blur&quot;: 15, &quot;gradient&quot;: {&quot;0.2&quot;: &quot;green&quot;, &quot;0.4&quot;: &quot;yellow&quot;, &quot;0.6&quot;: &quot;orange&quot;, &quot;1&quot;: &quot;red&quot;}, &quot;maxZoom&quot;: 18, &quot;minOpacity&quot;: 0.5, &quot;radius&quot;: 15}\n",
       "            );\n",
       "        \n",
       "    \n",
       "            heat_map_86d84ea9cbbe6981dd26128489b203ce.addTo(map_c601aaf588673a2cf5705949b442ad0e);\n",
       "        \n",
       "&lt;/script&gt;\n",
       "&lt;/html&gt;\" style=\"position:absolute;width:100%;height:100%;left:0;top:0;border:none !important;\" allowfullscreen webkitallowfullscreen mozallowfullscreen></iframe></div></div>"
      ],
      "text/plain": [
       "<folium.folium.Map at 0x1e6d93b4590>"
      ]
     },
     "execution_count": 18,
     "metadata": {},
     "output_type": "execute_result"
    }
   ],
   "source": [
    "import folium\n",
    "from folium.plugins import HeatMap\n",
    "import pandas as pd\n",
    "\n",
    "\n",
    "# Create a map centered at a specific location\n",
    "map = folium.Map(location=[28.6139, 77.2090], zoom_start=10)\n",
    "\n",
    "# Create a HeatMap layer\n",
    "heat_data = [[row['Longitude'], row['latitude'], row['Density']] for index, row in df.iterrows()]\n",
    "HeatMap(heat_data, radius=15, gradient={0.2: 'green', 0.4: 'yellow', 0.6: 'orange', 1: 'red'}).add_to(map)\n",
    "\n",
    "# Display the map\n",
    "map"
   ]
  },
  {
   "cell_type": "code",
   "execution_count": 19,
   "id": "1042230a",
   "metadata": {},
   "outputs": [],
   "source": [
    "# Save the map as an HTML file\n",
    "map.save(\"heatmap.html\")"
   ]
  }
 ],
 "metadata": {
  "kernelspec": {
   "display_name": "Python 3 (ipykernel)",
   "language": "python",
   "name": "python3"
  },
  "language_info": {
   "codemirror_mode": {
    "name": "ipython",
    "version": 3
   },
   "file_extension": ".py",
   "mimetype": "text/x-python",
   "name": "python",
   "nbconvert_exporter": "python",
   "pygments_lexer": "ipython3",
   "version": "3.11.3"
  }
 },
 "nbformat": 4,
 "nbformat_minor": 5
}
