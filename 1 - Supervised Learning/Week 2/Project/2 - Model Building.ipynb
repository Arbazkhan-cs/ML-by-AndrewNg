{
 "cells": [
  {
   "cell_type": "markdown",
   "id": "9cde8b73",
   "metadata": {},
   "source": [
    "## Importing Neccessary Libraires"
   ]
  },
  {
   "cell_type": "code",
   "execution_count": 1,
   "id": "3954336e",
   "metadata": {},
   "outputs": [],
   "source": [
    "import numpy as np\n",
    "import pandas as pd\n",
    "import matplotlib.pyplot as plt\n",
    "import seaborn as sns"
   ]
  },
  {
   "cell_type": "markdown",
   "id": "224a7afb",
   "metadata": {},
   "source": [
    "## Load CSV File"
   ]
  },
  {
   "cell_type": "code",
   "execution_count": 2,
   "id": "10576d1e",
   "metadata": {},
   "outputs": [],
   "source": [
    "df = pd.read_csv(\"Processed_benguluru_data.csv\")"
   ]
  },
  {
   "cell_type": "code",
   "execution_count": 3,
   "id": "94a77007",
   "metadata": {},
   "outputs": [
    {
     "data": {
      "text/html": [
       "<div>\n",
       "<style scoped>\n",
       "    .dataframe tbody tr th:only-of-type {\n",
       "        vertical-align: middle;\n",
       "    }\n",
       "\n",
       "    .dataframe tbody tr th {\n",
       "        vertical-align: top;\n",
       "    }\n",
       "\n",
       "    .dataframe thead th {\n",
       "        text-align: right;\n",
       "    }\n",
       "</style>\n",
       "<table border=\"1\" class=\"dataframe\">\n",
       "  <thead>\n",
       "    <tr style=\"text-align: right;\">\n",
       "      <th></th>\n",
       "      <th>location</th>\n",
       "      <th>bhk</th>\n",
       "      <th>total_sqft</th>\n",
       "      <th>bath</th>\n",
       "      <th>price</th>\n",
       "    </tr>\n",
       "  </thead>\n",
       "  <tbody>\n",
       "    <tr>\n",
       "      <th>0</th>\n",
       "      <td>Electronic City Phase II</td>\n",
       "      <td>2.0</td>\n",
       "      <td>1056.0</td>\n",
       "      <td>2.0</td>\n",
       "      <td>39.07</td>\n",
       "    </tr>\n",
       "    <tr>\n",
       "      <th>1</th>\n",
       "      <td>Chikka Tirupathi</td>\n",
       "      <td>4.0</td>\n",
       "      <td>2600.0</td>\n",
       "      <td>5.0</td>\n",
       "      <td>120.00</td>\n",
       "    </tr>\n",
       "    <tr>\n",
       "      <th>2</th>\n",
       "      <td>Uttarahalli</td>\n",
       "      <td>3.0</td>\n",
       "      <td>1440.0</td>\n",
       "      <td>2.0</td>\n",
       "      <td>62.00</td>\n",
       "    </tr>\n",
       "    <tr>\n",
       "      <th>3</th>\n",
       "      <td>Lingadheeranahalli</td>\n",
       "      <td>3.0</td>\n",
       "      <td>1521.0</td>\n",
       "      <td>3.0</td>\n",
       "      <td>95.00</td>\n",
       "    </tr>\n",
       "    <tr>\n",
       "      <th>4</th>\n",
       "      <td>Kothanur</td>\n",
       "      <td>2.0</td>\n",
       "      <td>1200.0</td>\n",
       "      <td>2.0</td>\n",
       "      <td>51.00</td>\n",
       "    </tr>\n",
       "  </tbody>\n",
       "</table>\n",
       "</div>"
      ],
      "text/plain": [
       "                   location  bhk  total_sqft  bath   price\n",
       "0  Electronic City Phase II  2.0      1056.0   2.0   39.07\n",
       "1          Chikka Tirupathi  4.0      2600.0   5.0  120.00\n",
       "2               Uttarahalli  3.0      1440.0   2.0   62.00\n",
       "3        Lingadheeranahalli  3.0      1521.0   3.0   95.00\n",
       "4                  Kothanur  2.0      1200.0   2.0   51.00"
      ]
     },
     "execution_count": 3,
     "metadata": {},
     "output_type": "execute_result"
    }
   ],
   "source": [
    "df.head()"
   ]
  },
  {
   "cell_type": "markdown",
   "id": "2927fc69",
   "metadata": {},
   "source": [
    "## Converting Location Column TO Numeric"
   ]
  },
  {
   "cell_type": "code",
   "execution_count": 4,
   "id": "0a78818c",
   "metadata": {},
   "outputs": [
    {
     "data": {
      "text/plain": [
       "{'Electronic City Phase II': 0,\n",
       " 'Chikka Tirupathi': 1,\n",
       " 'Uttarahalli': 2,\n",
       " 'Lingadheeranahalli': 3,\n",
       " 'Kothanur': 4,\n",
       " 'Whitefield': 5,\n",
       " 'Old Airport Road': 6,\n",
       " 'Rajaji Nagar': 7,\n",
       " 'Marathahalli': 8,\n",
       " '7th Phase JP Nagar': 9,\n",
       " 'Gottigere': 10,\n",
       " 'Sarjapur': 11,\n",
       " 'Mysore Road': 12,\n",
       " 'Bisuvanahalli': 13,\n",
       " 'Raja Rajeshwari Nagar': 14,\n",
       " 'other': 15,\n",
       " 'Kengeri': 16,\n",
       " 'Binny Pete': 17,\n",
       " 'Thanisandra': 18,\n",
       " 'Bellandur': 19,\n",
       " 'Electronic City': 20,\n",
       " 'Ramagondanahalli': 21,\n",
       " 'Yelahanka': 22,\n",
       " 'Hebbal': 23,\n",
       " 'Kasturi Nagar': 24,\n",
       " 'Kanakpura Road': 25,\n",
       " 'Electronics City Phase 1': 26,\n",
       " 'Kundalahalli': 27,\n",
       " 'Chikkalasandra': 28,\n",
       " 'Murugeshpalya': 29,\n",
       " 'Sarjapur  Road': 30,\n",
       " 'Doddathoguru': 31,\n",
       " 'KR Puram': 32,\n",
       " 'Bhoganhalli': 33,\n",
       " 'Lakshminarayana Pura': 34,\n",
       " 'Begur Road': 35,\n",
       " 'Devanahalli': 36,\n",
       " 'Varthur': 37,\n",
       " 'Gunjur': 38,\n",
       " 'Hegde Nagar': 39,\n",
       " 'Haralur Road': 40,\n",
       " 'Hennur Road': 41,\n",
       " 'Kothannur': 42,\n",
       " 'Kalena Agrahara': 43,\n",
       " 'Kaval Byrasandra': 44,\n",
       " 'Garudachar Palya': 45,\n",
       " 'EPIP Zone': 46,\n",
       " 'Dasanapura': 47,\n",
       " 'Kasavanhalli': 48,\n",
       " 'Sanjay nagar': 49,\n",
       " 'ISRO Layout': 50,\n",
       " 'Domlur': 51,\n",
       " 'Sarjapura - Attibele Road': 52,\n",
       " 'Yeshwanthpur': 53,\n",
       " 'Chandapura': 54,\n",
       " 'Nagarbhavi': 55,\n",
       " 'Ramamurthy Nagar': 56,\n",
       " 'Malleshwaram': 57,\n",
       " 'Akshaya Nagar': 58,\n",
       " 'Shampura': 59,\n",
       " 'Kadugodi': 60,\n",
       " 'LB Shastri Nagar': 61,\n",
       " 'Hormavu': 62,\n",
       " 'Kudlu Gate': 63,\n",
       " '8th Phase JP Nagar': 64,\n",
       " 'Bommasandra Industrial Area': 65,\n",
       " 'Anandapura': 66,\n",
       " 'Kengeri Satellite Town': 67,\n",
       " 'Kannamangala': 68,\n",
       " ' Devarachikkanahalli': 69,\n",
       " 'Hulimavu': 70,\n",
       " 'Mahalakshmi Layout': 71,\n",
       " 'Hosa Road': 72,\n",
       " 'Attibele': 73,\n",
       " 'CV Raman Nagar': 74,\n",
       " 'Nagavara': 75,\n",
       " 'Hebbal Kempapura': 76,\n",
       " 'Vijayanagar': 77,\n",
       " 'Pattandur Agrahara': 78,\n",
       " 'HSR Layout': 79,\n",
       " 'Nagasandra': 80,\n",
       " 'Kogilu': 81,\n",
       " 'Panathur': 82,\n",
       " 'Padmanabhanagar': 83,\n",
       " '1st Block Jayanagar': 84,\n",
       " 'Kammasandra': 85,\n",
       " 'Dasarahalli': 86,\n",
       " 'Koramangala': 87,\n",
       " 'Dommasandra': 88,\n",
       " 'Budigere': 89,\n",
       " 'Kalyan nagar': 90,\n",
       " 'OMBR Layout': 91,\n",
       " 'Horamavu Agara': 92,\n",
       " 'Ambedkar Nagar': 93,\n",
       " 'Talaghattapura': 94,\n",
       " 'Balagere': 95,\n",
       " 'Jigani': 96,\n",
       " 'Gollarapalya Hosahalli': 97,\n",
       " 'Old Madras Road': 98,\n",
       " 'Kaggadasapura': 99,\n",
       " '9th Phase JP Nagar': 100,\n",
       " 'Jakkur': 101,\n",
       " 'TC Palaya': 102,\n",
       " 'Giri Nagar': 103,\n",
       " 'Singasandra': 104,\n",
       " 'AECS Layout': 105,\n",
       " 'Mallasandra': 106,\n",
       " 'Begur': 107,\n",
       " 'JP Nagar': 108,\n",
       " 'Malleshpalya': 109,\n",
       " 'Munnekollal': 110,\n",
       " 'Kaggalipura': 111,\n",
       " '6th Phase JP Nagar': 112,\n",
       " 'Ulsoor': 113,\n",
       " 'Thigalarapalya': 114,\n",
       " 'Somasundara Palya': 115,\n",
       " 'Basaveshwara Nagar': 116,\n",
       " 'Bommasandra': 117,\n",
       " 'Ardendale': 118,\n",
       " 'Harlur': 119,\n",
       " 'Kodihalli': 120,\n",
       " 'Magadi Road': 121,\n",
       " 'Narayanapura': 122,\n",
       " 'Bannerghatta Road': 123,\n",
       " 'Hennur': 124,\n",
       " '5th Phase JP Nagar': 125,\n",
       " 'Kodigehaali': 126,\n",
       " 'Billekahalli': 127,\n",
       " 'Jalahalli': 128,\n",
       " 'Mahadevpura': 129,\n",
       " 'Anekal': 130,\n",
       " 'Sompura': 131,\n",
       " 'Dodda Nekkundi': 132,\n",
       " 'Hosur Road': 133,\n",
       " 'Battarahalli': 134,\n",
       " 'Sultan Palaya': 135,\n",
       " 'Ambalipura': 136,\n",
       " 'Hoodi': 137,\n",
       " 'Brookefield': 138,\n",
       " 'Yelenahalli': 139,\n",
       " 'Vittasandra': 140,\n",
       " '2nd Stage Nagarbhavi': 141,\n",
       " 'Vidyaranyapura': 142,\n",
       " 'Amruthahalli': 143,\n",
       " 'Kodigehalli': 144,\n",
       " 'Subramanyapura': 145,\n",
       " 'Basavangudi': 146,\n",
       " 'Banjara Layout': 147,\n",
       " 'Kereguddadahalli': 148,\n",
       " 'Kambipura': 149,\n",
       " 'Banashankari Stage III': 150,\n",
       " 'Sector 7 HSR Layout': 151,\n",
       " 'Rajiv Nagar': 152,\n",
       " 'Arekere': 153,\n",
       " 'Banashankari': 154,\n",
       " 'Chikkabanavar': 155,\n",
       " 'HRBR Layout': 156,\n",
       " 'Nehru Nagar': 157,\n",
       " 'Kanakapura': 158,\n",
       " 'Konanakunte': 159,\n",
       " 'R.T. Nagar': 160,\n",
       " 'Tumkur Road': 161,\n",
       " 'Vasanthapura': 162,\n",
       " 'GM Palaya': 163,\n",
       " 'Jalahalli East': 164,\n",
       " 'Hosakerehalli': 165,\n",
       " 'Indira Nagar': 166,\n",
       " 'Kodichikkanahalli': 167,\n",
       " 'Varthur Road': 168,\n",
       " 'Anjanapura': 169,\n",
       " 'Abbigere': 170,\n",
       " 'Tindlu': 171,\n",
       " 'Gubbalala': 172,\n",
       " 'Parappana Agrahara': 173,\n",
       " 'Cunningham Road': 174,\n",
       " 'Kudlu': 175,\n",
       " 'Vishwapriya Layout': 176,\n",
       " 'Banashankari Stage VI': 177,\n",
       " 'Cox Town': 178,\n",
       " 'Kathriguppe': 179,\n",
       " 'HBR Layout': 180,\n",
       " 'Yelahanka New Town': 181,\n",
       " 'Sahakara Nagar': 182,\n",
       " 'Rachenahalli': 183,\n",
       " 'Yelachenahalli': 184,\n",
       " 'Green Glen Layout': 185,\n",
       " 'Thubarahalli': 186,\n",
       " 'Horamavu Banaswadi': 187,\n",
       " '1st Phase JP Nagar': 188,\n",
       " 'NGR Layout': 189,\n",
       " 'Kammanahalli': 190,\n",
       " 'Seegehalli': 191,\n",
       " 'BEML Layout': 192,\n",
       " 'NRI Layout': 193,\n",
       " 'ITPL': 194,\n",
       " 'Margondanahalli': 195,\n",
       " 'Babusapalaya': 196,\n",
       " 'Iblur Village': 197,\n",
       " 'Ananth Nagar': 198,\n",
       " 'Channasandra': 199,\n",
       " 'Choodasandra': 200,\n",
       " 'Kaikondrahalli': 201,\n",
       " 'Neeladri Nagar': 202,\n",
       " 'Frazer Town': 203,\n",
       " 'Cooke Town': 204,\n",
       " 'Doddakallasandra': 205,\n",
       " 'Chamrajpet': 206,\n",
       " 'Rayasandra': 207,\n",
       " 'Pai Layout': 208,\n",
       " 'Banashankari Stage V': 209,\n",
       " 'Sonnenahalli': 210,\n",
       " 'Bommanahalli': 211,\n",
       " 'Benson Town': 212,\n",
       " '2nd Phase Judicial Layout': 213,\n",
       " 'Poorna Pragna Layout': 214,\n",
       " 'Judicial Layout': 215,\n",
       " 'Banashankari Stage II': 216,\n",
       " 'Karuna Nagar': 217,\n",
       " 'Bannerghatta': 218,\n",
       " 'Marsur': 219,\n",
       " 'Bommenahalli': 220,\n",
       " 'Laggere': 221,\n",
       " 'Prithvi Layout': 222,\n",
       " 'Banaswadi': 223,\n",
       " 'Sector 2 HSR Layout': 224,\n",
       " 'Badavala Nagar': 225,\n",
       " 'Nagavarapalya': 226,\n",
       " 'BTM Layout': 227,\n",
       " '5th Block Hbr Layout': 228,\n",
       " 'BTM 2nd Stage': 229,\n",
       " 'Hoskote': 230,\n",
       " 'Doddaballapur': 231,\n",
       " 'Kumaraswami Layout': 232,\n",
       " 'Mico Layout': 233,\n",
       " 'Sarakki Nagar': 234,\n",
       " 'Thyagaraja Nagar': 235,\n",
       " 'Bharathi Nagar': 236,\n",
       " 'Vishveshwarya Layout': 237,\n",
       " 'HAL 2nd Stage': 238,\n",
       " 'Kadubeesanahalli': 239,\n",
       " 'Shivaji Nagar': 240,\n",
       " 'Kenchenahalli': 241}"
      ]
     },
     "execution_count": 4,
     "metadata": {},
     "output_type": "execute_result"
    }
   ],
   "source": [
    "dictt = {}\n",
    "count = 0\n",
    "for i in df[\"location\"].unique():\n",
    "    dictt[i] = count;\n",
    "    count+=1;\n",
    "dictt"
   ]
  },
  {
   "cell_type": "code",
   "execution_count": 5,
   "id": "e0d26cf1",
   "metadata": {},
   "outputs": [],
   "source": [
    "df[\"location\"] = df[\"location\"].apply(lambda x: dictt[x])"
   ]
  },
  {
   "cell_type": "code",
   "execution_count": 6,
   "id": "e19432e8",
   "metadata": {},
   "outputs": [
    {
     "data": {
      "text/plain": [
       "array([  0,   1,   2,   3,   4,   5,   6,   7,   8,   9,  10,  11,  12,\n",
       "        13,  14,  15,  16,  17,  18,  19,  20,  21,  22,  23,  24,  25,\n",
       "        26,  27,  28,  29,  30,  31,  32,  33,  34,  35,  36,  37,  38,\n",
       "        39,  40,  41,  42,  43,  44,  45,  46,  47,  48,  49,  50,  51,\n",
       "        52,  53,  54,  55,  56,  57,  58,  59,  60,  61,  62,  63,  64,\n",
       "        65,  66,  67,  68,  69,  70,  71,  72,  73,  74,  75,  76,  77,\n",
       "        78,  79,  80,  81,  82,  83,  84,  85,  86,  87,  88,  89,  90,\n",
       "        91,  92,  93,  94,  95,  96,  97,  98,  99, 100, 101, 102, 103,\n",
       "       104, 105, 106, 107, 108, 109, 110, 111, 112, 113, 114, 115, 116,\n",
       "       117, 118, 119, 120, 121, 122, 123, 124, 125, 126, 127, 128, 129,\n",
       "       130, 131, 132, 133, 134, 135, 136, 137, 138, 139, 140, 141, 142,\n",
       "       143, 144, 145, 146, 147, 148, 149, 150, 151, 152, 153, 154, 155,\n",
       "       156, 157, 158, 159, 160, 161, 162, 163, 164, 165, 166, 167, 168,\n",
       "       169, 170, 171, 172, 173, 174, 175, 176, 177, 178, 179, 180, 181,\n",
       "       182, 183, 184, 185, 186, 187, 188, 189, 190, 191, 192, 193, 194,\n",
       "       195, 196, 197, 198, 199, 200, 201, 202, 203, 204, 205, 206, 207,\n",
       "       208, 209, 210, 211, 212, 213, 214, 215, 216, 217, 218, 219, 220,\n",
       "       221, 222, 223, 224, 225, 226, 227, 228, 229, 230, 231, 232, 233,\n",
       "       234, 235, 236, 237, 238, 239, 240, 241], dtype=int64)"
      ]
     },
     "execution_count": 6,
     "metadata": {},
     "output_type": "execute_result"
    }
   ],
   "source": [
    "df[\"location\"].unique()"
   ]
  },
  {
   "cell_type": "code",
   "execution_count": 7,
   "id": "e15111b1",
   "metadata": {},
   "outputs": [
    {
     "data": {
      "text/html": [
       "<div>\n",
       "<style scoped>\n",
       "    .dataframe tbody tr th:only-of-type {\n",
       "        vertical-align: middle;\n",
       "    }\n",
       "\n",
       "    .dataframe tbody tr th {\n",
       "        vertical-align: top;\n",
       "    }\n",
       "\n",
       "    .dataframe thead th {\n",
       "        text-align: right;\n",
       "    }\n",
       "</style>\n",
       "<table border=\"1\" class=\"dataframe\">\n",
       "  <thead>\n",
       "    <tr style=\"text-align: right;\">\n",
       "      <th></th>\n",
       "      <th>location</th>\n",
       "      <th>bhk</th>\n",
       "      <th>total_sqft</th>\n",
       "      <th>bath</th>\n",
       "      <th>price</th>\n",
       "    </tr>\n",
       "  </thead>\n",
       "  <tbody>\n",
       "    <tr>\n",
       "      <th>0</th>\n",
       "      <td>0</td>\n",
       "      <td>2.0</td>\n",
       "      <td>1056.0</td>\n",
       "      <td>2.0</td>\n",
       "      <td>39.07</td>\n",
       "    </tr>\n",
       "    <tr>\n",
       "      <th>1</th>\n",
       "      <td>1</td>\n",
       "      <td>4.0</td>\n",
       "      <td>2600.0</td>\n",
       "      <td>5.0</td>\n",
       "      <td>120.00</td>\n",
       "    </tr>\n",
       "    <tr>\n",
       "      <th>2</th>\n",
       "      <td>2</td>\n",
       "      <td>3.0</td>\n",
       "      <td>1440.0</td>\n",
       "      <td>2.0</td>\n",
       "      <td>62.00</td>\n",
       "    </tr>\n",
       "    <tr>\n",
       "      <th>3</th>\n",
       "      <td>3</td>\n",
       "      <td>3.0</td>\n",
       "      <td>1521.0</td>\n",
       "      <td>3.0</td>\n",
       "      <td>95.00</td>\n",
       "    </tr>\n",
       "    <tr>\n",
       "      <th>4</th>\n",
       "      <td>4</td>\n",
       "      <td>2.0</td>\n",
       "      <td>1200.0</td>\n",
       "      <td>2.0</td>\n",
       "      <td>51.00</td>\n",
       "    </tr>\n",
       "  </tbody>\n",
       "</table>\n",
       "</div>"
      ],
      "text/plain": [
       "   location  bhk  total_sqft  bath   price\n",
       "0         0  2.0      1056.0   2.0   39.07\n",
       "1         1  4.0      2600.0   5.0  120.00\n",
       "2         2  3.0      1440.0   2.0   62.00\n",
       "3         3  3.0      1521.0   3.0   95.00\n",
       "4         4  2.0      1200.0   2.0   51.00"
      ]
     },
     "execution_count": 7,
     "metadata": {},
     "output_type": "execute_result"
    }
   ],
   "source": [
    "df.head()"
   ]
  },
  {
   "cell_type": "markdown",
   "id": "467fa4dc",
   "metadata": {},
   "source": [
    "## Model Building"
   ]
  },
  {
   "cell_type": "code",
   "execution_count": 8,
   "id": "0b51f5c5",
   "metadata": {},
   "outputs": [],
   "source": [
    "def compute_cost(X, y, W, b):\n",
    "    m = len(X)\n",
    "    f_wb = np.dot(X, W) + b\n",
    "    \n",
    "    error = f_wb - y\n",
    "    cost = np.sum(error**2)/(2*m)\n",
    "    \n",
    "    return cost"
   ]
  },
  {
   "cell_type": "code",
   "execution_count": 9,
   "id": "145dd821",
   "metadata": {},
   "outputs": [],
   "source": [
    "def gradeint_descent(X, y, W, b, alpha):\n",
    "    m = len(X)\n",
    "    iteration = 10000\n",
    "    costT = []\n",
    "    \n",
    "    for i in range(iteration):\n",
    "        f_wb = np.dot(X, W) + b\n",
    "        \n",
    "        cost = compute_cost(X, y, W, b)\n",
    "        costT.append(cost)\n",
    "        \n",
    "        d_dw = (1/m)*np.sum(np.dot(f_wb - y, X))\n",
    "        d_db = (1/m)*np.sum(f_wb - y)\n",
    "        \n",
    "        W = W - alpha * d_dw\n",
    "        b = b - alpha * d_db\n",
    "        \n",
    "        if(i%100 == 0):\n",
    "            print(f\"Iteration = {i}, Cost = {cost}\")\n",
    "            \n",
    "        if(costT[i] == costT[i-1] and i > 0):\n",
    "            break\n",
    "    \n",
    "    return W, b, costT, i+1"
   ]
  },
  {
   "cell_type": "code",
   "execution_count": 10,
   "id": "b91b69d3",
   "metadata": {},
   "outputs": [
    {
     "name": "stdout",
     "output_type": "stream",
     "text": [
      "X =        location  bhk  total_sqft  bath\n",
      "0             0  2.0      1056.0   2.0\n",
      "1             1  4.0      2600.0   5.0\n",
      "2             2  3.0      1440.0   2.0\n",
      "3             3  3.0      1521.0   3.0\n",
      "4             4  2.0      1200.0   2.0\n",
      "...         ...  ...         ...   ...\n",
      "12463       185  3.0      1715.0   3.0\n",
      "12464        15  4.0      3600.0   5.0\n",
      "12465        14  2.0      1141.0   2.0\n",
      "12466        83  4.0      4689.0   4.0\n",
      "12467        31  1.0       550.0   1.0\n",
      "\n",
      "[12468 rows x 4 columns]\n",
      "y = 0         39.07\n",
      "1        120.00\n",
      "2         62.00\n",
      "3         95.00\n",
      "4         51.00\n",
      "          ...  \n",
      "12463    112.00\n",
      "12464    400.00\n",
      "12465     60.00\n",
      "12466    488.00\n",
      "12467     17.00\n",
      "Name: price, Length: 12468, dtype: float64\n"
     ]
    }
   ],
   "source": [
    "X = df.drop(columns=\"price\")\n",
    "y = df[\"price\"]\n",
    "print(f\"X = {X}\")\n",
    "print(f\"y = {y}\")"
   ]
  },
  {
   "cell_type": "code",
   "execution_count": 11,
   "id": "e2c0314b",
   "metadata": {},
   "outputs": [
    {
     "name": "stdout",
     "output_type": "stream",
     "text": [
      "X_norm =        location       bhk  total_sqft      bath\n",
      "0     -0.998025 -0.742783   -0.413877 -0.538256\n",
      "1     -0.982472  1.888613    1.000691  2.871512\n",
      "2     -0.966918  0.572915   -0.062068 -0.538256\n",
      "3     -0.951365  0.572915    0.012142  0.598334\n",
      "4     -0.935812 -0.742783   -0.281949 -0.538256\n",
      "...         ...       ...         ...       ...\n",
      "12463  1.879333  0.572915    0.189879  0.598334\n",
      "12464 -0.764726  1.888613    1.916862  2.871512\n",
      "12465 -0.780279 -0.742783   -0.336003 -0.538256\n",
      "12466  0.292898  1.888613    2.914572  1.734923\n",
      "12467 -0.515873 -2.058480   -0.877460 -1.674845\n",
      "\n",
      "[12468 rows x 4 columns]\n",
      "y_norm = 0       -0.517243\n",
      "1        0.142268\n",
      "2       -0.330383\n",
      "3       -0.061461\n",
      "4       -0.420024\n",
      "           ...   \n",
      "12463    0.077075\n",
      "12464    2.424030\n",
      "12465   -0.346681\n",
      "12466    3.141155\n",
      "12467   -0.697095\n",
      "Name: price, Length: 12468, dtype: float64\n"
     ]
    }
   ],
   "source": [
    "# Normalisation\n",
    "X_norm  = X.copy()\n",
    "for i in X.columns:\n",
    "    X_norm[i] = (X[i] - np.mean(X[i])) / np.std(X[i])\n",
    "y_norm = (y - np.mean(y)) / np.std(y)\n",
    "\n",
    "print(f\"X_norm = {X_norm}\")\n",
    "print(f\"y_norm = {y_norm}\")"
   ]
  },
  {
   "cell_type": "code",
   "execution_count": 12,
   "id": "58b5068f",
   "metadata": {},
   "outputs": [
    {
     "name": "stdout",
     "output_type": "stream",
     "text": [
      "Iteration = 0, Cost = 0.5000000000000064\n",
      "Iteration = 100, Cost = 0.3321999161578217\n",
      "Iteration = 200, Cost = 0.3321998834624133\n"
     ]
    }
   ],
   "source": [
    "# Hyperparameters\n",
    "W = np.zeros(X_norm.shape[1])\n",
    "b = 0\n",
    "alpha = 0.01\n",
    "\n",
    "W_updated, b_updated, cost, iteration = gradeint_descent(X_norm, y_norm, W, b, alpha)"
   ]
  },
  {
   "cell_type": "code",
   "execution_count": 13,
   "id": "2a39210d",
   "metadata": {},
   "outputs": [
    {
     "name": "stdout",
     "output_type": "stream",
     "text": [
      "W_updated = [0.21246187 0.21246187 0.21246187 0.21246187]\n",
      "b_updated = -2.0811641719486064e-16\n"
     ]
    }
   ],
   "source": [
    "print(f\"W_updated = {W_updated}\");\n",
    "print(f\"b_updated = {b_updated}\")"
   ]
  },
  {
   "cell_type": "markdown",
   "id": "7fd9a59c",
   "metadata": {},
   "source": [
    "## Data Visualisation"
   ]
  },
  {
   "cell_type": "code",
   "execution_count": 14,
   "id": "9d67ea90",
   "metadata": {},
   "outputs": [
    {
     "data": {
      "image/png": "[encoded data removed]",
      "text/plain": [
       "<Figure size 640x480 with 1 Axes>"
      ]
     },
     "metadata": {},
     "output_type": "display_data"
    }
   ],
   "source": [
    "plt.scatter(X[\"total_sqft\"], y, color=\"blue\", label=\"Data Points\")\n",
    "plt.title(\"Real Esate Data\")\n",
    "plt.xlabel(\"Total Sqft\")\n",
    "plt.ylabel(\"Price\")\n",
    "plt.legend()\n",
    "plt.grid(True)"
   ]
  },
  {
   "cell_type": "markdown",
   "id": "1c6de080",
   "metadata": {},
   "source": [
    "## Prediction"
   ]
  },
  {
   "cell_type": "code",
   "execution_count": 15,
   "id": "87461985",
   "metadata": {},
   "outputs": [],
   "source": [
    "def predict(X, W, b):\n",
    "    return np.dot(X, W) + b"
   ]
  },
  {
   "cell_type": "code",
   "execution_count": 16,
   "id": "7e8a73b3",
   "metadata": {},
   "outputs": [],
   "source": [
    "f_wb = predict(X, W_updated, b_updated)"
   ]
  },
  {
   "cell_type": "code",
   "execution_count": 17,
   "id": "8bc37b82",
   "metadata": {},
   "outputs": [
    {
     "data": {
      "text/plain": [
       "array([ 225.20958384,  554.52548474,  307.43232813, ...,  246.24330912,\n",
       "       1015.567746  ,  123.86527111])"
      ]
     },
     "execution_count": 17,
     "metadata": {},
     "output_type": "execute_result"
    }
   ],
   "source": [
    "f_wb"
   ]
  },
  {
   "cell_type": "code",
   "execution_count": 18,
   "id": "577a2bb8",
   "metadata": {},
   "outputs": [
    {
     "data": {
      "image/png": "[encoded data removed]",
      "text/plain": [
       "<Figure size 640x480 with 1 Axes>"
      ]
     },
     "metadata": {},
     "output_type": "display_data"
    }
   ],
   "source": [
    "# Visualisation\n",
    "plt.scatter(X[\"total_sqft\"], y, color=\"blue\", label=\"Data Points\")\n",
    "plt.plot(X[\"total_sqft\"], f_wb, color=\"red\", label=\"Regression Line\")\n",
    "plt.title(\"Real Esate Data\")\n",
    "plt.xlabel(\"Total Sqft\")\n",
    "plt.ylabel(\"Price\")\n",
    "plt.legend()\n",
    "plt.grid(True)"
   ]
  },
  {
   "cell_type": "code",
   "execution_count": 19,
   "id": "c3981b1a",
   "metadata": {},
   "outputs": [
    {
     "data": {
      "image/png": "[encoded data removed]",
      "text/plain": [
       "<Figure size 640x480 with 1 Axes>"
      ]
     },
     "metadata": {},
     "output_type": "display_data"
    }
   ],
   "source": [
    "plt.plot(range(0, iteration), cost, label=\"Cost Line\", color=\"blue\", linewidth=5.0)\n",
    "plt.title(\"Cost Vs Iteration\")\n",
    "plt.xlabel(\"Iteraion\")\n",
    "plt.ylabel(\"Cost\")\n",
    "plt.legend()\n",
    "plt.grid(True)"
   ]
  },
  {
   "cell_type": "markdown",
   "id": "c18bfe6d",
   "metadata": {},
   "source": [
    "# Saving The Model"
   ]
  },
  {
   "cell_type": "code",
   "execution_count": 20,
   "id": "fac8e593",
   "metadata": {},
   "outputs": [],
   "source": [
    "from pickle import dump, load"
   ]
  },
  {
   "cell_type": "code",
   "execution_count": 21,
   "id": "deefdecc",
   "metadata": {},
   "outputs": [],
   "source": [
    "with open(\"weight.pkl\", \"wb\") as f:\n",
    "    dump(W_updated, f)"
   ]
  },
  {
   "cell_type": "code",
   "execution_count": 22,
   "id": "a5b17cd3",
   "metadata": {},
   "outputs": [],
   "source": [
    "with open(\"bias.pkl\", \"wb\") as f:\n",
    "    dump(b_updated, f)"
   ]
  }
 ],
 "metadata": {
  "kernelspec": {
   "display_name": "Python 3 (ipykernel)",
   "language": "python",
   "name": "python3"
  },
  "language_info": {
   "codemirror_mode": {
    "name": "ipython",
    "version": 3
   },
   "file_extension": ".py",
   "mimetype": "text/x-python",
   "name": "python",
   "nbconvert_exporter": "python",
   "pygments_lexer": "ipython3",
   "version": "3.11.3"
  }
 },
 "nbformat": 4,
 "nbformat_minor": 5
}
