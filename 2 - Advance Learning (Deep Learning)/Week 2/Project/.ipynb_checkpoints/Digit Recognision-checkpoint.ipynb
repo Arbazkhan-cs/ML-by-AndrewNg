{
 "cells": [
  {
   "cell_type": "markdown",
   "id": "4124c548",
   "metadata": {},
   "source": [
    "# HandWritten Digit Recognition"
   ]
  },
  {
   "cell_type": "code",
   "execution_count": 26,
   "id": "c7f9a95a",
   "metadata": {},
   "outputs": [],
   "source": [
    "import numpy as np\n",
    "import matplotlib.pyplot as plt\n",
    "from sklearn.model_selection import train_test_split\n",
    "\n",
    "from tensorflow.keras.datasets.mnist import load_data\n",
    "from tensorflow.keras.layers import Dense, Input, Normalization, Flatten\n",
    "from tensorflow.keras import Sequential\n",
    "from tensorflow.keras.losses import SparseCategoricalCrossentropy\n",
    "from tensorflow.keras.optimizers import Adam"
   ]
  },
  {
   "cell_type": "markdown",
   "id": "93322621",
   "metadata": {},
   "source": [
    "## Loading Data Sets"
   ]
  },
  {
   "cell_type": "code",
   "execution_count": 27,
   "id": "2a673c8b",
   "metadata": {},
   "outputs": [],
   "source": [
    "(X_train, Y_train), (X_test, Y_test) = load_data()"
   ]
  },
  {
   "cell_type": "code",
   "execution_count": 28,
   "id": "3612742c",
   "metadata": {},
   "outputs": [
    {
     "data": {
      "text/plain": [
       "((60000, 28, 28), (60000,))"
      ]
     },
     "execution_count": 28,
     "metadata": {},
     "output_type": "execute_result"
    }
   ],
   "source": [
    "X_train.shape, Y_train.shape"
   ]
  },
  {
   "cell_type": "markdown",
   "id": "748ef134",
   "metadata": {},
   "source": [
    "## Normalising Train Data Set"
   ]
  },
  {
   "cell_type": "code",
   "execution_count": 29,
   "id": "a62efb61",
   "metadata": {},
   "outputs": [],
   "source": [
    "def normalize(data):\n",
    "    return (data-np.mean(data))/np.std(data)"
   ]
  },
  {
   "cell_type": "code",
   "execution_count": 30,
   "id": "4aa1b20a",
   "metadata": {},
   "outputs": [],
   "source": [
    "X_norm = normalize(X_train)"
   ]
  },
  {
   "cell_type": "code",
   "execution_count": 31,
   "id": "75d7d241",
   "metadata": {},
   "outputs": [
    {
     "name": "stdout",
     "output_type": "stream",
     "text": [
      "Before Normalization Max and Min: 255.00, 0.00\n",
      "After Normalization Max and Min: 2.82, -0.42\n"
     ]
    }
   ],
   "source": [
    "print(f\"Before Normalization Max and Min: {np.max(X_train):0.2f}, {np.min(X_train):0.2f}\")\n",
    "print(f\"After Normalization Max and Min: {np.max(X_norm):0.2f}, {np.min(X_norm):0.2f}\")"
   ]
  },
  {
   "cell_type": "markdown",
   "id": "b4a79607",
   "metadata": {},
   "source": [
    "## Visualizing"
   ]
  },
  {
   "cell_type": "code",
   "execution_count": 32,
   "id": "fffa608a",
   "metadata": {},
   "outputs": [
    {
     "data": {
      "image/png": "[encoded data removed]",
      "text/plain": [
       "<Figure size 640x480 with 9 Axes>"
      ]
     },
     "metadata": {},
     "output_type": "display_data"
    }
   ],
   "source": [
    "for i in range(9):\n",
    "    plt.subplot(330 + 1 + i)\n",
    "    plt.imshow(X_train[i])"
   ]
  },
  {
   "cell_type": "markdown",
   "id": "74edcebb",
   "metadata": {},
   "source": [
    "## Building Model"
   ]
  },
  {
   "cell_type": "code",
   "execution_count": 33,
   "id": "c28758f0",
   "metadata": {},
   "outputs": [],
   "source": [
    "model = Sequential([\n",
    "    Flatten(input_shape=(28, 28)),\n",
    "    Dense(128, activation=\"relu\", name=\"HiddenLayer1\"),\n",
    "    Dense(128, activation=\"relu\", name=\"HiddenLayer2\"),\n",
    "    Dense(10, activation=\"softmax\", name=\"HiddenLayer3\")\n",
    "])"
   ]
  },
  {
   "cell_type": "code",
   "execution_count": 34,
   "id": "9d2f9e2f",
   "metadata": {},
   "outputs": [
    {
     "name": "stdout",
     "output_type": "stream",
     "text": [
      "Model: \"sequential\"\n",
      "_________________________________________________________________\n",
      " Layer (type)                Output Shape              Param #   \n",
      "=================================================================\n",
      " flatten (Flatten)           (None, 784)               0         \n",
      "                                                                 \n",
      " HiddenLayer1 (Dense)        (None, 128)               100480    \n",
      "                                                                 \n",
      " HiddenLayer2 (Dense)        (None, 128)               16512     \n",
      "                                                                 \n",
      " HiddenLayer3 (Dense)        (None, 10)                1290      \n",
      "                                                                 \n",
      "=================================================================\n",
      "Total params: 118282 (462.04 KB)\n",
      "Trainable params: 118282 (462.04 KB)\n",
      "Non-trainable params: 0 (0.00 Byte)\n",
      "_________________________________________________________________\n"
     ]
    }
   ],
   "source": [
    "model.summary()"
   ]
  },
  {
   "cell_type": "code",
   "execution_count": 35,
   "id": "6fda5683",
   "metadata": {},
   "outputs": [],
   "source": [
    "model.compile(\n",
    "    loss = SparseCategoricalCrossentropy(),\n",
    "    optimizer = Adam(),\n",
    "    metrics = ['accuracy']\n",
    ")"
   ]
  },
  {
   "cell_type": "markdown",
   "id": "ad12f654",
   "metadata": {},
   "source": [
    "## Train Model"
   ]
  },
  {
   "cell_type": "code",
   "execution_count": 36,
   "id": "9e029f3f",
   "metadata": {},
   "outputs": [
    {
     "name": "stdout",
     "output_type": "stream",
     "text": [
      "Epoch 1/10\n",
      "1875/1875 [==============================] - 12s 5ms/step - loss: 1.7452 - accuracy: 0.8780\n",
      "Epoch 2/10\n",
      "1875/1875 [==============================] - 12s 6ms/step - loss: 0.4200 - accuracy: 0.9228\n",
      "Epoch 3/10\n",
      "1875/1875 [==============================] - 10s 5ms/step - loss: 0.2682 - accuracy: 0.9382\n",
      "Epoch 4/10\n",
      "1875/1875 [==============================] - 10s 5ms/step - loss: 0.1932 - accuracy: 0.9508\n",
      "Epoch 5/10\n",
      "1875/1875 [==============================] - 12s 6ms/step - loss: 0.1511 - accuracy: 0.9589\n",
      "Epoch 6/10\n",
      "1875/1875 [==============================] - 13s 7ms/step - loss: 0.1269 - accuracy: 0.9647\n",
      "Epoch 7/10\n",
      "1875/1875 [==============================] - 12s 7ms/step - loss: 0.1159 - accuracy: 0.9674\n",
      "Epoch 8/10\n",
      "1875/1875 [==============================] - 14s 8ms/step - loss: 0.1061 - accuracy: 0.9703\n",
      "Epoch 9/10\n",
      "1875/1875 [==============================] - 19s 10ms/step - loss: 0.0979 - accuracy: 0.9734\n",
      "Epoch 10/10\n",
      "1875/1875 [==============================] - 15s 8ms/step - loss: 0.0953 - accuracy: 0.9739\n"
     ]
    },
    {
     "data": {
      "text/plain": [
       "<keras.src.callbacks.History at 0x2a9eb89fe90>"
      ]
     },
     "execution_count": 36,
     "metadata": {},
     "output_type": "execute_result"
    }
   ],
   "source": [
    "model.fit(X_train, Y_train, epochs=10)"
   ]
  },
  {
   "cell_type": "markdown",
   "id": "b4a9f3cd",
   "metadata": {},
   "source": [
    "## Model Prediction on Train DataSet"
   ]
  },
  {
   "cell_type": "code",
   "execution_count": 37,
   "id": "0d8c094e",
   "metadata": {},
   "outputs": [
    {
     "name": "stdout",
     "output_type": "stream",
     "text": [
      "1875/1875 [==============================] - 10s 5ms/step\n"
     ]
    }
   ],
   "source": [
    "prediction = model.predict(X_train)"
   ]
  },
  {
   "cell_type": "code",
   "execution_count": 38,
   "id": "b7cf52ec",
   "metadata": {},
   "outputs": [],
   "source": [
    "y_hat = [np.argmax(i) for i in prediction]"
   ]
  },
  {
   "cell_type": "code",
   "execution_count": 39,
   "id": "ae1c15d4",
   "metadata": {},
   "outputs": [
    {
     "data": {
      "text/plain": [
       "[5, 0, 4, 1, 9, 2, 1, 3, 1, 4]"
      ]
     },
     "execution_count": 39,
     "metadata": {},
     "output_type": "execute_result"
    }
   ],
   "source": [
    "y_hat[:10]"
   ]
  },
  {
   "cell_type": "code",
   "execution_count": 40,
   "id": "2d5529cd",
   "metadata": {},
   "outputs": [
    {
     "data": {
      "text/plain": [
       "array([5, 0, 4, 1, 9, 2, 1, 3, 1, 4], dtype=uint8)"
      ]
     },
     "execution_count": 40,
     "metadata": {},
     "output_type": "execute_result"
    }
   ],
   "source": [
    "Y_train[:10]"
   ]
  },
  {
   "cell_type": "markdown",
   "id": "71c26e11",
   "metadata": {},
   "source": [
    "## Measuring Performance on Test DataSet"
   ]
  },
  {
   "cell_type": "code",
   "execution_count": 41,
   "id": "1f5135dd",
   "metadata": {},
   "outputs": [],
   "source": [
    "from sklearn.metrics import accuracy_score, r2_score, f1_score, confusion_matrix\n",
    "import seaborn as sns"
   ]
  },
  {
   "cell_type": "code",
   "execution_count": 42,
   "id": "71474bb4",
   "metadata": {},
   "outputs": [
    {
     "name": "stdout",
     "output_type": "stream",
     "text": [
      "313/313 [==============================] - 2s 5ms/step\n"
     ]
    }
   ],
   "source": [
    "prediction = model.predict(X_test)"
   ]
  },
  {
   "cell_type": "code",
   "execution_count": 43,
   "id": "ec6d303a",
   "metadata": {},
   "outputs": [
    {
     "data": {
      "text/plain": [
       "([7, 2, 1, 0, 4, 1, 4, 9, 5, 9],\n",
       " array([7, 2, 1, 0, 4, 1, 4, 9, 5, 9], dtype=uint8))"
      ]
     },
     "execution_count": 43,
     "metadata": {},
     "output_type": "execute_result"
    }
   ],
   "source": [
    "y_hat = [np.argmax(i) for i in prediction]\n",
    "y_hat[:10], Y_test[:10]"
   ]
  },
  {
   "cell_type": "code",
   "execution_count": 44,
   "id": "d9fd7245",
   "metadata": {},
   "outputs": [
    {
     "name": "stdout",
     "output_type": "stream",
     "text": [
      "Accuracy Score = 0.9666\n",
      "R2 Score = 0.9317964696364347\n"
     ]
    }
   ],
   "source": [
    "print(f\"Accuracy Score = {accuracy_score(Y_test, y_hat)}\")\n",
    "print(f\"R2 Score = {r2_score(Y_test, y_hat)}\")"
   ]
  },
  {
   "cell_type": "code",
   "execution_count": 45,
   "id": "4bdfcdef",
   "metadata": {},
   "outputs": [
    {
     "data": {
      "text/plain": [
       "array([[ 966,    0,    0,    1,    1,    4,    1,    1,    6,    0],\n",
       "       [   0, 1118,    3,    0,    0,    1,    2,    0,   11,    0],\n",
       "       [   7,    3,  988,    4,    7,    0,    2,   11,   10,    0],\n",
       "       [   0,    0,   17,  964,    0,    9,    0,    7,    9,    4],\n",
       "       [   2,    2,    1,    0,  950,    1,    5,    7,    2,   12],\n",
       "       [   2,    2,    0,   11,    2,  849,   12,    0,   10,    4],\n",
       "       [   6,    3,    0,    1,    5,    6,  930,    0,    7,    0],\n",
       "       [   0,    2,    7,    1,    3,    2,    0,  997,    5,   11],\n",
       "       [   3,    0,    2,    1,    6,    8,    3,    4,  944,    3],\n",
       "       [   5,    3,    0,    7,   13,    7,    0,    4,   10,  960]],\n",
       "      dtype=int64)"
      ]
     },
     "execution_count": 45,
     "metadata": {},
     "output_type": "execute_result"
    }
   ],
   "source": [
    "cm = confusion_matrix(Y_test, y_hat)\n",
    "cm"
   ]
  },
  {
   "cell_type": "code",
   "execution_count": 46,
   "id": "f729b14e",
   "metadata": {},
   "outputs": [
    {
     "data": {
      "text/plain": [
       "<Axes: >"
      ]
     },
     "execution_count": 46,
     "metadata": {},
     "output_type": "execute_result"
    },
    {
     "data": {
      "image/png": "[encoded data removed]",
      "text/plain": [
       "<Figure size 640x480 with 2 Axes>"
      ]
     },
     "metadata": {},
     "output_type": "display_data"
    }
   ],
   "source": [
    "sns.heatmap(cm, annot=True)"
   ]
  },
  {
   "cell_type": "markdown",
   "id": "d17509ae",
   "metadata": {},
   "source": [
    "## Save model"
   ]
  },
  {
   "cell_type": "code",
   "execution_count": 47,
   "id": "d5a13517",
   "metadata": {},
   "outputs": [],
   "source": [
    "# model.save('my_model.keras')\n",
    "# print(\"Done\")"
   ]
  },
  {
   "cell_type": "markdown",
   "id": "75988807",
   "metadata": {},
   "source": [
    "## Load Model"
   ]
  },
  {
   "cell_type": "code",
   "execution_count": 48,
   "id": "6af9a565",
   "metadata": {},
   "outputs": [],
   "source": [
    "from tensorflow.keras.models import load_model"
   ]
  },
  {
   "cell_type": "code",
   "execution_count": 49,
   "id": "2c6368de",
   "metadata": {},
   "outputs": [],
   "source": [
    "new_model = load_model('my_model.keras')"
   ]
  },
  {
   "cell_type": "code",
   "execution_count": 50,
   "id": "a3f34bef",
   "metadata": {},
   "outputs": [
    {
     "name": "stdout",
     "output_type": "stream",
     "text": [
      "313/313 [==============================] - 2s 5ms/step\n"
     ]
    }
   ],
   "source": [
    "predict = new_model.predict(X_test)"
   ]
  },
  {
   "cell_type": "code",
   "execution_count": 51,
   "id": "46621f3b",
   "metadata": {},
   "outputs": [
    {
     "data": {
      "image/png": "[encoded data removed]",
      "text/plain": [
       "<Figure size 640x480 with 1 Axes>"
      ]
     },
     "metadata": {},
     "output_type": "display_data"
    },
    {
     "name": "stdout",
     "output_type": "stream",
     "text": [
      "\n"
     ]
    }
   ],
   "source": [
    "plt.imshow(X_test[0].reshape(28, 28), cmap=\"gray\")\n",
    "plt.title(f\"{np.argmax(predict[0])}\")\n",
    "plt.show()\n",
    "print ()"
   ]
  },
  {
   "cell_type": "code",
   "execution_count": 52,
   "id": "bd100a16",
   "metadata": {},
   "outputs": [
    {
     "data": {
      "image/png": "[encoded data removed]",
      "text/plain": [
       "<Figure size 640x480 with 1 Axes>"
      ]
     },
     "metadata": {},
     "output_type": "display_data"
    },
    {
     "name": "stdout",
     "output_type": "stream",
     "text": [
      "\n"
     ]
    }
   ],
   "source": [
    "plt.imshow(X_test[1].reshape(28, 28), cmap=\"gray\")\n",
    "plt.title(f\"{np.argmax(predict[1])}\")\n",
    "plt.show()\n",
    "print ()"
   ]
  },
  {
   "cell_type": "markdown",
   "id": "c9b3667e",
   "metadata": {},
   "source": [
    "# Using HandWriiten Images"
   ]
  },
  {
   "cell_type": "code",
   "execution_count": 53,
   "id": "5d21f949",
   "metadata": {},
   "outputs": [],
   "source": [
    "import cv2"
   ]
  },
  {
   "cell_type": "code",
   "execution_count": 54,
   "id": "d6506659",
   "metadata": {},
   "outputs": [
    {
     "data": {
      "text/plain": [
       "array([[255, 255, 255],\n",
       "       [255, 255, 255],\n",
       "       [255, 255, 255],\n",
       "       ...,\n",
       "       [255, 255, 255],\n",
       "       [255, 255, 255],\n",
       "       [255, 255, 255]], dtype=uint8)"
      ]
     },
     "execution_count": 54,
     "metadata": {},
     "output_type": "execute_result"
    }
   ],
   "source": [
    "image = cv2.imread('digits.PNG')\n",
    "image[0]"
   ]
  },
  {
   "cell_type": "markdown",
   "id": "c392a848",
   "metadata": {},
   "source": [
    "## image preprocessing"
   ]
  },
  {
   "cell_type": "code",
   "execution_count": 55,
   "id": "634609f5",
   "metadata": {},
   "outputs": [
    {
     "data": {
      "text/plain": [
       "(106, 407)"
      ]
     },
     "execution_count": 55,
     "metadata": {},
     "output_type": "execute_result"
    }
   ],
   "source": [
    "grey = cv2.cvtColor(image.copy(), cv2.COLOR_BGR2GRAY)\n",
    "grey.shape"
   ]
  },
  {
   "cell_type": "code",
   "execution_count": 56,
   "id": "1fe065e2",
   "metadata": {},
   "outputs": [
    {
     "data": {
      "text/plain": [
       "(106, 407)"
      ]
     },
     "execution_count": 56,
     "metadata": {},
     "output_type": "execute_result"
    }
   ],
   "source": [
    "ret, thresh = cv2.threshold(grey.copy(), 75, 255, cv2.THRESH_BINARY_INV)\n",
    "thresh.shape"
   ]
  },
  {
   "cell_type": "code",
   "execution_count": 57,
   "id": "1e2e44f7",
   "metadata": {},
   "outputs": [],
   "source": [
    "contours, _ = cv2.findContours(thresh.copy(), cv2.RETR_EXTERNAL, cv2.CHAIN_APPROX_SIMPLE)"
   ]
  },
  {
   "cell_type": "code",
   "execution_count": 58,
   "id": "5ff661fa",
   "metadata": {},
   "outputs": [
    {
     "name": "stdout",
     "output_type": "stream",
     "text": [
      "\n",
      "\n",
      "\n",
      "----------------Contoured Image--------------------\n"
     ]
    },
    {
     "data": {
      "image/png": "[encoded data removed]",
      "text/plain": [
       "<Figure size 640x480 with 1 Axes>"
      ]
     },
     "metadata": {},
     "output_type": "display_data"
    }
   ],
   "source": [
    "preprocessed_digits = []\n",
    "for c in contours:\n",
    "    x,y,w,h = cv2.boundingRect(c)\n",
    "    \n",
    "    # Creating a rectangle around the digit in the original image (for displaying the digits fetched via contours)\n",
    "    cv2.rectangle(image, (x,y), (x+w, y+h), color=(0, 255, 0), thickness=2)\n",
    "    \n",
    "    # Cropping out the digit from the image corresponding to the current contours in the for loop\n",
    "    digit = thresh[y:y+h, x:x+w]\n",
    "    \n",
    "    # Resizing that digit to (7, 7)\n",
    "    resized_digit = cv2.resize(digit, (18, 18))\n",
    "    \n",
    "    # Padding the digit with 1 pixels of black color (zeros) in each side to finally produce the image of (8, 8)\n",
    "    padded_digit = np.pad(resized_digit, ((5,5),(5,5)), \"constant\", constant_values=0)\n",
    "    \n",
    "    # Adding the preprocessed digit to the list of preprocessed digits\n",
    "    preprocessed_digits.append(padded_digit)\n",
    "\n",
    "print(\"\\n\\n\\n----------------Contoured Image--------------------\")\n",
    "plt.imshow(image, cmap=\"gray\")\n",
    "plt.show()\n",
    "    \n",
    "inp = np.array(preprocessed_digits)"
   ]
  },
  {
   "cell_type": "code",
   "execution_count": 59,
   "id": "6a287e76",
   "metadata": {},
   "outputs": [],
   "source": [
    "img = np.array(preprocessed_digits)"
   ]
  },
  {
   "cell_type": "code",
   "execution_count": 60,
   "id": "57cc2581",
   "metadata": {},
   "outputs": [
    {
     "data": {
      "text/plain": [
       "array([[  0,   0,   0,   0,   0,   0,   0,   0,   0,   0,   0,   0,   0,\n",
       "          0,   0,   0,   0,   0,   0,   0,   0,   0,   0,   0,   0,   0,\n",
       "          0,   0],\n",
       "       [  0,   0,   0,   0,   0,   0,   0,   0,   0,   0,   0,   0,   0,\n",
       "          0,   0,   0,   0,   0,   0,   0,   0,   0,   0,   0,   0,   0,\n",
       "          0,   0],\n",
       "       [  0,   0,   0,   0,   0,   0,   0,   0,   0,   0,   0,   0,   0,\n",
       "          0,   0,   0,   0,   0,   0,   0,   0,   0,   0,   0,   0,   0,\n",
       "          0,   0],\n",
       "       [  0,   0,   0,   0,   0,   0,   0,   0,   0,   0,   0,   0,   0,\n",
       "          0,   0,   0,   0,   0,   0,   0,   0,   0,   0,   0,   0,   0,\n",
       "          0,   0],\n",
       "       [  0,   0,   0,   0,   0,   0,   0,   0,   0,   0,   0,   0,   0,\n",
       "          0,   0,   0,   0,   0,   0,   0,   0,   0,   0,   0,   0,   0,\n",
       "          0,   0],\n",
       "       [  0,   0,   0,   0,   0,  76, 255, 255, 255, 255, 255, 255, 255,\n",
       "        255, 255, 255, 255, 255, 255, 255, 189,   0,   0,   0,   0,   0,\n",
       "          0,   0],\n",
       "       [  0,   0,   0,   0,   0, 255, 255, 255, 255, 255, 255, 255, 255,\n",
       "        255, 255, 255, 255, 255, 255, 255, 255,   0,   0,   0,   0,   0,\n",
       "          0,   0],\n",
       "       [  0,   0,   0,   0,   0, 255, 255, 255, 255, 255, 255, 255, 255,\n",
       "        255, 255, 255, 255, 255, 255, 255, 255,   0,   0,   0,   0,   0,\n",
       "          0,   0],\n",
       "       [  0,   0,   0,   0,   0,  38,  85,  85,  76,   0,   0,   0,   0,\n",
       "          0,   0,  85, 255, 255, 255, 255, 123,   0,   0,   0,   0,   0,\n",
       "          0,   0],\n",
       "       [  0,   0,   0,   0,   0,   0,   0,   0,   0,   0,   0,   0,   0,\n",
       "          0,   0, 255, 255, 255, 255, 255,   0,   0,   0,   0,   0,   0,\n",
       "          0,   0],\n",
       "       [  0,   0,   0,   0,   0,   0,   0,   0,   0,   0,   0,   0,   0,\n",
       "          0, 161, 255, 255, 255, 255,  28,   0,   0,   0,   0,   0,   0,\n",
       "          0,   0],\n",
       "       [  0,   0,   0,   0,   0,   0,   0,   0,   0,   0,   0,   0,   0,\n",
       "        217, 255, 255, 255, 255, 255,   9,   0,   0,   0,   0,   0,   0,\n",
       "          0,   0],\n",
       "       [  0,   0,   0,   0,   0,   0,   0,   0,   0,   0,   0, 198, 255,\n",
       "        255, 255, 255, 255, 255,   0,   0,   0,   0,   0,   0,   0,   0,\n",
       "          0,   0],\n",
       "       [  0,   0,   0,   0,   0,   0,   0,   0,   9, 255, 255, 255, 255,\n",
       "        255, 255, 255, 255, 255, 255, 255, 255,   0,   0,   0,   0,   0,\n",
       "          0,   0],\n",
       "       [  0,   0,   0,   0,   0,   0,   0,   0,  28, 255, 255, 255, 255,\n",
       "        255, 255, 255, 255, 255, 255, 255, 255, 198,   0,   0,   0,   0,\n",
       "          0,   0],\n",
       "       [  0,   0,   0,   0,   0,   0,   0,   0,  28, 255, 255, 255, 255,\n",
       "        255, 255, 255, 255, 255, 255, 255, 255, 255, 113,   0,   0,   0,\n",
       "          0,   0],\n",
       "       [  0,   0,   0,   0,   0,   0,   0,   0,   0,   0,   0,   0,   0,\n",
       "          0,   0,   0,   0,  19, 255, 255, 255, 255, 255,   0,   0,   0,\n",
       "          0,   0],\n",
       "       [  0,   0,   0,   0,   0,   0,   0,   0,   0,   0,   0,   0,   0,\n",
       "          0,   0,   0,   0,   0,   0, 236, 255, 255, 255,   0,   0,   0,\n",
       "          0,   0],\n",
       "       [  0,   0,   0,   0,   0,   0,   0,   0,   0,   0,   0,   0,   0,\n",
       "          0,   0,   0,   0,   0,   0, 255, 255, 255, 255,   0,   0,   0,\n",
       "          0,   0],\n",
       "       [  0,   0,   0,   0,   0,   0,   0,   0,   0,   0,   0,   0,   0,\n",
       "          0,   0,   0,  85, 255, 255, 255, 255, 255, 255,   0,   0,   0,\n",
       "          0,   0],\n",
       "       [  0,   0,   0,   0,   0,  76, 255, 255, 255, 255, 255, 255, 255,\n",
       "        255, 255, 255, 255, 255, 255, 255, 255, 255, 161,   0,   0,   0,\n",
       "          0,   0],\n",
       "       [  0,   0,   0,   0,   0, 113, 255, 255, 255, 255, 255, 255, 255,\n",
       "        255, 255, 255, 255, 255, 255, 255, 255,  85,   0,   0,   0,   0,\n",
       "          0,   0],\n",
       "       [  0,   0,   0,   0,   0,  76, 255, 255, 255, 255, 255, 255, 255,\n",
       "        255, 255, 255, 255, 255, 170,  19,   0,   0,   0,   0,   0,   0,\n",
       "          0,   0],\n",
       "       [  0,   0,   0,   0,   0,   0,   0,   0,   0,   0,   0,   0,   0,\n",
       "          0,   0,   0,   0,   0,   0,   0,   0,   0,   0,   0,   0,   0,\n",
       "          0,   0],\n",
       "       [  0,   0,   0,   0,   0,   0,   0,   0,   0,   0,   0,   0,   0,\n",
       "          0,   0,   0,   0,   0,   0,   0,   0,   0,   0,   0,   0,   0,\n",
       "          0,   0],\n",
       "       [  0,   0,   0,   0,   0,   0,   0,   0,   0,   0,   0,   0,   0,\n",
       "          0,   0,   0,   0,   0,   0,   0,   0,   0,   0,   0,   0,   0,\n",
       "          0,   0],\n",
       "       [  0,   0,   0,   0,   0,   0,   0,   0,   0,   0,   0,   0,   0,\n",
       "          0,   0,   0,   0,   0,   0,   0,   0,   0,   0,   0,   0,   0,\n",
       "          0,   0],\n",
       "       [  0,   0,   0,   0,   0,   0,   0,   0,   0,   0,   0,   0,   0,\n",
       "          0,   0,   0,   0,   0,   0,   0,   0,   0,   0,   0,   0,   0,\n",
       "          0,   0]], dtype=uint8)"
      ]
     },
     "execution_count": 60,
     "metadata": {},
     "output_type": "execute_result"
    }
   ],
   "source": [
    "img[1]"
   ]
  },
  {
   "cell_type": "code",
   "execution_count": 61,
   "id": "eba5b293",
   "metadata": {},
   "outputs": [
    {
     "data": {
      "image/png": "[encoded data removed]",
      "text/plain": [
       "<Figure size 640x480 with 1 Axes>"
      ]
     },
     "metadata": {},
     "output_type": "display_data"
    },
    {
     "name": "stdout",
     "output_type": "stream",
     "text": [
      "\n"
     ]
    }
   ],
   "source": [
    "plt.imshow(img[1], cmap=\"gray\")\n",
    "plt.show()\n",
    "print ()"
   ]
  },
  {
   "cell_type": "code",
   "execution_count": 62,
   "id": "5589b0cb",
   "metadata": {},
   "outputs": [
    {
     "data": {
      "text/plain": [
       "(5, 28, 28)"
      ]
     },
     "execution_count": 62,
     "metadata": {},
     "output_type": "execute_result"
    }
   ],
   "source": [
    "img.shape"
   ]
  },
  {
   "cell_type": "code",
   "execution_count": 63,
   "id": "0da5fe35",
   "metadata": {},
   "outputs": [],
   "source": [
    "processed_img = img.reshape(img.shape[0], img.shape[1] * img.shape[1])"
   ]
  },
  {
   "cell_type": "code",
   "execution_count": 64,
   "id": "712017a4",
   "metadata": {},
   "outputs": [
    {
     "data": {
      "text/plain": [
       "array([[0, 0, 0, ..., 0, 0, 0],\n",
       "       [0, 0, 0, ..., 0, 0, 0],\n",
       "       [0, 0, 0, ..., 0, 0, 0],\n",
       "       [0, 0, 0, ..., 0, 0, 0],\n",
       "       [0, 0, 0, ..., 0, 0, 0]], dtype=uint8)"
      ]
     },
     "execution_count": 64,
     "metadata": {},
     "output_type": "execute_result"
    }
   ],
   "source": [
    "processed_img"
   ]
  },
  {
   "cell_type": "markdown",
   "id": "c97c9a64",
   "metadata": {},
   "source": [
    "## Prediction"
   ]
  },
  {
   "cell_type": "code",
   "execution_count": 65,
   "id": "a7aad404",
   "metadata": {},
   "outputs": [
    {
     "name": "stdout",
     "output_type": "stream",
     "text": [
      "1/1 [==============================] - 0s 225ms/step\n"
     ]
    }
   ],
   "source": [
    "predict = new_model.predict(processed_img)"
   ]
  },
  {
   "cell_type": "code",
   "execution_count": 66,
   "id": "61370405",
   "metadata": {},
   "outputs": [
    {
     "data": {
      "text/plain": [
       "array([[5.3106453e-20, 2.4144889e-10, 1.0000000e+00, 1.9436829e-16,\n",
       "        1.1558211e-20, 6.5986846e-32, 1.0806772e-21, 8.2474244e-12,\n",
       "        1.6082869e-16, 2.4886018e-21],\n",
       "       [1.1235621e-36, 3.7102236e-13, 5.5151111e-07, 9.9992239e-01,\n",
       "        4.3770169e-21, 1.2702526e-09, 0.0000000e+00, 5.2973047e-07,\n",
       "        7.0825190e-06, 6.9472298e-05],\n",
       "       [2.5542221e-38, 3.2016515e-28, 0.0000000e+00, 3.0468532e-22,\n",
       "        1.5811625e-30, 1.0000000e+00, 2.2014365e-19, 9.2123007e-29,\n",
       "        1.6408992e-20, 3.1364753e-17],\n",
       "       [2.0363810e-03, 4.4303383e-06, 2.2169245e-04, 3.2999597e-07,\n",
       "        1.1291955e-05, 1.9936677e-04, 9.9713862e-01, 5.2223040e-14,\n",
       "        3.8799114e-04, 7.5353867e-16],\n",
       "       [1.3198397e-25, 5.0125160e-16, 1.8674786e-09, 2.0041080e-13,\n",
       "        2.1260745e-13, 3.1335840e-23, 0.0000000e+00, 1.0000000e+00,\n",
       "        1.6989656e-19, 1.9865002e-08]], dtype=float32)"
      ]
     },
     "execution_count": 66,
     "metadata": {},
     "output_type": "execute_result"
    }
   ],
   "source": [
    "predict"
   ]
  },
  {
   "cell_type": "code",
   "execution_count": 67,
   "id": "c464ca0e",
   "metadata": {},
   "outputs": [
    {
     "data": {
      "image/png": "[encoded data removed]",
      "text/plain": [
       "<Figure size 640x480 with 1 Axes>"
      ]
     },
     "metadata": {},
     "output_type": "display_data"
    },
    {
     "name": "stdout",
     "output_type": "stream",
     "text": [
      "\n"
     ]
    },
    {
     "data": {
      "image/png": "[encoded data removed]",
      "text/plain": [
       "<Figure size 640x480 with 1 Axes>"
      ]
     },
     "metadata": {},
     "output_type": "display_data"
    },
    {
     "name": "stdout",
     "output_type": "stream",
     "text": [
      "\n"
     ]
    },
    {
     "data": {
      "image/png": "[encoded data removed]",
      "text/plain": [
       "<Figure size 640x480 with 1 Axes>"
      ]
     },
     "metadata": {},
     "output_type": "display_data"
    },
    {
     "name": "stdout",
     "output_type": "stream",
     "text": [
      "\n"
     ]
    },
    {
     "data": {
      "image/png": "[encoded data removed]",
      "text/plain": [
       "<Figure size 640x480 with 1 Axes>"
      ]
     },
     "metadata": {},
     "output_type": "display_data"
    },
    {
     "name": "stdout",
     "output_type": "stream",
     "text": [
      "\n"
     ]
    },
    {
     "data": {
      "image/png": "[encoded data removed]",
      "text/plain": [
       "<Figure size 640x480 with 1 Axes>"
      ]
     },
     "metadata": {},
     "output_type": "display_data"
    },
    {
     "name": "stdout",
     "output_type": "stream",
     "text": [
      "\n"
     ]
    }
   ],
   "source": [
    "for i in range(len(img)):  \n",
    "    plt.imshow(img[i], cmap=\"gray\")\n",
    "    plt.title(f\"{np.argmax(predict[i])}\")\n",
    "    plt.show()\n",
    "    print ()"
   ]
  },
  {
   "cell_type": "code",
   "execution_count": null,
   "id": "64964847",
   "metadata": {},
   "outputs": [],
   "source": []
  }
 ],
 "metadata": {
  "kernelspec": {
   "display_name": "Python 3 (ipykernel)",
   "language": "python",
   "name": "python3"
  },
  "language_info": {
   "codemirror_mode": {
    "name": "ipython",
    "version": 3
   },
   "file_extension": ".py",
   "mimetype": "text/x-python",
   "name": "python",
   "nbconvert_exporter": "python",
   "pygments_lexer": "ipython3",
   "version": "3.11.3"
  }
 },
 "nbformat": 4,
 "nbformat_minor": 5
}
