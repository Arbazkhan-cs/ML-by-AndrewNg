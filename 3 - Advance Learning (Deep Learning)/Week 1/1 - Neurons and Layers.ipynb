{
 "cells": [
  {
   "cell_type": "markdown",
   "id": "3140febd",
   "metadata": {},
   "source": [
    "# Neurons And Layers"
   ]
  },
  {
   "cell_type": "markdown",
   "id": "3b5290cc",
   "metadata": {},
   "source": [
    "we will explore the inner workings of neurons/units and layers. In particular, the lab will draw parallels to the models you have mastered in Course 1, the regression/linear model and the logistic model. The lab will introduce Tensorflow and demonstrate how these models are implemented in that framework."
   ]
  },
  {
   "cell_type": "code",
   "execution_count": 1,
   "id": "e2cb812d",
   "metadata": {},
   "outputs": [],
   "source": [
    "import numpy as np\n",
    "import matplotlib.pyplot as plt\n",
    "\n",
    "import tensorflow as tf"
   ]
  },
  {
   "cell_type": "markdown",
   "id": "a8f18a3c",
   "metadata": {},
   "source": [
    "##### Tensorflow and Keras\n",
    "Tensorflow is a machine learning package developed by Google. In 2019, Google integrated Keras into Tensorflow and released Tensorflow 2.0. Keras is a framework developed independently by François Chollet that creates a simple, layer-centric interface to Tensorflow. This course will be using the Keras interface."
   ]
  },
  {
   "cell_type": "markdown",
   "id": "e2dc6e53",
   "metadata": {},
   "source": [
    "### Neuron With Linear Regression Activation"
   ]
  },
  {
   "cell_type": "code",
   "execution_count": 2,
   "id": "5a96e937",
   "metadata": {},
   "outputs": [
    {
     "data": {
      "text/plain": [
       "<matplotlib.legend.Legend at 0x1f31a7b8e50>"
      ]
     },
     "execution_count": 2,
     "metadata": {},
     "output_type": "execute_result"
    },
    {
     "data": {
      "image/png": "[encoded data removed]",
      "text/plain": [
       "<Figure size 640x480 with 1 Axes>"
      ]
     },
     "metadata": {},
     "output_type": "display_data"
    }
   ],
   "source": [
    "X_train = np.array([[1.0], [2.0]], dtype=np.float32)           #(size in 1000 square feet)\n",
    "Y_train = np.array([[300.0], [500.0]], dtype=np.float32)       #(price in 1000s of dollars)\n",
    "\n",
    "plt.scatter(X_train, Y_train, marker='x', c='r', label=\"Data\")\n",
    "plt.xlabel(\"Size in 1000 square feet\")\n",
    "plt.ylabel(\"Size in 1000s of dollars\")\n",
    "plt.legend()"
   ]
  },
  {
   "cell_type": "markdown",
   "id": "778ef3d9",
   "metadata": {},
   "source": [
    "### Regression/Linear Model\n",
    "<pre>\n",
    "\n",
    "The function implemented by a neuron with no activation is the same as in Course 1, linear regression:\n",
    "    f(W, b) = W . X + b\n",
    "We can define a layer with one neuron or unit and compare it to the familiar linear regression function.\n",
    "</pre>\n"
   ]
  },
  {
   "cell_type": "code",
   "execution_count": 3,
   "id": "337ed0fd",
   "metadata": {},
   "outputs": [],
   "source": [
    "linear_layer = tf.keras.layers.Dense(units=1, activation=\"linear\")"
   ]
  },
  {
   "cell_type": "code",
   "execution_count": 4,
   "id": "a84db5f9",
   "metadata": {},
   "outputs": [
    {
     "data": {
      "text/plain": [
       "[]"
      ]
     },
     "execution_count": 4,
     "metadata": {},
     "output_type": "execute_result"
    }
   ],
   "source": [
    "# Let's examine the weights.\n",
    "linear_layer.get_weights()"
   ]
  },
  {
   "cell_type": "markdown",
   "id": "fea59216",
   "metadata": {},
   "source": [
    "There are no weights as the weights are not yet instantiated. Let's try the model on one example in X_train. This will trigger the instantiation of the weights. Note, the input to the layer must be 2-D, so we'll reshape it"
   ]
  },
  {
   "cell_type": "code",
   "execution_count": 5,
   "id": "320a9871",
   "metadata": {},
   "outputs": [
    {
     "name": "stdout",
     "output_type": "stream",
     "text": [
      "tf.Tensor([[-1.3681487]], shape=(1, 1), dtype=float32)\n"
     ]
    }
   ],
   "source": [
    "a1 = linear_layer(X_train[0].reshape(1, 1))\n",
    "print(a1)"
   ]
  },
  {
   "cell_type": "markdown",
   "id": "1f149289",
   "metadata": {},
   "source": [
    "The result is a tensor (another name for an array) with a shape of (1,1) or one entry.\n",
    "Now let's look at the weights and bias. These weights are randomly initialized to small numbers and the bias defaults to being initialized to zero."
   ]
  },
  {
   "cell_type": "code",
   "execution_count": 6,
   "id": "8f6783f8",
   "metadata": {},
   "outputs": [
    {
     "name": "stdout",
     "output_type": "stream",
     "text": [
      "Weights = [[-1.3681487]],\n",
      "bias = [0.]\n"
     ]
    }
   ],
   "source": [
    "W, b = linear_layer.get_weights()\n",
    "print(f\"Weights = {W},\\nbias = {b}\")"
   ]
  },
  {
   "cell_type": "markdown",
   "id": "7e104cf4",
   "metadata": {},
   "source": [
    "##### The weights are initialized to random values so let's set them to some known values."
   ]
  },
  {
   "cell_type": "code",
   "execution_count": 7,
   "id": "52db9eff",
   "metadata": {},
   "outputs": [
    {
     "data": {
      "text/plain": [
       "[array([[200.]], dtype=float32), array([100.], dtype=float32)]"
      ]
     },
     "execution_count": 7,
     "metadata": {},
     "output_type": "execute_result"
    }
   ],
   "source": [
    "W = np.array([[200]])\n",
    "b = np.array([100])\n",
    "linear_layer.set_weights([W, b])\n",
    "\n",
    "linear_layer.get_weights()"
   ]
  },
  {
   "cell_type": "code",
   "execution_count": 8,
   "id": "a5409c59",
   "metadata": {},
   "outputs": [
    {
     "name": "stdout",
     "output_type": "stream",
     "text": [
      "tf.Tensor([[300.]], shape=(1, 1), dtype=float32)\n",
      "[[300.]]\n"
     ]
    }
   ],
   "source": [
    "a1 = linear_layer(X_train[0].reshape(1, 1))\n",
    "print(a1)\n",
    "set_w, set_b = linear_layer.get_weights()\n",
    "alin = np.dot(set_w,X_train[0].reshape(1,1)) + set_b\n",
    "print(alin)"
   ]
  },
  {
   "cell_type": "markdown",
   "id": "0ab5fb54",
   "metadata": {},
   "source": [
    "##### They produce the same values! Now, we can use our linear layer to make predictions on our training data."
   ]
  },
  {
   "cell_type": "code",
   "execution_count": 12,
   "id": "96e4f265",
   "metadata": {},
   "outputs": [],
   "source": [
    "prediction = linear_layer(X_train)\n",
    "prediction_np = np.dot( X_train, set_w) + set_b"
   ]
  },
  {
   "cell_type": "code",
   "execution_count": 13,
   "id": "0ff1d3d1",
   "metadata": {},
   "outputs": [
    {
     "data": {
      "text/plain": [
       "array([[300.],\n",
       "       [500.]], dtype=float32)"
      ]
     },
     "execution_count": 13,
     "metadata": {},
     "output_type": "execute_result"
    }
   ],
   "source": [
    "prediction_np"
   ]
  },
  {
   "cell_type": "code",
   "execution_count": 14,
   "id": "2552fc91",
   "metadata": {},
   "outputs": [
    {
     "data": {
      "text/plain": [
       "<tf.Tensor: shape=(2, 1), dtype=float32, numpy=\n",
       "array([[300.],\n",
       "       [500.]], dtype=float32)>"
      ]
     },
     "execution_count": 14,
     "metadata": {},
     "output_type": "execute_result"
    }
   ],
   "source": [
    "prediction"
   ]
  },
  {
   "cell_type": "code",
   "execution_count": 20,
   "id": "0f02d013",
   "metadata": {},
   "outputs": [
    {
     "data": {
      "text/plain": [
       "<matplotlib.legend.Legend at 0x1f31d138f10>"
      ]
     },
     "execution_count": 20,
     "metadata": {},
     "output_type": "execute_result"
    },
    {
     "data": {
      "image/png": "[encoded data removed]",
      "text/plain": [
       "<Figure size 640x480 with 1 Axes>"
      ]
     },
     "metadata": {},
     "output_type": "display_data"
    }
   ],
   "source": [
    "X_train = np.array([[1.0], [2.0]], dtype=np.float32)           #(size in 1000 square feet)\n",
    "Y_train = np.array([[300.0], [500.0]], dtype=np.float32)       #(price in 1000s of dollars)\n",
    "\n",
    "plt.scatter(X_train, Y_train, marker='x', c='r', label=\"Data\")\n",
    "plt.plot(X_train, prediction, c=\"blue\", label=\"model\")\n",
    "plt.title(\"With linear layer model\")\n",
    "plt.xlabel(\"Size in 1000 square feet\")\n",
    "plt.ylabel(\"Size in 1000s of dollars\")\n",
    "plt.legend()"
   ]
  },
  {
   "cell_type": "code",
   "execution_count": 22,
   "id": "3040708d",
   "metadata": {},
   "outputs": [
    {
     "data": {
      "text/plain": [
       "<matplotlib.legend.Legend at 0x1f31d25a950>"
      ]
     },
     "execution_count": 22,
     "metadata": {},
     "output_type": "execute_result"
    },
    {
     "data": {
      "image/png": "[encoded data removed]",
      "text/plain": [
       "<Figure size 640x480 with 1 Axes>"
      ]
     },
     "metadata": {},
     "output_type": "display_data"
    }
   ],
   "source": [
    "X_train = np.array([[1.0], [2.0]], dtype=np.float32)           #(size in 1000 square feet)\n",
    "Y_train = np.array([[300.0], [500.0]], dtype=np.float32)       #(price in 1000s of dollars)\n",
    "\n",
    "plt.scatter(X_train, Y_train, marker='x', c='r', label=\"Data\")\n",
    "plt.plot(X_train, prediction_np, c=\"green\", label=\"model\")\n",
    "plt.title(\"Without linear layer model\")\n",
    "plt.xlabel(\"Size in 1000 square feet\")\n",
    "plt.ylabel(\"Size in 1000s of dollars\")\n",
    "plt.legend()"
   ]
  },
  {
   "cell_type": "markdown",
   "id": "0667b510",
   "metadata": {},
   "source": [
    "### Neurons With Sigmoid activation"
   ]
  },
  {
   "cell_type": "markdown",
   "id": "1dde688d",
   "metadata": {},
   "source": [
    "<pre>The function implemented by neuron/unit with a sigmoid activation is the same as in Course 1, logistic regression:\n",
    "        f(w,b) = g(w . x + b)\n",
    "where\n",
    "        g(z) = 1/(1+e^-z)\n",
    "Let's set and to some known values and check the model.</pre>"
   ]
  },
  {
   "cell_type": "code",
   "execution_count": 32,
   "id": "a15bbbb4",
   "metadata": {},
   "outputs": [
    {
     "name": "stdout",
     "output_type": "stream",
     "text": [
      "X_train = [[0.]\n",
      " [1.]\n",
      " [2.]\n",
      " [3.]\n",
      " [4.]\n",
      " [5.]]\n",
      "Y_train = [[0.]\n",
      " [0.]\n",
      " [0.]\n",
      " [1.]\n",
      " [1.]\n",
      " [1.]]\n"
     ]
    }
   ],
   "source": [
    "X_train = np.array([0., 1, 2, 3, 4, 5], dtype=np.float32).reshape(-1,1)  # 2-D Matrix\n",
    "Y_train = np.array([0,  0, 0, 1, 1, 1], dtype=np.float32).reshape(-1,1)  # 2-D Matrix\n",
    "\n",
    "# X_train = np.array([[0, 1, 2, 3, 4, 5]], dtype=np.float32)\n",
    "# Y_train = np.array([[0, 0, 0, 1, 1, 1]], dtype=np.float32)\n",
    "\n",
    "print(f\"X_train = {X_train}\\nY_train = {Y_train}\")"
   ]
  },
  {
   "cell_type": "code",
   "execution_count": 35,
   "id": "b4e60aa0",
   "metadata": {},
   "outputs": [
    {
     "data": {
      "text/plain": [
       "(array([3., 4., 5.], dtype=float32), array([0., 1., 2.], dtype=float32))"
      ]
     },
     "execution_count": 35,
     "metadata": {},
     "output_type": "execute_result"
    }
   ],
   "source": [
    "pos = Y_train == 1\n",
    "neg = Y_train == 0\n",
    "\n",
    "X_train[pos], X_train[neg]"
   ]
  },
  {
   "cell_type": "code",
   "execution_count": 37,
   "id": "4a0c4c7b",
   "metadata": {},
   "outputs": [
    {
     "data": {
      "text/plain": [
       "<matplotlib.legend.Legend at 0x1f3219b0f50>"
      ]
     },
     "execution_count": 37,
     "metadata": {},
     "output_type": "execute_result"
    },
    {
     "data": {
      "image/png": "[encoded data removed]",
      "text/plain": [
       "<Figure size 640x480 with 1 Axes>"
      ]
     },
     "metadata": {},
     "output_type": "display_data"
    }
   ],
   "source": [
    "plt.scatter(X_train[pos], Y_train[pos], marker=\"x\", c=\"r\", label=\"Possitive\")\n",
    "plt.scatter(X_train[neg], Y_train[neg], marker=\"o\", c=\"b\", label=\"Negative\")\n",
    "plt.legend()"
   ]
  },
  {
   "cell_type": "markdown",
   "id": "09788ece",
   "metadata": {},
   "source": [
    "### Logistic Neuron\n",
    "We can implement a 'logistic neuron' by adding a sigmoid activation. The function of the neuron is then described by (2) above.\n",
    "This section will create a Tensorflow Model that contains our logistic layer to demonstrate an alternate method of creating models. Tensorflow is most often used to create multi-layer models. The Sequential model is a convenient means of constructing these models."
   ]
  },
  {
   "cell_type": "code",
   "execution_count": 40,
   "id": "03bea7f0",
   "metadata": {},
   "outputs": [],
   "source": [
    "model = tf.keras.Sequential(\n",
    "    [\n",
    "        tf.keras.layers.Dense(units=1, input_dim=1, activation=\"sigmoid\", name=\"L1\")\n",
    "    ]\n",
    ")"
   ]
  },
  {
   "cell_type": "markdown",
   "id": "970b0221",
   "metadata": {},
   "source": [
    "<b>model.summary()</b> shows the layers and number of parameters in the model. There is only one layer in this model and that layer has only one unit. The unit has two parameters,\n",
    "and ."
   ]
  },
  {
   "cell_type": "code",
   "execution_count": 41,
   "id": "145ee65f",
   "metadata": {},
   "outputs": [
    {
     "name": "stdout",
     "output_type": "stream",
     "text": [
      "Model: \"sequential_2\"\n",
      "_________________________________________________________________\n",
      " Layer (type)                Output Shape              Param #   \n",
      "=================================================================\n",
      " L1 (Dense)                  (None, 1)                 2         \n",
      "                                                                 \n",
      "=================================================================\n",
      "Total params: 2 (8.00 Byte)\n",
      "Trainable params: 2 (8.00 Byte)\n",
      "Non-trainable params: 0 (0.00 Byte)\n",
      "_________________________________________________________________\n"
     ]
    }
   ],
   "source": [
    "model.summary()"
   ]
  },
  {
   "cell_type": "code",
   "execution_count": 44,
   "id": "c3279bc5",
   "metadata": {},
   "outputs": [
    {
     "name": "stdout",
     "output_type": "stream",
     "text": [
      "[[-0.65455496]] [0.]\n",
      "(1, 1) (1,)\n"
     ]
    }
   ],
   "source": [
    "logistic_layer = model.get_layer(\"L1\")\n",
    "w,b = logistic_layer.get_weights()\n",
    "print(w,b)\n",
    "print(w.shape,b.shape)"
   ]
  },
  {
   "cell_type": "markdown",
   "id": "f2895ded",
   "metadata": {},
   "source": [
    "Let's set the weight and bias to some known values"
   ]
  },
  {
   "cell_type": "code",
   "execution_count": 46,
   "id": "f73ce552",
   "metadata": {},
   "outputs": [
    {
     "name": "stdout",
     "output_type": "stream",
     "text": [
      "[array([[2.]], dtype=float32), array([-4.5], dtype=float32)]\n"
     ]
    }
   ],
   "source": [
    "set_w = np.array([[2]])\n",
    "set_b = np.array([-4.5])\n",
    "\n",
    "# set_weights takes a list of numpy arrays\n",
    "logistic_layer.set_weights([set_w, set_b])\n",
    "print(logistic_layer.get_weights())"
   ]
  },
  {
   "cell_type": "code",
   "execution_count": 49,
   "id": "468bbe14",
   "metadata": {},
   "outputs": [
    {
     "name": "stdout",
     "output_type": "stream",
     "text": [
      "1/1 [==============================] - 0s 38ms/step\n",
      "[[0.01098694]]\n",
      "[[0.01098694]]\n"
     ]
    }
   ],
   "source": [
    "def sigmoidnp(z):\n",
    "    return 1/(1+np.exp(-z))\n",
    "\n",
    "a1 = model.predict(X_train[0].reshape(1,1))\n",
    "print(a1)\n",
    "alog = sigmoidnp(np.dot(set_w,X_train[0].reshape(1,1)) + set_b)\n",
    "print(alog)"
   ]
  },
  {
   "cell_type": "markdown",
   "id": "ae000b30",
   "metadata": {},
   "source": [
    "They produce the same values! Now, we can use our logistic layer and NumPy model to make predictions on our training data."
   ]
  },
  {
   "cell_type": "code",
   "execution_count": 57,
   "id": "ca5f7829",
   "metadata": {},
   "outputs": [
    {
     "name": "stdout",
     "output_type": "stream",
     "text": [
      "1/1 [==============================] - 0s 38ms/step\n"
     ]
    },
    {
     "data": {
      "text/plain": [
       "array([[0.01098694],\n",
       "       [0.07585818],\n",
       "       [0.37754068],\n",
       "       [0.8175745 ],\n",
       "       [0.97068775],\n",
       "       [0.99592984]], dtype=float32)"
      ]
     },
     "execution_count": 57,
     "metadata": {},
     "output_type": "execute_result"
    }
   ],
   "source": [
    "prediction = model.predict(X_train)\n",
    "prediction"
   ]
  },
  {
   "cell_type": "code",
   "execution_count": 60,
   "id": "cc02d6d3",
   "metadata": {},
   "outputs": [],
   "source": [
    "y_hat = [np.argmax(i) for i in prediction]"
   ]
  },
  {
   "cell_type": "code",
   "execution_count": 61,
   "id": "ed99fc5b",
   "metadata": {},
   "outputs": [
    {
     "data": {
      "text/plain": [
       "([0, 0, 0, 0, 0, 0],\n",
       " array([[0.],\n",
       "        [0.],\n",
       "        [0.],\n",
       "        [1.],\n",
       "        [1.],\n",
       "        [1.]], dtype=float32))"
      ]
     },
     "execution_count": 61,
     "metadata": {},
     "output_type": "execute_result"
    }
   ],
   "source": [
    "y_hat, Y_train"
   ]
  },
  {
   "cell_type": "markdown",
   "id": "5ab094f1",
   "metadata": {},
   "source": [
    "## Congratulations!!!\n",
    "You built a very simple neural network and have explored the similarities of a neuron to the linear and logistic regression from Course 1."
   ]
  },
  {
   "cell_type": "code",
   "execution_count": null,
   "id": "5e44f5bf",
   "metadata": {},
   "outputs": [],
   "source": []
  }
 ],
 "metadata": {
  "kernelspec": {
   "display_name": "Python 3 (ipykernel)",
   "language": "python",
   "name": "python3"
  },
  "language_info": {
   "codemirror_mode": {
    "name": "ipython",
    "version": 3
   },
   "file_extension": ".py",
   "mimetype": "text/x-python",
   "name": "python",
   "nbconvert_exporter": "python",
   "pygments_lexer": "ipython3",
   "version": "3.11.3"
  }
 },
 "nbformat": 4,
 "nbformat_minor": 5
}
